{
 "cells": [
  {
   "cell_type": "code",
   "execution_count": 10,
   "id": "f37a5402",
   "metadata": {},
   "outputs": [],
   "source": [
    "import pandas as pd\n",
    "import numpy as np\n",
    "import matplotlib.pyplot as plt\n",
    "import seaborn as sns\n",
    "plt.rcParams[\"figure.figsize\"] = (10,6)\n",
    "import warnings\n",
    "warnings.filterwarnings(\"ignore\")\n",
    "warnings.warn(\"this will not show\")"
   ]
  },
  {
   "cell_type": "code",
   "execution_count": 11,
   "id": "7077280e",
   "metadata": {},
   "outputs": [
    {
     "data": {
      "text/html": [
       "<div>\n",
       "<style scoped>\n",
       "    .dataframe tbody tr th:only-of-type {\n",
       "        vertical-align: middle;\n",
       "    }\n",
       "\n",
       "    .dataframe tbody tr th {\n",
       "        vertical-align: top;\n",
       "    }\n",
       "\n",
       "    .dataframe thead th {\n",
       "        text-align: right;\n",
       "    }\n",
       "</style>\n",
       "<table border=\"1\" class=\"dataframe\">\n",
       "  <thead>\n",
       "    <tr style=\"text-align: right;\">\n",
       "      <th></th>\n",
       "      <th>Daily Time Spent on Site</th>\n",
       "      <th>Age</th>\n",
       "      <th>Area Income</th>\n",
       "      <th>Daily Internet Usage</th>\n",
       "      <th>Ad Topic Line</th>\n",
       "      <th>City</th>\n",
       "      <th>Male</th>\n",
       "      <th>Country</th>\n",
       "      <th>Timestamp</th>\n",
       "      <th>Clicked on Ad</th>\n",
       "    </tr>\n",
       "  </thead>\n",
       "  <tbody>\n",
       "    <tr>\n",
       "      <th>0</th>\n",
       "      <td>68.95</td>\n",
       "      <td>35</td>\n",
       "      <td>61833.90</td>\n",
       "      <td>256.09</td>\n",
       "      <td>Cloned 5thgeneration orchestration</td>\n",
       "      <td>Wrightburgh</td>\n",
       "      <td>0</td>\n",
       "      <td>Tunisia</td>\n",
       "      <td>2016-03-27 00:53:11</td>\n",
       "      <td>0</td>\n",
       "    </tr>\n",
       "    <tr>\n",
       "      <th>1</th>\n",
       "      <td>80.23</td>\n",
       "      <td>31</td>\n",
       "      <td>68441.85</td>\n",
       "      <td>193.77</td>\n",
       "      <td>Monitored national standardization</td>\n",
       "      <td>West Jodi</td>\n",
       "      <td>1</td>\n",
       "      <td>Nauru</td>\n",
       "      <td>2016-04-04 01:39:02</td>\n",
       "      <td>0</td>\n",
       "    </tr>\n",
       "    <tr>\n",
       "      <th>2</th>\n",
       "      <td>69.47</td>\n",
       "      <td>26</td>\n",
       "      <td>59785.94</td>\n",
       "      <td>236.50</td>\n",
       "      <td>Organic bottom-line service-desk</td>\n",
       "      <td>Davidton</td>\n",
       "      <td>0</td>\n",
       "      <td>San Marino</td>\n",
       "      <td>2016-03-13 20:35:42</td>\n",
       "      <td>0</td>\n",
       "    </tr>\n",
       "    <tr>\n",
       "      <th>3</th>\n",
       "      <td>74.15</td>\n",
       "      <td>29</td>\n",
       "      <td>54806.18</td>\n",
       "      <td>245.89</td>\n",
       "      <td>Triple-buffered reciprocal time-frame</td>\n",
       "      <td>West Terrifurt</td>\n",
       "      <td>1</td>\n",
       "      <td>Italy</td>\n",
       "      <td>2016-01-10 02:31:19</td>\n",
       "      <td>0</td>\n",
       "    </tr>\n",
       "    <tr>\n",
       "      <th>4</th>\n",
       "      <td>68.37</td>\n",
       "      <td>35</td>\n",
       "      <td>73889.99</td>\n",
       "      <td>225.58</td>\n",
       "      <td>Robust logistical utilization</td>\n",
       "      <td>South Manuel</td>\n",
       "      <td>0</td>\n",
       "      <td>Iceland</td>\n",
       "      <td>2016-06-03 03:36:18</td>\n",
       "      <td>0</td>\n",
       "    </tr>\n",
       "  </tbody>\n",
       "</table>\n",
       "</div>"
      ],
      "text/plain": [
       "   Daily Time Spent on Site  Age  Area Income  Daily Internet Usage  \\\n",
       "0                     68.95   35     61833.90                256.09   \n",
       "1                     80.23   31     68441.85                193.77   \n",
       "2                     69.47   26     59785.94                236.50   \n",
       "3                     74.15   29     54806.18                245.89   \n",
       "4                     68.37   35     73889.99                225.58   \n",
       "\n",
       "                           Ad Topic Line            City  Male     Country  \\\n",
       "0     Cloned 5thgeneration orchestration     Wrightburgh     0     Tunisia   \n",
       "1     Monitored national standardization       West Jodi     1       Nauru   \n",
       "2       Organic bottom-line service-desk        Davidton     0  San Marino   \n",
       "3  Triple-buffered reciprocal time-frame  West Terrifurt     1       Italy   \n",
       "4          Robust logistical utilization    South Manuel     0     Iceland   \n",
       "\n",
       "             Timestamp  Clicked on Ad  \n",
       "0  2016-03-27 00:53:11              0  \n",
       "1  2016-04-04 01:39:02              0  \n",
       "2  2016-03-13 20:35:42              0  \n",
       "3  2016-01-10 02:31:19              0  \n",
       "4  2016-06-03 03:36:18              0  "
      ]
     },
     "execution_count": 11,
     "metadata": {},
     "output_type": "execute_result"
    }
   ],
   "source": [
    "df = pd.read_csv('advertising2.csv')\n",
    "df.head()"
   ]
  },
  {
   "cell_type": "code",
   "execution_count": 12,
   "id": "795b3bd7",
   "metadata": {},
   "outputs": [],
   "source": [
    "from sklearn.model_selection import train_test_split\n",
    "\n",
    "X = df[['Daily Time Spent on Site', 'Age', 'Area Income','Daily Internet Usage', 'Male']]\n",
    "y = df['Clicked on Ad']\n",
    "\n",
    "X_train, X_test, y_train, y_test = train_test_split(X, y, test_size=0.1, random_state=42)"
   ]
  },
  {
   "cell_type": "markdown",
   "id": "f5911f3e",
   "metadata": {},
   "source": [
    "### Metrics : "
   ]
  },
  {
   "cell_type": "code",
   "execution_count": 19,
   "id": "4b4b5d3b",
   "metadata": {},
   "outputs": [],
   "source": [
    "from sklearn.metrics import f1_score, accuracy_score, precision_score, recall_score, confusion_matrix, classification_report\n",
    "from sklearn.metrics import roc_auc_score, roc_curve\n",
    "\n",
    "def eval_metric(model, X_train, y_train, X_test, y_test):\n",
    "    y_train_pred = model.predict(X_train)\n",
    "    y_pred = model.predict(X_test)\n",
    "    print(\"Test_Set\")\n",
    "    print(confusion_matrix(y_test, y_pred))\n",
    "    print(classification_report(y_test, y_pred))\n",
    "    print()\n",
    "    print(\"Train_Set\")\n",
    "    print(confusion_matrix(y_train, y_train_pred))\n",
    "    print(classification_report(y_train, y_train_pred))"
   ]
  },
  {
   "cell_type": "markdown",
   "id": "e3bdafda",
   "metadata": {},
   "source": [
    "### AdaBoosting : "
   ]
  },
  {
   "cell_type": "code",
   "execution_count": 14,
   "id": "838e84c6",
   "metadata": {},
   "outputs": [
    {
     "name": "stdout",
     "output_type": "stream",
     "text": [
      "Test_Set\n",
      "[[41  3]\n",
      " [ 4 52]]\n",
      "              precision    recall  f1-score   support\n",
      "\n",
      "           0       0.91      0.93      0.92        44\n",
      "           1       0.95      0.93      0.94        56\n",
      "\n",
      "    accuracy                           0.93       100\n",
      "   macro avg       0.93      0.93      0.93       100\n",
      "weighted avg       0.93      0.93      0.93       100\n",
      "\n",
      "\n",
      "Train_Set\n",
      "[[454   2]\n",
      " [ 12 432]]\n",
      "              precision    recall  f1-score   support\n",
      "\n",
      "           0       0.97      1.00      0.98       456\n",
      "           1       1.00      0.97      0.98       444\n",
      "\n",
      "    accuracy                           0.98       900\n",
      "   macro avg       0.98      0.98      0.98       900\n",
      "weighted avg       0.98      0.98      0.98       900\n",
      "\n"
     ]
    }
   ],
   "source": [
    "from sklearn.ensemble import AdaBoostClassifier\n",
    "\n",
    "ada_model = AdaBoostClassifier(random_state = 42)\n",
    "ada_model.fit(X_train, y_train)\n",
    "\n",
    "eval_metric(ada_model, X_train, y_train, X_test, y_test)"
   ]
  },
  {
   "cell_type": "markdown",
   "id": "771c54f1",
   "metadata": {},
   "source": [
    "### Cross Validate Control : "
   ]
  },
  {
   "cell_type": "code",
   "execution_count": 15,
   "id": "ac98352b",
   "metadata": {},
   "outputs": [
    {
     "data": {
      "text/plain": [
       "test_accuracy     0.960000\n",
       "test_precision    0.968795\n",
       "test_recall       0.950505\n",
       "test_f1           0.958988\n",
       "dtype: float64"
      ]
     },
     "execution_count": 15,
     "metadata": {},
     "output_type": "execute_result"
    }
   ],
   "source": [
    "from sklearn.model_selection import cross_validate\n",
    "\n",
    "model = AdaBoostClassifier(random_state= 101)\n",
    "\n",
    "scores = cross_validate(model, X_train, y_train, scoring = [\"accuracy\", \"precision\", \"recall\", \"f1\"], cv = 10)\n",
    "df_scores = pd.DataFrame(scores, index = range(1, 11))\n",
    "df_scores.mean()[2:]"
   ]
  },
  {
   "cell_type": "markdown",
   "id": "ab077149",
   "metadata": {},
   "source": [
    "### Adaboosting_Parametres :"
   ]
  },
  {
   "cell_type": "markdown",
   "id": "c7971dda",
   "metadata": {},
   "source": [
    "#### Çalışma Prensibi : \n",
    "\n",
    "İlk ağaçta yaptığı hataları ağırlıklandırarak diğer ağaca aktarır. hatalı değerleri bir sonraki ağaçta bilmeye çalışır. random forest gibi demokratik bir model değildir. örneğin n_estimator sayımız 3 olsun. 3 ağaçta 2 tane 0, 1 tane 1 classını tahmin etsin, random forestte otomatik olarak 0 classını tahmin değeri olarak atar. \n",
    "\n",
    "ama adaboosting te ise her class için bir ağırlık katsayısı atar. elimizde 3 tane ağaç olsun. 1 tahmin edilen classın ağırlıklandırma katsayısı 0.7 olsun, 0 tahmin edilen ilk classın ağırlıklandırma katsayısı 0.2, yine 0 tahmin edilen 2. classın ağırlıklandırma katsayısı 0.3 olsun. 0.7 > (0.2 + 0.3) olduğu için otomatik olarak 1 değerini atayacaktır.\n",
    "\n",
    "#### n_estimator : \n",
    "modelde kullanılacak ağaç sayısını belirler. default değeri 50 dir. \n",
    "\n",
    "#### learning_rate : \n",
    "default değeri 1 dir. değer arttıkça hatalı gözlemlerin bir sonraki ağaçta ki değerleri de artacaktır. o yüzden fazla büyük olursa overfiting olabilir. "
   ]
  },
  {
   "cell_type": "code",
   "execution_count": 16,
   "id": "4be138fe",
   "metadata": {},
   "outputs": [
    {
     "name": "stdout",
     "output_type": "stream",
     "text": [
      "Test_Set\n",
      "[[ 4 40]\n",
      " [47  9]]\n",
      "              precision    recall  f1-score   support\n",
      "\n",
      "           0       0.08      0.09      0.08        44\n",
      "           1       0.18      0.16      0.17        56\n",
      "\n",
      "    accuracy                           0.13       100\n",
      "   macro avg       0.13      0.13      0.13       100\n",
      "weighted avg       0.14      0.13      0.13       100\n",
      "\n",
      "\n",
      "Train_Set\n",
      "[[ 42 414]\n",
      " [339 105]]\n",
      "              precision    recall  f1-score   support\n",
      "\n",
      "           0       0.11      0.09      0.10       456\n",
      "           1       0.20      0.24      0.22       444\n",
      "\n",
      "    accuracy                           0.16       900\n",
      "   macro avg       0.16      0.16      0.16       900\n",
      "weighted avg       0.16      0.16      0.16       900\n",
      "\n"
     ]
    }
   ],
   "source": [
    "model = AdaBoostClassifier(random_state = 42, n_estimators= 550, learning_rate= 2.0)\n",
    "model.fit(X_train, y_train)\n",
    "\n",
    "eval_metric(model, X_train, y_train, X_test, y_test)\n",
    "\n",
    "# learning_rate sayısını 2.0 verdik ve tahmin skorlarımızı berbat etti. ağaç sayımızı da arttık ve skorlar çöp çıktı. \n",
    "# o yüzden grid search cv ile yapılması daha mantıklı olacaktır."
   ]
  },
  {
   "cell_type": "code",
   "execution_count": 20,
   "id": "dfab82e1",
   "metadata": {},
   "outputs": [
    {
     "name": "stdout",
     "output_type": "stream",
     "text": [
      "Test_Set\n",
      "[[40  4]\n",
      " [ 3 53]]\n",
      "              precision    recall  f1-score   support\n",
      "\n",
      "           0       0.93      0.91      0.92        44\n",
      "           1       0.93      0.95      0.94        56\n",
      "\n",
      "    accuracy                           0.93       100\n",
      "   macro avg       0.93      0.93      0.93       100\n",
      "weighted avg       0.93      0.93      0.93       100\n",
      "\n",
      "\n",
      "Train_Set\n",
      "[[453   3]\n",
      " [ 18 426]]\n",
      "              precision    recall  f1-score   support\n",
      "\n",
      "           0       0.96      0.99      0.98       456\n",
      "           1       0.99      0.96      0.98       444\n",
      "\n",
      "    accuracy                           0.98       900\n",
      "   macro avg       0.98      0.98      0.98       900\n",
      "weighted avg       0.98      0.98      0.98       900\n",
      "\n"
     ]
    }
   ],
   "source": [
    "ada_model = AdaBoostClassifier(learning_rate= 0.1, n_estimators= 100)\n",
    "ada_model.fit(X_train, y_train)\n",
    "y_pred = ada_model.predict(X_test)\n",
    "ada_f1 = f1_score(y_test, y_pred)\n",
    "ada_recall = recall_score(y_test, y_pred)\n",
    "ada_auc = roc_auc_score(y_test, y_pred)\n",
    "\n",
    "eval_metric(ada_model, X_train, y_train, X_test, y_test)"
   ]
  },
  {
   "cell_type": "markdown",
   "id": "e39c753e",
   "metadata": {},
   "source": [
    "### GradientBoosting : "
   ]
  },
  {
   "cell_type": "code",
   "execution_count": null,
   "id": "8522c45e",
   "metadata": {},
   "outputs": [],
   "source": []
  },
  {
   "cell_type": "markdown",
   "id": "911378d2",
   "metadata": {},
   "source": [
    "### Gradient Boosting çalışma mantığı : \n",
    "\n",
    "gerçek değerler ile tahmin edilen değerleri çıkrarır ve bu değeri her ağaçta 0 ra yaklaştırmaya çalışır. classifier da ise class değerlerinin oranını logaritmasını alır. ve çıkan olasılık değerini ilk başlangıç olasılığını belirler. 0.5 ten büyükse 1 değeri atar, 0.5 ten küçükse 0 değeri atar. sonrasında bir sonraki ağaca geçerken tüm olasılık değeri toplamı olan 1 den bulunan olasılık değeri çıkarılır ve bu değer learnin_rate değeri ile çarpılır. sonuç 0.5 ten küçükse 0, 0.5 ten büyükse 1 olarak değer atar. "
   ]
  },
  {
   "cell_type": "markdown",
   "id": "62c2c7ef",
   "metadata": {},
   "source": [
    "### Gradient Boosting Parametres : \n",
    "\n",
    "#### loss : \n",
    "default değeri deviance dir. yani olasılıklara çevirme işleminde logistic regression kullanır demektir. fakat ridge ve lasso kısmı ile oynayamıyoruz. \n",
    "\n",
    "#### learnin_rate : \n",
    "gerçek değerlerden tahmin edilen değer çıkarılır. ve bu fark 0 değerine yaklaştırılırken fark ile çarpılan kat sayıdır. yani bir sonraki ağaca ne kadar katkı alacağımızı gösterir. değer arttıkça ağaç sayısı da azalmalıdır.\n",
    "\n",
    "#### subsample : \n",
    "Default değer 1.0 dır. yani tüm değerleri ilk ağaca vererek başla ve diğer ağaçlarda tüm değerleri kullan demektir. genelde 0.5, 0.8 ve 1.0 tercih edilir.\n",
    "\n",
    "#### criteon : \n",
    "Ağaçları bölme kriteridir. regression için default değeri mse dur. class için ise fridmean ile optimasyon edilmiş halini kullanır.\n",
    "\n",
    "#### min_sample_split :\n",
    "Yaprak olma şartı\n",
    "\n",
    "#### max_depth : \n",
    "ağacın ne kadar derinlemesine inmesini belirten şarttır. default değeri 3 tür.\n",
    "\n",
    "#### max_features :\n",
    "her bölünmedeki max featuresleri rastgele seçer, istersek değiştirebiliriz.\n",
    "\n",
    "#### gamma değeri :\n",
    "Overfiting olursa train setinden test setinden bias değeri ekler."
   ]
  },
  {
   "cell_type": "code",
   "execution_count": 21,
   "id": "c48599b1",
   "metadata": {},
   "outputs": [
    {
     "name": "stdout",
     "output_type": "stream",
     "text": [
      "Test_Set\n",
      "[[41  3]\n",
      " [ 2 54]]\n",
      "              precision    recall  f1-score   support\n",
      "\n",
      "           0       0.95      0.93      0.94        44\n",
      "           1       0.95      0.96      0.96        56\n",
      "\n",
      "    accuracy                           0.95       100\n",
      "   macro avg       0.95      0.95      0.95       100\n",
      "weighted avg       0.95      0.95      0.95       100\n",
      "\n",
      "\n",
      "Train_Set\n",
      "[[456   0]\n",
      " [  1 443]]\n",
      "              precision    recall  f1-score   support\n",
      "\n",
      "           0       1.00      1.00      1.00       456\n",
      "           1       1.00      1.00      1.00       444\n",
      "\n",
      "    accuracy                           1.00       900\n",
      "   macro avg       1.00      1.00      1.00       900\n",
      "weighted avg       1.00      1.00      1.00       900\n",
      "\n"
     ]
    }
   ],
   "source": [
    "from sklearn.ensemble import GradientBoostingClassifier\n",
    "\n",
    "gr_model = GradientBoostingClassifier(random_state= 101)\n",
    "gr_model.fit(X_train, y_train)\n",
    "\n",
    "eval_metric(gr_model, X_train, y_train, X_test, y_test)"
   ]
  },
  {
   "cell_type": "markdown",
   "id": "19aad268",
   "metadata": {},
   "source": [
    "### Cross Validate : "
   ]
  },
  {
   "cell_type": "code",
   "execution_count": 22,
   "id": "3fb213de",
   "metadata": {},
   "outputs": [
    {
     "data": {
      "text/plain": [
       "test_accuracy     0.952222\n",
       "test_precision    0.958870\n",
       "test_recall       0.945960\n",
       "test_f1           0.951603\n",
       "dtype: float64"
      ]
     },
     "execution_count": 22,
     "metadata": {},
     "output_type": "execute_result"
    }
   ],
   "source": [
    "from sklearn.model_selection import cross_validate\n",
    "\n",
    "model = GradientBoostingClassifier(random_state=42)\n",
    "\n",
    "scores = cross_validate(model, X_train, y_train, scoring = [\"accuracy\", \"precision\", \"recall\", \"f1\"], cv = 10)\n",
    "df_scores = pd.DataFrame(scores, index = range(1, 11))\n",
    "df_scores.mean()[2:]"
   ]
  },
  {
   "cell_type": "code",
   "execution_count": 29,
   "id": "0a312b38",
   "metadata": {},
   "outputs": [
    {
     "name": "stdout",
     "output_type": "stream",
     "text": [
      "Test_Set\n",
      "[[42  2]\n",
      " [ 2 54]]\n",
      "              precision    recall  f1-score   support\n",
      "\n",
      "           0       0.95      0.95      0.95        44\n",
      "           1       0.96      0.96      0.96        56\n",
      "\n",
      "    accuracy                           0.96       100\n",
      "   macro avg       0.96      0.96      0.96       100\n",
      "weighted avg       0.96      0.96      0.96       100\n",
      "\n",
      "\n",
      "Train_Set\n",
      "[[456   0]\n",
      " [  0 444]]\n",
      "              precision    recall  f1-score   support\n",
      "\n",
      "           0       1.00      1.00      1.00       456\n",
      "           1       1.00      1.00      1.00       444\n",
      "\n",
      "    accuracy                           1.00       900\n",
      "   macro avg       1.00      1.00      1.00       900\n",
      "weighted avg       1.00      1.00      1.00       900\n",
      "\n"
     ]
    }
   ],
   "source": [
    "gr_model = GradientBoostingClassifier(n_estimators= 30, learning_rate= 0.64)\n",
    "gr_model.fit(X_train, y_train)\n",
    "y_pred = gr_model.predict(X_test)\n",
    "\n",
    "gr_f1 = f1_score(y_test, y_pred)\n",
    "gr_recall = recall_score(y_test, y_pred)\n",
    "gr_auc = roc_auc_score(y_test, y_pred)\n",
    "\n",
    "eval_metric(gr_model, X_train, y_train, X_test, y_test)"
   ]
  },
  {
   "cell_type": "markdown",
   "id": "b1d88d71",
   "metadata": {},
   "source": [
    "### XGBoosting : "
   ]
  },
  {
   "cell_type": "code",
   "execution_count": 30,
   "id": "9f1b7b28",
   "metadata": {},
   "outputs": [
    {
     "name": "stdout",
     "output_type": "stream",
     "text": [
      "Requirement already satisfied: xgboost in c:\\programdata\\anaconda3\\lib\\site-packages (1.5.2)\n",
      "Requirement already satisfied: scipy in c:\\programdata\\anaconda3\\lib\\site-packages (from xgboost) (1.7.1)\n",
      "Requirement already satisfied: numpy in c:\\programdata\\anaconda3\\lib\\site-packages (from xgboost) (1.19.5)\n"
     ]
    }
   ],
   "source": [
    "!pip install xgboost"
   ]
  },
  {
   "cell_type": "code",
   "execution_count": 33,
   "id": "26008b74",
   "metadata": {},
   "outputs": [],
   "source": [
    "from xgboost import XGBClassifier"
   ]
  },
  {
   "cell_type": "markdown",
   "id": "d1f9eb06",
   "metadata": {},
   "source": [
    "### parametreleri : \n",
    "\n",
    "#### objective : \n",
    "loss un aynısıdır. yine olasılık hesabı için logistic regression kullanılmaktadır. \n",
    "\n",
    "#### booster:\n",
    "default değeri decision tree dir. \n",
    "\n",
    "#### reg_alpha : \n",
    "default değeri 0 dır yani lasso dur.\n",
    "\n",
    "#### reg_lambda :\n",
    "default değeri 1 dir. yani ridge dir. \n",
    "\n",
    "#### learning_rate : \n",
    "her ağaç için hata farklarını çarptığımız katsaı değeri.\n",
    "\n",
    "#### n_estimator :\n",
    "ağaç sayısı\n",
    "\n",
    "#### max_depth :\n",
    "ağacın derinlik sayısı\n",
    "\n",
    "#### min_child_weight : \n",
    "overfiting durumu olursa değeri arttırılıp ta bakılabilir. lasso gibi müdahele eder. default değeri 1.0 dır. değeri arttıkça overfitinge o kadar sert müdahele eder. \n",
    "\n",
    "#### gamma : \n",
    "overfiting durumuda train setinden test setine aktarım yapan bias değeridir. değeri arttıkça overfitinge müdahele eder.\n",
    "\n",
    "#### base_score :\n",
    "0.5 default değeridir. olasılık hesabıdır. \n",
    "\n",
    "#### scale_pos_weight : \n",
    "Default değeri 1 dir. classifier da class değerleri arasında ki oranın yazılması tavsiye edilir. örneğin 100 tane 1, 10 tane 0 değeri olsun. 100/ 10 = 10 olur. ve 10 değeri verilebilir."
   ]
  },
  {
   "cell_type": "code",
   "execution_count": 42,
   "id": "139d0fe1",
   "metadata": {},
   "outputs": [
    {
     "name": "stdout",
     "output_type": "stream",
     "text": [
      "[14:01:37] WARNING: C:/Users/Administrator/workspace/xgboost-win64_release_1.5.1/src/learner.cc:1115: Starting in XGBoost 1.3.0, the default evaluation metric used with the objective 'binary:logistic' was changed from 'error' to 'logloss'. Explicitly set eval_metric if you'd like to restore the old behavior.\n",
      "Test_Set\n",
      "[[40  4]\n",
      " [ 3 53]]\n",
      "              precision    recall  f1-score   support\n",
      "\n",
      "           0       0.93      0.91      0.92        44\n",
      "           1       0.93      0.95      0.94        56\n",
      "\n",
      "    accuracy                           0.93       100\n",
      "   macro avg       0.93      0.93      0.93       100\n",
      "weighted avg       0.93      0.93      0.93       100\n",
      "\n",
      "\n",
      "Train_Set\n",
      "[[456   0]\n",
      " [  0 444]]\n",
      "              precision    recall  f1-score   support\n",
      "\n",
      "           0       1.00      1.00      1.00       456\n",
      "           1       1.00      1.00      1.00       444\n",
      "\n",
      "    accuracy                           1.00       900\n",
      "   macro avg       1.00      1.00      1.00       900\n",
      "weighted avg       1.00      1.00      1.00       900\n",
      "\n"
     ]
    }
   ],
   "source": [
    "xgb_model = XGBClassifier(random_state=42)\n",
    "xgb_model.fit(X_train, y_train)\n",
    "eval_metric(xgb_model, X_train, y_train, X_test, y_test)"
   ]
  },
  {
   "cell_type": "markdown",
   "id": "1fad02b4",
   "metadata": {},
   "source": [
    "{'colsample_bytree': 0.5,\n",
    " 'learning_rate': 0.1,\n",
    " 'max_depth': 3,\n",
    " 'n_estimators': 100,\n",
    " 'subsample': 0.8}"
   ]
  },
  {
   "cell_type": "code",
   "execution_count": 50,
   "id": "41d308e6",
   "metadata": {},
   "outputs": [
    {
     "name": "stdout",
     "output_type": "stream",
     "text": [
      "[14:05:40] WARNING: C:/Users/Administrator/workspace/xgboost-win64_release_1.5.1/src/learner.cc:1115: Starting in XGBoost 1.3.0, the default evaluation metric used with the objective 'binary:logistic' was changed from 'error' to 'logloss'. Explicitly set eval_metric if you'd like to restore the old behavior.\n",
      "Test_Set\n",
      "[[40  4]\n",
      " [ 3 53]]\n",
      "              precision    recall  f1-score   support\n",
      "\n",
      "           0       0.93      0.91      0.92        44\n",
      "           1       0.93      0.95      0.94        56\n",
      "\n",
      "    accuracy                           0.93       100\n",
      "   macro avg       0.93      0.93      0.93       100\n",
      "weighted avg       0.93      0.93      0.93       100\n",
      "\n",
      "\n",
      "Train_Set\n",
      "[[453   3]\n",
      " [ 19 425]]\n",
      "              precision    recall  f1-score   support\n",
      "\n",
      "           0       0.96      0.99      0.98       456\n",
      "           1       0.99      0.96      0.97       444\n",
      "\n",
      "    accuracy                           0.98       900\n",
      "   macro avg       0.98      0.98      0.98       900\n",
      "weighted avg       0.98      0.98      0.98       900\n",
      "\n"
     ]
    }
   ],
   "source": [
    "xgb_model = XGBClassifier(random_state=42, colsample_bytree = 0.5, learning_rate = 0.1, max_depth = 3, n_estimators = 100,\n",
    "                         subsample = 0.8, gamma = 3.0, min_child_weight = 3)\n",
    "xgb_model.fit(X_train, y_train)\n",
    "eval_metric(xgb_model, X_train, y_train, X_test, y_test)"
   ]
  },
  {
   "cell_type": "code",
   "execution_count": 51,
   "id": "40aa2a80",
   "metadata": {},
   "outputs": [],
   "source": [
    "xgb_f1 = f1_score(y_test, y_pred)\n",
    "xgb_recall = recall_score(y_test, y_pred)\n",
    "xgb_auc = roc_auc_score(y_test, y_pred)"
   ]
  },
  {
   "cell_type": "markdown",
   "id": "36999431",
   "metadata": {},
   "source": [
    "### Graphips : "
   ]
  },
  {
   "cell_type": "code",
   "execution_count": 52,
   "id": "6705b508",
   "metadata": {},
   "outputs": [
    {
     "data": {
      "image/png": "[encoded data removed]",
      "text/plain": [
       "<Figure size 1008x720 with 3 Axes>"
      ]
     },
     "metadata": {
      "needs_background": "light"
     },
     "output_type": "display_data"
    }
   ],
   "source": [
    "compare = pd.DataFrame({\"Model\": [\"AdaBoost\",\n",
    "                                 \"GradientBoost\", \"XGBoost\"],\n",
    "                        \"F1\": [ada_f1, gr_f1, xgb_f1],\n",
    "                        \"Recall\": [ada_recall, gr_recall, xgb_recall],\n",
    "                        \"ROC_AUC\": [ada_auc, gr_auc, xgb_auc]})\n",
    "\n",
    "def labels(ax):\n",
    "    for p in ax.patches:\n",
    "        width = p.get_width()                        # get bar length\n",
    "        ax.text(width,                               # set the text at 1 unit right of the bar\n",
    "                p.get_y() + p.get_height() / 2,      # get Y coordinate + X coordinate / 2\n",
    "                '{:1.3f}'.format(width),             # set variable to display, 2 decimals\n",
    "                ha = 'left',                         # horizontal alignment\n",
    "                va = 'center')                       # vertical alignment\n",
    "    \n",
    "plt.figure(figsize=(14,10))\n",
    "plt.subplot(311)\n",
    "compare = compare.sort_values(by=\"F1\", ascending=False)\n",
    "ax=sns.barplot(x=\"F1\", y=\"Model\", data=compare, palette=\"Blues_d\")\n",
    "labels(ax)\n",
    "\n",
    "plt.subplot(312)\n",
    "compare = compare.sort_values(by=\"Recall\", ascending=False)\n",
    "ax=sns.barplot(x=\"Recall\", y=\"Model\", data=compare, palette=\"Blues_d\")\n",
    "labels(ax)\n",
    "\n",
    "plt.subplot(313)\n",
    "compare = compare.sort_values(by=\"ROC_AUC\", ascending=False)\n",
    "ax=sns.barplot(x=\"ROC_AUC\", y=\"Model\", data=compare, palette=\"Blues_d\")\n",
    "labels(ax)\n",
    "plt.show()"
   ]
  },
  {
   "cell_type": "code",
   "execution_count": null,
   "id": "8c7b23a5",
   "metadata": {},
   "outputs": [],
   "source": []
  }
 ],
 "metadata": {
  "kernelspec": {
   "display_name": "Python 3 (ipykernel)",
   "language": "python",
   "name": "python3"
  },
  "language_info": {
   "codemirror_mode": {
    "name": "ipython",
    "version": 3
   },
   "file_extension": ".py",
   "mimetype": "text/x-python",
   "name": "python",
   "nbconvert_exporter": "python",
   "pygments_lexer": "ipython3",
   "version": "3.9.7"
  }
 },
 "nbformat": 4,
 "nbformat_minor": 5
}
