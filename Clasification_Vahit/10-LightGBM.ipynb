{
 "cells": [
  {
   "cell_type": "code",
   "execution_count": 1,
   "id": "4f2bd591",
   "metadata": {},
   "outputs": [],
   "source": [
    "import numpy as np\n",
    "import pandas as pd\n",
    "import seaborn as sns\n",
    "import matplotlib.pyplot as plt\n",
    "\n",
    "#%matplotlib inline\n",
    "#%matplotlib notebook\n",
    "plt.rcParams[\"figure.figsize\"] = (10,6)\n",
    "import warnings\n",
    "warnings.filterwarnings(\"ignore\")\n",
    "warnings.warn(\"this will not show\")\n",
    "pd.set_option('display.float_format', lambda x: '%.3f' % x)"
   ]
  },
  {
   "cell_type": "code",
   "execution_count": 2,
   "id": "ebc4ffb3",
   "metadata": {},
   "outputs": [
    {
     "data": {
      "text/html": [
       "<div>\n",
       "<style scoped>\n",
       "    .dataframe tbody tr th:only-of-type {\n",
       "        vertical-align: middle;\n",
       "    }\n",
       "\n",
       "    .dataframe tbody tr th {\n",
       "        vertical-align: top;\n",
       "    }\n",
       "\n",
       "    .dataframe thead th {\n",
       "        text-align: right;\n",
       "    }\n",
       "</style>\n",
       "<table border=\"1\" class=\"dataframe\">\n",
       "  <thead>\n",
       "    <tr style=\"text-align: right;\">\n",
       "      <th></th>\n",
       "      <th>Pregnancies</th>\n",
       "      <th>Glucose</th>\n",
       "      <th>BloodPressure</th>\n",
       "      <th>SkinThickness</th>\n",
       "      <th>Insulin</th>\n",
       "      <th>BMI</th>\n",
       "      <th>DiabetesPedigreeFunction</th>\n",
       "      <th>Age</th>\n",
       "      <th>Outcome</th>\n",
       "    </tr>\n",
       "  </thead>\n",
       "  <tbody>\n",
       "    <tr>\n",
       "      <th>0</th>\n",
       "      <td>6</td>\n",
       "      <td>148</td>\n",
       "      <td>72</td>\n",
       "      <td>35</td>\n",
       "      <td>0</td>\n",
       "      <td>33.600</td>\n",
       "      <td>0.627</td>\n",
       "      <td>50</td>\n",
       "      <td>1</td>\n",
       "    </tr>\n",
       "    <tr>\n",
       "      <th>1</th>\n",
       "      <td>1</td>\n",
       "      <td>85</td>\n",
       "      <td>66</td>\n",
       "      <td>29</td>\n",
       "      <td>0</td>\n",
       "      <td>26.600</td>\n",
       "      <td>0.351</td>\n",
       "      <td>31</td>\n",
       "      <td>0</td>\n",
       "    </tr>\n",
       "    <tr>\n",
       "      <th>2</th>\n",
       "      <td>8</td>\n",
       "      <td>183</td>\n",
       "      <td>64</td>\n",
       "      <td>0</td>\n",
       "      <td>0</td>\n",
       "      <td>23.300</td>\n",
       "      <td>0.672</td>\n",
       "      <td>32</td>\n",
       "      <td>1</td>\n",
       "    </tr>\n",
       "    <tr>\n",
       "      <th>3</th>\n",
       "      <td>1</td>\n",
       "      <td>89</td>\n",
       "      <td>66</td>\n",
       "      <td>23</td>\n",
       "      <td>94</td>\n",
       "      <td>28.100</td>\n",
       "      <td>0.167</td>\n",
       "      <td>21</td>\n",
       "      <td>0</td>\n",
       "    </tr>\n",
       "    <tr>\n",
       "      <th>4</th>\n",
       "      <td>0</td>\n",
       "      <td>137</td>\n",
       "      <td>40</td>\n",
       "      <td>35</td>\n",
       "      <td>168</td>\n",
       "      <td>43.100</td>\n",
       "      <td>2.288</td>\n",
       "      <td>33</td>\n",
       "      <td>1</td>\n",
       "    </tr>\n",
       "  </tbody>\n",
       "</table>\n",
       "</div>"
      ],
      "text/plain": [
       "   Pregnancies  Glucose  BloodPressure  SkinThickness  Insulin    BMI  \\\n",
       "0            6      148             72             35        0 33.600   \n",
       "1            1       85             66             29        0 26.600   \n",
       "2            8      183             64              0        0 23.300   \n",
       "3            1       89             66             23       94 28.100   \n",
       "4            0      137             40             35      168 43.100   \n",
       "\n",
       "   DiabetesPedigreeFunction  Age  Outcome  \n",
       "0                     0.627   50        1  \n",
       "1                     0.351   31        0  \n",
       "2                     0.672   32        1  \n",
       "3                     0.167   21        0  \n",
       "4                     2.288   33        1  "
      ]
     },
     "execution_count": 2,
     "metadata": {},
     "output_type": "execute_result"
    }
   ],
   "source": [
    "df=pd.read_csv(\"diabetes.csv\")\n",
    "df.head()"
   ]
  },
  {
   "cell_type": "code",
   "execution_count": 3,
   "id": "4527e368",
   "metadata": {},
   "outputs": [],
   "source": [
    "for i in df.select_dtypes([float, int]).columns:\n",
    "    if i == \"DiabetesPedigreeFunction\" and i == \"Insulin\" :\n",
    "        Q1 = df[i].quantile(0.25)\n",
    "        Q3 = df[i].quantile(0.75)\n",
    "        IQR = Q3-Q1\n",
    "        alt_sinir = Q1-(2.5*IQR)\n",
    "        ust_sinir = Q3+(2.5*IQR)\n",
    "    #print(f\"{i} sutununun alt sınır değeri = {alt_sinir}\")\n",
    "    #print(f\"{i} sutununun üst sınır değeri = {ust_sinir}\")\n",
    "        aykiri_alt = df[i] < alt_sinir\n",
    "        aykiri_ust = df[i] > ust_sinir\n",
    "    #print(i, \"tablosunda toplamda =\", df[i][aykiri_alt].count(),\"aykırı alt veri vardır.\")\n",
    "    #print(i, \"tablosunda toplamda =\",df[i][aykiri_ust].count(), \"aykırı üst veri vardır.\")\n",
    "        df[i][aykiri_alt] = alt_sinir\n",
    "        df[i][aykiri_ust] = ust_sinir\n",
    "        \n",
    "        \n",
    "    elif  i == \"BloodPressure\" and i == \"BMI\" and i == \"Age\" :\n",
    "            Q1 = df[i].quantile(0.25)\n",
    "            Q3 = df[i].quantile(0.75)\n",
    "            IQR = Q3-Q1\n",
    "            alt_sinir = Q1-(1.8*IQR)\n",
    "            ust_sinir = Q3+(1.8*IQR)\n",
    "    #print(f\"{i} sutununun alt sınır değeri = {alt_sinir}\")\n",
    "    #print(f\"{i} sutununun üst sınır değeri = {ust_sinir}\")\n",
    "            aykiri_alt = df[i] < alt_sinir\n",
    "            aykiri_ust = df[i] > ust_sinir\n",
    "    #print(i, \"tablosunda toplamda =\", df[i][aykiri_alt].count(),\"aykırı alt veri vardır.\")\n",
    "    #print(i, \"tablosunda toplamda =\",df[i][aykiri_ust].count(), \"aykırı üst veri vardır.\")\n",
    "            df[i][aykiri_alt] = alt_sinir\n",
    "            df[i][aykiri_ust] = ust_sinir\n",
    "    \n",
    "    else : \n",
    "        Q1 = df[i].quantile(0.25)\n",
    "        Q3 = df[i].quantile(0.75)\n",
    "        IQR = Q3-Q1\n",
    "        alt_sinir = Q1-(1.7*IQR)\n",
    "        ust_sinir = Q3+(1.7*IQR)\n",
    "    #print(f\"{i} sutununun alt sınır değeri = {alt_sinir}\")\n",
    "    #print(f\"{i} sutununun üst sınır değeri = {ust_sinir}\")\n",
    "        aykiri_alt = df[i] < alt_sinir\n",
    "        aykiri_ust = df[i] > ust_sinir\n",
    "    #print(i, \"tablosunda toplamda =\", df[i][aykiri_alt].count(),\"aykırı alt veri vardır.\")\n",
    "    #print(i, \"tablosunda toplamda =\",df[i][aykiri_ust].count(), \"aykırı üst veri vardır.\")\n",
    "        df[i][aykiri_alt] = alt_sinir\n",
    "        df[i][aykiri_ust] = ust_sinir"
   ]
  },
  {
   "cell_type": "code",
   "execution_count": 4,
   "id": "766b1ae2",
   "metadata": {},
   "outputs": [],
   "source": [
    "X=df.drop([\"Outcome\"], axis=1)\n",
    "y=df[\"Outcome\"]\n",
    "\n",
    "from sklearn.model_selection import train_test_split\n",
    "\n",
    "X_train, X_test, y_train, y_test = train_test_split(X, y, test_size=0.20, stratify=y, random_state=42)"
   ]
  },
  {
   "cell_type": "code",
   "execution_count": 5,
   "id": "a92c11e9",
   "metadata": {},
   "outputs": [],
   "source": [
    "from sklearn.metrics import confusion_matrix, classification_report, f1_score, recall_score, precision_score, accuracy_score\n",
    "\n",
    "def eval_metric(model, X_train, y_train, X_test, y_test):\n",
    "    y_train_pred = model.predict(X_train)\n",
    "    y_pred = model.predict(X_test)\n",
    "    \n",
    "    print(\"Test_Set\")\n",
    "    print(confusion_matrix(y_test, y_pred))\n",
    "    print(classification_report(y_test, y_pred))\n",
    "    print()\n",
    "    print(\"Train_Set\")\n",
    "    print(confusion_matrix(y_train, y_train_pred))\n",
    "    print(classification_report(y_train, y_train_pred))"
   ]
  },
  {
   "cell_type": "code",
   "execution_count": 8,
   "id": "abc42e8c",
   "metadata": {},
   "outputs": [
    {
     "name": "stdout",
     "output_type": "stream",
     "text": [
      "Test_Set\n",
      "[[83 17]\n",
      " [20 34]]\n",
      "              precision    recall  f1-score   support\n",
      "\n",
      "           0       0.81      0.83      0.82       100\n",
      "           1       0.67      0.63      0.65        54\n",
      "\n",
      "    accuracy                           0.76       154\n",
      "   macro avg       0.74      0.73      0.73       154\n",
      "weighted avg       0.76      0.76      0.76       154\n",
      "\n",
      "\n",
      "Train_Set\n",
      "[[400   0]\n",
      " [  0 214]]\n",
      "              precision    recall  f1-score   support\n",
      "\n",
      "           0       1.00      1.00      1.00       400\n",
      "           1       1.00      1.00      1.00       214\n",
      "\n",
      "    accuracy                           1.00       614\n",
      "   macro avg       1.00      1.00      1.00       614\n",
      "weighted avg       1.00      1.00      1.00       614\n",
      "\n"
     ]
    }
   ],
   "source": [
    "from lightgbm import LGBMClassifier\n",
    "\n",
    "lgb_model = LGBMClassifier(random_state = 42)\n",
    "lgb_model.fit(X_train, y_train)\n",
    "eval_metric(lgb_model, X_train, y_train, X_test, y_test)"
   ]
  },
  {
   "cell_type": "code",
   "execution_count": 9,
   "id": "f10bcc40",
   "metadata": {},
   "outputs": [
    {
     "data": {
      "text/plain": [
       "test_precision   0.649\n",
       "test_recall      0.594\n",
       "test_f1          0.610\n",
       "test_accuracy    0.738\n",
       "dtype: float64"
      ]
     },
     "execution_count": 9,
     "metadata": {},
     "output_type": "execute_result"
    }
   ],
   "source": [
    "from sklearn.model_selection import cross_validate\n",
    "\n",
    "model = LGBMClassifier(random_state=42 )\n",
    "\n",
    "scores = cross_validate(model, X_train, y_train, scoring = ['precision','recall','f1','accuracy'], cv = 10)\n",
    "df_scores = pd.DataFrame(scores, index = range(1, 11))\n",
    "df_scores.mean()[2:]"
   ]
  },
  {
   "cell_type": "code",
   "execution_count": 11,
   "id": "863ce239",
   "metadata": {},
   "outputs": [
    {
     "data": {
      "text/plain": [
       "GridSearchCV(estimator=LGBMClassifier(random_state=42), n_jobs=-1,\n",
       "             param_grid={'n_estimators': [50, 64, 100, 128, 200, 300, 400, 500,\n",
       "                                          1000]},\n",
       "             scoring='accuracy')"
      ]
     },
     "execution_count": 11,
     "metadata": {},
     "output_type": "execute_result"
    }
   ],
   "source": [
    "from sklearn.model_selection import GridSearchCV\n",
    "\n",
    "param_grid = {\"n_estimators\": [50,64,100,128,200,300,400,500,1000]}\n",
    "\n",
    "model = LGBMClassifier(random_state = 42)\n",
    "grid_model = GridSearchCV(estimator=model,\n",
    "                            param_grid=param_grid,\n",
    "                            scoring='accuracy',\n",
    "                            n_jobs = -1)\n",
    "grid_model.fit(X_train, y_train)"
   ]
  },
  {
   "cell_type": "code",
   "execution_count": 12,
   "id": "a61892f0",
   "metadata": {},
   "outputs": [
    {
     "data": {
      "text/plain": [
       "{'n_estimators': 50}"
      ]
     },
     "execution_count": 12,
     "metadata": {},
     "output_type": "execute_result"
    }
   ],
   "source": [
    "grid_model.best_params_"
   ]
  },
  {
   "cell_type": "code",
   "execution_count": 14,
   "id": "e3b53f92",
   "metadata": {},
   "outputs": [
    {
     "data": {
      "text/plain": [
       "GridSearchCV(estimator=LGBMClassifier(n_estimators=50, random_state=42),\n",
       "             n_jobs=-1,\n",
       "             param_grid={'learning_rate': array([ 0.        ,  0.18987342,  0.37974684,  0.56962025,  0.75949367,\n",
       "        0.94936709,  1.13924051,  1.32911392,  1.51898734,  1.70886076,\n",
       "        1.89873418,  2.08860759,  2.27848101,  2.46835443,  2.65822785,\n",
       "        2.84810127,  3.03797468,  3.2278481 ,  3.41772152,  3.60759494,\n",
       "        3.79746835,  3.98734177,  4...\n",
       "        9.49367089,  9.6835443 ,  9.87341772, 10.06329114, 10.25316456,\n",
       "       10.44303797, 10.63291139, 10.82278481, 11.01265823, 11.20253165,\n",
       "       11.39240506, 11.58227848, 11.7721519 , 11.96202532, 12.15189873,\n",
       "       12.34177215, 12.53164557, 12.72151899, 12.91139241, 13.10126582,\n",
       "       13.29113924, 13.48101266, 13.67088608, 13.86075949, 14.05063291,\n",
       "       14.24050633, 14.43037975, 14.62025316, 14.81012658, 15.        ])},\n",
       "             scoring='accuracy')"
      ]
     },
     "execution_count": 14,
     "metadata": {},
     "output_type": "execute_result"
    }
   ],
   "source": [
    "param_grid = {'learning_rate': np.linspace(0,15,80)}\n",
    "\n",
    "model = LGBMClassifier(random_state = 42, n_estimators = 50)\n",
    "grid_model = GridSearchCV(estimator=model,\n",
    "                            param_grid=param_grid,\n",
    "                            scoring='accuracy',\n",
    "                            n_jobs = -1)\n",
    "\n",
    "grid_model.fit(X_train, y_train)"
   ]
  },
  {
   "cell_type": "code",
   "execution_count": 15,
   "id": "c26cf61e",
   "metadata": {},
   "outputs": [
    {
     "data": {
      "text/plain": [
       "{'learning_rate': 0.379746835443038}"
      ]
     },
     "execution_count": 15,
     "metadata": {},
     "output_type": "execute_result"
    }
   ],
   "source": [
    "grid_model.best_params_"
   ]
  },
  {
   "cell_type": "code",
   "execution_count": 17,
   "id": "80708088",
   "metadata": {},
   "outputs": [
    {
     "data": {
      "text/plain": [
       "GridSearchCV(estimator=LGBMClassifier(learning_rate=0.379746835443038,\n",
       "                                      n_estimators=50, random_state=42),\n",
       "             n_jobs=-1,\n",
       "             param_grid={'gamma': array([ 0.        ,  0.20238095,  0.4047619 ,  0.60714286,  0.80952381,\n",
       "        1.01190476,  1.21428571,  1.41666667,  1.61904762,  1.82142857,\n",
       "        2.02380952,  2.22619048,  2.42857143,  2.63095238,  2.83333333,\n",
       "        3.03571429,  3.23809524,  3.44047619,  3.64285714,  3.8452381 ,...\n",
       "       11.13095238, 11.33333333, 11.53571429, 11.73809524, 11.94047619,\n",
       "       12.14285714, 12.3452381 , 12.54761905, 12.75      , 12.95238095,\n",
       "       13.1547619 , 13.35714286, 13.55952381, 13.76190476, 13.96428571,\n",
       "       14.16666667, 14.36904762, 14.57142857, 14.77380952, 14.97619048,\n",
       "       15.17857143, 15.38095238, 15.58333333, 15.78571429, 15.98809524,\n",
       "       16.19047619, 16.39285714, 16.5952381 , 16.79761905, 17.        ])},\n",
       "             scoring='accuracy')"
      ]
     },
     "execution_count": 17,
     "metadata": {},
     "output_type": "execute_result"
    }
   ],
   "source": [
    "l = 0.379746835443038\n",
    "\n",
    "param_grid = {'gamma': np.linspace(0,17,85)}\n",
    "\n",
    "model = LGBMClassifier(random_state = 42, learning_rate = l, n_estimators=50)\n",
    "grid_model = GridSearchCV(estimator=model,\n",
    "                            param_grid=param_grid,\n",
    "                            scoring='accuracy',\n",
    "                            n_jobs = -1)\n",
    "\n",
    "grid_model.fit(X_train, y_train)"
   ]
  },
  {
   "cell_type": "code",
   "execution_count": 18,
   "id": "1c7307e3",
   "metadata": {},
   "outputs": [
    {
     "data": {
      "text/plain": [
       "{'gamma': 0.0}"
      ]
     },
     "execution_count": 18,
     "metadata": {},
     "output_type": "execute_result"
    }
   ],
   "source": [
    "grid_model.best_params_"
   ]
  },
  {
   "cell_type": "code",
   "execution_count": 19,
   "id": "6fcabab6",
   "metadata": {},
   "outputs": [
    {
     "data": {
      "text/plain": [
       "GridSearchCV(estimator=LGBMClassifier(gamma=0.0,\n",
       "                                      learning_rate=0.379746835443038,\n",
       "                                      n_estimators=50, random_state=42),\n",
       "             n_jobs=-1,\n",
       "             param_grid={'min_child_weight': array([ 0.        ,  0.2278481 ,  0.4556962 ,  0.6835443 ,  0.91139241,\n",
       "        1.13924051,  1.36708861,  1.59493671,  1.82278481,  2.05063291,\n",
       "        2.27848101,  2.50632911,  2.73417722,  2.96202532,  3.18987342,\n",
       "        3.41772152,  3.64556962,  3.87341772,  4....\n",
       "       11.39240506, 11.62025316, 11.84810127, 12.07594937, 12.30379747,\n",
       "       12.53164557, 12.75949367, 12.98734177, 13.21518987, 13.44303797,\n",
       "       13.67088608, 13.89873418, 14.12658228, 14.35443038, 14.58227848,\n",
       "       14.81012658, 15.03797468, 15.26582278, 15.49367089, 15.72151899,\n",
       "       15.94936709, 16.17721519, 16.40506329, 16.63291139, 16.86075949,\n",
       "       17.08860759, 17.3164557 , 17.5443038 , 17.7721519 , 18.        ])},\n",
       "             scoring='accuracy')"
      ]
     },
     "execution_count": 19,
     "metadata": {},
     "output_type": "execute_result"
    }
   ],
   "source": [
    "param_grid = {'min_child_weight': np.linspace(0,18,80)}\n",
    "\n",
    "model = LGBMClassifier(random_state = 42, learning_rate = l, gamma = 0.0, n_estimators=50)\n",
    "grid_model = GridSearchCV(estimator=model,\n",
    "                            param_grid=param_grid,\n",
    "                            scoring='accuracy',\n",
    "                            n_jobs = -1)\n",
    "\n",
    "grid_model.fit(X_train, y_train)"
   ]
  },
  {
   "cell_type": "code",
   "execution_count": 20,
   "id": "0b83b2e0",
   "metadata": {},
   "outputs": [
    {
     "data": {
      "text/plain": [
       "{'min_child_weight': 17.31645569620253}"
      ]
     },
     "execution_count": 20,
     "metadata": {},
     "output_type": "execute_result"
    }
   ],
   "source": [
    "grid_model.best_params_"
   ]
  },
  {
   "cell_type": "code",
   "execution_count": 21,
   "id": "1f615dc8",
   "metadata": {},
   "outputs": [
    {
     "data": {
      "text/plain": [
       "GridSearchCV(estimator=LGBMClassifier(gamma=0.0,\n",
       "                                      learning_rate=0.379746835443038,\n",
       "                                      min_child_weight=17.31645569620253,\n",
       "                                      n_estimators=50, random_state=42),\n",
       "             n_jobs=-1,\n",
       "             param_grid={'max_depth': array([ 1,  2,  3,  4,  5,  6,  7,  8,  9, 10, 11, 12, 13, 14, 15, 16, 17,\n",
       "       18, 19, 20, 21, 22, 23, 24, 25, 26, 27, 28, 29]),\n",
       "                         'reg_alpha': [0, 1], 'reg_lambda': [0, 1]},\n",
       "             scoring='accuracy')"
      ]
     },
     "execution_count": 21,
     "metadata": {},
     "output_type": "execute_result"
    }
   ],
   "source": [
    "m = 17.31645569620253\n",
    "\n",
    "param_grid = {'max_depth': np.arange(1,30), \"reg_alpha\":[0,1], \"reg_lambda\":[0,1]}\n",
    "\n",
    "model = LGBMClassifier(random_state = 42, learning_rate = l, gamma = 0.0, n_estimators=50, min_child_weight = m)\n",
    "grid_model = GridSearchCV(estimator=model,\n",
    "                            param_grid=param_grid,\n",
    "                            scoring='accuracy',\n",
    "                            n_jobs = -1)\n",
    "\n",
    "grid_model.fit(X_train, y_train)"
   ]
  },
  {
   "cell_type": "code",
   "execution_count": 22,
   "id": "265fad57",
   "metadata": {},
   "outputs": [
    {
     "data": {
      "text/plain": [
       "{'max_depth': 3, 'reg_alpha': 1, 'reg_lambda': 0}"
      ]
     },
     "execution_count": 22,
     "metadata": {},
     "output_type": "execute_result"
    }
   ],
   "source": [
    "grid_model.best_params_"
   ]
  },
  {
   "cell_type": "code",
   "execution_count": 25,
   "id": "5a149b36",
   "metadata": {},
   "outputs": [
    {
     "data": {
      "text/plain": [
       "GridSearchCV(estimator=LGBMClassifier(gamma=0.0,\n",
       "                                      learning_rate=0.379746835443038,\n",
       "                                      max_depth=3,\n",
       "                                      min_child_weight=17.31645569620253,\n",
       "                                      n_estimators=50, random_state=42,\n",
       "                                      reg_alpha=1, reg_lambda=0),\n",
       "             n_jobs=-1, param_grid={'subsample': [0.5, 0.6, 0.8, 1.0]},\n",
       "             scoring='accuracy')"
      ]
     },
     "execution_count": 25,
     "metadata": {},
     "output_type": "execute_result"
    }
   ],
   "source": [
    "param_grid = {'subsample': [0.5,0.6, 0.8, 1.0]}\n",
    "\n",
    "model = LGBMClassifier(random_state = 42, learning_rate = l, gamma = 0.0, n_estimators=50, min_child_weight = m,\n",
    "                      max_depth = 3, reg_alpha=1, reg_lambda=0)\n",
    "grid_model = GridSearchCV(estimator=model,\n",
    "                            param_grid=param_grid,\n",
    "                            scoring='accuracy',\n",
    "                            n_jobs = -1)\n",
    "\n",
    "grid_model.fit(X_train, y_train)"
   ]
  },
  {
   "cell_type": "code",
   "execution_count": 26,
   "id": "728806b6",
   "metadata": {},
   "outputs": [
    {
     "data": {
      "text/plain": [
       "{'subsample': 0.5}"
      ]
     },
     "execution_count": 26,
     "metadata": {},
     "output_type": "execute_result"
    }
   ],
   "source": [
    "grid_model.best_params_"
   ]
  },
  {
   "cell_type": "code",
   "execution_count": 27,
   "id": "dbbdf41c",
   "metadata": {},
   "outputs": [
    {
     "data": {
      "text/plain": [
       "GridSearchCV(estimator=LGBMClassifier(gamma=0.0,\n",
       "                                      learning_rate=0.379746835443038,\n",
       "                                      max_depth=3,\n",
       "                                      min_child_weight=17.31645569620253,\n",
       "                                      n_estimators=50, random_state=42,\n",
       "                                      reg_alpha=1, reg_lambda=0,\n",
       "                                      subsample=0.5),\n",
       "             n_jobs=-1,\n",
       "             param_grid={'min_samples_split': array([ 2,  3,  4,  5,  6,  7,  8,  9, 10, 11, 12, 13, 14, 15, 16, 17, 18,\n",
       "       19, 20, 21, 22, 23, 24, 25, 26, 27, 28, 29, 30, 31, 32, 33, 34, 35,\n",
       "       36, 37, 38, 39, 40, 41, 42, 43, 44, 45, 46, 47, 48, 49])},\n",
       "             scoring='accuracy')"
      ]
     },
     "execution_count": 27,
     "metadata": {},
     "output_type": "execute_result"
    }
   ],
   "source": [
    "param_grid = {'min_samples_split': np.arange(2,50)}\n",
    "\n",
    "model = LGBMClassifier(random_state = 42, learning_rate = l, gamma = 0.0, n_estimators=50, min_child_weight = m,\n",
    "                      max_depth = 3, reg_alpha=1, reg_lambda=0, subsample = 0.5)\n",
    "grid_model = GridSearchCV(estimator=model,\n",
    "                            param_grid=param_grid,\n",
    "                            scoring='accuracy',\n",
    "                            n_jobs = -1)\n",
    "\n",
    "grid_model.fit(X_train, y_train)"
   ]
  },
  {
   "cell_type": "code",
   "execution_count": 28,
   "id": "61b9147d",
   "metadata": {},
   "outputs": [
    {
     "data": {
      "text/plain": [
       "{'min_samples_split': 2}"
      ]
     },
     "execution_count": 28,
     "metadata": {},
     "output_type": "execute_result"
    }
   ],
   "source": [
    "grid_model.best_params_"
   ]
  },
  {
   "cell_type": "code",
   "execution_count": 30,
   "id": "9a670206",
   "metadata": {},
   "outputs": [
    {
     "data": {
      "text/plain": [
       "GridSearchCV(estimator=LGBMClassifier(gamma=0.0,\n",
       "                                      learning_rate=0.379746835443038,\n",
       "                                      max_depth=3,\n",
       "                                      min_child_weight=17.31645569620253,\n",
       "                                      min_samples_split=2, n_estimators=50,\n",
       "                                      random_state=42, reg_alpha=1,\n",
       "                                      reg_lambda=0, subsample=0.5),\n",
       "             n_jobs=-1, param_grid={'class_weight': [None, 'balanced']},\n",
       "             scoring='accuracy')"
      ]
     },
     "execution_count": 30,
     "metadata": {},
     "output_type": "execute_result"
    }
   ],
   "source": [
    "param_grid = {\"class_weight\":[None, \"balanced\"]}\n",
    "model = LGBMClassifier(random_state = 42, learning_rate = l, gamma = 0.0, n_estimators=50, min_child_weight = m,\n",
    "                      max_depth = 3, reg_alpha=1, reg_lambda=0, subsample = 0.5, min_samples_split=2)\n",
    "grid_model = GridSearchCV(estimator=model,\n",
    "                            param_grid=param_grid,\n",
    "                            scoring='accuracy',\n",
    "                            n_jobs = -1)\n",
    "\n",
    "grid_model.fit(X_train, y_train)"
   ]
  },
  {
   "cell_type": "code",
   "execution_count": 31,
   "id": "be37a363",
   "metadata": {},
   "outputs": [
    {
     "data": {
      "text/plain": [
       "{'class_weight': None}"
      ]
     },
     "execution_count": 31,
     "metadata": {},
     "output_type": "execute_result"
    }
   ],
   "source": [
    "grid_model.best_params_"
   ]
  },
  {
   "cell_type": "code",
   "execution_count": 33,
   "id": "80a75db2",
   "metadata": {},
   "outputs": [
    {
     "name": "stdout",
     "output_type": "stream",
     "text": [
      "[LightGBM] [Warning] Unknown parameter: gamma\n",
      "[LightGBM] [Warning] Unknown parameter: min_samples_split\n"
     ]
    },
    {
     "data": {
      "text/plain": [
       "GridSearchCV(estimator=LGBMClassifier(class_weight='balanced', gamma=0.0,\n",
       "                                      learning_rate=0.379746835443038,\n",
       "                                      max_depth=3,\n",
       "                                      min_child_weight=17.31645569620253,\n",
       "                                      min_samples_split=2, n_estimators=50,\n",
       "                                      random_state=42, reg_alpha=1,\n",
       "                                      reg_lambda=0, subsample=0.5),\n",
       "             n_jobs=-1,\n",
       "             param_grid={'min_child_samples': array([  1,   2,   3,   4,   5,   6,   7,   8,   9,  10,  11,  12,  13,\n",
       "        14,  15,  16,  17,  18,  19,  20,  21,  22,  2...\n",
       "       118, 119, 120, 121, 122, 123, 124, 125, 126, 127, 128, 129, 130,\n",
       "       131, 132, 133, 134, 135, 136, 137, 138, 139, 140, 141, 142, 143,\n",
       "       144, 145, 146, 147, 148, 149, 150, 151, 152, 153, 154, 155, 156,\n",
       "       157, 158, 159, 160, 161, 162, 163, 164, 165, 166, 167, 168, 169,\n",
       "       170, 171, 172, 173, 174, 175, 176, 177, 178, 179, 180, 181, 182,\n",
       "       183, 184, 185, 186, 187, 188, 189, 190, 191, 192, 193, 194, 195,\n",
       "       196, 197, 198, 199])},\n",
       "             scoring='accuracy')"
      ]
     },
     "execution_count": 33,
     "metadata": {},
     "output_type": "execute_result"
    }
   ],
   "source": [
    "param_grid = {\"min_child_samples\": np.arange(1,200)}\n",
    "\n",
    "model = LGBMClassifier(random_state = 42, learning_rate = l, gamma = 0.0, n_estimators=50, min_child_weight = m,\n",
    "                      max_depth = 3, reg_alpha=1, reg_lambda=0, subsample = 0.5, min_samples_split=2, class_weight =\"balanced\")\n",
    "\n",
    "grid_model = GridSearchCV(estimator=model,\n",
    "                            param_grid=param_grid,\n",
    "                            scoring='accuracy',\n",
    "                            n_jobs = -1)\n",
    "\n",
    "grid_model.fit(X_train, y_train)"
   ]
  },
  {
   "cell_type": "code",
   "execution_count": 34,
   "id": "925b449c",
   "metadata": {},
   "outputs": [
    {
     "data": {
      "text/plain": [
       "{'min_child_samples': 89}"
      ]
     },
     "execution_count": 34,
     "metadata": {},
     "output_type": "execute_result"
    }
   ],
   "source": [
    "grid_model.best_params_"
   ]
  },
  {
   "cell_type": "code",
   "execution_count": 35,
   "id": "8f1de9aa",
   "metadata": {},
   "outputs": [
    {
     "name": "stdout",
     "output_type": "stream",
     "text": [
      "Test_Set\n",
      "[[73 27]\n",
      " [15 39]]\n",
      "              precision    recall  f1-score   support\n",
      "\n",
      "           0       0.83      0.73      0.78       100\n",
      "           1       0.59      0.72      0.65        54\n",
      "\n",
      "    accuracy                           0.73       154\n",
      "   macro avg       0.71      0.73      0.71       154\n",
      "weighted avg       0.75      0.73      0.73       154\n",
      "\n",
      "\n",
      "Train_Set\n",
      "[[329  71]\n",
      " [ 34 180]]\n",
      "              precision    recall  f1-score   support\n",
      "\n",
      "           0       0.91      0.82      0.86       400\n",
      "           1       0.72      0.84      0.77       214\n",
      "\n",
      "    accuracy                           0.83       614\n",
      "   macro avg       0.81      0.83      0.82       614\n",
      "weighted avg       0.84      0.83      0.83       614\n",
      "\n"
     ]
    }
   ],
   "source": [
    "eval_metric(grid_model, X_train, y_train, X_test, y_test)"
   ]
  },
  {
   "cell_type": "code",
   "execution_count": 50,
   "id": "54b4dffb",
   "metadata": {},
   "outputs": [
    {
     "name": "stdout",
     "output_type": "stream",
     "text": [
      "[LightGBM] [Warning] Unknown parameter: gamma\n",
      "[LightGBM] [Warning] Unknown parameter: min_samples_split\n"
     ]
    },
    {
     "data": {
      "text/plain": [
       "GridSearchCV(estimator=LGBMClassifier(gamma=0.0,\n",
       "                                      learning_rate=0.379746835443038,\n",
       "                                      max_depth=3,\n",
       "                                      min_child_weight=17.31645569620253,\n",
       "                                      min_samples_split=2, n_estimators=50,\n",
       "                                      random_state=42, reg_alpha=1,\n",
       "                                      reg_lambda=0, subsample=0.5),\n",
       "             n_jobs=-1,\n",
       "             param_grid={'min_child_samples': array([  1,   2,   3,   4,   5,   6,   7,   8,   9,  10,  11,  12,  13,\n",
       "        14,  15,  16,  17,  18,  19,  20,  21,  22,  23,  24,  25,  26,\n",
       "        27,  28,  29,  30,  3...\n",
       "       118, 119, 120, 121, 122, 123, 124, 125, 126, 127, 128, 129, 130,\n",
       "       131, 132, 133, 134, 135, 136, 137, 138, 139, 140, 141, 142, 143,\n",
       "       144, 145, 146, 147, 148, 149, 150, 151, 152, 153, 154, 155, 156,\n",
       "       157, 158, 159, 160, 161, 162, 163, 164, 165, 166, 167, 168, 169,\n",
       "       170, 171, 172, 173, 174, 175, 176, 177, 178, 179, 180, 181, 182,\n",
       "       183, 184, 185, 186, 187, 188, 189, 190, 191, 192, 193, 194, 195,\n",
       "       196, 197, 198, 199])},\n",
       "             scoring='accuracy')"
      ]
     },
     "execution_count": 50,
     "metadata": {},
     "output_type": "execute_result"
    }
   ],
   "source": [
    "param_grid = {\"min_child_samples\": np.arange(1,200)}\n",
    "\n",
    "model = LGBMClassifier(random_state = 42, learning_rate = l, gamma = 0.0, n_estimators=50, min_child_weight = m,\n",
    "                      max_depth = 3, reg_alpha=1, reg_lambda=0, subsample = 0.5, min_samples_split=2, class_weight = None)\n",
    "\n",
    "grid_model = GridSearchCV(estimator=model,\n",
    "                            param_grid=param_grid,\n",
    "                            scoring='accuracy',\n",
    "                            n_jobs = -1)\n",
    "\n",
    "grid_model.fit(X_train, y_train)"
   ]
  },
  {
   "cell_type": "code",
   "execution_count": 51,
   "id": "9ee9c953",
   "metadata": {},
   "outputs": [
    {
     "data": {
      "text/plain": [
       "{'min_child_samples': 1}"
      ]
     },
     "execution_count": 51,
     "metadata": {},
     "output_type": "execute_result"
    }
   ],
   "source": [
    "grid_model.best_params_"
   ]
  },
  {
   "cell_type": "code",
   "execution_count": 52,
   "id": "b63d45d1",
   "metadata": {},
   "outputs": [
    {
     "name": "stdout",
     "output_type": "stream",
     "text": [
      "Test_Set\n",
      "[[84 16]\n",
      " [21 33]]\n",
      "              precision    recall  f1-score   support\n",
      "\n",
      "           0       0.80      0.84      0.82       100\n",
      "           1       0.67      0.61      0.64        54\n",
      "\n",
      "    accuracy                           0.76       154\n",
      "   macro avg       0.74      0.73      0.73       154\n",
      "weighted avg       0.76      0.76      0.76       154\n",
      "\n",
      "\n",
      "Train_Set\n",
      "[[360  40]\n",
      " [ 56 158]]\n",
      "              precision    recall  f1-score   support\n",
      "\n",
      "           0       0.87      0.90      0.88       400\n",
      "           1       0.80      0.74      0.77       214\n",
      "\n",
      "    accuracy                           0.84       614\n",
      "   macro avg       0.83      0.82      0.82       614\n",
      "weighted avg       0.84      0.84      0.84       614\n",
      "\n"
     ]
    }
   ],
   "source": [
    "eval_metric(grid_model, X_train, y_train, X_test, y_test)"
   ]
  },
  {
   "cell_type": "code",
   "execution_count": 53,
   "id": "ecdadbd3",
   "metadata": {},
   "outputs": [],
   "source": [
    "from sklearn.metrics import roc_curve, roc_auc_score, plot_roc_curve, plot_precision_recall_curve"
   ]
  },
  {
   "cell_type": "code",
   "execution_count": 54,
   "id": "c649bb1a",
   "metadata": {},
   "outputs": [
    {
     "data": {
      "image/png": "[encoded data removed]",
      "text/plain": [
       "<Figure size 720x432 with 1 Axes>"
      ]
     },
     "metadata": {
      "needs_background": "light"
     },
     "output_type": "display_data"
    }
   ],
   "source": [
    "plot_precision_recall_curve(grid_model, X_test, y_test);"
   ]
  },
  {
   "cell_type": "code",
   "execution_count": 57,
   "id": "b5bc56b5",
   "metadata": {},
   "outputs": [
    {
     "data": {
      "text/plain": [
       "0.8072222222222222"
      ]
     },
     "execution_count": 57,
     "metadata": {},
     "output_type": "execute_result"
    }
   ],
   "source": [
    "roc_auc_score(y_test, y_pred_proba[:,1])"
   ]
  },
  {
   "cell_type": "code",
   "execution_count": 58,
   "id": "2982dd0f",
   "metadata": {},
   "outputs": [],
   "source": [
    "y_pred_proba_tr = lgb_model.predict_proba(X_train)"
   ]
  },
  {
   "cell_type": "code",
   "execution_count": 61,
   "id": "e00b3a9f",
   "metadata": {},
   "outputs": [
    {
     "data": {
      "text/plain": [
       "0.6976466849568069"
      ]
     },
     "execution_count": 61,
     "metadata": {},
     "output_type": "execute_result"
    }
   ],
   "source": [
    "precisions, recalls, thresholds = precision_recall_curve(y_train, y_pred_proba_tr[: ,1])\n",
    "optimal_idx = np.argmax((precisions + recalls)/2)\n",
    "optimal_threshold = thresholds[optimal_idx]\n",
    "optimal_threshold"
   ]
  },
  {
   "cell_type": "code",
   "execution_count": 62,
   "id": "1b4bb639",
   "metadata": {},
   "outputs": [
    {
     "data": {
      "text/plain": [
       "0.0039188634417298696"
      ]
     },
     "execution_count": 62,
     "metadata": {},
     "output_type": "execute_result"
    }
   ],
   "source": [
    "precisions, recalls, thresholds = precision_recall_curve(y_train, y_pred_proba_tr[: ,0])\n",
    "optimal_idx = np.argmax((precisions + recalls)/2)\n",
    "optimal_threshold2 = thresholds[optimal_idx]\n",
    "optimal_threshold2"
   ]
  },
  {
   "cell_type": "code",
   "execution_count": 63,
   "id": "bd209bcf",
   "metadata": {},
   "outputs": [
    {
     "data": {
      "text/plain": [
       "0.3507827741992684"
      ]
     },
     "execution_count": 63,
     "metadata": {},
     "output_type": "execute_result"
    }
   ],
   "source": [
    "optimal_threshold_accuarcy = (optimal_threshold + optimal_threshold2)/2\n",
    "optimal_threshold_accuarcy"
   ]
  },
  {
   "cell_type": "code",
   "execution_count": 69,
   "id": "883e65b0",
   "metadata": {},
   "outputs": [
    {
     "name": "stdout",
     "output_type": "stream",
     "text": [
      "[[71 29]\n",
      " [16 38]]\n",
      "              precision    recall  f1-score   support\n",
      "\n",
      "           0       0.82      0.71      0.76       100\n",
      "           1       0.57      0.70      0.63        54\n",
      "\n",
      "    accuracy                           0.71       154\n",
      "   macro avg       0.69      0.71      0.69       154\n",
      "weighted avg       0.73      0.71      0.71       154\n",
      "\n"
     ]
    }
   ],
   "source": [
    "y_pred = pd.Series(grid_model.predict_proba(X_test)[:,1]).apply(lambda x : 1 if x >= optimal_threshold_accuarcy else 0)\n",
    "\n",
    "print(confusion_matrix(y_test, y_pred))\n",
    "print(classification_report(y_test, y_pred))"
   ]
  },
  {
   "cell_type": "code",
   "execution_count": 72,
   "id": "56e4f20c",
   "metadata": {},
   "outputs": [
    {
     "name": "stdout",
     "output_type": "stream",
     "text": [
      "[[325  75]\n",
      " [ 35 179]]\n",
      "              precision    recall  f1-score   support\n",
      "\n",
      "           0       0.90      0.81      0.86       400\n",
      "           1       0.70      0.84      0.76       214\n",
      "\n",
      "    accuracy                           0.82       614\n",
      "   macro avg       0.80      0.82      0.81       614\n",
      "weighted avg       0.83      0.82      0.82       614\n",
      "\n"
     ]
    }
   ],
   "source": [
    "y_pred = pd.Series(grid_model.predict_proba(X_train)[:,1]).apply(lambda x : 1 if x >= optimal_threshold_accuarcy else 0)\n",
    "\n",
    "print(confusion_matrix(y_train, y_pred))\n",
    "print(classification_report(y_train, y_pred))"
   ]
  },
  {
   "cell_type": "code",
   "execution_count": null,
   "id": "4125390b",
   "metadata": {},
   "outputs": [],
   "source": []
  }
 ],
 "metadata": {
  "kernelspec": {
   "display_name": "Python 3 (ipykernel)",
   "language": "python",
   "name": "python3"
  },
  "language_info": {
   "codemirror_mode": {
    "name": "ipython",
    "version": 3
   },
   "file_extension": ".py",
   "mimetype": "text/x-python",
   "name": "python",
   "nbconvert_exporter": "python",
   "pygments_lexer": "ipython3",
   "version": "3.9.7"
  }
 },
 "nbformat": 4,
 "nbformat_minor": 5
}
