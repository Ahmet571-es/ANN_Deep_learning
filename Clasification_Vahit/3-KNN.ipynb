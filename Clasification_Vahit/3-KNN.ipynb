{
 "cells": [
  {
   "cell_type": "markdown",
   "id": "4e4ce135",
   "metadata": {},
   "source": [
    "Noktalar yani target sınıfında bulunan değerlerin diğer target değerlerine göre uzaklıkları hesaplanır. k komşu sayısı kadar kendisine yakın bulunan target değerlerini alır. kangi değer fazla ise o değeri tahmin olarak verir. "
   ]
  },
  {
   "cell_type": "code",
   "execution_count": 1,
   "id": "4092eea1",
   "metadata": {},
   "outputs": [],
   "source": [
    "import numpy as np\n",
    "import pandas as pd\n",
    "import seaborn as sns\n",
    "import matplotlib.pyplot as plt\n",
    "\n",
    "#%matplotlib inline\n",
    "#%matplotlib notebook\n",
    "plt.rcParams[\"figure.figsize\"] = (10,6)\n",
    "import warnings\n",
    "warnings.filterwarnings(\"ignore\")\n",
    "warnings.warn(\"this will not show\")\n",
    "pd.set_option('display.float_format', lambda x: '%.3f' % x)\n",
    "pd.options.display.float_format = '{:.3f}'.format"
   ]
  },
  {
   "cell_type": "code",
   "execution_count": 2,
   "id": "183b6762",
   "metadata": {},
   "outputs": [
    {
     "data": {
      "text/html": [
       "<div>\n",
       "<style scoped>\n",
       "    .dataframe tbody tr th:only-of-type {\n",
       "        vertical-align: middle;\n",
       "    }\n",
       "\n",
       "    .dataframe tbody tr th {\n",
       "        vertical-align: top;\n",
       "    }\n",
       "\n",
       "    .dataframe thead th {\n",
       "        text-align: right;\n",
       "    }\n",
       "</style>\n",
       "<table border=\"1\" class=\"dataframe\">\n",
       "  <thead>\n",
       "    <tr style=\"text-align: right;\">\n",
       "      <th></th>\n",
       "      <th>Pregnancies</th>\n",
       "      <th>Glucose</th>\n",
       "      <th>BloodPressure</th>\n",
       "      <th>SkinThickness</th>\n",
       "      <th>Insulin</th>\n",
       "      <th>BMI</th>\n",
       "      <th>DiabetesPedigreeFunction</th>\n",
       "      <th>Age</th>\n",
       "      <th>Outcome</th>\n",
       "    </tr>\n",
       "  </thead>\n",
       "  <tbody>\n",
       "    <tr>\n",
       "      <th>0</th>\n",
       "      <td>6</td>\n",
       "      <td>148</td>\n",
       "      <td>72</td>\n",
       "      <td>35</td>\n",
       "      <td>0</td>\n",
       "      <td>33.600</td>\n",
       "      <td>0.627</td>\n",
       "      <td>50</td>\n",
       "      <td>1</td>\n",
       "    </tr>\n",
       "    <tr>\n",
       "      <th>1</th>\n",
       "      <td>1</td>\n",
       "      <td>85</td>\n",
       "      <td>66</td>\n",
       "      <td>29</td>\n",
       "      <td>0</td>\n",
       "      <td>26.600</td>\n",
       "      <td>0.351</td>\n",
       "      <td>31</td>\n",
       "      <td>0</td>\n",
       "    </tr>\n",
       "    <tr>\n",
       "      <th>2</th>\n",
       "      <td>8</td>\n",
       "      <td>183</td>\n",
       "      <td>64</td>\n",
       "      <td>0</td>\n",
       "      <td>0</td>\n",
       "      <td>23.300</td>\n",
       "      <td>0.672</td>\n",
       "      <td>32</td>\n",
       "      <td>1</td>\n",
       "    </tr>\n",
       "    <tr>\n",
       "      <th>3</th>\n",
       "      <td>1</td>\n",
       "      <td>89</td>\n",
       "      <td>66</td>\n",
       "      <td>23</td>\n",
       "      <td>94</td>\n",
       "      <td>28.100</td>\n",
       "      <td>0.167</td>\n",
       "      <td>21</td>\n",
       "      <td>0</td>\n",
       "    </tr>\n",
       "    <tr>\n",
       "      <th>4</th>\n",
       "      <td>0</td>\n",
       "      <td>137</td>\n",
       "      <td>40</td>\n",
       "      <td>35</td>\n",
       "      <td>168</td>\n",
       "      <td>43.100</td>\n",
       "      <td>2.288</td>\n",
       "      <td>33</td>\n",
       "      <td>1</td>\n",
       "    </tr>\n",
       "  </tbody>\n",
       "</table>\n",
       "</div>"
      ],
      "text/plain": [
       "   Pregnancies  Glucose  BloodPressure  SkinThickness  Insulin    BMI  \\\n",
       "0            6      148             72             35        0 33.600   \n",
       "1            1       85             66             29        0 26.600   \n",
       "2            8      183             64              0        0 23.300   \n",
       "3            1       89             66             23       94 28.100   \n",
       "4            0      137             40             35      168 43.100   \n",
       "\n",
       "   DiabetesPedigreeFunction  Age  Outcome  \n",
       "0                     0.627   50        1  \n",
       "1                     0.351   31        0  \n",
       "2                     0.672   32        1  \n",
       "3                     0.167   21        0  \n",
       "4                     2.288   33        1  "
      ]
     },
     "execution_count": 2,
     "metadata": {},
     "output_type": "execute_result"
    }
   ],
   "source": [
    "df=pd.read_csv(\"diabetes.csv\")\n",
    "df.head()\n",
    "# 1 ler şeker hastası 0 lar sağlıklı."
   ]
  },
  {
   "cell_type": "code",
   "execution_count": 3,
   "id": "2276ca06",
   "metadata": {},
   "outputs": [],
   "source": [
    "for i in df.select_dtypes([float, int]).columns:\n",
    "    if i == \"DiabetesPedigreeFunction\" and i == \"Insulin\" :\n",
    "        Q1 = df[i].quantile(0.25)\n",
    "        Q3 = df[i].quantile(0.75)\n",
    "        IQR = Q3-Q1\n",
    "        alt_sinir = Q1-(2.5*IQR)\n",
    "        ust_sinir = Q3+(2.5*IQR)\n",
    "    #print(f\"{i} sutununun alt sınır değeri = {alt_sinir}\")\n",
    "    #print(f\"{i} sutununun üst sınır değeri = {ust_sinir}\")\n",
    "        aykiri_alt = df[i] < alt_sinir\n",
    "        aykiri_ust = df[i] > ust_sinir\n",
    "    #print(i, \"tablosunda toplamda =\", df[i][aykiri_alt].count(),\"aykırı alt veri vardır.\")\n",
    "    #print(i, \"tablosunda toplamda =\",df[i][aykiri_ust].count(), \"aykırı üst veri vardır.\")\n",
    "        df[i][aykiri_alt] = alt_sinir\n",
    "        df[i][aykiri_ust] = ust_sinir\n",
    "        \n",
    "        \n",
    "    elif  i == \"BloodPressure\" and i == \"BMI\" and i == \"Age\" :\n",
    "            Q1 = df[i].quantile(0.25)\n",
    "            Q3 = df[i].quantile(0.75)\n",
    "            IQR = Q3-Q1\n",
    "            alt_sinir = Q1-(1.8*IQR)\n",
    "            ust_sinir = Q3+(1.8*IQR)\n",
    "    #print(f\"{i} sutununun alt sınır değeri = {alt_sinir}\")\n",
    "    #print(f\"{i} sutununun üst sınır değeri = {ust_sinir}\")\n",
    "            aykiri_alt = df[i] < alt_sinir\n",
    "            aykiri_ust = df[i] > ust_sinir\n",
    "    #print(i, \"tablosunda toplamda =\", df[i][aykiri_alt].count(),\"aykırı alt veri vardır.\")\n",
    "    #print(i, \"tablosunda toplamda =\",df[i][aykiri_ust].count(), \"aykırı üst veri vardır.\")\n",
    "            df[i][aykiri_alt] = alt_sinir\n",
    "            df[i][aykiri_ust] = ust_sinir\n",
    "    \n",
    "    else : \n",
    "        Q1 = df[i].quantile(0.25)\n",
    "        Q3 = df[i].quantile(0.75)\n",
    "        IQR = Q3-Q1\n",
    "        alt_sinir = Q1-(1.6*IQR)\n",
    "        ust_sinir = Q3+(1.6*IQR)\n",
    "    #print(f\"{i} sutununun alt sınır değeri = {alt_sinir}\")\n",
    "    #print(f\"{i} sutununun üst sınır değeri = {ust_sinir}\")\n",
    "        aykiri_alt = df[i] < alt_sinir\n",
    "        aykiri_ust = df[i] > ust_sinir\n",
    "    #print(i, \"tablosunda toplamda =\", df[i][aykiri_alt].count(),\"aykırı alt veri vardır.\")\n",
    "    #print(i, \"tablosunda toplamda =\",df[i][aykiri_ust].count(), \"aykırı üst veri vardır.\")\n",
    "        df[i][aykiri_alt] = alt_sinir\n",
    "        df[i][aykiri_ust] = ust_sinir"
   ]
  },
  {
   "cell_type": "code",
   "execution_count": 4,
   "id": "d6c412d4",
   "metadata": {},
   "outputs": [],
   "source": [
    "X=df.drop([\"Outcome\"], axis=1)\n",
    "y=df[\"Outcome\"]"
   ]
  },
  {
   "cell_type": "code",
   "execution_count": 5,
   "id": "35ae9eab",
   "metadata": {},
   "outputs": [],
   "source": [
    "from sklearn.model_selection import train_test_split\n",
    "\n",
    "X_train, X_test, y_train, y_test = train_test_split(X, y, test_size=0.20, stratify=y, random_state=42)"
   ]
  },
  {
   "cell_type": "code",
   "execution_count": 6,
   "id": "e88c0daf",
   "metadata": {},
   "outputs": [],
   "source": [
    "from sklearn.metrics import confusion_matrix, classification_report\n",
    "from sklearn.metrics import recall_score, f1_score, accuracy_score, precision_score\n",
    "\n",
    "def eval_metric(model, X_train, y_train, X_test, y_test):\n",
    "    y_train_pred = model.predict(X_train)\n",
    "    y_pred = model.predict(X_test)\n",
    "    \n",
    "    print(\"Test_Set\")\n",
    "    print(confusion_matrix(y_test, y_pred))\n",
    "    print(classification_report(y_test, y_pred))\n",
    "    print()\n",
    "    print(\"Train_Set\")\n",
    "    print(confusion_matrix(y_train, y_train_pred))\n",
    "    print(classification_report(y_train, y_train_pred))\n"
   ]
  },
  {
   "cell_type": "code",
   "execution_count": 7,
   "id": "69c6367b",
   "metadata": {},
   "outputs": [
    {
     "name": "stdout",
     "output_type": "stream",
     "text": [
      "Test_Set\n",
      "[[82 18]\n",
      " [25 29]]\n",
      "              precision    recall  f1-score   support\n",
      "\n",
      "           0       0.77      0.82      0.79       100\n",
      "           1       0.62      0.54      0.57        54\n",
      "\n",
      "    accuracy                           0.72       154\n",
      "   macro avg       0.69      0.68      0.68       154\n",
      "weighted avg       0.71      0.72      0.72       154\n",
      "\n",
      "\n",
      "Train_Set\n",
      "[[365  35]\n",
      " [ 76 138]]\n",
      "              precision    recall  f1-score   support\n",
      "\n",
      "           0       0.83      0.91      0.87       400\n",
      "           1       0.80      0.64      0.71       214\n",
      "\n",
      "    accuracy                           0.82       614\n",
      "   macro avg       0.81      0.78      0.79       614\n",
      "weighted avg       0.82      0.82      0.81       614\n",
      "\n"
     ]
    }
   ],
   "source": [
    "from sklearn.neighbors import KNeighborsClassifier\n",
    "from sklearn.preprocessing import StandardScaler\n",
    "from sklearn.pipeline import Pipeline\n",
    "\n",
    "operations = [('scaler',StandardScaler()),('knn',KNeighborsClassifier())]\n",
    "knn_model = Pipeline(operations)\n",
    "knn_model.fit(X_train, y_train)\n",
    "\n",
    "eval_metric(knn_model, X_train, y_train, X_test, y_test)"
   ]
  },
  {
   "cell_type": "code",
   "execution_count": 8,
   "id": "65f1dcf1",
   "metadata": {},
   "outputs": [
    {
     "data": {
      "text/plain": [
       "test_precision   0.652\n",
       "test_recall      0.510\n",
       "test_f1          0.569\n",
       "test_accuracy    0.735\n",
       "dtype: float64"
      ]
     },
     "execution_count": 8,
     "metadata": {},
     "output_type": "execute_result"
    }
   ],
   "source": [
    "from sklearn.model_selection import cross_validate\n",
    "\n",
    "operations = [('scaler',StandardScaler()),('knn',KNeighborsClassifier())]\n",
    "model = Pipeline(operations)\n",
    "\n",
    "scores = cross_validate(model, X_train, y_train, scoring = ['precision','recall','f1','accuracy'], cv = 10)\n",
    "df_scores = pd.DataFrame(scores, index = range(1, 11))\n",
    "df_scores.mean()[2:]"
   ]
  },
  {
   "cell_type": "code",
   "execution_count": 9,
   "id": "77b6b529",
   "metadata": {},
   "outputs": [],
   "source": [
    "k_range = range(1,50)\n",
    "scaler = StandardScaler()\n",
    "X_train_scaled = scaler.fit_transform(X_train)\n",
    "X_test_scaled = scaler.transform(X_test)\n",
    "list_dist = []\n",
    "list_score = []\n",
    "sayac = 1\n",
    "for k in k_range : \n",
    "    model = KNeighborsClassifier(n_neighbors= k)\n",
    "    model.fit(X_train_scaled, y_train)\n",
    "    #print(sayac , \"Doğruluk oranı = % \", model.score(X_train_scaled, y_train)*100)\n",
    "    sayac = sayac + 1\n",
    "    list_dist.append(sayac-1)\n",
    "    list_score.append(round(model.score(X_train_scaled, y_train)*100,2))\n",
    "list_score = pd.DataFrame(list_score)  \n",
    "list_dist = pd.DataFrame(list_dist)\n",
    "train_k = pd.concat([list_dist, list_score], axis=1)\n",
    "train_k.columns = [\"k_value_train\", \"score_train\"]\n",
    "train_k\n",
    "\n",
    "list_dist1 = []\n",
    "list_score1 = []\n",
    "index = 1\n",
    "for k in k_range : \n",
    "    model2 = KNeighborsClassifier(n_neighbors= k)\n",
    "    model2.fit(X_train_scaled, y_train)\n",
    "    #print(sayac , \"Doğruluk oranı = % \", model.score(X_train_scaled, y_train)*100)\n",
    "    index = index + 1\n",
    "    list_dist1.append(index-1)\n",
    "    list_score1.append(round(model2.score(X_test_scaled, y_test)*100,2))\n",
    "list_score1 = pd.DataFrame(list_score1)  \n",
    "list_dist1 = pd.DataFrame(list_dist1)\n",
    "test_k = pd.concat([list_dist1, list_score1], axis=1)\n",
    "test_k.columns = [\"k_value_test\", \"score_test\"]\n",
    "scores = pd.concat([test_k, train_k], axis=1)\n",
    "scores[\"result\"] = scores[\"score_train\"] - scores[\"score_test\"]"
   ]
  },
  {
   "cell_type": "code",
   "execution_count": 10,
   "id": "8899ccd5",
   "metadata": {},
   "outputs": [
    {
     "data": {
      "text/plain": [
       "1.539999999999992"
      ]
     },
     "execution_count": 10,
     "metadata": {},
     "output_type": "execute_result"
    }
   ],
   "source": [
    "scores[\"result\"].min()"
   ]
  },
  {
   "cell_type": "code",
   "execution_count": 11,
   "id": "45046e63",
   "metadata": {},
   "outputs": [
    {
     "data": {
      "text/html": [
       "<div>\n",
       "<style scoped>\n",
       "    .dataframe tbody tr th:only-of-type {\n",
       "        vertical-align: middle;\n",
       "    }\n",
       "\n",
       "    .dataframe tbody tr th {\n",
       "        vertical-align: top;\n",
       "    }\n",
       "\n",
       "    .dataframe thead th {\n",
       "        text-align: right;\n",
       "    }\n",
       "</style>\n",
       "<table border=\"1\" class=\"dataframe\">\n",
       "  <thead>\n",
       "    <tr style=\"text-align: right;\">\n",
       "      <th></th>\n",
       "      <th>k_value_test</th>\n",
       "      <th>score_test</th>\n",
       "      <th>k_value_train</th>\n",
       "      <th>score_train</th>\n",
       "      <th>result</th>\n",
       "    </tr>\n",
       "  </thead>\n",
       "  <tbody>\n",
       "    <tr>\n",
       "      <th>33</th>\n",
       "      <td>34</td>\n",
       "      <td>74.680</td>\n",
       "      <td>34</td>\n",
       "      <td>76.220</td>\n",
       "      <td>1.540</td>\n",
       "    </tr>\n",
       "  </tbody>\n",
       "</table>\n",
       "</div>"
      ],
      "text/plain": [
       "    k_value_test  score_test  k_value_train  score_train  result\n",
       "33            34      74.680             34       76.220   1.540"
      ]
     },
     "execution_count": 11,
     "metadata": {},
     "output_type": "execute_result"
    }
   ],
   "source": [
    "scores[scores[\"result\"] == scores[\"result\"].min()]"
   ]
  },
  {
   "cell_type": "code",
   "execution_count": 12,
   "id": "6d2c21e2",
   "metadata": {},
   "outputs": [
    {
     "data": {
      "text/plain": [
       "<matplotlib.collections.LineCollection at 0x2746cf26bb0>"
      ]
     },
     "execution_count": 12,
     "metadata": {},
     "output_type": "execute_result"
    },
    {
     "data": {
      "image/png": "[encoded data removed]",
      "text/plain": [
       "<Figure size 1080x576 with 1 Axes>"
      ]
     },
     "metadata": {
      "needs_background": "light"
     },
     "output_type": "display_data"
    }
   ],
   "source": [
    "test_error_rates = []\n",
    "train_error_rates = []\n",
    "\n",
    "\n",
    "for k in range(1,30):\n",
    "    knn_model = KNeighborsClassifier(n_neighbors=k)\n",
    "    knn_model.fit(X_train_scaled,y_train) \n",
    "   \n",
    "    y_pred_test = knn_model.predict(X_test_scaled)\n",
    "    y_pred_train = knn_model.predict(X_train_scaled)\n",
    "    \n",
    "    test_error = 1 - accuracy_score(y_test,y_pred_test)\n",
    "    train_error = 1 - accuracy_score(y_train,y_pred_train)\n",
    "    test_error_rates.append(test_error)\n",
    "    train_error_rates.append(train_error)\n",
    "    \n",
    "    \n",
    "plt.figure(figsize=(15,8))\n",
    "plt.plot(range(1,30), test_error_rates, color='blue', linestyle='--', marker='o',\n",
    "         markerfacecolor='red', markersize=10)\n",
    "plt.plot(range(1,30), train_error_rates, color='green', linestyle='--', marker='o',\n",
    "         markerfacecolor='blue', markersize=10)\n",
    "plt.title('Error Rate vs. K Value')\n",
    "plt.xlabel('K_values')\n",
    "plt.ylabel('Error Rate')\n",
    "plt.hlines(y=0.051, xmin = 0, xmax = 30, colors= 'r', linestyles=\"--\")\n",
    "plt.hlines(y=0.057, xmin = 0, xmax = 30, colors= 'r', linestyles=\"--\")"
   ]
  },
  {
   "cell_type": "code",
   "execution_count": 13,
   "id": "d6ec5023",
   "metadata": {},
   "outputs": [],
   "source": [
    "from sklearn.model_selection import GridSearchCV"
   ]
  },
  {
   "cell_type": "code",
   "execution_count": 15,
   "id": "9570c4d1",
   "metadata": {},
   "outputs": [
    {
     "data": {
      "text/plain": [
       "GridSearchCV(cv=10,\n",
       "             estimator=Pipeline(steps=[('scaler', StandardScaler()),\n",
       "                                       ('knn', KNeighborsClassifier())]),\n",
       "             param_grid={'knn__n_neighbors': range(1, 50), 'knn__p': [1, 2],\n",
       "                         'knn__weights': ['uniform', 'distance']},\n",
       "             scoring=make_scorer(recall_score, pos_label=1))"
      ]
     },
     "execution_count": 15,
     "metadata": {},
     "output_type": "execute_result"
    }
   ],
   "source": [
    "operations = [(\"scaler\", StandardScaler()), (\"knn\", KNeighborsClassifier())]\n",
    "Pipeline(steps=operations)\n",
    "pipe_model = Pipeline(steps=operations)\n",
    "\n",
    "k_values = range(1,50)\n",
    "\n",
    "from sklearn.metrics import make_scorer\n",
    "recall_1 = make_scorer(recall_score, pos_label = 1)\n",
    "\n",
    "param_grid = {\"knn__n_neighbors\":k_values, \"knn__p\": [1,2], \"knn__weights\": ['uniform', \"distance\"]}\n",
    "pipe_model = Pipeline(steps=operations)\n",
    "grid_model = GridSearchCV(pipe_model, param_grid, cv=10, scoring= recall_1)\n",
    "grid_model.fit(X_train,y_train)"
   ]
  },
  {
   "cell_type": "code",
   "execution_count": 16,
   "id": "71676d86",
   "metadata": {},
   "outputs": [
    {
     "data": {
      "text/plain": [
       "{'knn__n_neighbors': 1, 'knn__p': 2, 'knn__weights': 'uniform'}"
      ]
     },
     "execution_count": 16,
     "metadata": {},
     "output_type": "execute_result"
    }
   ],
   "source": [
    "grid_model.best_params_"
   ]
  },
  {
   "cell_type": "code",
   "execution_count": 17,
   "id": "6242239f",
   "metadata": {},
   "outputs": [
    {
     "name": "stdout",
     "output_type": "stream",
     "text": [
      "Test_Set\n",
      "[[77 23]\n",
      " [27 27]]\n",
      "              precision    recall  f1-score   support\n",
      "\n",
      "           0       0.74      0.77      0.75       100\n",
      "           1       0.54      0.50      0.52        54\n",
      "\n",
      "    accuracy                           0.68       154\n",
      "   macro avg       0.64      0.64      0.64       154\n",
      "weighted avg       0.67      0.68      0.67       154\n",
      "\n",
      "\n",
      "Train_Set\n",
      "[[400   0]\n",
      " [  0 214]]\n",
      "              precision    recall  f1-score   support\n",
      "\n",
      "           0       1.00      1.00      1.00       400\n",
      "           1       1.00      1.00      1.00       214\n",
      "\n",
      "    accuracy                           1.00       614\n",
      "   macro avg       1.00      1.00      1.00       614\n",
      "weighted avg       1.00      1.00      1.00       614\n",
      "\n"
     ]
    }
   ],
   "source": [
    "eval_metric(grid_model, X_train, y_train, X_test, y_test)"
   ]
  },
  {
   "cell_type": "code",
   "execution_count": 21,
   "id": "d8f3e23f",
   "metadata": {},
   "outputs": [
    {
     "data": {
      "text/plain": [
       "{'knn__n_neighbors': 1, 'knn__p': 2, 'knn__weights': 'uniform'}"
      ]
     },
     "execution_count": 21,
     "metadata": {},
     "output_type": "execute_result"
    }
   ],
   "source": [
    "grid_model.best_params_"
   ]
  },
  {
   "cell_type": "code",
   "execution_count": null,
   "id": "8f94febe",
   "metadata": {},
   "outputs": [],
   "source": []
  },
  {
   "cell_type": "code",
   "execution_count": null,
   "id": "9c46fedd",
   "metadata": {},
   "outputs": [],
   "source": []
  },
  {
   "cell_type": "code",
   "execution_count": null,
   "id": "f2f0b647",
   "metadata": {},
   "outputs": [],
   "source": []
  }
 ],
 "metadata": {
  "kernelspec": {
   "display_name": "Python 3 (ipykernel)",
   "language": "python",
   "name": "python3"
  },
  "language_info": {
   "codemirror_mode": {
    "name": "ipython",
    "version": 3
   },
   "file_extension": ".py",
   "mimetype": "text/x-python",
   "name": "python",
   "nbconvert_exporter": "python",
   "pygments_lexer": "ipython3",
   "version": "3.9.7"
  }
 },
 "nbformat": 4,
 "nbformat_minor": 5
}
