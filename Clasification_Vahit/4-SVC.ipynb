{
 "cells": [
  {
   "cell_type": "code",
   "execution_count": 1,
   "id": "92246c21",
   "metadata": {},
   "outputs": [],
   "source": [
    "import numpy as np\n",
    "import pandas as pd\n",
    "import seaborn as sns\n",
    "import matplotlib.pyplot as plt\n",
    "\n",
    "#%matplotlib inline\n",
    "#%matplotlib notebook\n",
    "plt.rcParams[\"figure.figsize\"] = (10,6)\n",
    "import warnings\n",
    "warnings.filterwarnings(\"ignore\")\n",
    "warnings.warn(\"this will not show\")\n",
    "pd.set_option('display.float_format', lambda x: '%.3f' % x)"
   ]
  },
  {
   "cell_type": "code",
   "execution_count": 2,
   "id": "68d2a986",
   "metadata": {},
   "outputs": [
    {
     "data": {
      "text/html": [
       "<div>\n",
       "<style scoped>\n",
       "    .dataframe tbody tr th:only-of-type {\n",
       "        vertical-align: middle;\n",
       "    }\n",
       "\n",
       "    .dataframe tbody tr th {\n",
       "        vertical-align: top;\n",
       "    }\n",
       "\n",
       "    .dataframe thead th {\n",
       "        text-align: right;\n",
       "    }\n",
       "</style>\n",
       "<table border=\"1\" class=\"dataframe\">\n",
       "  <thead>\n",
       "    <tr style=\"text-align: right;\">\n",
       "      <th></th>\n",
       "      <th>Pregnancies</th>\n",
       "      <th>Glucose</th>\n",
       "      <th>BloodPressure</th>\n",
       "      <th>SkinThickness</th>\n",
       "      <th>Insulin</th>\n",
       "      <th>BMI</th>\n",
       "      <th>DiabetesPedigreeFunction</th>\n",
       "      <th>Age</th>\n",
       "      <th>Outcome</th>\n",
       "    </tr>\n",
       "  </thead>\n",
       "  <tbody>\n",
       "    <tr>\n",
       "      <th>0</th>\n",
       "      <td>6</td>\n",
       "      <td>148</td>\n",
       "      <td>72</td>\n",
       "      <td>35</td>\n",
       "      <td>0</td>\n",
       "      <td>33.600</td>\n",
       "      <td>0.627</td>\n",
       "      <td>50</td>\n",
       "      <td>1</td>\n",
       "    </tr>\n",
       "    <tr>\n",
       "      <th>1</th>\n",
       "      <td>1</td>\n",
       "      <td>85</td>\n",
       "      <td>66</td>\n",
       "      <td>29</td>\n",
       "      <td>0</td>\n",
       "      <td>26.600</td>\n",
       "      <td>0.351</td>\n",
       "      <td>31</td>\n",
       "      <td>0</td>\n",
       "    </tr>\n",
       "    <tr>\n",
       "      <th>2</th>\n",
       "      <td>8</td>\n",
       "      <td>183</td>\n",
       "      <td>64</td>\n",
       "      <td>0</td>\n",
       "      <td>0</td>\n",
       "      <td>23.300</td>\n",
       "      <td>0.672</td>\n",
       "      <td>32</td>\n",
       "      <td>1</td>\n",
       "    </tr>\n",
       "    <tr>\n",
       "      <th>3</th>\n",
       "      <td>1</td>\n",
       "      <td>89</td>\n",
       "      <td>66</td>\n",
       "      <td>23</td>\n",
       "      <td>94</td>\n",
       "      <td>28.100</td>\n",
       "      <td>0.167</td>\n",
       "      <td>21</td>\n",
       "      <td>0</td>\n",
       "    </tr>\n",
       "    <tr>\n",
       "      <th>4</th>\n",
       "      <td>0</td>\n",
       "      <td>137</td>\n",
       "      <td>40</td>\n",
       "      <td>35</td>\n",
       "      <td>168</td>\n",
       "      <td>43.100</td>\n",
       "      <td>2.288</td>\n",
       "      <td>33</td>\n",
       "      <td>1</td>\n",
       "    </tr>\n",
       "  </tbody>\n",
       "</table>\n",
       "</div>"
      ],
      "text/plain": [
       "   Pregnancies  Glucose  BloodPressure  SkinThickness  Insulin    BMI  \\\n",
       "0            6      148             72             35        0 33.600   \n",
       "1            1       85             66             29        0 26.600   \n",
       "2            8      183             64              0        0 23.300   \n",
       "3            1       89             66             23       94 28.100   \n",
       "4            0      137             40             35      168 43.100   \n",
       "\n",
       "   DiabetesPedigreeFunction  Age  Outcome  \n",
       "0                     0.627   50        1  \n",
       "1                     0.351   31        0  \n",
       "2                     0.672   32        1  \n",
       "3                     0.167   21        0  \n",
       "4                     2.288   33        1  "
      ]
     },
     "execution_count": 2,
     "metadata": {},
     "output_type": "execute_result"
    }
   ],
   "source": [
    "df=pd.read_csv(\"diabetes.csv\")\n",
    "df.head()"
   ]
  },
  {
   "cell_type": "code",
   "execution_count": 3,
   "id": "b0b707e0",
   "metadata": {},
   "outputs": [],
   "source": [
    "for i in df.select_dtypes([float, int]).columns:\n",
    "    if i == \"DiabetesPedigreeFunction\" and i == \"Insulin\" :\n",
    "        Q1 = df[i].quantile(0.25)\n",
    "        Q3 = df[i].quantile(0.75)\n",
    "        IQR = Q3-Q1\n",
    "        alt_sinir = Q1-(2.5*IQR)\n",
    "        ust_sinir = Q3+(2.5*IQR)\n",
    "    #print(f\"{i} sutununun alt sınır değeri = {alt_sinir}\")\n",
    "    #print(f\"{i} sutununun üst sınır değeri = {ust_sinir}\")\n",
    "        aykiri_alt = df[i] < alt_sinir\n",
    "        aykiri_ust = df[i] > ust_sinir\n",
    "    #print(i, \"tablosunda toplamda =\", df[i][aykiri_alt].count(),\"aykırı alt veri vardır.\")\n",
    "    #print(i, \"tablosunda toplamda =\",df[i][aykiri_ust].count(), \"aykırı üst veri vardır.\")\n",
    "        df[i][aykiri_alt] = alt_sinir\n",
    "        df[i][aykiri_ust] = ust_sinir\n",
    "        \n",
    "        \n",
    "    elif  i == \"BloodPressure\" and i == \"BMI\" and i == \"Age\" :\n",
    "            Q1 = df[i].quantile(0.25)\n",
    "            Q3 = df[i].quantile(0.75)\n",
    "            IQR = Q3-Q1\n",
    "            alt_sinir = Q1-(1.8*IQR)\n",
    "            ust_sinir = Q3+(1.8*IQR)\n",
    "    #print(f\"{i} sutununun alt sınır değeri = {alt_sinir}\")\n",
    "    #print(f\"{i} sutununun üst sınır değeri = {ust_sinir}\")\n",
    "            aykiri_alt = df[i] < alt_sinir\n",
    "            aykiri_ust = df[i] > ust_sinir\n",
    "    #print(i, \"tablosunda toplamda =\", df[i][aykiri_alt].count(),\"aykırı alt veri vardır.\")\n",
    "    #print(i, \"tablosunda toplamda =\",df[i][aykiri_ust].count(), \"aykırı üst veri vardır.\")\n",
    "            df[i][aykiri_alt] = alt_sinir\n",
    "            df[i][aykiri_ust] = ust_sinir\n",
    "    \n",
    "    else : \n",
    "        Q1 = df[i].quantile(0.25)\n",
    "        Q3 = df[i].quantile(0.75)\n",
    "        IQR = Q3-Q1\n",
    "        alt_sinir = Q1-(1.7*IQR)\n",
    "        ust_sinir = Q3+(1.7*IQR)\n",
    "    #print(f\"{i} sutununun alt sınır değeri = {alt_sinir}\")\n",
    "    #print(f\"{i} sutununun üst sınır değeri = {ust_sinir}\")\n",
    "        aykiri_alt = df[i] < alt_sinir\n",
    "        aykiri_ust = df[i] > ust_sinir\n",
    "    #print(i, \"tablosunda toplamda =\", df[i][aykiri_alt].count(),\"aykırı alt veri vardır.\")\n",
    "    #print(i, \"tablosunda toplamda =\",df[i][aykiri_ust].count(), \"aykırı üst veri vardır.\")\n",
    "        df[i][aykiri_alt] = alt_sinir\n",
    "        df[i][aykiri_ust] = ust_sinir"
   ]
  },
  {
   "cell_type": "code",
   "execution_count": 4,
   "id": "5bef4062",
   "metadata": {},
   "outputs": [],
   "source": [
    "X=df.drop([\"Outcome\"], axis=1)\n",
    "y=df[\"Outcome\"]\n",
    "\n",
    "from sklearn.model_selection import train_test_split\n",
    "\n",
    "X_train, X_test, y_train, y_test = train_test_split(X, y, test_size=0.20, stratify=y, random_state=42)"
   ]
  },
  {
   "cell_type": "code",
   "execution_count": 5,
   "id": "daf54fc7",
   "metadata": {},
   "outputs": [],
   "source": [
    "from sklearn.metrics import confusion_matrix, classification_report, f1_score, recall_score, precision_score, accuracy_score\n",
    "\n",
    "def eval_metric(model, X_train, y_train, X_test, y_test):\n",
    "    y_train_pred = model.predict(X_train)\n",
    "    y_pred = model.predict(X_test)\n",
    "    \n",
    "    print(\"Test_Set\")\n",
    "    print(confusion_matrix(y_test, y_pred))\n",
    "    print(classification_report(y_test, y_pred))\n",
    "    print()\n",
    "    print(\"Train_Set\")\n",
    "    print(confusion_matrix(y_train, y_train_pred))\n",
    "    print(classification_report(y_train, y_train_pred))"
   ]
  },
  {
   "cell_type": "code",
   "execution_count": 19,
   "id": "ab50389c",
   "metadata": {},
   "outputs": [
    {
     "name": "stdout",
     "output_type": "stream",
     "text": [
      "Test_Set\n",
      "[[84 16]\n",
      " [21 33]]\n",
      "              precision    recall  f1-score   support\n",
      "\n",
      "           0       0.80      0.84      0.82       100\n",
      "           1       0.67      0.61      0.64        54\n",
      "\n",
      "    accuracy                           0.76       154\n",
      "   macro avg       0.74      0.73      0.73       154\n",
      "weighted avg       0.76      0.76      0.76       154\n",
      "\n",
      "\n",
      "Train_Set\n",
      "[[372  28]\n",
      " [ 70 144]]\n",
      "              precision    recall  f1-score   support\n",
      "\n",
      "           0       0.84      0.93      0.88       400\n",
      "           1       0.84      0.67      0.75       214\n",
      "\n",
      "    accuracy                           0.84       614\n",
      "   macro avg       0.84      0.80      0.81       614\n",
      "weighted avg       0.84      0.84      0.84       614\n",
      "\n"
     ]
    }
   ],
   "source": [
    "from sklearn.svm import SVC\n",
    "\n",
    "from sklearn.preprocessing import StandardScaler\n",
    "from sklearn.pipeline import Pipeline\n",
    "\n",
    "operations = [(\"scaler\", StandardScaler()), (\"svc\", SVC(random_state = 42, probability=True))]\n",
    "Pipeline(steps=operations)\n",
    "svc_model = Pipeline(steps=operations)\n",
    "svc_model.fit(X_train, y_train)\n",
    "eval_metric(svc_model, X_train, y_train, X_test, y_test)"
   ]
  },
  {
   "cell_type": "code",
   "execution_count": 20,
   "id": "04b2eca8",
   "metadata": {},
   "outputs": [
    {
     "data": {
      "text/plain": [
       "test_precision_1   0.716\n",
       "test_recall_1      0.598\n",
       "test_f1_1          0.646\n",
       "dtype: float64"
      ]
     },
     "execution_count": 20,
     "metadata": {},
     "output_type": "execute_result"
    }
   ],
   "source": [
    "from sklearn.model_selection import cross_validate\n",
    "from sklearn.metrics import make_scorer\n",
    "\n",
    "precision_1 = make_scorer(precision_score, pos_label = 1)\n",
    "recall_1 = make_scorer(recall_score, pos_label = 1)\n",
    "f1_1 = make_scorer(f1_score, pos_label = 1)\n",
    "accuracy_1 = make_scorer(accuracy_score, pos_label=1)\n",
    "\n",
    "operations = [(\"scaler\", StandardScaler()), (\"svc\", SVC(random_state = 42, probability=True))]\n",
    "Pipeline(steps=operations)\n",
    "model = Pipeline(steps=operations)\n",
    "\n",
    "scores = cross_validate(model, X_train, y_train, scoring = {\"precision_1\":precision_1, \"recall_1\":recall_1, \n",
    "                                                            \"f1_1\":f1_1}, cv = 10)\n",
    "\n",
    "df_scores = pd.DataFrame(scores, index = range(1, 11))\n",
    "df_scores.mean()[2:]"
   ]
  },
  {
   "cell_type": "code",
   "execution_count": 22,
   "id": "05d24c00",
   "metadata": {},
   "outputs": [
    {
     "data": {
      "text/plain": [
       "GridSearchCV(cv=10,\n",
       "             estimator=Pipeline(steps=[('scaler', StandardScaler()),\n",
       "                                       ('svc',\n",
       "                                        SVC(probability=True,\n",
       "                                            random_state=42))]),\n",
       "             param_grid={'svc__C': array([0, 1, 2, 3, 4, 5, 6, 7, 8, 9]),\n",
       "                         'svc__degree': [2, 3, 4, 5],\n",
       "                         'svc__gamma': ['scale', 'auto', 0.2, 0.3],\n",
       "                         'svc__kernel': ['rbf', 'linear', 'sigmoid', 'poly']},\n",
       "             scoring=make_scorer(recall_score, pos_label=1))"
      ]
     },
     "execution_count": 22,
     "metadata": {},
     "output_type": "execute_result"
    }
   ],
   "source": [
    "from sklearn.model_selection import GridSearchCV\n",
    "\n",
    "operations = [(\"scaler\", StandardScaler()), (\"svc\", SVC(random_state=42, probability=True))]\n",
    "Pipeline(steps=operations)\n",
    "model = Pipeline(steps=operations)\n",
    "\n",
    "param_grid = {'svc__C': np.arange(0,10),\n",
    "              'svc__gamma': [\"scale\", \"auto\", 0.2, 0.3],\n",
    "              'svc__kernel': ['rbf', 'linear', \"sigmoid\", \"poly\"],\n",
    "             \"svc__degree\": [2,3,4,5]}\n",
    "\n",
    "grid_model = GridSearchCV(model, param_grid, scoring= recall_1 , cv=10)\n",
    "grid_model.fit(X_train, y_train)"
   ]
  },
  {
   "cell_type": "code",
   "execution_count": 23,
   "id": "fde83582",
   "metadata": {},
   "outputs": [
    {
     "data": {
      "text/plain": [
       "{'svc__C': 7, 'svc__degree': 2, 'svc__gamma': 0.2, 'svc__kernel': 'rbf'}"
      ]
     },
     "execution_count": 23,
     "metadata": {},
     "output_type": "execute_result"
    }
   ],
   "source": [
    "grid_model.best_params_"
   ]
  },
  {
   "cell_type": "code",
   "execution_count": 24,
   "id": "5c0d9bfe",
   "metadata": {},
   "outputs": [
    {
     "name": "stdout",
     "output_type": "stream",
     "text": [
      "Test_Set\n",
      "[[79 21]\n",
      " [22 32]]\n",
      "              precision    recall  f1-score   support\n",
      "\n",
      "           0       0.78      0.79      0.79       100\n",
      "           1       0.60      0.59      0.60        54\n",
      "\n",
      "    accuracy                           0.72       154\n",
      "   macro avg       0.69      0.69      0.69       154\n",
      "weighted avg       0.72      0.72      0.72       154\n",
      "\n",
      "\n",
      "Train_Set\n",
      "[[389  11]\n",
      " [ 33 181]]\n",
      "              precision    recall  f1-score   support\n",
      "\n",
      "           0       0.92      0.97      0.95       400\n",
      "           1       0.94      0.85      0.89       214\n",
      "\n",
      "    accuracy                           0.93       614\n",
      "   macro avg       0.93      0.91      0.92       614\n",
      "weighted avg       0.93      0.93      0.93       614\n",
      "\n"
     ]
    }
   ],
   "source": [
    "eval_metric(grid_model, X_train, y_train, X_test, y_test)"
   ]
  },
  {
   "cell_type": "code",
   "execution_count": 25,
   "id": "f14deb81",
   "metadata": {},
   "outputs": [],
   "source": [
    "from sklearn.metrics import roc_auc_score, precision_recall_curve, roc_curve, plot_roc_curve, plot_precision_recall_curve"
   ]
  },
  {
   "cell_type": "code",
   "execution_count": 26,
   "id": "28132d0d",
   "metadata": {},
   "outputs": [
    {
     "data": {
      "image/png": "[encoded data removed]",
      "text/plain": [
       "<Figure size 720x432 with 1 Axes>"
      ]
     },
     "metadata": {
      "needs_background": "light"
     },
     "output_type": "display_data"
    }
   ],
   "source": [
    "plot_roc_curve(grid_model, X_test, y_test, pos_label=1);"
   ]
  },
  {
   "cell_type": "code",
   "execution_count": 27,
   "id": "0b8e2171",
   "metadata": {},
   "outputs": [
    {
     "data": {
      "image/png": "[encoded data removed]",
      "text/plain": [
       "<Figure size 720x432 with 1 Axes>"
      ]
     },
     "metadata": {
      "needs_background": "light"
     },
     "output_type": "display_data"
    }
   ],
   "source": [
    "plot_precision_recall_curve(grid_model, X_test, y_test, pos_label=1);"
   ]
  },
  {
   "cell_type": "code",
   "execution_count": 28,
   "id": "638b40ff",
   "metadata": {},
   "outputs": [
    {
     "data": {
      "text/plain": [
       "0.2327312129385012"
      ]
     },
     "execution_count": 28,
     "metadata": {},
     "output_type": "execute_result"
    }
   ],
   "source": [
    "y_pred_proba_tr = svc_model.predict_proba(X_train)\n",
    "roc_auc_score(y_train, y_pred_proba_tr[:,1])\n",
    "fp_rate, tp_rate, thresholds = roc_curve(y_train, y_pred_proba_tr[:,1])\n",
    "optimal_idx = np.argmax(tp_rate - fp_rate) \n",
    "\n",
    "optimal_threshold = thresholds[optimal_idx] # en iyi threshold değerimizin olduğu indexi arraye vererek buluruz.\n",
    "optimal_threshold"
   ]
  },
  {
   "cell_type": "code",
   "execution_count": 29,
   "id": "57d41a18",
   "metadata": {},
   "outputs": [
    {
     "name": "stdout",
     "output_type": "stream",
     "text": [
      "[[49 51]\n",
      " [ 6 48]]\n",
      "              precision    recall  f1-score   support\n",
      "\n",
      "           0       0.89      0.49      0.63       100\n",
      "           1       0.48      0.89      0.63        54\n",
      "\n",
      "    accuracy                           0.63       154\n",
      "   macro avg       0.69      0.69      0.63       154\n",
      "weighted avg       0.75      0.63      0.63       154\n",
      "\n"
     ]
    }
   ],
   "source": [
    "y_pred = pd.Series(grid_model.predict_proba(X_test)[:,1]).apply(lambda x : 1 if x >= optimal_threshold else 0)\n",
    "\n",
    "print(confusion_matrix(y_test, y_pred))\n",
    "print(classification_report(y_test, y_pred))"
   ]
  },
  {
   "cell_type": "code",
   "execution_count": 30,
   "id": "58ff1877",
   "metadata": {},
   "outputs": [
    {
     "name": "stdout",
     "output_type": "stream",
     "text": [
      "[[215 185]\n",
      " [  4 210]]\n",
      "              precision    recall  f1-score   support\n",
      "\n",
      "           0       0.98      0.54      0.69       400\n",
      "           1       0.53      0.98      0.69       214\n",
      "\n",
      "    accuracy                           0.69       614\n",
      "   macro avg       0.76      0.76      0.69       614\n",
      "weighted avg       0.82      0.69      0.69       614\n",
      "\n"
     ]
    }
   ],
   "source": [
    "y_pred1 = pd.Series(grid_model.predict_proba(X_train)[:,1]).apply(lambda x : 1 if x >= optimal_threshold else 0)\n",
    "\n",
    "print(confusion_matrix(y_train, y_pred1))\n",
    "print(classification_report(y_train, y_pred1))"
   ]
  },
  {
   "cell_type": "code",
   "execution_count": 31,
   "id": "f8bfb1e2",
   "metadata": {},
   "outputs": [],
   "source": [
    "from sklearn.model_selection import StratifiedKFold\n",
    "\n",
    "def CV(n, est, X, y, optimal_threshold):\n",
    "    skf = StratifiedKFold(n_splits = n, shuffle = True, random_state = 42)\n",
    "    acc_scores = []\n",
    "    pre_scores = []\n",
    "    rec_scores = []\n",
    "    f1_scores  = []\n",
    "    \n",
    "    X = X.reset_index(drop=True)\n",
    "    y = y.reset_index(drop=True)\n",
    "    # for ile manuel olarak cross validation train ve test verilerini seçiyoruz.\n",
    "    for train_index, test_index in skf.split(X, y):\n",
    "        \n",
    "        X_train = X.loc[train_index]\n",
    "        y_train = y.loc[train_index]\n",
    "        X_test = X.loc[test_index]\n",
    "        y_test = y.loc[test_index]\n",
    "        \n",
    "        \n",
    "        est = est\n",
    "        est.fit(X_train, y_train)\n",
    "        y_pred = est.predict(X_test)\n",
    "        y_pred_proba = est.predict_proba(X_test)\n",
    "             \n",
    "        y_pred2 = pd.Series(y_pred_proba[:,1]).apply(lambda x : 1 if x >= optimal_threshold else 0)\n",
    "        \n",
    "        acc_scores.append(accuracy_score(y_test, y_pred2))\n",
    "        pre_scores.append(precision_score(y_test, y_pred2, pos_label=1))\n",
    "        rec_scores.append(recall_score(y_test, y_pred2, pos_label=1))\n",
    "        f1_scores.append(f1_score(y_test, y_pred2, pos_label=1))\n",
    "    \n",
    "    # aldığımız her skoru yukarıda tanımlanan boş listeye atıyoruz. \n",
    "    print(f'Accuracy {np.mean(acc_scores)*100:>10,.2f}%  std {np.std(acc_scores)*100:.2f}%') \n",
    "    print(f'Precision-1 {np.mean(pre_scores)*100:>7,.2f}%  std {np.std(pre_scores)*100:.2f}%')\n",
    "    print(f'Recall-1 {np.mean(rec_scores)*100:>10,.2f}%  std {np.std(rec_scores)*100:.2f}%')\n",
    "    print(f'F1_score-1 {np.mean(f1_scores)*100:>8,.2f}%  std {np.std(f1_scores)*100:.2f}%')"
   ]
  },
  {
   "cell_type": "code",
   "execution_count": 33,
   "id": "276e8473",
   "metadata": {},
   "outputs": [
    {
     "data": {
      "text/plain": [
       "{'svc__C': 7, 'svc__degree': 2, 'svc__gamma': 0.2, 'svc__kernel': 'rbf'}"
      ]
     },
     "execution_count": 33,
     "metadata": {},
     "output_type": "execute_result"
    }
   ],
   "source": [
    "grid_model.best_params_"
   ]
  },
  {
   "cell_type": "code",
   "execution_count": 34,
   "id": "35895d46",
   "metadata": {},
   "outputs": [
    {
     "data": {
      "text/plain": [
       "Pipeline(steps=[('scaler', StandardScaler()),\n",
       "                ('svc',\n",
       "                 SVC(C=7.0, degree=2, gamma=0.2, probability=True,\n",
       "                     random_state=42))])"
      ]
     },
     "execution_count": 34,
     "metadata": {},
     "output_type": "execute_result"
    }
   ],
   "source": [
    "operations = [(\"scaler\", StandardScaler()), (\"svc\", SVC(random_state=42, probability=True, C=7.0, degree=2, gamma=0.2,\n",
    "                                                       kernel=\"rbf\"))]\n",
    "Pipeline(steps=operations)\n",
    "model = Pipeline(steps=operations)\n",
    "model.fit(X, y)"
   ]
  },
  {
   "cell_type": "code",
   "execution_count": 35,
   "id": "5c184f0f",
   "metadata": {},
   "outputs": [
    {
     "name": "stdout",
     "output_type": "stream",
     "text": [
      "[[250 250]\n",
      " [  5 263]]\n",
      "              precision    recall  f1-score   support\n",
      "\n",
      "           0       0.98      0.50      0.66       500\n",
      "           1       0.51      0.98      0.67       268\n",
      "\n",
      "    accuracy                           0.67       768\n",
      "   macro avg       0.75      0.74      0.67       768\n",
      "weighted avg       0.82      0.67      0.67       768\n",
      "\n"
     ]
    }
   ],
   "source": [
    "prediction = pd.Series(model.predict_proba(X)[:,1]).apply(lambda x : 1 if x >= optimal_threshold else 0)\n",
    "print(confusion_matrix(y, prediction))\n",
    "print(classification_report(y, prediction))"
   ]
  },
  {
   "cell_type": "code",
   "execution_count": 37,
   "id": "378f4c2f",
   "metadata": {},
   "outputs": [
    {
     "name": "stdout",
     "output_type": "stream",
     "text": [
      "Accuracy      65.35%  std 4.56%\n",
      "Precision-1   50.59%  std 4.41%\n",
      "Recall-1      84.69%  std 6.15%\n",
      "F1_score-1    63.12%  std 3.50%\n"
     ]
    }
   ],
   "source": [
    "CV(10, model, X, y, optimal_threshold)"
   ]
  },
  {
   "cell_type": "code",
   "execution_count": 38,
   "id": "8862e35c",
   "metadata": {},
   "outputs": [],
   "source": [
    "scale = StandardScaler()\n",
    "X_scale = scale.fit_transform(X)"
   ]
  },
  {
   "cell_type": "code",
   "execution_count": 40,
   "id": "212fe39a",
   "metadata": {},
   "outputs": [
    {
     "name": "stdout",
     "output_type": "stream",
     "text": [
      "Accuracy      65.35%  std 4.56%\n",
      "Precision-1   50.59%  std 4.41%\n",
      "Recall-1      84.69%  std 6.15%\n",
      "F1_score-1    63.12%  std 3.50%\n"
     ]
    }
   ],
   "source": [
    "CV(10, model, pd.DataFrame(X_scale), y, optimal_threshold)"
   ]
  },
  {
   "cell_type": "code",
   "execution_count": null,
   "id": "385c560c",
   "metadata": {},
   "outputs": [],
   "source": []
  }
 ],
 "metadata": {
  "kernelspec": {
   "display_name": "Python 3 (ipykernel)",
   "language": "python",
   "name": "python3"
  },
  "language_info": {
   "codemirror_mode": {
    "name": "ipython",
    "version": 3
   },
   "file_extension": ".py",
   "mimetype": "text/x-python",
   "name": "python",
   "nbconvert_exporter": "python",
   "pygments_lexer": "ipython3",
   "version": "3.9.7"
  }
 },
 "nbformat": 4,
 "nbformat_minor": 5
}
