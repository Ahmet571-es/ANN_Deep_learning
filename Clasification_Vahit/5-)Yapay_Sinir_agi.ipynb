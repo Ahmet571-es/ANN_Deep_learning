{
 "cells": [
  {
   "cell_type": "code",
   "execution_count": 1,
   "id": "8e434d04",
   "metadata": {},
   "outputs": [],
   "source": [
    "import numpy as np\n",
    "import pandas as pd\n",
    "import seaborn as sns\n",
    "import matplotlib.pyplot as plt\n",
    "\n",
    "#%matplotlib inline\n",
    "#%matplotlib notebook\n",
    "plt.rcParams[\"figure.figsize\"] = (10,6)\n",
    "import warnings\n",
    "warnings.filterwarnings(\"ignore\")\n",
    "warnings.warn(\"this will not show\")\n",
    "pd.set_option('display.float_format', lambda x: '%.3f' % x)"
   ]
  },
  {
   "cell_type": "code",
   "execution_count": 2,
   "id": "2dc7296b",
   "metadata": {},
   "outputs": [
    {
     "data": {
      "text/html": [
       "<div>\n",
       "<style scoped>\n",
       "    .dataframe tbody tr th:only-of-type {\n",
       "        vertical-align: middle;\n",
       "    }\n",
       "\n",
       "    .dataframe tbody tr th {\n",
       "        vertical-align: top;\n",
       "    }\n",
       "\n",
       "    .dataframe thead th {\n",
       "        text-align: right;\n",
       "    }\n",
       "</style>\n",
       "<table border=\"1\" class=\"dataframe\">\n",
       "  <thead>\n",
       "    <tr style=\"text-align: right;\">\n",
       "      <th></th>\n",
       "      <th>Pregnancies</th>\n",
       "      <th>Glucose</th>\n",
       "      <th>BloodPressure</th>\n",
       "      <th>SkinThickness</th>\n",
       "      <th>Insulin</th>\n",
       "      <th>BMI</th>\n",
       "      <th>DiabetesPedigreeFunction</th>\n",
       "      <th>Age</th>\n",
       "      <th>Outcome</th>\n",
       "    </tr>\n",
       "  </thead>\n",
       "  <tbody>\n",
       "    <tr>\n",
       "      <th>0</th>\n",
       "      <td>6</td>\n",
       "      <td>148</td>\n",
       "      <td>72</td>\n",
       "      <td>35</td>\n",
       "      <td>0</td>\n",
       "      <td>33.600</td>\n",
       "      <td>0.627</td>\n",
       "      <td>50</td>\n",
       "      <td>1</td>\n",
       "    </tr>\n",
       "    <tr>\n",
       "      <th>1</th>\n",
       "      <td>1</td>\n",
       "      <td>85</td>\n",
       "      <td>66</td>\n",
       "      <td>29</td>\n",
       "      <td>0</td>\n",
       "      <td>26.600</td>\n",
       "      <td>0.351</td>\n",
       "      <td>31</td>\n",
       "      <td>0</td>\n",
       "    </tr>\n",
       "    <tr>\n",
       "      <th>2</th>\n",
       "      <td>8</td>\n",
       "      <td>183</td>\n",
       "      <td>64</td>\n",
       "      <td>0</td>\n",
       "      <td>0</td>\n",
       "      <td>23.300</td>\n",
       "      <td>0.672</td>\n",
       "      <td>32</td>\n",
       "      <td>1</td>\n",
       "    </tr>\n",
       "    <tr>\n",
       "      <th>3</th>\n",
       "      <td>1</td>\n",
       "      <td>89</td>\n",
       "      <td>66</td>\n",
       "      <td>23</td>\n",
       "      <td>94</td>\n",
       "      <td>28.100</td>\n",
       "      <td>0.167</td>\n",
       "      <td>21</td>\n",
       "      <td>0</td>\n",
       "    </tr>\n",
       "    <tr>\n",
       "      <th>4</th>\n",
       "      <td>0</td>\n",
       "      <td>137</td>\n",
       "      <td>40</td>\n",
       "      <td>35</td>\n",
       "      <td>168</td>\n",
       "      <td>43.100</td>\n",
       "      <td>2.288</td>\n",
       "      <td>33</td>\n",
       "      <td>1</td>\n",
       "    </tr>\n",
       "  </tbody>\n",
       "</table>\n",
       "</div>"
      ],
      "text/plain": [
       "   Pregnancies  Glucose  BloodPressure  SkinThickness  Insulin    BMI  \\\n",
       "0            6      148             72             35        0 33.600   \n",
       "1            1       85             66             29        0 26.600   \n",
       "2            8      183             64              0        0 23.300   \n",
       "3            1       89             66             23       94 28.100   \n",
       "4            0      137             40             35      168 43.100   \n",
       "\n",
       "   DiabetesPedigreeFunction  Age  Outcome  \n",
       "0                     0.627   50        1  \n",
       "1                     0.351   31        0  \n",
       "2                     0.672   32        1  \n",
       "3                     0.167   21        0  \n",
       "4                     2.288   33        1  "
      ]
     },
     "execution_count": 2,
     "metadata": {},
     "output_type": "execute_result"
    }
   ],
   "source": [
    "df=pd.read_csv(\"diabetes.csv\")\n",
    "df.head()"
   ]
  },
  {
   "cell_type": "code",
   "execution_count": 3,
   "id": "cfc8a977",
   "metadata": {},
   "outputs": [],
   "source": [
    "for i in df.select_dtypes([float, int]).columns:\n",
    "    if i == \"DiabetesPedigreeFunction\" and i == \"Insulin\" :\n",
    "        Q1 = df[i].quantile(0.25)\n",
    "        Q3 = df[i].quantile(0.75)\n",
    "        IQR = Q3-Q1\n",
    "        alt_sinir = Q1-(2.5*IQR)\n",
    "        ust_sinir = Q3+(2.5*IQR)\n",
    "    #print(f\"{i} sutununun alt sınır değeri = {alt_sinir}\")\n",
    "    #print(f\"{i} sutununun üst sınır değeri = {ust_sinir}\")\n",
    "        aykiri_alt = df[i] < alt_sinir\n",
    "        aykiri_ust = df[i] > ust_sinir\n",
    "    #print(i, \"tablosunda toplamda =\", df[i][aykiri_alt].count(),\"aykırı alt veri vardır.\")\n",
    "    #print(i, \"tablosunda toplamda =\",df[i][aykiri_ust].count(), \"aykırı üst veri vardır.\")\n",
    "        df[i][aykiri_alt] = alt_sinir\n",
    "        df[i][aykiri_ust] = ust_sinir\n",
    "        \n",
    "        \n",
    "    elif  i == \"BloodPressure\" and i == \"BMI\" and i == \"Age\" :\n",
    "            Q1 = df[i].quantile(0.25)\n",
    "            Q3 = df[i].quantile(0.75)\n",
    "            IQR = Q3-Q1\n",
    "            alt_sinir = Q1-(1.8*IQR)\n",
    "            ust_sinir = Q3+(1.8*IQR)\n",
    "    #print(f\"{i} sutununun alt sınır değeri = {alt_sinir}\")\n",
    "    #print(f\"{i} sutununun üst sınır değeri = {ust_sinir}\")\n",
    "            aykiri_alt = df[i] < alt_sinir\n",
    "            aykiri_ust = df[i] > ust_sinir\n",
    "    #print(i, \"tablosunda toplamda =\", df[i][aykiri_alt].count(),\"aykırı alt veri vardır.\")\n",
    "    #print(i, \"tablosunda toplamda =\",df[i][aykiri_ust].count(), \"aykırı üst veri vardır.\")\n",
    "            df[i][aykiri_alt] = alt_sinir\n",
    "            df[i][aykiri_ust] = ust_sinir\n",
    "    \n",
    "    else : \n",
    "        Q1 = df[i].quantile(0.25)\n",
    "        Q3 = df[i].quantile(0.75)\n",
    "        IQR = Q3-Q1\n",
    "        alt_sinir = Q1-(1.7*IQR)\n",
    "        ust_sinir = Q3+(1.7*IQR)\n",
    "    #print(f\"{i} sutununun alt sınır değeri = {alt_sinir}\")\n",
    "    #print(f\"{i} sutununun üst sınır değeri = {ust_sinir}\")\n",
    "        aykiri_alt = df[i] < alt_sinir\n",
    "        aykiri_ust = df[i] > ust_sinir\n",
    "    #print(i, \"tablosunda toplamda =\", df[i][aykiri_alt].count(),\"aykırı alt veri vardır.\")\n",
    "    #print(i, \"tablosunda toplamda =\",df[i][aykiri_ust].count(), \"aykırı üst veri vardır.\")\n",
    "        df[i][aykiri_alt] = alt_sinir\n",
    "        df[i][aykiri_ust] = ust_sinir"
   ]
  },
  {
   "cell_type": "code",
   "execution_count": 4,
   "id": "d97a400e",
   "metadata": {},
   "outputs": [],
   "source": [
    "X=df.drop([\"Outcome\"], axis=1)\n",
    "y=df[\"Outcome\"]\n",
    "\n",
    "from sklearn.model_selection import train_test_split\n",
    "\n",
    "X_train, X_test, y_train, y_test = train_test_split(X, y, test_size=0.20, stratify=y, random_state=42)"
   ]
  },
  {
   "cell_type": "code",
   "execution_count": 5,
   "id": "ac33f16a",
   "metadata": {},
   "outputs": [],
   "source": [
    "from sklearn.metrics import confusion_matrix, classification_report, f1_score, recall_score, precision_score, accuracy_score\n",
    "\n",
    "def eval_metric(model, X_train, y_train, X_test, y_test):\n",
    "    y_train_pred = model.predict(X_train)\n",
    "    y_pred = model.predict(X_test)\n",
    "    \n",
    "    print(\"Test_Set\")\n",
    "    print(confusion_matrix(y_test, y_pred))\n",
    "    print(classification_report(y_test, y_pred))\n",
    "    print()\n",
    "    print(\"Train_Set\")\n",
    "    print(confusion_matrix(y_train, y_train_pred))\n",
    "    print(classification_report(y_train, y_train_pred))"
   ]
  },
  {
   "cell_type": "code",
   "execution_count": 36,
   "id": "f1b7b6f0",
   "metadata": {},
   "outputs": [
    {
     "name": "stdout",
     "output_type": "stream",
     "text": [
      "Test_Set\n",
      "[[85 15]\n",
      " [24 30]]\n",
      "              precision    recall  f1-score   support\n",
      "\n",
      "           0       0.78      0.85      0.81       100\n",
      "           1       0.67      0.56      0.61        54\n",
      "\n",
      "    accuracy                           0.75       154\n",
      "   macro avg       0.72      0.70      0.71       154\n",
      "weighted avg       0.74      0.75      0.74       154\n",
      "\n",
      "\n",
      "Train_Set\n",
      "[[363  37]\n",
      " [ 72 142]]\n",
      "              precision    recall  f1-score   support\n",
      "\n",
      "           0       0.83      0.91      0.87       400\n",
      "           1       0.79      0.66      0.72       214\n",
      "\n",
      "    accuracy                           0.82       614\n",
      "   macro avg       0.81      0.79      0.80       614\n",
      "weighted avg       0.82      0.82      0.82       614\n",
      "\n"
     ]
    }
   ],
   "source": [
    "from sklearn.neural_network import MLPClassifier\n",
    "\n",
    "from sklearn.preprocessing import StandardScaler\n",
    "from sklearn.pipeline import Pipeline\n",
    "\n",
    "operations = [(\"scaler\", StandardScaler()), (\"mlp\", MLPClassifier(random_state = 42))]\n",
    "Pipeline(steps=operations)\n",
    "mlp_model = Pipeline(steps=operations)\n",
    "mlp_model.fit(X_train, y_train)\n",
    "eval_metric(mlp_model, X_train, y_train, X_test, y_test)"
   ]
  },
  {
   "cell_type": "code",
   "execution_count": 11,
   "id": "9cb2acd0",
   "metadata": {},
   "outputs": [
    {
     "data": {
      "text/plain": [
       "test_precision   0.704\n",
       "test_recall      0.630\n",
       "test_f1          0.658\n",
       "test_accuracy    0.775\n",
       "dtype: float64"
      ]
     },
     "execution_count": 11,
     "metadata": {},
     "output_type": "execute_result"
    }
   ],
   "source": [
    "from sklearn.model_selection import cross_validate\n",
    "from sklearn.metrics import make_scorer\n",
    "\n",
    "operations = [(\"scaler\", StandardScaler()), (\"mlp\", MLPClassifier(random_state = 42))]\n",
    "Pipeline(steps=operations)\n",
    "model = Pipeline(steps=operations)\n",
    "\n",
    "scores = cross_validate(model, X_train, y_train, scoring = ['precision','recall','f1','accuracy'], cv = 10)\n",
    "\n",
    "df_scores = pd.DataFrame(scores, index = range(1, 11))\n",
    "df_scores.mean()[2:]"
   ]
  },
  {
   "cell_type": "code",
   "execution_count": 13,
   "id": "4b2ee200",
   "metadata": {},
   "outputs": [
    {
     "data": {
      "text/plain": [
       "{'memory': None,\n",
       " 'steps': [('scaler', StandardScaler()),\n",
       "  ('mlp', MLPClassifier(random_state=42))],\n",
       " 'verbose': False,\n",
       " 'scaler': StandardScaler(),\n",
       " 'mlp': MLPClassifier(random_state=42),\n",
       " 'scaler__copy': True,\n",
       " 'scaler__with_mean': True,\n",
       " 'scaler__with_std': True,\n",
       " 'mlp__activation': 'relu',\n",
       " 'mlp__alpha': 0.0001,\n",
       " 'mlp__batch_size': 'auto',\n",
       " 'mlp__beta_1': 0.9,\n",
       " 'mlp__beta_2': 0.999,\n",
       " 'mlp__early_stopping': False,\n",
       " 'mlp__epsilon': 1e-08,\n",
       " 'mlp__hidden_layer_sizes': (100,),\n",
       " 'mlp__learning_rate': 'constant',\n",
       " 'mlp__learning_rate_init': 0.001,\n",
       " 'mlp__max_fun': 15000,\n",
       " 'mlp__max_iter': 200,\n",
       " 'mlp__momentum': 0.9,\n",
       " 'mlp__n_iter_no_change': 10,\n",
       " 'mlp__nesterovs_momentum': True,\n",
       " 'mlp__power_t': 0.5,\n",
       " 'mlp__random_state': 42,\n",
       " 'mlp__shuffle': True,\n",
       " 'mlp__solver': 'adam',\n",
       " 'mlp__tol': 0.0001,\n",
       " 'mlp__validation_fraction': 0.1,\n",
       " 'mlp__verbose': False,\n",
       " 'mlp__warm_start': False}"
      ]
     },
     "execution_count": 13,
     "metadata": {},
     "output_type": "execute_result"
    }
   ],
   "source": [
    "mlp_model.get_params()"
   ]
  },
  {
   "cell_type": "code",
   "execution_count": 16,
   "id": "71b13838",
   "metadata": {},
   "outputs": [],
   "source": [
    "# hidden_layer_sizes : sinir ağı kat sayısı demektir. derinlik sayısıdır default değeri 100 dür.\n",
    "# activation : {identity, logistic, tanh, relu} default değeri relu\n",
    "# solver ={\"lbfgs\", \"sgd\", \"adam\"} default adam \n",
    "# alpha : default 0.001, l2 regulazisyon lasso kullanılır.\n",
    "# learning_rate = {constant, invscaling, adaptive} default constant"
   ]
  },
  {
   "cell_type": "code",
   "execution_count": 19,
   "id": "1dc3ea04",
   "metadata": {},
   "outputs": [
    {
     "data": {
      "text/plain": [
       "GridSearchCV(cv=10,\n",
       "             estimator=Pipeline(steps=[('scaler', StandardScaler()),\n",
       "                                       ('mlp',\n",
       "                                        MLPClassifier(random_state=42))]),\n",
       "             param_grid={'mlp__alpha': array([0.        , 0.02020202, 0.04040404, 0.06060606, 0.08080808,\n",
       "       0.1010101 , 0.12121212, 0.14141414, 0.16161616, 0.18181818,\n",
       "       0.2020202 , 0.22222222, 0.24242424, 0.26262626, 0.28282828,\n",
       "       0.3030303 , 0.32323232, 0.34343434, 0.36363636, 0.3838...\n",
       "       1.31313131, 1.33333333, 1.35353535, 1.37373737, 1.39393939,\n",
       "       1.41414141, 1.43434343, 1.45454545, 1.47474747, 1.49494949,\n",
       "       1.51515152, 1.53535354, 1.55555556, 1.57575758, 1.5959596 ,\n",
       "       1.61616162, 1.63636364, 1.65656566, 1.67676768, 1.6969697 ,\n",
       "       1.71717172, 1.73737374, 1.75757576, 1.77777778, 1.7979798 ,\n",
       "       1.81818182, 1.83838384, 1.85858586, 1.87878788, 1.8989899 ,\n",
       "       1.91919192, 1.93939394, 1.95959596, 1.97979798, 2.        ])},\n",
       "             scoring='recall')"
      ]
     },
     "execution_count": 19,
     "metadata": {},
     "output_type": "execute_result"
    }
   ],
   "source": [
    "from sklearn.model_selection import GridSearchCV\n",
    "\n",
    "operations = [(\"scaler\", StandardScaler()), (\"mlp\", MLPClassifier(random_state=42))]\n",
    "Pipeline(steps=operations)\n",
    "model = Pipeline(steps=operations)\n",
    "\n",
    "param_grid = {'mlp__alpha': np.linspace(0,2,100)}\n",
    "\n",
    "grid_model = GridSearchCV(model, param_grid, scoring= \"recall\" , cv=10)\n",
    "grid_model.fit(X_train, y_train)"
   ]
  },
  {
   "cell_type": "code",
   "execution_count": 20,
   "id": "e21631e8",
   "metadata": {},
   "outputs": [
    {
     "data": {
      "text/plain": [
       "{'mlp__alpha': 0.12121212121212122}"
      ]
     },
     "execution_count": 20,
     "metadata": {},
     "output_type": "execute_result"
    }
   ],
   "source": [
    "grid_model.best_params_"
   ]
  },
  {
   "cell_type": "code",
   "execution_count": 23,
   "id": "8a02efa8",
   "metadata": {},
   "outputs": [
    {
     "data": {
      "text/plain": [
       "GridSearchCV(cv=10,\n",
       "             estimator=Pipeline(steps=[('scaler', StandardScaler()),\n",
       "                                       ('mlp',\n",
       "                                        MLPClassifier(alpha=0.12121212121212122,\n",
       "                                                      random_state=42))]),\n",
       "             param_grid={'mlp__hidden_layer_sizes': [(100, 100, 100, 100),\n",
       "                                                     (100, 100, 100)]},\n",
       "             scoring='recall')"
      ]
     },
     "execution_count": 23,
     "metadata": {},
     "output_type": "execute_result"
    }
   ],
   "source": [
    "operations = [(\"scaler\", StandardScaler()), (\"mlp\", MLPClassifier(random_state=42, alpha=0.12121212121212122))]\n",
    "Pipeline(steps=operations)\n",
    "model = Pipeline(steps=operations)\n",
    "\n",
    "param_grid = {'mlp__hidden_layer_sizes': [(100,100,100,100),(100,100,100)]}\n",
    "\n",
    "grid_model = GridSearchCV(model, param_grid, scoring= \"recall\" , cv=10)\n",
    "grid_model.fit(X_train, y_train)"
   ]
  },
  {
   "cell_type": "code",
   "execution_count": 24,
   "id": "99b0ec61",
   "metadata": {},
   "outputs": [
    {
     "data": {
      "text/plain": [
       "{'mlp__hidden_layer_sizes': (100, 100, 100, 100)}"
      ]
     },
     "execution_count": 24,
     "metadata": {},
     "output_type": "execute_result"
    }
   ],
   "source": [
    "grid_model.best_params_"
   ]
  },
  {
   "cell_type": "code",
   "execution_count": 25,
   "id": "fb7b2f8e",
   "metadata": {},
   "outputs": [
    {
     "data": {
      "text/plain": [
       "GridSearchCV(cv=10,\n",
       "             estimator=Pipeline(steps=[('scaler', StandardScaler()),\n",
       "                                       ('mlp',\n",
       "                                        MLPClassifier(alpha=0.1212,\n",
       "                                                      hidden_layer_sizes=(100,\n",
       "                                                                          100,\n",
       "                                                                          100,\n",
       "                                                                          100),\n",
       "                                                      random_state=42))]),\n",
       "             param_grid={'mlp__solver': ['lbfgs', 'adam', 'sgd']},\n",
       "             scoring='recall')"
      ]
     },
     "execution_count": 25,
     "metadata": {},
     "output_type": "execute_result"
    }
   ],
   "source": [
    "operations = [(\"scaler\", StandardScaler()), (\"mlp\", MLPClassifier(random_state=42, alpha=0.1212,\n",
    "                                                                 hidden_layer_sizes = (100, 100, 100, 100) ))]\n",
    "Pipeline(steps=operations)\n",
    "model = Pipeline(steps=operations)\n",
    "\n",
    "param_grid = {'mlp__solver': [\"lbfgs\",\"adam\", \"sgd\"]}\n",
    "\n",
    "grid_model = GridSearchCV(model, param_grid, scoring= \"recall\" , cv=10)\n",
    "grid_model.fit(X_train, y_train)"
   ]
  },
  {
   "cell_type": "code",
   "execution_count": 26,
   "id": "81656353",
   "metadata": {},
   "outputs": [
    {
     "data": {
      "text/plain": [
       "{'mlp__solver': 'adam'}"
      ]
     },
     "execution_count": 26,
     "metadata": {},
     "output_type": "execute_result"
    }
   ],
   "source": [
    "grid_model.best_params_"
   ]
  },
  {
   "cell_type": "code",
   "execution_count": 27,
   "id": "1727c3cd",
   "metadata": {},
   "outputs": [
    {
     "data": {
      "text/plain": [
       "GridSearchCV(cv=10,\n",
       "             estimator=Pipeline(steps=[('scaler', StandardScaler()),\n",
       "                                       ('mlp',\n",
       "                                        MLPClassifier(alpha=0.1212,\n",
       "                                                      hidden_layer_sizes=(100,\n",
       "                                                                          100,\n",
       "                                                                          100,\n",
       "                                                                          100),\n",
       "                                                      random_state=42))]),\n",
       "             param_grid={'mlp__activation': ['relu', 'logistic']},\n",
       "             scoring='recall')"
      ]
     },
     "execution_count": 27,
     "metadata": {},
     "output_type": "execute_result"
    }
   ],
   "source": [
    "operations = [(\"scaler\", StandardScaler()), (\"mlp\", MLPClassifier(random_state=42, alpha=0.1212,\n",
    "                                                                 hidden_layer_sizes = (100, 100, 100, 100), solver= \"adam\"))]\n",
    "Pipeline(steps=operations)\n",
    "model = Pipeline(steps=operations)\n",
    "\n",
    "param_grid = {'mlp__activation': [\"relu\",\"logistic\"]}\n",
    "\n",
    "grid_model = GridSearchCV(model, param_grid, scoring= \"recall\" , cv=10)\n",
    "grid_model.fit(X_train, y_train)"
   ]
  },
  {
   "cell_type": "code",
   "execution_count": 28,
   "id": "77155467",
   "metadata": {},
   "outputs": [
    {
     "data": {
      "text/plain": [
       "{'mlp__activation': 'relu'}"
      ]
     },
     "execution_count": 28,
     "metadata": {},
     "output_type": "execute_result"
    }
   ],
   "source": [
    "grid_model.best_params_"
   ]
  },
  {
   "cell_type": "code",
   "execution_count": 29,
   "id": "710ead99",
   "metadata": {},
   "outputs": [
    {
     "data": {
      "text/plain": [
       "GridSearchCV(cv=10,\n",
       "             estimator=Pipeline(steps=[('scaler', StandardScaler()),\n",
       "                                       ('mlp',\n",
       "                                        MLPClassifier(alpha=0.1212,\n",
       "                                                      hidden_layer_sizes=(100,\n",
       "                                                                          100,\n",
       "                                                                          100,\n",
       "                                                                          100),\n",
       "                                                      random_state=42))]),\n",
       "             param_grid={'mlp__learning_rate': ['constant', 'invscaling',\n",
       "                                                'adaptive']},\n",
       "             scoring='recall')"
      ]
     },
     "execution_count": 29,
     "metadata": {},
     "output_type": "execute_result"
    }
   ],
   "source": [
    "operations = [(\"scaler\", StandardScaler()), (\"mlp\", MLPClassifier(random_state=42, alpha=0.1212,\n",
    "                                                                 hidden_layer_sizes = (100, 100, 100, 100) , solver= \"adam\",\n",
    "                                                                 activation = \"relu\"))]\n",
    "Pipeline(steps=operations)\n",
    "model = Pipeline(steps=operations)\n",
    "\n",
    "param_grid = {'mlp__learning_rate': [\"constant\", \"invscaling\", \"adaptive\"]}\n",
    "\n",
    "grid_model = GridSearchCV(model, param_grid, scoring= \"recall\" , cv=10)\n",
    "grid_model.fit(X_train, y_train)"
   ]
  },
  {
   "cell_type": "code",
   "execution_count": 30,
   "id": "20f5ac53",
   "metadata": {},
   "outputs": [
    {
     "data": {
      "text/plain": [
       "{'mlp__learning_rate': 'constant'}"
      ]
     },
     "execution_count": 30,
     "metadata": {},
     "output_type": "execute_result"
    }
   ],
   "source": [
    "grid_model.best_params_"
   ]
  },
  {
   "cell_type": "code",
   "execution_count": 31,
   "id": "67ad9545",
   "metadata": {},
   "outputs": [
    {
     "name": "stdout",
     "output_type": "stream",
     "text": [
      "Test_Set\n",
      "[[65 35]\n",
      " [14 40]]\n",
      "              precision    recall  f1-score   support\n",
      "\n",
      "           0       0.82      0.65      0.73       100\n",
      "           1       0.53      0.74      0.62        54\n",
      "\n",
      "    accuracy                           0.68       154\n",
      "   macro avg       0.68      0.70      0.67       154\n",
      "weighted avg       0.72      0.68      0.69       154\n",
      "\n",
      "\n",
      "Train_Set\n",
      "[[369  31]\n",
      " [  2 212]]\n",
      "              precision    recall  f1-score   support\n",
      "\n",
      "           0       0.99      0.92      0.96       400\n",
      "           1       0.87      0.99      0.93       214\n",
      "\n",
      "    accuracy                           0.95       614\n",
      "   macro avg       0.93      0.96      0.94       614\n",
      "weighted avg       0.95      0.95      0.95       614\n",
      "\n"
     ]
    }
   ],
   "source": [
    "eval_metric(grid_model,X_train, y_train, X_test, y_test)"
   ]
  },
  {
   "cell_type": "code",
   "execution_count": 33,
   "id": "d7e2cd1f",
   "metadata": {},
   "outputs": [],
   "source": [
    "from sklearn.metrics import roc_auc_score, precision_recall_curve, roc_curve, plot_roc_curve, plot_precision_recall_curve"
   ]
  },
  {
   "cell_type": "code",
   "execution_count": 34,
   "id": "ccc8b129",
   "metadata": {},
   "outputs": [
    {
     "data": {
      "image/png": "[encoded data removed]",
      "text/plain": [
       "<Figure size 720x432 with 1 Axes>"
      ]
     },
     "metadata": {
      "needs_background": "light"
     },
     "output_type": "display_data"
    }
   ],
   "source": [
    "plot_roc_curve(grid_model, X_test, y_test, pos_label=1);"
   ]
  },
  {
   "cell_type": "code",
   "execution_count": 35,
   "id": "8a15417f",
   "metadata": {},
   "outputs": [
    {
     "data": {
      "image/png": "[encoded data removed]",
      "text/plain": [
       "<Figure size 720x432 with 1 Axes>"
      ]
     },
     "metadata": {
      "needs_background": "light"
     },
     "output_type": "display_data"
    }
   ],
   "source": [
    "plot_precision_recall_curve(grid_model, X_test, y_test, pos_label=1);"
   ]
  },
  {
   "cell_type": "code",
   "execution_count": 37,
   "id": "0476c294",
   "metadata": {},
   "outputs": [
    {
     "data": {
      "text/plain": [
       "0.2606515297411563"
      ]
     },
     "execution_count": 37,
     "metadata": {},
     "output_type": "execute_result"
    }
   ],
   "source": [
    "y_pred_proba = mlp_model.predict_proba(X_train)\n",
    "roc_auc_score(y_train, y_pred_proba[:,1])\n",
    "fp_rate, tp_rate, thresholds = roc_curve(y_train, y_pred_proba[:,1])\n",
    "optimal_idx = np.argmax(tp_rate - fp_rate) \n",
    "\n",
    "optimal_threshold = thresholds[optimal_idx] # en iyi threshold değerimizin olduğu indexi arraye vererek buluruz.\n",
    "optimal_threshold"
   ]
  },
  {
   "cell_type": "code",
   "execution_count": 43,
   "id": "d28d5b68",
   "metadata": {},
   "outputs": [
    {
     "name": "stdout",
     "output_type": "stream",
     "text": [
      "[[49 51]\n",
      " [ 7 47]]\n",
      "              precision    recall  f1-score   support\n",
      "\n",
      "           0       0.88      0.49      0.63       100\n",
      "           1       0.48      0.87      0.62        54\n",
      "\n",
      "    accuracy                           0.62       154\n",
      "   macro avg       0.68      0.68      0.62       154\n",
      "weighted avg       0.74      0.62      0.62       154\n",
      "\n"
     ]
    }
   ],
   "source": [
    "y_pred = pd.Series(grid_model.predict_proba(X_test)[:,1]).apply(lambda x : 1 if x >= 0.1 else 0)\n",
    "\n",
    "print(confusion_matrix(y_test, y_pred))\n",
    "print(classification_report(y_test, y_pred))"
   ]
  },
  {
   "cell_type": "code",
   "execution_count": 41,
   "id": "2ccf2de6",
   "metadata": {},
   "outputs": [
    {
     "name": "stdout",
     "output_type": "stream",
     "text": [
      "[[334  66]\n",
      " [  1 213]]\n",
      "              precision    recall  f1-score   support\n",
      "\n",
      "           0       1.00      0.83      0.91       400\n",
      "           1       0.76      1.00      0.86       214\n",
      "\n",
      "    accuracy                           0.89       614\n",
      "   macro avg       0.88      0.92      0.89       614\n",
      "weighted avg       0.92      0.89      0.89       614\n",
      "\n"
     ]
    }
   ],
   "source": [
    "y_pred1 = pd.Series(grid_model.predict_proba(X_train)[:,1]).apply(lambda x : 1 if x >= optimal_threshold else 0)\n",
    "\n",
    "print(confusion_matrix(y_train, y_pred1))\n",
    "print(classification_report(y_train, y_pred1))"
   ]
  },
  {
   "cell_type": "code",
   "execution_count": 44,
   "id": "bc2abdc4",
   "metadata": {},
   "outputs": [],
   "source": [
    "from sklearn.model_selection import StratifiedKFold\n",
    "\n",
    "def CV(n, est, X, y, optimal_threshold):\n",
    "    skf = StratifiedKFold(n_splits = n, shuffle = True, random_state = 42)\n",
    "    acc_scores = []\n",
    "    pre_scores = []\n",
    "    rec_scores = []\n",
    "    f1_scores  = []\n",
    "    \n",
    "    X = X.reset_index(drop=True)\n",
    "    y = y.reset_index(drop=True)\n",
    "    # for ile manuel olarak cross validation train ve test verilerini seçiyoruz.\n",
    "    for train_index, test_index in skf.split(X, y):\n",
    "        \n",
    "        X_train = X.loc[train_index]\n",
    "        y_train = y.loc[train_index]\n",
    "        X_test = X.loc[test_index]\n",
    "        y_test = y.loc[test_index]\n",
    "        \n",
    "        \n",
    "        est = est\n",
    "        est.fit(X_train, y_train)\n",
    "        y_pred = est.predict(X_test)\n",
    "        y_pred_proba = est.predict_proba(X_test)\n",
    "             \n",
    "        y_pred2 = pd.Series(y_pred_proba[:,1]).apply(lambda x : 1 if x >= optimal_threshold else 0)\n",
    "        \n",
    "        acc_scores.append(accuracy_score(y_test, y_pred2))\n",
    "        pre_scores.append(precision_score(y_test, y_pred2, pos_label=1))\n",
    "        rec_scores.append(recall_score(y_test, y_pred2, pos_label=1))\n",
    "        f1_scores.append(f1_score(y_test, y_pred2, pos_label=1))\n",
    "    \n",
    "    # aldığımız her skoru yukarıda tanımlanan boş listeye atıyoruz. \n",
    "    print(f'Accuracy {np.mean(acc_scores)*100:>10,.2f}%  std {np.std(acc_scores)*100:.2f}%') \n",
    "    print(f'Precision-1 {np.mean(pre_scores)*100:>7,.2f}%  std {np.std(pre_scores)*100:.2f}%')\n",
    "    print(f'Recall-1 {np.mean(rec_scores)*100:>10,.2f}%  std {np.std(rec_scores)*100:.2f}%')\n",
    "    print(f'F1_score-1 {np.mean(f1_scores)*100:>8,.2f}%  std {np.std(f1_scores)*100:.2f}%')"
   ]
  },
  {
   "cell_type": "code",
   "execution_count": 45,
   "id": "889eff99",
   "metadata": {},
   "outputs": [
    {
     "data": {
      "text/plain": [
       "{'mlp__learning_rate': 'constant'}"
      ]
     },
     "execution_count": 45,
     "metadata": {},
     "output_type": "execute_result"
    }
   ],
   "source": [
    "grid_model.best_params_"
   ]
  },
  {
   "cell_type": "code",
   "execution_count": 46,
   "id": "7cbdbc57",
   "metadata": {},
   "outputs": [],
   "source": [
    "scaler = StandardScaler()\n",
    "X_scale = scaler.fit_transform(X)"
   ]
  },
  {
   "cell_type": "code",
   "execution_count": 50,
   "id": "558403d7",
   "metadata": {},
   "outputs": [
    {
     "data": {
      "text/plain": [
       "Pipeline(steps=[('scaler', StandardScaler()),\n",
       "                ('mlp',\n",
       "                 MLPClassifier(alpha=0.1212,\n",
       "                               hidden_layer_sizes=(100, 100, 100, 100),\n",
       "                               random_state=42))])"
      ]
     },
     "execution_count": 50,
     "metadata": {},
     "output_type": "execute_result"
    }
   ],
   "source": [
    "operations = [(\"scaler\", StandardScaler()), (\"mlp\", MLPClassifier(random_state=42, alpha=0.1212,\n",
    "                                                                 hidden_layer_sizes = (100, 100, 100, 100) , solver= \"adam\",\n",
    "                                                                 activation = \"relu\", learning_rate = \"constant\"))]\n",
    "Pipeline(steps=operations)\n",
    "model = Pipeline(steps=operations)\n",
    "model.fit(X, y)"
   ]
  },
  {
   "cell_type": "code",
   "execution_count": 51,
   "id": "20b6c67c",
   "metadata": {},
   "outputs": [
    {
     "name": "stdout",
     "output_type": "stream",
     "text": [
      "[[500   0]\n",
      " [  0 268]]\n",
      "              precision    recall  f1-score   support\n",
      "\n",
      "           0       1.00      1.00      1.00       500\n",
      "           1       1.00      1.00      1.00       268\n",
      "\n",
      "    accuracy                           1.00       768\n",
      "   macro avg       1.00      1.00      1.00       768\n",
      "weighted avg       1.00      1.00      1.00       768\n",
      "\n"
     ]
    }
   ],
   "source": [
    "prediction = pd.Series(model.predict_proba(X)[:,1]).apply(lambda x : 1 if x >= optimal_threshold else 0)\n",
    "print(confusion_matrix(y, prediction))\n",
    "print(classification_report(y, prediction))"
   ]
  },
  {
   "cell_type": "code",
   "execution_count": 54,
   "id": "6a8449f6",
   "metadata": {},
   "outputs": [
    {
     "name": "stdout",
     "output_type": "stream",
     "text": [
      "Accuracy      71.22%  std 5.05%\n",
      "Precision-1   58.56%  std 7.71%\n",
      "Recall-1      63.83%  std 9.85%\n",
      "F1_score-1    60.60%  std 7.08%\n"
     ]
    }
   ],
   "source": [
    "CV(10, model, pd.DataFrame(X_scale), y, optimal_threshold)"
   ]
  },
  {
   "cell_type": "code",
   "execution_count": 57,
   "id": "d0c8d94f",
   "metadata": {},
   "outputs": [
    {
     "name": "stdout",
     "output_type": "stream",
     "text": [
      "Accuracy      66.27%  std 5.53%\n",
      "Precision-1   51.39%  std 5.62%\n",
      "Recall-1      76.15%  std 10.66%\n",
      "F1_score-1    61.08%  std 6.18%\n"
     ]
    }
   ],
   "source": [
    "CV(10, model, X, y, 0.01)"
   ]
  },
  {
   "cell_type": "code",
   "execution_count": null,
   "id": "75bc8780",
   "metadata": {},
   "outputs": [],
   "source": []
  }
 ],
 "metadata": {
  "kernelspec": {
   "display_name": "Python 3 (ipykernel)",
   "language": "python",
   "name": "python3"
  },
  "language_info": {
   "codemirror_mode": {
    "name": "ipython",
    "version": 3
   },
   "file_extension": ".py",
   "mimetype": "text/x-python",
   "name": "python",
   "nbconvert_exporter": "python",
   "pygments_lexer": "ipython3",
   "version": "3.9.7"
  }
 },
 "nbformat": 4,
 "nbformat_minor": 5
}
