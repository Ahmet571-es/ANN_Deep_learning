{
 "cells": [
  {
   "cell_type": "markdown",
   "id": "0ba2f49b",
   "metadata": {},
   "source": [
    "Random Forestta değişkenler best olarak değil de random olarak seçilir. Başarısız olan aağçların katsayılarını 0 lar. Decisison tree gibi bu ağaçların değerlerine bakmaz."
   ]
  },
  {
   "cell_type": "code",
   "execution_count": 1,
   "id": "0b835cbe",
   "metadata": {},
   "outputs": [],
   "source": [
    "import numpy as np\n",
    "import pandas as pd\n",
    "import seaborn as sns\n",
    "import matplotlib.pyplot as plt\n",
    "\n",
    "#%matplotlib inline\n",
    "#%matplotlib notebook\n",
    "plt.rcParams[\"figure.figsize\"] = (10,6)\n",
    "import warnings\n",
    "warnings.filterwarnings(\"ignore\")\n",
    "warnings.warn(\"this will not show\")\n",
    "pd.set_option('display.float_format', lambda x: '%.3f' % x)"
   ]
  },
  {
   "cell_type": "code",
   "execution_count": 2,
   "id": "2d2190ed",
   "metadata": {},
   "outputs": [
    {
     "data": {
      "text/html": [
       "<div>\n",
       "<style scoped>\n",
       "    .dataframe tbody tr th:only-of-type {\n",
       "        vertical-align: middle;\n",
       "    }\n",
       "\n",
       "    .dataframe tbody tr th {\n",
       "        vertical-align: top;\n",
       "    }\n",
       "\n",
       "    .dataframe thead th {\n",
       "        text-align: right;\n",
       "    }\n",
       "</style>\n",
       "<table border=\"1\" class=\"dataframe\">\n",
       "  <thead>\n",
       "    <tr style=\"text-align: right;\">\n",
       "      <th></th>\n",
       "      <th>Pregnancies</th>\n",
       "      <th>Glucose</th>\n",
       "      <th>BloodPressure</th>\n",
       "      <th>SkinThickness</th>\n",
       "      <th>Insulin</th>\n",
       "      <th>BMI</th>\n",
       "      <th>DiabetesPedigreeFunction</th>\n",
       "      <th>Age</th>\n",
       "      <th>Outcome</th>\n",
       "    </tr>\n",
       "  </thead>\n",
       "  <tbody>\n",
       "    <tr>\n",
       "      <th>0</th>\n",
       "      <td>6</td>\n",
       "      <td>148</td>\n",
       "      <td>72</td>\n",
       "      <td>35</td>\n",
       "      <td>0</td>\n",
       "      <td>33.600</td>\n",
       "      <td>0.627</td>\n",
       "      <td>50</td>\n",
       "      <td>1</td>\n",
       "    </tr>\n",
       "    <tr>\n",
       "      <th>1</th>\n",
       "      <td>1</td>\n",
       "      <td>85</td>\n",
       "      <td>66</td>\n",
       "      <td>29</td>\n",
       "      <td>0</td>\n",
       "      <td>26.600</td>\n",
       "      <td>0.351</td>\n",
       "      <td>31</td>\n",
       "      <td>0</td>\n",
       "    </tr>\n",
       "    <tr>\n",
       "      <th>2</th>\n",
       "      <td>8</td>\n",
       "      <td>183</td>\n",
       "      <td>64</td>\n",
       "      <td>0</td>\n",
       "      <td>0</td>\n",
       "      <td>23.300</td>\n",
       "      <td>0.672</td>\n",
       "      <td>32</td>\n",
       "      <td>1</td>\n",
       "    </tr>\n",
       "    <tr>\n",
       "      <th>3</th>\n",
       "      <td>1</td>\n",
       "      <td>89</td>\n",
       "      <td>66</td>\n",
       "      <td>23</td>\n",
       "      <td>94</td>\n",
       "      <td>28.100</td>\n",
       "      <td>0.167</td>\n",
       "      <td>21</td>\n",
       "      <td>0</td>\n",
       "    </tr>\n",
       "    <tr>\n",
       "      <th>4</th>\n",
       "      <td>0</td>\n",
       "      <td>137</td>\n",
       "      <td>40</td>\n",
       "      <td>35</td>\n",
       "      <td>168</td>\n",
       "      <td>43.100</td>\n",
       "      <td>2.288</td>\n",
       "      <td>33</td>\n",
       "      <td>1</td>\n",
       "    </tr>\n",
       "  </tbody>\n",
       "</table>\n",
       "</div>"
      ],
      "text/plain": [
       "   Pregnancies  Glucose  BloodPressure  SkinThickness  Insulin    BMI  \\\n",
       "0            6      148             72             35        0 33.600   \n",
       "1            1       85             66             29        0 26.600   \n",
       "2            8      183             64              0        0 23.300   \n",
       "3            1       89             66             23       94 28.100   \n",
       "4            0      137             40             35      168 43.100   \n",
       "\n",
       "   DiabetesPedigreeFunction  Age  Outcome  \n",
       "0                     0.627   50        1  \n",
       "1                     0.351   31        0  \n",
       "2                     0.672   32        1  \n",
       "3                     0.167   21        0  \n",
       "4                     2.288   33        1  "
      ]
     },
     "execution_count": 2,
     "metadata": {},
     "output_type": "execute_result"
    }
   ],
   "source": [
    "df=pd.read_csv(\"diabetes.csv\")\n",
    "df.head()"
   ]
  },
  {
   "cell_type": "code",
   "execution_count": 3,
   "id": "c858ed78",
   "metadata": {},
   "outputs": [],
   "source": [
    "for i in df.select_dtypes([float, int]).columns:\n",
    "    if i == \"DiabetesPedigreeFunction\" and i == \"Insulin\" :\n",
    "        Q1 = df[i].quantile(0.25)\n",
    "        Q3 = df[i].quantile(0.75)\n",
    "        IQR = Q3-Q1\n",
    "        alt_sinir = Q1-(2.5*IQR)\n",
    "        ust_sinir = Q3+(2.5*IQR)\n",
    "    #print(f\"{i} sutununun alt sınır değeri = {alt_sinir}\")\n",
    "    #print(f\"{i} sutununun üst sınır değeri = {ust_sinir}\")\n",
    "        aykiri_alt = df[i] < alt_sinir\n",
    "        aykiri_ust = df[i] > ust_sinir\n",
    "    #print(i, \"tablosunda toplamda =\", df[i][aykiri_alt].count(),\"aykırı alt veri vardır.\")\n",
    "    #print(i, \"tablosunda toplamda =\",df[i][aykiri_ust].count(), \"aykırı üst veri vardır.\")\n",
    "        df[i][aykiri_alt] = alt_sinir\n",
    "        df[i][aykiri_ust] = ust_sinir\n",
    "        \n",
    "        \n",
    "    elif  i == \"BloodPressure\" and i == \"BMI\" and i == \"Age\" :\n",
    "            Q1 = df[i].quantile(0.25)\n",
    "            Q3 = df[i].quantile(0.75)\n",
    "            IQR = Q3-Q1\n",
    "            alt_sinir = Q1-(1.8*IQR)\n",
    "            ust_sinir = Q3+(1.8*IQR)\n",
    "    #print(f\"{i} sutununun alt sınır değeri = {alt_sinir}\")\n",
    "    #print(f\"{i} sutununun üst sınır değeri = {ust_sinir}\")\n",
    "            aykiri_alt = df[i] < alt_sinir\n",
    "            aykiri_ust = df[i] > ust_sinir\n",
    "    #print(i, \"tablosunda toplamda =\", df[i][aykiri_alt].count(),\"aykırı alt veri vardır.\")\n",
    "    #print(i, \"tablosunda toplamda =\",df[i][aykiri_ust].count(), \"aykırı üst veri vardır.\")\n",
    "            df[i][aykiri_alt] = alt_sinir\n",
    "            df[i][aykiri_ust] = ust_sinir\n",
    "    \n",
    "    else : \n",
    "        Q1 = df[i].quantile(0.25)\n",
    "        Q3 = df[i].quantile(0.75)\n",
    "        IQR = Q3-Q1\n",
    "        alt_sinir = Q1-(1.7*IQR)\n",
    "        ust_sinir = Q3+(1.7*IQR)\n",
    "    #print(f\"{i} sutununun alt sınır değeri = {alt_sinir}\")\n",
    "    #print(f\"{i} sutununun üst sınır değeri = {ust_sinir}\")\n",
    "        aykiri_alt = df[i] < alt_sinir\n",
    "        aykiri_ust = df[i] > ust_sinir\n",
    "    #print(i, \"tablosunda toplamda =\", df[i][aykiri_alt].count(),\"aykırı alt veri vardır.\")\n",
    "    #print(i, \"tablosunda toplamda =\",df[i][aykiri_ust].count(), \"aykırı üst veri vardır.\")\n",
    "        df[i][aykiri_alt] = alt_sinir\n",
    "        df[i][aykiri_ust] = ust_sinir"
   ]
  },
  {
   "cell_type": "code",
   "execution_count": 4,
   "id": "a9ff2009",
   "metadata": {},
   "outputs": [],
   "source": [
    "X=df.drop([\"Outcome\"], axis=1)\n",
    "y=df[\"Outcome\"]\n",
    "\n",
    "from sklearn.model_selection import train_test_split\n",
    "\n",
    "X_train, X_test, y_train, y_test = train_test_split(X, y, test_size=0.20, stratify=y, random_state=42)"
   ]
  },
  {
   "cell_type": "code",
   "execution_count": 5,
   "id": "45900f05",
   "metadata": {},
   "outputs": [],
   "source": [
    "from sklearn.metrics import confusion_matrix, classification_report, f1_score, recall_score, precision_score, accuracy_score\n",
    "\n",
    "def eval_metric(model, X_train, y_train, X_test, y_test):\n",
    "    y_train_pred = model.predict(X_train)\n",
    "    y_pred = model.predict(X_test)\n",
    "    \n",
    "    print(\"Test_Set\")\n",
    "    print(confusion_matrix(y_test, y_pred))\n",
    "    print(classification_report(y_test, y_pred))\n",
    "    print()\n",
    "    print(\"Train_Set\")\n",
    "    print(confusion_matrix(y_train, y_train_pred))\n",
    "    print(classification_report(y_train, y_train_pred))"
   ]
  },
  {
   "cell_type": "code",
   "execution_count": 6,
   "id": "e796fbf7",
   "metadata": {},
   "outputs": [
    {
     "name": "stdout",
     "output_type": "stream",
     "text": [
      "Test_Set\n",
      "[[86 14]\n",
      " [26 28]]\n",
      "              precision    recall  f1-score   support\n",
      "\n",
      "           0       0.77      0.86      0.81       100\n",
      "           1       0.67      0.52      0.58        54\n",
      "\n",
      "    accuracy                           0.74       154\n",
      "   macro avg       0.72      0.69      0.70       154\n",
      "weighted avg       0.73      0.74      0.73       154\n",
      "\n",
      "\n",
      "Train_Set\n",
      "[[400   0]\n",
      " [  0 214]]\n",
      "              precision    recall  f1-score   support\n",
      "\n",
      "           0       1.00      1.00      1.00       400\n",
      "           1       1.00      1.00      1.00       214\n",
      "\n",
      "    accuracy                           1.00       614\n",
      "   macro avg       1.00      1.00      1.00       614\n",
      "weighted avg       1.00      1.00      1.00       614\n",
      "\n"
     ]
    }
   ],
   "source": [
    "from sklearn.ensemble import RandomForestClassifier\n",
    "\n",
    "rf_model = RandomForestClassifier(random_state=42)\n",
    "rf_model.fit(X_train, y_train)\n",
    "eval_metric(rf_model, X_train, y_train, X_test, y_test)"
   ]
  },
  {
   "cell_type": "code",
   "execution_count": 8,
   "id": "11946323",
   "metadata": {},
   "outputs": [
    {
     "data": {
      "text/plain": [
       "test_precision   0.707\n",
       "test_recall      0.497\n",
       "test_f1          0.543\n",
       "test_accuracy    0.728\n",
       "dtype: float64"
      ]
     },
     "execution_count": 8,
     "metadata": {},
     "output_type": "execute_result"
    }
   ],
   "source": [
    "from sklearn.model_selection import cross_validate\n",
    "\n",
    "model = RandomForestClassifier(random_state=42 )\n",
    "\n",
    "scores = cross_validate(model, X_test, y_test, scoring = ['precision','recall','f1','accuracy'], cv = 10)\n",
    "df_scores = pd.DataFrame(scores, index = range(1, 11))\n",
    "df_scores.mean()[2:]"
   ]
  },
  {
   "cell_type": "code",
   "execution_count": 10,
   "id": "75dcbfd0",
   "metadata": {},
   "outputs": [
    {
     "data": {
      "text/plain": [
       "{'bootstrap': True,\n",
       " 'ccp_alpha': 0.0,\n",
       " 'class_weight': None,\n",
       " 'criterion': 'gini',\n",
       " 'max_depth': None,\n",
       " 'max_features': 'auto',\n",
       " 'max_leaf_nodes': None,\n",
       " 'max_samples': None,\n",
       " 'min_impurity_decrease': 0.0,\n",
       " 'min_impurity_split': None,\n",
       " 'min_samples_leaf': 1,\n",
       " 'min_samples_split': 2,\n",
       " 'min_weight_fraction_leaf': 0.0,\n",
       " 'n_estimators': 100,\n",
       " 'n_jobs': None,\n",
       " 'oob_score': False,\n",
       " 'random_state': 42,\n",
       " 'verbose': 0,\n",
       " 'warm_start': False}"
      ]
     },
     "execution_count": 10,
     "metadata": {},
     "output_type": "execute_result"
    }
   ],
   "source": [
    "rf_model.get_params()"
   ]
  },
  {
   "cell_type": "code",
   "execution_count": 11,
   "id": "a4f5e42e",
   "metadata": {},
   "outputs": [
    {
     "data": {
      "text/html": [
       "<div>\n",
       "<style scoped>\n",
       "    .dataframe tbody tr th:only-of-type {\n",
       "        vertical-align: middle;\n",
       "    }\n",
       "\n",
       "    .dataframe tbody tr th {\n",
       "        vertical-align: top;\n",
       "    }\n",
       "\n",
       "    .dataframe thead th {\n",
       "        text-align: right;\n",
       "    }\n",
       "</style>\n",
       "<table border=\"1\" class=\"dataframe\">\n",
       "  <thead>\n",
       "    <tr style=\"text-align: right;\">\n",
       "      <th></th>\n",
       "      <th>Feature Importance</th>\n",
       "    </tr>\n",
       "  </thead>\n",
       "  <tbody>\n",
       "    <tr>\n",
       "      <th>Glucose</th>\n",
       "      <td>0.277</td>\n",
       "    </tr>\n",
       "    <tr>\n",
       "      <th>BMI</th>\n",
       "      <td>0.159</td>\n",
       "    </tr>\n",
       "    <tr>\n",
       "      <th>Age</th>\n",
       "      <td>0.128</td>\n",
       "    </tr>\n",
       "    <tr>\n",
       "      <th>DiabetesPedigreeFunction</th>\n",
       "      <td>0.121</td>\n",
       "    </tr>\n",
       "    <tr>\n",
       "      <th>BloodPressure</th>\n",
       "      <td>0.089</td>\n",
       "    </tr>\n",
       "    <tr>\n",
       "      <th>Pregnancies</th>\n",
       "      <td>0.085</td>\n",
       "    </tr>\n",
       "    <tr>\n",
       "      <th>Insulin</th>\n",
       "      <td>0.071</td>\n",
       "    </tr>\n",
       "    <tr>\n",
       "      <th>SkinThickness</th>\n",
       "      <td>0.070</td>\n",
       "    </tr>\n",
       "  </tbody>\n",
       "</table>\n",
       "</div>"
      ],
      "text/plain": [
       "                          Feature Importance\n",
       "Glucose                                0.277\n",
       "BMI                                    0.159\n",
       "Age                                    0.128\n",
       "DiabetesPedigreeFunction               0.121\n",
       "BloodPressure                          0.089\n",
       "Pregnancies                            0.085\n",
       "Insulin                                0.071\n",
       "SkinThickness                          0.070"
      ]
     },
     "execution_count": 11,
     "metadata": {},
     "output_type": "execute_result"
    }
   ],
   "source": [
    "rf_feature_imp = pd.DataFrame(index = X.columns, data = rf_model.feature_importances_,\n",
    "                              columns = [\"Feature Importance\"]).sort_values(\"Feature Importance\", ascending = False)\n",
    "rf_feature_imp"
   ]
  },
  {
   "cell_type": "code",
   "execution_count": 12,
   "id": "a58db77e",
   "metadata": {},
   "outputs": [
    {
     "data": {
      "image/png": "[encoded data removed]",
      "text/plain": [
       "<Figure size 720x432 with 1 Axes>"
      ]
     },
     "metadata": {
      "needs_background": "light"
     },
     "output_type": "display_data"
    }
   ],
   "source": [
    "ax = sns.barplot(x=rf_feature_imp[\"Feature Importance\"], y=rf_feature_imp.index)\n",
    "plt.title(\"Feature Importance for Random Forest\")\n",
    "plt.show()"
   ]
  },
  {
   "cell_type": "code",
   "execution_count": 27,
   "id": "2d803cb9",
   "metadata": {},
   "outputs": [],
   "source": [
    "from sklearn.model_selection import GridSearchCV\n",
    "\n",
    "param_grid = {\"max_depth\": np.arange(3,100)}\n",
    "\n",
    "model = RandomForestClassifier(class_weight = \"balanced\", random_state=42)\n",
    "grid_model = GridSearchCV(estimator=model,\n",
    "                            param_grid=param_grid,\n",
    "                            scoring='recall',\n",
    "                            n_jobs = -1).fit(X_train, y_train)"
   ]
  },
  {
   "cell_type": "code",
   "execution_count": 28,
   "id": "eb2ee59d",
   "metadata": {},
   "outputs": [
    {
     "data": {
      "text/plain": [
       "{'max_depth': 4}"
      ]
     },
     "execution_count": 28,
     "metadata": {},
     "output_type": "execute_result"
    }
   ],
   "source": [
    "grid_model.best_params_"
   ]
  },
  {
   "cell_type": "code",
   "execution_count": 31,
   "id": "11b73a5e",
   "metadata": {},
   "outputs": [
    {
     "data": {
      "text/plain": [
       "GridSearchCV(estimator=RandomForestClassifier(class_weight='balanced',\n",
       "                                              max_depth=4, random_state=42),\n",
       "             n_jobs=-1, param_grid={'max_features': [None, 4]},\n",
       "             scoring='recall')"
      ]
     },
     "execution_count": 31,
     "metadata": {},
     "output_type": "execute_result"
    }
   ],
   "source": [
    "from sklearn.model_selection import GridSearchCV\n",
    "\n",
    "param_grid = {\"max_features\": np.arange(3,100)}\n",
    "\n",
    "model = RandomForestClassifier(class_weight = \"balanced\", random_state=42, max_depth=4)\n",
    "grid_model = GridSearchCV(estimator=model,\n",
    "                            param_grid=param_grid,\n",
    "                            scoring='recall',\n",
    "                            n_jobs = -1).fit(X_train, y_train)"
   ]
  },
  {
   "cell_type": "code",
   "execution_count": 32,
   "id": "8560324c",
   "metadata": {},
   "outputs": [
    {
     "data": {
      "text/plain": [
       "{'max_features': 4}"
      ]
     },
     "execution_count": 32,
     "metadata": {},
     "output_type": "execute_result"
    }
   ],
   "source": [
    "grid_model.best_params_"
   ]
  },
  {
   "cell_type": "code",
   "execution_count": 33,
   "id": "46ab54f9",
   "metadata": {},
   "outputs": [],
   "source": [
    "param_grid = {\"min_samples_leaf\": np.arange(3,20)}\n",
    "\n",
    "model = RandomForestClassifier(class_weight = \"balanced\", random_state=42, max_depth=4, max_features=4)\n",
    "grid_model = GridSearchCV(estimator=model,\n",
    "                            param_grid=param_grid,\n",
    "                            scoring='recall',\n",
    "                            n_jobs = -1).fit(X_train, y_train)"
   ]
  },
  {
   "cell_type": "code",
   "execution_count": 34,
   "id": "ed5ae46c",
   "metadata": {},
   "outputs": [
    {
     "data": {
      "text/plain": [
       "{'min_samples_leaf': 14}"
      ]
     },
     "execution_count": 34,
     "metadata": {},
     "output_type": "execute_result"
    }
   ],
   "source": [
    "grid_model.best_params_"
   ]
  },
  {
   "cell_type": "code",
   "execution_count": 35,
   "id": "1333ac73",
   "metadata": {},
   "outputs": [
    {
     "data": {
      "text/plain": [
       "GridSearchCV(estimator=RandomForestClassifier(class_weight='balanced',\n",
       "                                              max_depth=4, max_features=4,\n",
       "                                              min_samples_leaf=14,\n",
       "                                              random_state=42),\n",
       "             n_jobs=-1,\n",
       "             param_grid={'min_samples_split': array([ 3,  4,  5,  6,  7,  8,  9, 10, 11, 12, 13, 14, 15, 16, 17, 18, 19,\n",
       "       20, 21, 22, 23, 24, 25, 26, 27, 28, 29, 30, 31, 32, 33, 34, 35, 36,\n",
       "       37, 38, 39, 40, 41, 42, 43, 44, 45, 46, 47, 48, 49])},\n",
       "             scoring='recall')"
      ]
     },
     "execution_count": 35,
     "metadata": {},
     "output_type": "execute_result"
    }
   ],
   "source": [
    "param_grid = {\"min_samples_split\": np.arange(3,50)}\n",
    "\n",
    "model = RandomForestClassifier(class_weight = \"balanced\", random_state=42, max_depth=4, max_features=4, min_samples_leaf=14)\n",
    "grid_model = GridSearchCV(estimator=model,\n",
    "                            param_grid=param_grid,\n",
    "                            scoring='recall',\n",
    "                            n_jobs = -1)\n",
    "\n",
    "grid_model.fit(X_train, y_train)"
   ]
  },
  {
   "cell_type": "code",
   "execution_count": 36,
   "id": "16dab50d",
   "metadata": {},
   "outputs": [
    {
     "data": {
      "text/plain": [
       "{'min_samples_split': 48}"
      ]
     },
     "execution_count": 36,
     "metadata": {},
     "output_type": "execute_result"
    }
   ],
   "source": [
    "grid_model.best_params_"
   ]
  },
  {
   "cell_type": "code",
   "execution_count": 37,
   "id": "9728818f",
   "metadata": {},
   "outputs": [
    {
     "name": "stdout",
     "output_type": "stream",
     "text": [
      "Test_Set\n",
      "[[77 23]\n",
      " [14 40]]\n",
      "              precision    recall  f1-score   support\n",
      "\n",
      "           0       0.85      0.77      0.81       100\n",
      "           1       0.63      0.74      0.68        54\n",
      "\n",
      "    accuracy                           0.76       154\n",
      "   macro avg       0.74      0.76      0.75       154\n",
      "weighted avg       0.77      0.76      0.76       154\n",
      "\n",
      "\n",
      "Train_Set\n",
      "[[325  75]\n",
      " [ 43 171]]\n",
      "              precision    recall  f1-score   support\n",
      "\n",
      "           0       0.88      0.81      0.85       400\n",
      "           1       0.70      0.80      0.74       214\n",
      "\n",
      "    accuracy                           0.81       614\n",
      "   macro avg       0.79      0.81      0.79       614\n",
      "weighted avg       0.82      0.81      0.81       614\n",
      "\n"
     ]
    }
   ],
   "source": [
    "eval_metric(grid_model,X_train, y_train, X_test, y_test)"
   ]
  },
  {
   "cell_type": "code",
   "execution_count": 38,
   "id": "86e4eb9e",
   "metadata": {},
   "outputs": [],
   "source": [
    "from sklearn.metrics import roc_auc_score, precision_recall_curve, roc_curve, plot_roc_curve, plot_precision_recall_curve"
   ]
  },
  {
   "cell_type": "code",
   "execution_count": 39,
   "id": "d940213b",
   "metadata": {},
   "outputs": [
    {
     "data": {
      "image/png": "[encoded data removed]",
      "text/plain": [
       "<Figure size 720x432 with 1 Axes>"
      ]
     },
     "metadata": {
      "needs_background": "light"
     },
     "output_type": "display_data"
    }
   ],
   "source": [
    "plot_roc_curve(grid_model, X_test, y_test, pos_label=1);"
   ]
  },
  {
   "cell_type": "code",
   "execution_count": 40,
   "id": "4163459a",
   "metadata": {},
   "outputs": [
    {
     "data": {
      "image/png": "[encoded data removed]",
      "text/plain": [
       "<Figure size 720x432 with 1 Axes>"
      ]
     },
     "metadata": {
      "needs_background": "light"
     },
     "output_type": "display_data"
    }
   ],
   "source": [
    "plot_precision_recall_curve(grid_model, X_test, y_test, pos_label=1);"
   ]
  },
  {
   "cell_type": "code",
   "execution_count": 41,
   "id": "1293b4ad",
   "metadata": {},
   "outputs": [
    {
     "data": {
      "text/plain": [
       "0.27"
      ]
     },
     "execution_count": 41,
     "metadata": {},
     "output_type": "execute_result"
    }
   ],
   "source": [
    "y_pred_proba = rf_model.predict_proba(X_test)\n",
    "roc_auc_score(y_test, y_pred_proba[:,1])\n",
    "fp_rate, tp_rate, thresholds = roc_curve(y_test, y_pred_proba[:,1])\n",
    "optimal_idx = np.argmax(tp_rate - fp_rate) \n",
    "\n",
    "optimal_threshold = thresholds[optimal_idx] # en iyi threshold değerimizin olduğu indexi arraye vererek buluruz.\n",
    "optimal_threshold"
   ]
  },
  {
   "cell_type": "code",
   "execution_count": 42,
   "id": "4149dd1a",
   "metadata": {},
   "outputs": [
    {
     "name": "stdout",
     "output_type": "stream",
     "text": [
      "[[46 54]\n",
      " [ 2 52]]\n",
      "              precision    recall  f1-score   support\n",
      "\n",
      "           0       0.96      0.46      0.62       100\n",
      "           1       0.49      0.96      0.65        54\n",
      "\n",
      "    accuracy                           0.64       154\n",
      "   macro avg       0.72      0.71      0.64       154\n",
      "weighted avg       0.79      0.64      0.63       154\n",
      "\n"
     ]
    }
   ],
   "source": [
    "y_pred = pd.Series(grid_model.predict_proba(X_test)[:,1]).apply(lambda x : 1 if x >= 0.24 else 0)\n",
    "\n",
    "print(confusion_matrix(y_test, y_pred))\n",
    "print(classification_report(y_test, y_pred))"
   ]
  },
  {
   "cell_type": "code",
   "execution_count": 44,
   "id": "3559e6b3",
   "metadata": {},
   "outputs": [
    {
     "name": "stdout",
     "output_type": "stream",
     "text": [
      "[[192 208]\n",
      " [  5 209]]\n",
      "              precision    recall  f1-score   support\n",
      "\n",
      "           0       0.97      0.48      0.64       400\n",
      "           1       0.50      0.98      0.66       214\n",
      "\n",
      "    accuracy                           0.65       614\n",
      "   macro avg       0.74      0.73      0.65       614\n",
      "weighted avg       0.81      0.65      0.65       614\n",
      "\n"
     ]
    }
   ],
   "source": [
    "y_pred1 = pd.Series(grid_model.predict_proba(X_train)[:,1]).apply(lambda x : 1 if x >= optimal_threshold else 0)\n",
    "\n",
    "print(confusion_matrix(y_train, y_pred1))\n",
    "print(classification_report(y_train, y_pred1))"
   ]
  },
  {
   "cell_type": "code",
   "execution_count": 45,
   "id": "ac6f511b",
   "metadata": {},
   "outputs": [],
   "source": [
    "from sklearn.model_selection import StratifiedKFold\n",
    "\n",
    "def CV(n, est, X, y, optimal_threshold):\n",
    "    skf = StratifiedKFold(n_splits = n, shuffle = True, random_state = 42)\n",
    "    acc_scores = []\n",
    "    pre_scores = []\n",
    "    rec_scores = []\n",
    "    f1_scores  = []\n",
    "    \n",
    "    X = X.reset_index(drop=True)\n",
    "    y = y.reset_index(drop=True)\n",
    "    # for ile manuel olarak cross validation train ve test verilerini seçiyoruz.\n",
    "    for train_index, test_index in skf.split(X, y):\n",
    "        \n",
    "        X_train = X.loc[train_index]\n",
    "        y_train = y.loc[train_index]\n",
    "        X_test = X.loc[test_index]\n",
    "        y_test = y.loc[test_index]\n",
    "        \n",
    "        \n",
    "        est = est\n",
    "        est.fit(X_train, y_train)\n",
    "        y_pred = est.predict(X_test)\n",
    "        y_pred_proba = est.predict_proba(X_test)\n",
    "             \n",
    "        y_pred2 = pd.Series(y_pred_proba[:,1]).apply(lambda x : 1 if x >= optimal_threshold else 0)\n",
    "        \n",
    "        acc_scores.append(accuracy_score(y_test, y_pred2))\n",
    "        pre_scores.append(precision_score(y_test, y_pred2, pos_label=1))\n",
    "        rec_scores.append(recall_score(y_test, y_pred2, pos_label=1))\n",
    "        f1_scores.append(f1_score(y_test, y_pred2, pos_label=1))\n",
    "    \n",
    "    # aldığımız her skoru yukarıda tanımlanan boş listeye atıyoruz. \n",
    "    print(f'Accuracy {np.mean(acc_scores)*100:>10,.2f}%  std {np.std(acc_scores)*100:.2f}%') \n",
    "    print(f'Precision-1 {np.mean(pre_scores)*100:>7,.2f}%  std {np.std(pre_scores)*100:.2f}%')\n",
    "    print(f'Recall-1 {np.mean(rec_scores)*100:>10,.2f}%  std {np.std(rec_scores)*100:.2f}%')\n",
    "    print(f'F1_score-1 {np.mean(f1_scores)*100:>8,.2f}%  std {np.std(f1_scores)*100:.2f}%')"
   ]
  },
  {
   "cell_type": "code",
   "execution_count": 46,
   "id": "eefe3205",
   "metadata": {},
   "outputs": [
    {
     "data": {
      "text/plain": [
       "RandomForestClassifier(class_weight='balanced', max_depth=4, max_features=4,\n",
       "                       min_samples_leaf=14, min_samples_split=48,\n",
       "                       random_state=42)"
      ]
     },
     "execution_count": 46,
     "metadata": {},
     "output_type": "execute_result"
    }
   ],
   "source": [
    "model = RandomForestClassifier(class_weight = \"balanced\", random_state=42, max_depth=4, max_features=4, \n",
    "                               min_samples_leaf=14, min_samples_split= 48)\n",
    "\n",
    "model.fit(X, y)"
   ]
  },
  {
   "cell_type": "code",
   "execution_count": 47,
   "id": "bf4be300",
   "metadata": {},
   "outputs": [
    {
     "name": "stdout",
     "output_type": "stream",
     "text": [
      "[[240 260]\n",
      " [  5 263]]\n",
      "              precision    recall  f1-score   support\n",
      "\n",
      "           0       0.98      0.48      0.64       500\n",
      "           1       0.50      0.98      0.66       268\n",
      "\n",
      "    accuracy                           0.65       768\n",
      "   macro avg       0.74      0.73      0.65       768\n",
      "weighted avg       0.81      0.65      0.65       768\n",
      "\n"
     ]
    }
   ],
   "source": [
    "prediction = pd.Series(model.predict_proba(X)[:,1]).apply(lambda x : 1 if x >= optimal_threshold else 0)\n",
    "print(confusion_matrix(y, prediction))\n",
    "print(classification_report(y, prediction))"
   ]
  },
  {
   "cell_type": "code",
   "execution_count": 48,
   "id": "650b7510",
   "metadata": {},
   "outputs": [
    {
     "name": "stdout",
     "output_type": "stream",
     "text": [
      "Accuracy      55.06%  std 4.65%\n",
      "Precision-1   43.78%  std 2.69%\n",
      "Recall-1      98.52%  std 1.81%\n",
      "F1_score-1    60.57%  std 2.62%\n"
     ]
    }
   ],
   "source": [
    "CV(10, model, pd.DataFrame(X), y, 0.2)"
   ]
  },
  {
   "cell_type": "code",
   "execution_count": null,
   "id": "c00085f3",
   "metadata": {},
   "outputs": [],
   "source": []
  }
 ],
 "metadata": {
  "kernelspec": {
   "display_name": "Python 3 (ipykernel)",
   "language": "python",
   "name": "python3"
  },
  "language_info": {
   "codemirror_mode": {
    "name": "ipython",
    "version": 3
   },
   "file_extension": ".py",
   "mimetype": "text/x-python",
   "name": "python",
   "nbconvert_exporter": "python",
   "pygments_lexer": "ipython3",
   "version": "3.9.7"
  }
 },
 "nbformat": 4,
 "nbformat_minor": 5
}
