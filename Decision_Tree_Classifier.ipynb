{
 "cells": [
  {
   "cell_type": "markdown",
   "id": "00ab4686",
   "metadata": {},
   "source": [
    "## Decision Tree : \n",
    "\n",
    "Genelde iki şeçenekli classifiaction algoritmalarında kullanılır. Regression da da kullanılır. İlk karar yaprağına Rot node denir. Diğerlerine ise Decision node denir. Artık cevap kısmına geldiğimiz yere ise Leaf node denir. Bunların hepsine ise Sub-Tree denir. \n",
    "\n",
    "Çalışma prensibi ise şöyledir. İf else durmunu benzer. Örneğin havanın durumuna göre dışarı çıkıp çıkmayacağımıza karar vereceğiz. İlk önce dışarı bakarız hava güneşili mi bulutlu mu yağmurlu mu diye, sonra hava bulutluysa çıkacağımıza karar verdik, eğer hava yağmurluysa bu sefer yağmur şiddetli mi değil mi ona bakarız. eğer yağmur şiddetliyse çıkmayız, eğer yağmur az yağıyorsa çıkarız, eğer hava güneşli ise sıcaklık durumuna bakarız, eğer çok sıcaksa çıkmayız, normal sıcaklık varsa çıkarız. burda ki her sorumuz bir yapraktır. son sorularımız final decision treelerdir.\n",
    "\n",
    "Bunları şu şekilde yapar : algoritma çalışmaya başlarken şunu yapar. Örneğin elimizde 2 class olsun. Bu classları en iyi hangi futureden, en iyi hangi değerden ayırırım ona bakar. sonra tüm target üzerinden tüm değerleri ayırıyor ve hepsine bakıyor. future ile target arasında en iyi ayrımın olduğu root node karar veriyor. root node üzerinden diğer yaprakları oluşturmaktadır.\n",
    "\n",
    "Örneğin elimizde pozitif ve negatif değerleri olsun. en iyi öyle yerden bölmeli ki en güzel olasılıkla tahminde bulunsun. x1 i 1 den küçük olarak ayırırsam x1 in tüm değerleri pure olur yani tüm değerlerini kapsar, x2 içinse 1 büyük, 2 den küçükse değerlerin çoğunun pure olduğunu gördü ama tamamı olmadı, bu sefer x2 > 1.8 dedi ve tekrardan değerleri kapsayıp kapsamadığına baktı ve değerlerin büyük kısmının pure olduğunu gördü. bunu train datasında yaptı. test datasında train datasında yaptığı bölme işleminin aynısını uygulayacaktır. "
   ]
  },
  {
   "cell_type": "code",
   "execution_count": 1,
   "id": "518edfad",
   "metadata": {},
   "outputs": [],
   "source": [
    "import numpy as np\n",
    "import pandas as pd\n",
    "import matplotlib.pyplot as plt\n",
    "import seaborn as sns\n",
    "plt.rcParams[\"figure.figsize\"] = (10,6)\n",
    "import warnings\n",
    "warnings.filterwarnings(\"ignore\")\n",
    "warnings.warn(\"this will not show\")"
   ]
  },
  {
   "cell_type": "code",
   "execution_count": 2,
   "id": "124a48f2",
   "metadata": {},
   "outputs": [
    {
     "data": {
      "text/html": [
       "<div>\n",
       "<style scoped>\n",
       "    .dataframe tbody tr th:only-of-type {\n",
       "        vertical-align: middle;\n",
       "    }\n",
       "\n",
       "    .dataframe tbody tr th {\n",
       "        vertical-align: top;\n",
       "    }\n",
       "\n",
       "    .dataframe thead th {\n",
       "        text-align: right;\n",
       "    }\n",
       "</style>\n",
       "<table border=\"1\" class=\"dataframe\">\n",
       "  <thead>\n",
       "    <tr style=\"text-align: right;\">\n",
       "      <th></th>\n",
       "      <th>species</th>\n",
       "      <th>island</th>\n",
       "      <th>culmen_length_mm</th>\n",
       "      <th>culmen_depth_mm</th>\n",
       "      <th>flipper_length_mm</th>\n",
       "      <th>body_mass_g</th>\n",
       "      <th>sex</th>\n",
       "    </tr>\n",
       "  </thead>\n",
       "  <tbody>\n",
       "    <tr>\n",
       "      <th>0</th>\n",
       "      <td>Adelie</td>\n",
       "      <td>Torgersen</td>\n",
       "      <td>39.1</td>\n",
       "      <td>18.7</td>\n",
       "      <td>181.0</td>\n",
       "      <td>3750.0</td>\n",
       "      <td>MALE</td>\n",
       "    </tr>\n",
       "    <tr>\n",
       "      <th>1</th>\n",
       "      <td>Adelie</td>\n",
       "      <td>Torgersen</td>\n",
       "      <td>39.5</td>\n",
       "      <td>17.4</td>\n",
       "      <td>186.0</td>\n",
       "      <td>3800.0</td>\n",
       "      <td>FEMALE</td>\n",
       "    </tr>\n",
       "    <tr>\n",
       "      <th>2</th>\n",
       "      <td>Adelie</td>\n",
       "      <td>Torgersen</td>\n",
       "      <td>40.3</td>\n",
       "      <td>18.0</td>\n",
       "      <td>195.0</td>\n",
       "      <td>3250.0</td>\n",
       "      <td>FEMALE</td>\n",
       "    </tr>\n",
       "    <tr>\n",
       "      <th>3</th>\n",
       "      <td>Adelie</td>\n",
       "      <td>Torgersen</td>\n",
       "      <td>NaN</td>\n",
       "      <td>NaN</td>\n",
       "      <td>NaN</td>\n",
       "      <td>NaN</td>\n",
       "      <td>NaN</td>\n",
       "    </tr>\n",
       "    <tr>\n",
       "      <th>4</th>\n",
       "      <td>Adelie</td>\n",
       "      <td>Torgersen</td>\n",
       "      <td>36.7</td>\n",
       "      <td>19.3</td>\n",
       "      <td>193.0</td>\n",
       "      <td>3450.0</td>\n",
       "      <td>FEMALE</td>\n",
       "    </tr>\n",
       "  </tbody>\n",
       "</table>\n",
       "</div>"
      ],
      "text/plain": [
       "  species     island  culmen_length_mm  culmen_depth_mm  flipper_length_mm  \\\n",
       "0  Adelie  Torgersen              39.1             18.7              181.0   \n",
       "1  Adelie  Torgersen              39.5             17.4              186.0   \n",
       "2  Adelie  Torgersen              40.3             18.0              195.0   \n",
       "3  Adelie  Torgersen               NaN              NaN                NaN   \n",
       "4  Adelie  Torgersen              36.7             19.3              193.0   \n",
       "\n",
       "   body_mass_g     sex  \n",
       "0       3750.0    MALE  \n",
       "1       3800.0  FEMALE  \n",
       "2       3250.0  FEMALE  \n",
       "3          NaN     NaN  \n",
       "4       3450.0  FEMALE  "
      ]
     },
     "execution_count": 2,
     "metadata": {},
     "output_type": "execute_result"
    }
   ],
   "source": [
    "df = pd.read_csv(\"penguins_size.csv\")\n",
    "df.head()\n",
    "# penguenlere ait bir dataseti.\n",
    "# yaşadıkları ada, gaga uzunlukları, gaga genişlikleri, cinsiyetleri var. "
   ]
  },
  {
   "cell_type": "code",
   "execution_count": 3,
   "id": "b50b9b34",
   "metadata": {},
   "outputs": [
    {
     "name": "stdout",
     "output_type": "stream",
     "text": [
      "<class 'pandas.core.frame.DataFrame'>\n",
      "RangeIndex: 344 entries, 0 to 343\n",
      "Data columns (total 7 columns):\n",
      " #   Column             Non-Null Count  Dtype  \n",
      "---  ------             --------------  -----  \n",
      " 0   species            344 non-null    object \n",
      " 1   island             344 non-null    object \n",
      " 2   culmen_length_mm   342 non-null    float64\n",
      " 3   culmen_depth_mm    342 non-null    float64\n",
      " 4   flipper_length_mm  342 non-null    float64\n",
      " 5   body_mass_g        342 non-null    float64\n",
      " 6   sex                334 non-null    object \n",
      "dtypes: float64(4), object(3)\n",
      "memory usage: 18.9+ KB\n"
     ]
    }
   ],
   "source": [
    "df.info()"
   ]
  },
  {
   "cell_type": "code",
   "execution_count": 4,
   "id": "2730aaab",
   "metadata": {},
   "outputs": [
    {
     "data": {
      "text/html": [
       "<div>\n",
       "<style scoped>\n",
       "    .dataframe tbody tr th:only-of-type {\n",
       "        vertical-align: middle;\n",
       "    }\n",
       "\n",
       "    .dataframe tbody tr th {\n",
       "        vertical-align: top;\n",
       "    }\n",
       "\n",
       "    .dataframe thead th {\n",
       "        text-align: right;\n",
       "    }\n",
       "</style>\n",
       "<table border=\"1\" class=\"dataframe\">\n",
       "  <thead>\n",
       "    <tr style=\"text-align: right;\">\n",
       "      <th></th>\n",
       "      <th>count</th>\n",
       "      <th>mean</th>\n",
       "      <th>std</th>\n",
       "      <th>min</th>\n",
       "      <th>25%</th>\n",
       "      <th>50%</th>\n",
       "      <th>75%</th>\n",
       "      <th>max</th>\n",
       "    </tr>\n",
       "  </thead>\n",
       "  <tbody>\n",
       "    <tr>\n",
       "      <th>culmen_length_mm</th>\n",
       "      <td>342.0</td>\n",
       "      <td>43.921930</td>\n",
       "      <td>5.459584</td>\n",
       "      <td>32.1</td>\n",
       "      <td>39.225</td>\n",
       "      <td>44.45</td>\n",
       "      <td>48.5</td>\n",
       "      <td>59.6</td>\n",
       "    </tr>\n",
       "    <tr>\n",
       "      <th>culmen_depth_mm</th>\n",
       "      <td>342.0</td>\n",
       "      <td>17.151170</td>\n",
       "      <td>1.974793</td>\n",
       "      <td>13.1</td>\n",
       "      <td>15.600</td>\n",
       "      <td>17.30</td>\n",
       "      <td>18.7</td>\n",
       "      <td>21.5</td>\n",
       "    </tr>\n",
       "    <tr>\n",
       "      <th>flipper_length_mm</th>\n",
       "      <td>342.0</td>\n",
       "      <td>200.915205</td>\n",
       "      <td>14.061714</td>\n",
       "      <td>172.0</td>\n",
       "      <td>190.000</td>\n",
       "      <td>197.00</td>\n",
       "      <td>213.0</td>\n",
       "      <td>231.0</td>\n",
       "    </tr>\n",
       "    <tr>\n",
       "      <th>body_mass_g</th>\n",
       "      <td>342.0</td>\n",
       "      <td>4201.754386</td>\n",
       "      <td>801.954536</td>\n",
       "      <td>2700.0</td>\n",
       "      <td>3550.000</td>\n",
       "      <td>4050.00</td>\n",
       "      <td>4750.0</td>\n",
       "      <td>6300.0</td>\n",
       "    </tr>\n",
       "  </tbody>\n",
       "</table>\n",
       "</div>"
      ],
      "text/plain": [
       "                   count         mean         std     min       25%      50%  \\\n",
       "culmen_length_mm   342.0    43.921930    5.459584    32.1    39.225    44.45   \n",
       "culmen_depth_mm    342.0    17.151170    1.974793    13.1    15.600    17.30   \n",
       "flipper_length_mm  342.0   200.915205   14.061714   172.0   190.000   197.00   \n",
       "body_mass_g        342.0  4201.754386  801.954536  2700.0  3550.000  4050.00   \n",
       "\n",
       "                      75%     max  \n",
       "culmen_length_mm     48.5    59.6  \n",
       "culmen_depth_mm      18.7    21.5  \n",
       "flipper_length_mm   213.0   231.0  \n",
       "body_mass_g        4750.0  6300.0  "
      ]
     },
     "execution_count": 4,
     "metadata": {},
     "output_type": "execute_result"
    }
   ],
   "source": [
    "df.describe().T"
   ]
  },
  {
   "cell_type": "code",
   "execution_count": 5,
   "id": "7f9ca5c8",
   "metadata": {},
   "outputs": [
    {
     "data": {
      "text/plain": [
       "species               0\n",
       "island                0\n",
       "culmen_length_mm      2\n",
       "culmen_depth_mm       2\n",
       "flipper_length_mm     2\n",
       "body_mass_g           2\n",
       "sex                  10\n",
       "dtype: int64"
      ]
     },
     "execution_count": 5,
     "metadata": {},
     "output_type": "execute_result"
    }
   ],
   "source": [
    "df.isnull().sum()"
   ]
  },
  {
   "cell_type": "code",
   "execution_count": 6,
   "id": "d48142e5",
   "metadata": {},
   "outputs": [],
   "source": [
    "df.dropna(inplace=True)"
   ]
  },
  {
   "cell_type": "code",
   "execution_count": 7,
   "id": "94478cf3",
   "metadata": {},
   "outputs": [
    {
     "data": {
      "text/plain": [
       "species              0\n",
       "island               0\n",
       "culmen_length_mm     0\n",
       "culmen_depth_mm      0\n",
       "flipper_length_mm    0\n",
       "body_mass_g          0\n",
       "sex                  0\n",
       "dtype: int64"
      ]
     },
     "execution_count": 7,
     "metadata": {},
     "output_type": "execute_result"
    }
   ],
   "source": [
    "df.isnull().sum()"
   ]
  },
  {
   "cell_type": "code",
   "execution_count": 8,
   "id": "40f3bf6d",
   "metadata": {},
   "outputs": [
    {
     "data": {
      "text/html": [
       "<div>\n",
       "<style scoped>\n",
       "    .dataframe tbody tr th:only-of-type {\n",
       "        vertical-align: middle;\n",
       "    }\n",
       "\n",
       "    .dataframe tbody tr th {\n",
       "        vertical-align: top;\n",
       "    }\n",
       "\n",
       "    .dataframe thead th {\n",
       "        text-align: right;\n",
       "    }\n",
       "</style>\n",
       "<table border=\"1\" class=\"dataframe\">\n",
       "  <thead>\n",
       "    <tr style=\"text-align: right;\">\n",
       "      <th></th>\n",
       "      <th>species</th>\n",
       "      <th>island</th>\n",
       "      <th>culmen_length_mm</th>\n",
       "      <th>culmen_depth_mm</th>\n",
       "      <th>flipper_length_mm</th>\n",
       "      <th>body_mass_g</th>\n",
       "      <th>sex</th>\n",
       "    </tr>\n",
       "  </thead>\n",
       "  <tbody>\n",
       "    <tr>\n",
       "      <th>336</th>\n",
       "      <td>Gentoo</td>\n",
       "      <td>Biscoe</td>\n",
       "      <td>44.5</td>\n",
       "      <td>15.7</td>\n",
       "      <td>217.0</td>\n",
       "      <td>4875.0</td>\n",
       "      <td>.</td>\n",
       "    </tr>\n",
       "  </tbody>\n",
       "</table>\n",
       "</div>"
      ],
      "text/plain": [
       "    species  island  culmen_length_mm  culmen_depth_mm  flipper_length_mm  \\\n",
       "336  Gentoo  Biscoe              44.5             15.7              217.0   \n",
       "\n",
       "     body_mass_g sex  \n",
       "336       4875.0   .  "
      ]
     },
     "execution_count": 8,
     "metadata": {},
     "output_type": "execute_result"
    }
   ],
   "source": [
    "df[df[\"sex\"]== \".\"]"
   ]
  },
  {
   "cell_type": "code",
   "execution_count": 9,
   "id": "2232050a",
   "metadata": {},
   "outputs": [
    {
     "data": {
      "text/html": [
       "<div>\n",
       "<style scoped>\n",
       "    .dataframe tbody tr th:only-of-type {\n",
       "        vertical-align: middle;\n",
       "    }\n",
       "\n",
       "    .dataframe tbody tr th {\n",
       "        vertical-align: top;\n",
       "    }\n",
       "\n",
       "    .dataframe thead th {\n",
       "        text-align: right;\n",
       "    }\n",
       "</style>\n",
       "<table border=\"1\" class=\"dataframe\">\n",
       "  <thead>\n",
       "    <tr style=\"text-align: right;\">\n",
       "      <th></th>\n",
       "      <th>sex</th>\n",
       "      <th>.</th>\n",
       "      <th>FEMALE</th>\n",
       "      <th>MALE</th>\n",
       "    </tr>\n",
       "  </thead>\n",
       "  <tbody>\n",
       "    <tr>\n",
       "      <th rowspan=\"8\" valign=\"top\">culmen_length_mm</th>\n",
       "      <th>count</th>\n",
       "      <td>1.0</td>\n",
       "      <td>58.000000</td>\n",
       "      <td>61.000000</td>\n",
       "    </tr>\n",
       "    <tr>\n",
       "      <th>mean</th>\n",
       "      <td>44.5</td>\n",
       "      <td>45.563793</td>\n",
       "      <td>49.473770</td>\n",
       "    </tr>\n",
       "    <tr>\n",
       "      <th>std</th>\n",
       "      <td>NaN</td>\n",
       "      <td>2.051247</td>\n",
       "      <td>2.720594</td>\n",
       "    </tr>\n",
       "    <tr>\n",
       "      <th>min</th>\n",
       "      <td>44.5</td>\n",
       "      <td>40.900000</td>\n",
       "      <td>44.400000</td>\n",
       "    </tr>\n",
       "    <tr>\n",
       "      <th>25%</th>\n",
       "      <td>44.5</td>\n",
       "      <td>43.850000</td>\n",
       "      <td>48.100000</td>\n",
       "    </tr>\n",
       "    <tr>\n",
       "      <th>50%</th>\n",
       "      <td>44.5</td>\n",
       "      <td>45.500000</td>\n",
       "      <td>49.500000</td>\n",
       "    </tr>\n",
       "    <tr>\n",
       "      <th>75%</th>\n",
       "      <td>44.5</td>\n",
       "      <td>46.875000</td>\n",
       "      <td>50.500000</td>\n",
       "    </tr>\n",
       "    <tr>\n",
       "      <th>max</th>\n",
       "      <td>44.5</td>\n",
       "      <td>50.500000</td>\n",
       "      <td>59.600000</td>\n",
       "    </tr>\n",
       "    <tr>\n",
       "      <th rowspan=\"8\" valign=\"top\">culmen_depth_mm</th>\n",
       "      <th>count</th>\n",
       "      <td>1.0</td>\n",
       "      <td>58.000000</td>\n",
       "      <td>61.000000</td>\n",
       "    </tr>\n",
       "    <tr>\n",
       "      <th>mean</th>\n",
       "      <td>15.7</td>\n",
       "      <td>14.237931</td>\n",
       "      <td>15.718033</td>\n",
       "    </tr>\n",
       "    <tr>\n",
       "      <th>std</th>\n",
       "      <td>NaN</td>\n",
       "      <td>0.540249</td>\n",
       "      <td>0.741060</td>\n",
       "    </tr>\n",
       "    <tr>\n",
       "      <th>min</th>\n",
       "      <td>15.7</td>\n",
       "      <td>13.100000</td>\n",
       "      <td>14.100000</td>\n",
       "    </tr>\n",
       "    <tr>\n",
       "      <th>25%</th>\n",
       "      <td>15.7</td>\n",
       "      <td>13.800000</td>\n",
       "      <td>15.200000</td>\n",
       "    </tr>\n",
       "    <tr>\n",
       "      <th>50%</th>\n",
       "      <td>15.7</td>\n",
       "      <td>14.250000</td>\n",
       "      <td>15.700000</td>\n",
       "    </tr>\n",
       "    <tr>\n",
       "      <th>75%</th>\n",
       "      <td>15.7</td>\n",
       "      <td>14.600000</td>\n",
       "      <td>16.100000</td>\n",
       "    </tr>\n",
       "    <tr>\n",
       "      <th>max</th>\n",
       "      <td>15.7</td>\n",
       "      <td>15.500000</td>\n",
       "      <td>17.300000</td>\n",
       "    </tr>\n",
       "    <tr>\n",
       "      <th rowspan=\"8\" valign=\"top\">flipper_length_mm</th>\n",
       "      <th>count</th>\n",
       "      <td>1.0</td>\n",
       "      <td>58.000000</td>\n",
       "      <td>61.000000</td>\n",
       "    </tr>\n",
       "    <tr>\n",
       "      <th>mean</th>\n",
       "      <td>217.0</td>\n",
       "      <td>212.706897</td>\n",
       "      <td>221.540984</td>\n",
       "    </tr>\n",
       "    <tr>\n",
       "      <th>std</th>\n",
       "      <td>NaN</td>\n",
       "      <td>3.897856</td>\n",
       "      <td>5.673252</td>\n",
       "    </tr>\n",
       "    <tr>\n",
       "      <th>min</th>\n",
       "      <td>217.0</td>\n",
       "      <td>203.000000</td>\n",
       "      <td>208.000000</td>\n",
       "    </tr>\n",
       "    <tr>\n",
       "      <th>25%</th>\n",
       "      <td>217.0</td>\n",
       "      <td>210.000000</td>\n",
       "      <td>218.000000</td>\n",
       "    </tr>\n",
       "    <tr>\n",
       "      <th>50%</th>\n",
       "      <td>217.0</td>\n",
       "      <td>212.000000</td>\n",
       "      <td>221.000000</td>\n",
       "    </tr>\n",
       "    <tr>\n",
       "      <th>75%</th>\n",
       "      <td>217.0</td>\n",
       "      <td>215.000000</td>\n",
       "      <td>225.000000</td>\n",
       "    </tr>\n",
       "    <tr>\n",
       "      <th>max</th>\n",
       "      <td>217.0</td>\n",
       "      <td>222.000000</td>\n",
       "      <td>231.000000</td>\n",
       "    </tr>\n",
       "    <tr>\n",
       "      <th rowspan=\"8\" valign=\"top\">body_mass_g</th>\n",
       "      <th>count</th>\n",
       "      <td>1.0</td>\n",
       "      <td>58.000000</td>\n",
       "      <td>61.000000</td>\n",
       "    </tr>\n",
       "    <tr>\n",
       "      <th>mean</th>\n",
       "      <td>4875.0</td>\n",
       "      <td>4679.741379</td>\n",
       "      <td>5484.836066</td>\n",
       "    </tr>\n",
       "    <tr>\n",
       "      <th>std</th>\n",
       "      <td>NaN</td>\n",
       "      <td>281.578294</td>\n",
       "      <td>313.158596</td>\n",
       "    </tr>\n",
       "    <tr>\n",
       "      <th>min</th>\n",
       "      <td>4875.0</td>\n",
       "      <td>3950.000000</td>\n",
       "      <td>4750.000000</td>\n",
       "    </tr>\n",
       "    <tr>\n",
       "      <th>25%</th>\n",
       "      <td>4875.0</td>\n",
       "      <td>4462.500000</td>\n",
       "      <td>5300.000000</td>\n",
       "    </tr>\n",
       "    <tr>\n",
       "      <th>50%</th>\n",
       "      <td>4875.0</td>\n",
       "      <td>4700.000000</td>\n",
       "      <td>5500.000000</td>\n",
       "    </tr>\n",
       "    <tr>\n",
       "      <th>75%</th>\n",
       "      <td>4875.0</td>\n",
       "      <td>4875.000000</td>\n",
       "      <td>5700.000000</td>\n",
       "    </tr>\n",
       "    <tr>\n",
       "      <th>max</th>\n",
       "      <td>4875.0</td>\n",
       "      <td>5200.000000</td>\n",
       "      <td>6300.000000</td>\n",
       "    </tr>\n",
       "  </tbody>\n",
       "</table>\n",
       "</div>"
      ],
      "text/plain": [
       "sex                           .       FEMALE         MALE\n",
       "culmen_length_mm  count     1.0    58.000000    61.000000\n",
       "                  mean     44.5    45.563793    49.473770\n",
       "                  std       NaN     2.051247     2.720594\n",
       "                  min      44.5    40.900000    44.400000\n",
       "                  25%      44.5    43.850000    48.100000\n",
       "                  50%      44.5    45.500000    49.500000\n",
       "                  75%      44.5    46.875000    50.500000\n",
       "                  max      44.5    50.500000    59.600000\n",
       "culmen_depth_mm   count     1.0    58.000000    61.000000\n",
       "                  mean     15.7    14.237931    15.718033\n",
       "                  std       NaN     0.540249     0.741060\n",
       "                  min      15.7    13.100000    14.100000\n",
       "                  25%      15.7    13.800000    15.200000\n",
       "                  50%      15.7    14.250000    15.700000\n",
       "                  75%      15.7    14.600000    16.100000\n",
       "                  max      15.7    15.500000    17.300000\n",
       "flipper_length_mm count     1.0    58.000000    61.000000\n",
       "                  mean    217.0   212.706897   221.540984\n",
       "                  std       NaN     3.897856     5.673252\n",
       "                  min     217.0   203.000000   208.000000\n",
       "                  25%     217.0   210.000000   218.000000\n",
       "                  50%     217.0   212.000000   221.000000\n",
       "                  75%     217.0   215.000000   225.000000\n",
       "                  max     217.0   222.000000   231.000000\n",
       "body_mass_g       count     1.0    58.000000    61.000000\n",
       "                  mean   4875.0  4679.741379  5484.836066\n",
       "                  std       NaN   281.578294   313.158596\n",
       "                  min    4875.0  3950.000000  4750.000000\n",
       "                  25%    4875.0  4462.500000  5300.000000\n",
       "                  50%    4875.0  4700.000000  5500.000000\n",
       "                  75%    4875.0  4875.000000  5700.000000\n",
       "                  max    4875.0  5200.000000  6300.000000"
      ]
     },
     "execution_count": 9,
     "metadata": {},
     "output_type": "execute_result"
    }
   ],
   "source": [
    "df[df.species ==\"Gentoo\"].groupby(\"sex\").describe().T"
   ]
  },
  {
   "cell_type": "code",
   "execution_count": 10,
   "id": "2803e03e",
   "metadata": {},
   "outputs": [
    {
     "data": {
      "text/plain": [
       "'MALE'"
      ]
     },
     "execution_count": 10,
     "metadata": {},
     "output_type": "execute_result"
    }
   ],
   "source": [
    "df.loc[336, \"sex\"] = \"MALE\"\n",
    "df.loc[336, \"sex\"]"
   ]
  },
  {
   "cell_type": "code",
   "execution_count": 11,
   "id": "7dc9418f",
   "metadata": {},
   "outputs": [
    {
     "data": {
      "text/plain": [
       "Adelie       146\n",
       "Gentoo       120\n",
       "Chinstrap     68\n",
       "Name: species, dtype: int64"
      ]
     },
     "execution_count": 11,
     "metadata": {},
     "output_type": "execute_result"
    }
   ],
   "source": [
    "df[\"species\"].value_counts()"
   ]
  },
  {
   "cell_type": "code",
   "execution_count": 12,
   "id": "f2fe4a0a",
   "metadata": {},
   "outputs": [
    {
     "data": {
      "image/png": "[encoded data removed]",
      "text/plain": [
       "<Figure size 720x432 with 1 Axes>"
      ]
     },
     "metadata": {
      "needs_background": "light"
     },
     "output_type": "display_data"
    }
   ],
   "source": [
    "sns.countplot(x=\"species\", data = df);"
   ]
  },
  {
   "cell_type": "code",
   "execution_count": 13,
   "id": "a6fcf707",
   "metadata": {},
   "outputs": [
    {
     "data": {
      "image/png": "[encoded data removed]",
      "text/plain": [
       "<Figure size 720x360 with 2 Axes>"
      ]
     },
     "metadata": {
      "needs_background": "light"
     },
     "output_type": "display_data"
    }
   ],
   "source": [
    "sns.catplot(x='species', data=df, kind='count',col='sex');"
   ]
  },
  {
   "cell_type": "code",
   "execution_count": 14,
   "id": "08770d1c",
   "metadata": {},
   "outputs": [
    {
     "data": {
      "text/plain": [
       "array(['Adelie', 'Chinstrap', 'Gentoo'], dtype=object)"
      ]
     },
     "execution_count": 14,
     "metadata": {},
     "output_type": "execute_result"
    }
   ],
   "source": [
    "df.species.unique()"
   ]
  },
  {
   "cell_type": "code",
   "execution_count": 15,
   "id": "413fea87",
   "metadata": {},
   "outputs": [
    {
     "data": {
      "text/html": [
       "<div>\n",
       "<style scoped>\n",
       "    .dataframe tbody tr th:only-of-type {\n",
       "        vertical-align: middle;\n",
       "    }\n",
       "\n",
       "    .dataframe tbody tr th {\n",
       "        vertical-align: top;\n",
       "    }\n",
       "\n",
       "    .dataframe thead th {\n",
       "        text-align: right;\n",
       "    }\n",
       "</style>\n",
       "<table border=\"1\" class=\"dataframe\">\n",
       "  <thead>\n",
       "    <tr style=\"text-align: right;\">\n",
       "      <th></th>\n",
       "      <th>culmen_length_mm</th>\n",
       "      <th>culmen_depth_mm</th>\n",
       "      <th>flipper_length_mm</th>\n",
       "      <th>body_mass_g</th>\n",
       "    </tr>\n",
       "  </thead>\n",
       "  <tbody>\n",
       "    <tr>\n",
       "      <th>culmen_length_mm</th>\n",
       "      <td>1.000000</td>\n",
       "      <td>-0.228640</td>\n",
       "      <td>0.652126</td>\n",
       "      <td>0.589066</td>\n",
       "    </tr>\n",
       "    <tr>\n",
       "      <th>culmen_depth_mm</th>\n",
       "      <td>-0.228640</td>\n",
       "      <td>1.000000</td>\n",
       "      <td>-0.578730</td>\n",
       "      <td>-0.472987</td>\n",
       "    </tr>\n",
       "    <tr>\n",
       "      <th>flipper_length_mm</th>\n",
       "      <td>0.652126</td>\n",
       "      <td>-0.578730</td>\n",
       "      <td>1.000000</td>\n",
       "      <td>0.873211</td>\n",
       "    </tr>\n",
       "    <tr>\n",
       "      <th>body_mass_g</th>\n",
       "      <td>0.589066</td>\n",
       "      <td>-0.472987</td>\n",
       "      <td>0.873211</td>\n",
       "      <td>1.000000</td>\n",
       "    </tr>\n",
       "  </tbody>\n",
       "</table>\n",
       "</div>"
      ],
      "text/plain": [
       "                   culmen_length_mm  culmen_depth_mm  flipper_length_mm  \\\n",
       "culmen_length_mm           1.000000        -0.228640           0.652126   \n",
       "culmen_depth_mm           -0.228640         1.000000          -0.578730   \n",
       "flipper_length_mm          0.652126        -0.578730           1.000000   \n",
       "body_mass_g                0.589066        -0.472987           0.873211   \n",
       "\n",
       "                   body_mass_g  \n",
       "culmen_length_mm      0.589066  \n",
       "culmen_depth_mm      -0.472987  \n",
       "flipper_length_mm     0.873211  \n",
       "body_mass_g           1.000000  "
      ]
     },
     "execution_count": 15,
     "metadata": {},
     "output_type": "execute_result"
    }
   ],
   "source": [
    "df.corr()"
   ]
  },
  {
   "cell_type": "code",
   "execution_count": 16,
   "id": "8cef0462",
   "metadata": {},
   "outputs": [
    {
     "data": {
      "image/png": "[encoded data removed]",
      "text/plain": [
       "<Figure size 576x432 with 2 Axes>"
      ]
     },
     "metadata": {
      "needs_background": "light"
     },
     "output_type": "display_data"
    }
   ],
   "source": [
    "plt.figure(figsize=(8,6))\n",
    "sns.heatmap(df.select_dtypes(\"number\").corr(),annot=True, cmap='viridis')\n",
    "plt.title(\"Correlation Matrix\")\n",
    "\n",
    "plt.show()"
   ]
  },
  {
   "cell_type": "code",
   "execution_count": 18,
   "id": "045cefe2",
   "metadata": {},
   "outputs": [
    {
     "data": {
      "text/html": [
       "<div>\n",
       "<style scoped>\n",
       "    .dataframe tbody tr th:only-of-type {\n",
       "        vertical-align: middle;\n",
       "    }\n",
       "\n",
       "    .dataframe tbody tr th {\n",
       "        vertical-align: top;\n",
       "    }\n",
       "\n",
       "    .dataframe thead th {\n",
       "        text-align: right;\n",
       "    }\n",
       "</style>\n",
       "<table border=\"1\" class=\"dataframe\">\n",
       "  <thead>\n",
       "    <tr style=\"text-align: right;\">\n",
       "      <th></th>\n",
       "      <th>species</th>\n",
       "      <th>island</th>\n",
       "      <th>culmen_length_mm</th>\n",
       "      <th>culmen_depth_mm</th>\n",
       "      <th>flipper_length_mm</th>\n",
       "      <th>body_mass_g</th>\n",
       "      <th>sex</th>\n",
       "    </tr>\n",
       "  </thead>\n",
       "  <tbody>\n",
       "    <tr>\n",
       "      <th>0</th>\n",
       "      <td>Adelie</td>\n",
       "      <td>Torgersen</td>\n",
       "      <td>39.1</td>\n",
       "      <td>18.7</td>\n",
       "      <td>181.0</td>\n",
       "      <td>3750.0</td>\n",
       "      <td>MALE</td>\n",
       "    </tr>\n",
       "    <tr>\n",
       "      <th>1</th>\n",
       "      <td>Adelie</td>\n",
       "      <td>Torgersen</td>\n",
       "      <td>39.5</td>\n",
       "      <td>17.4</td>\n",
       "      <td>186.0</td>\n",
       "      <td>3800.0</td>\n",
       "      <td>FEMALE</td>\n",
       "    </tr>\n",
       "    <tr>\n",
       "      <th>2</th>\n",
       "      <td>Adelie</td>\n",
       "      <td>Torgersen</td>\n",
       "      <td>40.3</td>\n",
       "      <td>18.0</td>\n",
       "      <td>195.0</td>\n",
       "      <td>3250.0</td>\n",
       "      <td>FEMALE</td>\n",
       "    </tr>\n",
       "    <tr>\n",
       "      <th>4</th>\n",
       "      <td>Adelie</td>\n",
       "      <td>Torgersen</td>\n",
       "      <td>36.7</td>\n",
       "      <td>19.3</td>\n",
       "      <td>193.0</td>\n",
       "      <td>3450.0</td>\n",
       "      <td>FEMALE</td>\n",
       "    </tr>\n",
       "    <tr>\n",
       "      <th>5</th>\n",
       "      <td>Adelie</td>\n",
       "      <td>Torgersen</td>\n",
       "      <td>39.3</td>\n",
       "      <td>20.6</td>\n",
       "      <td>190.0</td>\n",
       "      <td>3650.0</td>\n",
       "      <td>MALE</td>\n",
       "    </tr>\n",
       "  </tbody>\n",
       "</table>\n",
       "</div>"
      ],
      "text/plain": [
       "  species     island  culmen_length_mm  culmen_depth_mm  flipper_length_mm  \\\n",
       "0  Adelie  Torgersen              39.1             18.7              181.0   \n",
       "1  Adelie  Torgersen              39.5             17.4              186.0   \n",
       "2  Adelie  Torgersen              40.3             18.0              195.0   \n",
       "4  Adelie  Torgersen              36.7             19.3              193.0   \n",
       "5  Adelie  Torgersen              39.3             20.6              190.0   \n",
       "\n",
       "   body_mass_g     sex  \n",
       "0       3750.0    MALE  \n",
       "1       3800.0  FEMALE  \n",
       "2       3250.0  FEMALE  \n",
       "4       3450.0  FEMALE  \n",
       "5       3650.0    MALE  "
      ]
     },
     "execution_count": 18,
     "metadata": {},
     "output_type": "execute_result"
    }
   ],
   "source": [
    "df.head()\n",
    "# species target olacak, biz türleri tahmin edeceğiz. "
   ]
  },
  {
   "cell_type": "code",
   "execution_count": 19,
   "id": "8e909034",
   "metadata": {},
   "outputs": [],
   "source": [
    "X = df.drop(\"species\", axis=1)\n",
    "y = df[\"species\"]\n",
    "\n",
    "X = pd.get_dummies(data = X, columns = [\"island\", \"sex\"], drop_first = True)"
   ]
  },
  {
   "cell_type": "code",
   "execution_count": null,
   "id": "4c4364b6",
   "metadata": {},
   "outputs": [],
   "source": []
  },
  {
   "cell_type": "markdown",
   "id": "b4884de4",
   "metadata": {},
   "source": [
    "### Train | Test Split : "
   ]
  },
  {
   "cell_type": "code",
   "execution_count": 22,
   "id": "542d188e",
   "metadata": {},
   "outputs": [],
   "source": [
    "from sklearn.model_selection import train_test_split\n",
    "\n",
    "X_train, X_test, y_train, y_test = train_test_split(X, y, test_size=0.3, random_state=101)"
   ]
  },
  {
   "cell_type": "markdown",
   "id": "3dc82df2",
   "metadata": {},
   "source": [
    "### Modelling : \n",
    "\n",
    "Tree Base Modellerde scale işlemi tavsiye edilmez. o yüzden yapmadık."
   ]
  },
  {
   "cell_type": "code",
   "execution_count": 23,
   "id": "58782347",
   "metadata": {},
   "outputs": [],
   "source": [
    "from sklearn.tree import DecisionTreeClassifier\n",
    "# target categoric olduğu için Classifier yaptık."
   ]
  },
  {
   "cell_type": "code",
   "execution_count": 24,
   "id": "b6a930d0",
   "metadata": {},
   "outputs": [
    {
     "data": {
      "text/plain": [
       "DecisionTreeClassifier(random_state=42)"
      ]
     },
     "execution_count": 24,
     "metadata": {},
     "output_type": "execute_result"
    }
   ],
   "source": [
    "dt_model = DecisionTreeClassifier(random_state = 42)\n",
    "dt_model.fit(X_train, y_train)"
   ]
  },
  {
   "cell_type": "markdown",
   "id": "a8931596",
   "metadata": {},
   "source": [
    "### Metrics : "
   ]
  },
  {
   "cell_type": "code",
   "execution_count": 25,
   "id": "51c14962",
   "metadata": {},
   "outputs": [],
   "source": [
    "from sklearn.metrics import confusion_matrix,classification_report,plot_confusion_matrix\n",
    "from sklearn.metrics import accuracy_score, recall_score, precision_score, f1_score\n",
    "\n",
    "def eval_metric(model, X_train, y_train, X_test, y_test):\n",
    "    y_train_pred = model.predict(X_train)\n",
    "    y_pred = model.predict(X_test)\n",
    "    \n",
    "    print(\"Test_Set\")\n",
    "    print(confusion_matrix(y_test, y_pred))\n",
    "    print(classification_report(y_test, y_pred))\n",
    "    print()\n",
    "    \n",
    "    print(\"Train_Set\")\n",
    "    print(confusion_matrix(y_train, y_train_pred))\n",
    "    print(classification_report(y_train, y_train_pred))\n"
   ]
  },
  {
   "cell_type": "code",
   "execution_count": 26,
   "id": "2c1222d3",
   "metadata": {},
   "outputs": [
    {
     "name": "stdout",
     "output_type": "stream",
     "text": [
      "Test_Set\n",
      "[[41  0  0]\n",
      " [ 3 20  0]\n",
      " [ 0  0 37]]\n",
      "              precision    recall  f1-score   support\n",
      "\n",
      "      Adelie       0.93      1.00      0.96        41\n",
      "   Chinstrap       1.00      0.87      0.93        23\n",
      "      Gentoo       1.00      1.00      1.00        37\n",
      "\n",
      "    accuracy                           0.97       101\n",
      "   macro avg       0.98      0.96      0.96       101\n",
      "weighted avg       0.97      0.97      0.97       101\n",
      "\n",
      "\n",
      "Train_Set\n",
      "[[105   0   0]\n",
      " [  0  45   0]\n",
      " [  0   0  83]]\n",
      "              precision    recall  f1-score   support\n",
      "\n",
      "      Adelie       1.00      1.00      1.00       105\n",
      "   Chinstrap       1.00      1.00      1.00        45\n",
      "      Gentoo       1.00      1.00      1.00        83\n",
      "\n",
      "    accuracy                           1.00       233\n",
      "   macro avg       1.00      1.00      1.00       233\n",
      "weighted avg       1.00      1.00      1.00       233\n",
      "\n"
     ]
    }
   ],
   "source": [
    "eval_metric(dt_model, X_train, y_train, X_test, y_test)"
   ]
  },
  {
   "cell_type": "code",
   "execution_count": 27,
   "id": "e0687edb",
   "metadata": {},
   "outputs": [
    {
     "name": "stdout",
     "output_type": "stream",
     "text": [
      "[[41  0  0]\n",
      " [ 3 20  0]\n",
      " [ 0  0 37]]\n",
      "              precision    recall  f1-score   support\n",
      "\n",
      "      Adelie       0.93      1.00      0.96        41\n",
      "   Chinstrap       1.00      0.87      0.93        23\n",
      "      Gentoo       1.00      1.00      1.00        37\n",
      "\n",
      "    accuracy                           0.97       101\n",
      "   macro avg       0.98      0.96      0.96       101\n",
      "weighted avg       0.97      0.97      0.97       101\n",
      "\n"
     ]
    }
   ],
   "source": [
    "y_pred = dt_model.predict(X_test)\n",
    "\n",
    "print(confusion_matrix(y_test, y_pred))\n",
    "print(classification_report(y_test, y_pred))"
   ]
  },
  {
   "cell_type": "code",
   "execution_count": 29,
   "id": "17e7efd9",
   "metadata": {},
   "outputs": [
    {
     "data": {
      "image/png": "[encoded data removed]",
      "text/plain": [
       "<Figure size 720x432 with 2 Axes>"
      ]
     },
     "metadata": {
      "needs_background": "light"
     },
     "output_type": "display_data"
    }
   ],
   "source": [
    "from sklearn.metrics import plot_confusion_matrix\n",
    "\n",
    "plot_confusion_matrix(dt_model, X_test, y_test);\n",
    "\n",
    "# Adelie den 44 tane tahmin yapmış, 41 tanesi doğru, 3 tanesini Chinstrap olarak bilmiş, \n",
    "# Chinstrap tan 20 tane tahmin yapmış ve hepsini doğru bilmiş,\n",
    "# Gentto dan 37 tane tahmin yapmış ve hepsini bilmiş."
   ]
  },
  {
   "cell_type": "code",
   "execution_count": 31,
   "id": "31fe1715",
   "metadata": {},
   "outputs": [
    {
     "data": {
      "image/png": "[encoded data removed]",
      "text/plain": [
       "<Figure size 576x396 with 1 Axes>"
      ]
     },
     "metadata": {},
     "output_type": "display_data"
    }
   ],
   "source": [
    "from yellowbrick.classifier import ClassPredictionError\n",
    "\n",
    "visualizer = ClassPredictionError(dt_model)\n",
    "\n",
    "# Fit the training data to the visualizer\n",
    "visualizer.fit(X_train, y_train)\n",
    "\n",
    "# Evaluate the model on the test data\n",
    "visualizer.score(X_test, y_test)\n",
    "\n",
    "# Draw visualization\n",
    "visualizer.poof();\n",
    "# yukarıda ki plot_confusion matrixi yellowbrick ile de alabiliriz."
   ]
  },
  {
   "cell_type": "markdown",
   "id": "38ff48ab",
   "metadata": {},
   "source": [
    "### Cross Validate ile kontroller : "
   ]
  },
  {
   "cell_type": "code",
   "execution_count": 32,
   "id": "65f189d3",
   "metadata": {},
   "outputs": [
    {
     "data": {
      "text/plain": [
       "test_accuracy           0.965942\n",
       "test_precision_micro    0.965942\n",
       "test_recall_micro       0.965942\n",
       "test_f1_micro           0.965942\n",
       "dtype: float64"
      ]
     },
     "execution_count": 32,
     "metadata": {},
     "output_type": "execute_result"
    }
   ],
   "source": [
    "from sklearn.model_selection import cross_val_score, cross_validate\n",
    "\n",
    "model = DecisionTreeClassifier(max_depth=None, random_state=101)\n",
    "\n",
    "scores = cross_validate(model, X_train, y_train, scoring = [\"accuracy\", \"precision_micro\", \"recall_micro\", \"f1_micro\"], cv = 10)\n",
    "df_scores = pd.DataFrame(scores, index = range(1, 11))\n",
    "df_scores.mean()[2:]\n",
    "\n",
    "# Multiclasslar için : \n",
    "# eğer tüm sınıflar dengeli ise skorlar birbirlerine yakınsa micro skora(accuracy) bakarız.\n",
    "# eğer data da dengesizlik varsa ımbalanced durumu varsa macro,\n",
    "# eğer data da dengesizlik var ama skor sayısı fazla olan gözlemlere göre sonuç almak istersek ise weighted yapılır. "
   ]
  },
  {
   "cell_type": "markdown",
   "id": "9fd08cf4",
   "metadata": {},
   "source": [
    "### Feature İmportance : "
   ]
  },
  {
   "cell_type": "code",
   "execution_count": 33,
   "id": "0dbfbc2b",
   "metadata": {},
   "outputs": [
    {
     "data": {
      "text/plain": [
       "array([0.33369511, 0.05366774, 0.542054  , 0.00239775, 0.0681854 ,\n",
       "       0.        , 0.        ])"
      ]
     },
     "execution_count": 33,
     "metadata": {},
     "output_type": "execute_result"
    }
   ],
   "source": [
    "dt_model.feature_importances_\n",
    "# her futureye karşılık gelen önem katsayısıdır. yani sırasıyla hangi future target için daha önemli onu gösterir. "
   ]
  },
  {
   "cell_type": "code",
   "execution_count": 35,
   "id": "dbd01d5b",
   "metadata": {},
   "outputs": [
    {
     "data": {
      "text/html": [
       "<div>\n",
       "<style scoped>\n",
       "    .dataframe tbody tr th:only-of-type {\n",
       "        vertical-align: middle;\n",
       "    }\n",
       "\n",
       "    .dataframe tbody tr th {\n",
       "        vertical-align: top;\n",
       "    }\n",
       "\n",
       "    .dataframe thead th {\n",
       "        text-align: right;\n",
       "    }\n",
       "</style>\n",
       "<table border=\"1\" class=\"dataframe\">\n",
       "  <thead>\n",
       "    <tr style=\"text-align: right;\">\n",
       "      <th></th>\n",
       "      <th>Feature Importance</th>\n",
       "    </tr>\n",
       "  </thead>\n",
       "  <tbody>\n",
       "    <tr>\n",
       "      <th>island_Torgersen</th>\n",
       "      <td>0.000000</td>\n",
       "    </tr>\n",
       "    <tr>\n",
       "      <th>sex_MALE</th>\n",
       "      <td>0.000000</td>\n",
       "    </tr>\n",
       "    <tr>\n",
       "      <th>body_mass_g</th>\n",
       "      <td>0.002398</td>\n",
       "    </tr>\n",
       "    <tr>\n",
       "      <th>culmen_depth_mm</th>\n",
       "      <td>0.053668</td>\n",
       "    </tr>\n",
       "    <tr>\n",
       "      <th>island_Dream</th>\n",
       "      <td>0.068185</td>\n",
       "    </tr>\n",
       "    <tr>\n",
       "      <th>culmen_length_mm</th>\n",
       "      <td>0.333695</td>\n",
       "    </tr>\n",
       "    <tr>\n",
       "      <th>flipper_length_mm</th>\n",
       "      <td>0.542054</td>\n",
       "    </tr>\n",
       "  </tbody>\n",
       "</table>\n",
       "</div>"
      ],
      "text/plain": [
       "                   Feature Importance\n",
       "island_Torgersen             0.000000\n",
       "sex_MALE                     0.000000\n",
       "body_mass_g                  0.002398\n",
       "culmen_depth_mm              0.053668\n",
       "island_Dream                 0.068185\n",
       "culmen_length_mm             0.333695\n",
       "flipper_length_mm            0.542054"
      ]
     },
     "execution_count": 35,
     "metadata": {},
     "output_type": "execute_result"
    }
   ],
   "source": [
    "# futurelerin önem katsayılarını daha iyi görmek adına dataframeye çevirdik :\n",
    "\n",
    "df_f_i = pd.DataFrame(index=X.columns, data = dt_model.feature_importances_, \n",
    "                      columns = [\"Feature Importance\"]).sort_values(\"Feature Importance\")\n",
    "df_f_i\n",
    "\n",
    "# target değerlerini tahmin etmede en fazla yüzdeye sahip futuremiz flipper_length_mm olduğu görülmüştür. "
   ]
  },
  {
   "cell_type": "code",
   "execution_count": 36,
   "id": "91108900",
   "metadata": {},
   "outputs": [
    {
     "data": {
      "image/png": "[encoded data removed]",
      "text/plain": [
       "<Figure size 576x396 with 1 Axes>"
      ]
     },
     "metadata": {},
     "output_type": "display_data"
    }
   ],
   "source": [
    "sns.barplot(x = df_f_i.index, y = 'Feature Importance', data = df_f_i)\n",
    "plt.xticks(rotation = 90)\n",
    "plt.tight_layout()\n",
    "# futurelerin önem yüzdelerini grafiksel olarak gösterdik."
   ]
  },
  {
   "cell_type": "markdown",
   "id": "d98a1a50",
   "metadata": {},
   "source": [
    "### Decision Tree için Uyarı !!! : \n",
    "\n",
    "Yukarıda da görüldüğü üzere bazen bazı futureler targeti tahmin etmede oldukça yüksek yüzdeye sahip olmaktadır. bu durum bizi overfitng durumuna götürebilmektedir. Bu datamızda flipper_length_mm futuresi tek başına targeti tahminde % 55 lik paya sahip olduğu ortaya çıktı. Decision tree için bu durum bir handikap ortaya çıkarmaktadır. çünkü future targeti tahminde yüksek yüzdeye sahipse diğer futurelere başvurmaz ve bu durum overfiting ortaya çıkarabilir. Diğer futureleri önemsizleştirmektedir.\n",
    "\n",
    "Çok önemli futurelerde bizi ovrfitinge götürebilmektedir. "
   ]
  },
  {
   "cell_type": "markdown",
   "id": "a79adf0b",
   "metadata": {},
   "source": [
    "### En önemli yüzdeye sahip futuremizi düşürüp te skorlarımıza bakalım : "
   ]
  },
  {
   "cell_type": "code",
   "execution_count": 37,
   "id": "de8bef3b",
   "metadata": {},
   "outputs": [
    {
     "data": {
      "text/plain": [
       "DecisionTreeClassifier(random_state=101)"
      ]
     },
     "execution_count": 37,
     "metadata": {},
     "output_type": "execute_result"
    }
   ],
   "source": [
    "X2 = X.drop(columns = [\"flipper_length_mm\"]) \n",
    "# yeni dataframe oluşturduk ve en önemli futuremizi düşürdük.\n",
    "\n",
    "X_train2, X_test2, y_train2, y_test2 = train_test_split(X2, y, test_size=0.3, random_state=101)\n",
    "dt_model2 = DecisionTreeClassifier(random_state=101)\n",
    "dt_model2.fit(X_train2, y_train2) "
   ]
  },
  {
   "cell_type": "code",
   "execution_count": 39,
   "id": "baaa577b",
   "metadata": {},
   "outputs": [
    {
     "name": "stdout",
     "output_type": "stream",
     "text": [
      "Test_Set\n",
      "[[41  0  0]\n",
      " [ 1 22  0]\n",
      " [ 1  0 36]]\n",
      "              precision    recall  f1-score   support\n",
      "\n",
      "      Adelie       0.95      1.00      0.98        41\n",
      "   Chinstrap       1.00      0.96      0.98        23\n",
      "      Gentoo       1.00      0.97      0.99        37\n",
      "\n",
      "    accuracy                           0.98       101\n",
      "   macro avg       0.98      0.98      0.98       101\n",
      "weighted avg       0.98      0.98      0.98       101\n",
      "\n",
      "\n",
      "Train_Set\n",
      "[[105   0   0]\n",
      " [  0  45   0]\n",
      " [  0   0  83]]\n",
      "              precision    recall  f1-score   support\n",
      "\n",
      "      Adelie       1.00      1.00      1.00       105\n",
      "   Chinstrap       1.00      1.00      1.00        45\n",
      "      Gentoo       1.00      1.00      1.00        83\n",
      "\n",
      "    accuracy                           1.00       233\n",
      "   macro avg       1.00      1.00      1.00       233\n",
      "weighted avg       1.00      1.00      1.00       233\n",
      "\n"
     ]
    }
   ],
   "source": [
    "eval_metric(dt_model2, X_train2, y_train2, X_test2, y_test2)\n",
    "\n",
    "# skorlar mükemmelleşti."
   ]
  },
  {
   "cell_type": "code",
   "execution_count": 40,
   "id": "a83bffc5",
   "metadata": {},
   "outputs": [
    {
     "data": {
      "text/plain": [
       "test_accuracy           0.991486\n",
       "test_precision_micro    0.991486\n",
       "test_recall_micro       0.991486\n",
       "test_f1_micro           0.991486\n",
       "dtype: float64"
      ]
     },
     "execution_count": 40,
     "metadata": {},
     "output_type": "execute_result"
    }
   ],
   "source": [
    "model = DecisionTreeClassifier(random_state=101)\n",
    "\n",
    "scores = cross_validate(model, X_train2, y_train2, scoring = [\"accuracy\", \"precision_micro\", \"recall_micro\", \"f1_micro\"], \n",
    "                        cv = 10)\n",
    "df_scores = pd.DataFrame(scores, index = range(1, 11))\n",
    "df_scores.mean()[2:]\n",
    "\n",
    "# skorları kontrol ettik."
   ]
  },
  {
   "cell_type": "markdown",
   "id": "cb65020b",
   "metadata": {},
   "source": [
    "### sonuç : \n",
    "\n",
    "Decision_Tree algoritması için en önemli yüzdelik öneme sahip katsayıya muhakkak bakılmalı. eğer yüzdesi oldukça fazla ise düşürülüp bir daha skorlarına bakılmalıdır. biz düşürüp baktık ve skorlarda ciddi bir artış oldu."
   ]
  },
  {
   "cell_type": "markdown",
   "id": "ddaa8da8",
   "metadata": {},
   "source": [
    "### Her bir target değerimiz için cross validate skorlarına bakabiliriz : "
   ]
  },
  {
   "cell_type": "code",
   "execution_count": 46,
   "id": "34c282dd",
   "metadata": {},
   "outputs": [
    {
     "name": "stdout",
     "output_type": "stream",
     "text": [
      "Test datamız için classlara göre skorlar : \n",
      "test_precision-Adelie       0.920000\n",
      "test_recall-Adelie          0.975000\n",
      "test_f1-Adelie              0.941270\n",
      "test_precision-Chinstrap    0.933333\n",
      "test_recall-Chinstrap       0.850000\n",
      "test_f1-Chinstrap           0.866667\n",
      "test_precision-Gentoo       0.975000\n",
      "test_recall-Gentoo          0.950000\n",
      "test_f1-Gentoo              0.957143\n",
      "dtype: float64\n",
      "..........\n",
      "Train datamız için classlara göre skorlar : \n",
      "test_precision-Adelie       1.000000\n",
      "test_recall-Adelie          0.980909\n",
      "test_f1-Adelie              0.989975\n",
      "test_precision-Chinstrap    0.983333\n",
      "test_recall-Chinstrap       1.000000\n",
      "test_f1-Chinstrap           0.990909\n",
      "test_precision-Gentoo       0.988889\n",
      "test_recall-Gentoo          1.000000\n",
      "test_f1-Gentoo              0.994118\n",
      "dtype: float64\n"
     ]
    }
   ],
   "source": [
    "from sklearn.metrics import make_scorer\n",
    "\n",
    "scoring = {'precision-Adelie': make_scorer(precision_score,  average=None, labels=[\"Adelie\"]),\n",
    "           'recall-Adelie': make_scorer(recall_score, average=None, labels =[\"Adelie\"]),\n",
    "           'f1-Adelie': make_scorer(f1_score, average=None, labels = [\"Adelie\"]),\n",
    "          \n",
    "          'precision-Chinstrap': make_scorer(precision_score,  average=None, labels=[\"Chinstrap\"]),\n",
    "          'recall-Chinstrap': make_scorer(recall_score, average=None, labels=[\"Chinstrap\"]),\n",
    "          'f1-Chinstrap': make_scorer(f1_score, average=None, labels=[\"Chinstrap\"]),\n",
    "          \n",
    "          \n",
    "          'precision-Gentoo': make_scorer(precision_score,  average=None, labels=[\"Gentoo\"]),\n",
    "          'recall-Gentoo': make_scorer(recall_score, average=None, labels = [\"Gentoo\"]),\n",
    "          'f1-Gentoo': make_scorer(f1_score, average=None, labels = [\"Gentoo\"]),\n",
    "          \n",
    "          }\n",
    "\n",
    "model = DecisionTreeClassifier(max_depth=None, random_state=101)\n",
    "\n",
    "scores = cross_validate(model, X_test2, y_test2, scoring = scoring, cv = 10)\n",
    "df_scores = pd.DataFrame(scores, index = range(1, 11))\n",
    "print(\"Test datamız için classlara göre skorlar : \")\n",
    "print(df_scores.mean()[2:])\n",
    "print(\"..........\")\n",
    "\n",
    "model2 = DecisionTreeClassifier(max_depth=None, random_state=101)\n",
    "\n",
    "scores2 = cross_validate(model2, X_train2, y_train2, scoring = scoring, cv = 10)\n",
    "df_scores2 = pd.DataFrame(scores2, index = range(1, 11))\n",
    "print(\"Train datamız için classlara göre skorlar : \")\n",
    "print(df_scores2.mean()[2:])"
   ]
  },
  {
   "cell_type": "markdown",
   "id": "d5c52363",
   "metadata": {},
   "source": [
    "## Parametreler : "
   ]
  },
  {
   "cell_type": "markdown",
   "id": "d3be36ba",
   "metadata": {},
   "source": [
    "### Visualize the Tree : "
   ]
  },
  {
   "cell_type": "code",
   "execution_count": 48,
   "id": "fb730e0f",
   "metadata": {},
   "outputs": [],
   "source": [
    "from sklearn.tree import plot_tree\n",
    "# ağaç çalışmasının grafiksel gösterimini çizdirir."
   ]
  },
  {
   "cell_type": "code",
   "execution_count": 50,
   "id": "c1e7801e",
   "metadata": {},
   "outputs": [
    {
     "data": {
      "image/png": "[encoded data removed]",
      "text/plain": [
       "<Figure size 1200x800 with 1 Axes>"
      ]
     },
     "metadata": {},
     "output_type": "display_data"
    }
   ],
   "source": [
    "plt.figure(figsize=(12,8),dpi=100)\n",
    "plot_tree(dt_model, filled=True, feature_names=X.columns, class_names=df.species.unique());\n",
    "# bu daha anlaşılır. hangi classa ait olduğunu bana göstermesi için unique değerlerini atamasını istedik."
   ]
  },
  {
   "cell_type": "markdown",
   "id": "df88e44c",
   "metadata": {},
   "source": [
    "### Decision Tree için en önemli parametreler : "
   ]
  },
  {
   "cell_type": "markdown",
   "id": "7d63ffd5",
   "metadata": {},
   "source": [
    "#### 1-) max_depth : \n",
    "Tree base modellerde en önemli parametredir. ağacın ineceği derinliktir. ağacın kaç adet dallanacağına karar veren parametredir. örneğin 2 sayısını verdik, 3 e kadar dal yapar.  default parametresi None dir. bütün sınıfları ayırana kadar dallanmaya devam etsin istersek None değeri veririz.  ama bu train seti için yüzde yüz doğru skora ulaştırabilir ama test için aynısı çok geçerli değildir.  Bu da overfiting tehlikesi getirebilmektedir. \n",
    "\n",
    "#### 2-) min sample spilt : \n",
    "Bir yaprağın bölünme şartıdır. Yaprağın içine alacağı gözlem sayılarını belirler. eğer min_sample splite verdiğimiz değeri ayarlayamassak yaprak bölünemez. dallanmayı kontrol etmeye yardım eder. \n",
    "\n",
    "#### 3-) min samples leaf : \n",
    "Bir yaprağın yaprak olarak kabul edilebilmesi için o yaprakta bulunması gereken gözlem sayısıdır. \n",
    "\n",
    "#### 4-) max_leaf_nodes : \n",
    "En sonda kalan yaprak sayısını ayarlamaktadır. \n",
    "\n",
    "#### 5-) splitter : \n",
    "Default best, diğeri randomdur. best en güzel soru ile datayı ayır demektir, random ise rastgele soru sorar. ve sonunda en kuvvetli futureyi seçer.  best, targeti tahminde en yüksek katsayıya sahip futureyi seçerek ilk yaprağı başlatır. \n",
    "\n",
    "#### 6-) max_features : \n",
    "None değerindeyken datada ki en yüksek katsayıya sahip futureyi seçip onun üzerinden ayrım yapmaya başlar. yani her yaprak için sırasıyla gelen her gözleme ne kadar future varsa onun üzerinden ayrım yapar. max_features sayısına göre future seçer ve her gözlem için en iyi future seçer ve ona göre ayrım yapar. \n",
    "\n",
    "#### 7-) criterion : \n",
    "Bölme kriteridir. Gini ve entropy olarak 2 ye ayrılır. data da ne kadar farklı değer varsa gini ve entropy katsayısı o kadar artar. gini ve entropy 0 ise tüm gözlemlerin aynı sınıfa ait olduğunu göstermektedir. \n",
    "\n",
    "gini tahminleri olasılık üzerine hesaplarken, entropy log 2 tabanı üzerinden hesaplar. "
   ]
  },
  {
   "cell_type": "code",
   "execution_count": null,
   "id": "6defe628",
   "metadata": {},
   "outputs": [],
   "source": []
  },
  {
   "cell_type": "markdown",
   "id": "1e8d95b8",
   "metadata": {},
   "source": [
    "### GridSearchCV Best params : "
   ]
  },
  {
   "cell_type": "code",
   "execution_count": 53,
   "id": "b6f072fa",
   "metadata": {},
   "outputs": [
    {
     "data": {
      "text/plain": [
       "GridSearchCV(cv=10, estimator=DecisionTreeClassifier(random_state=101),\n",
       "             n_jobs=-1,\n",
       "             param_grid={'max_depth': [None, 2, 3, 4, 5],\n",
       "                         'max_features': [None, 'auto', 'log2', 2, 3, 4, 5, 6,\n",
       "                                          7],\n",
       "                         'min_samples_leaf': [1, 2, 3, 4, 5, 6, 7],\n",
       "                         'min_samples_split': [2, 3, 5, 6, 7, 8, 9],\n",
       "                         'splitter': ['best', 'random']},\n",
       "             scoring='recall_micro')"
      ]
     },
     "execution_count": 53,
     "metadata": {},
     "output_type": "execute_result"
    }
   ],
   "source": [
    "from sklearn.model_selection import GridSearchCV\n",
    "model = DecisionTreeClassifier(random_state=101)\n",
    "param_grid = {\"splitter\":[\"best\", \"random\"],\n",
    "              \"max_features\":[None, \"auto\", \"log2\", 2, 3,4, 5,6, 7,8,9],\n",
    "              # ayrım yapmak için : \n",
    "              # auto demek future sayısının karekökünü al demek, None demek ne kadar future sayısı varsa onu al demek,\n",
    "              # log2 demek ne kadar future varsa onun 2 tabanında logaritmasını alır ve çıkarsa o değeri alır.\n",
    "              \n",
    "              \"max_depth\": [None, 2, 3, 4, 5,6, 7],\n",
    "              \"min_samples_leaf\": [1, 2, 3, 4, 5, 6, 7],\n",
    "              \"min_samples_split\": [2, 3, 5, 6, 7, 8, 9]}\n",
    "grid_model = GridSearchCV(estimator=model,\n",
    "                          param_grid=param_grid,\n",
    "                          scoring='recall_micro',\n",
    "                          cv=10,\n",
    "                          n_jobs = -1)\n",
    "\n",
    "grid_model.fit(X_train2, y_train2)"
   ]
  },
  {
   "cell_type": "code",
   "execution_count": 54,
   "id": "9952c374",
   "metadata": {},
   "outputs": [
    {
     "name": "stdout",
     "output_type": "stream",
     "text": [
      "Test_Set\n",
      "[[41  0  0]\n",
      " [ 1 22  0]\n",
      " [ 1  0 36]]\n",
      "              precision    recall  f1-score   support\n",
      "\n",
      "      Adelie       0.95      1.00      0.98        41\n",
      "   Chinstrap       1.00      0.96      0.98        23\n",
      "      Gentoo       1.00      0.97      0.99        37\n",
      "\n",
      "    accuracy                           0.98       101\n",
      "   macro avg       0.98      0.98      0.98       101\n",
      "weighted avg       0.98      0.98      0.98       101\n",
      "\n",
      "\n",
      "Train_Set\n",
      "[[105   0   0]\n",
      " [  0  45   0]\n",
      " [  0   0  83]]\n",
      "              precision    recall  f1-score   support\n",
      "\n",
      "      Adelie       1.00      1.00      1.00       105\n",
      "   Chinstrap       1.00      1.00      1.00        45\n",
      "      Gentoo       1.00      1.00      1.00        83\n",
      "\n",
      "    accuracy                           1.00       233\n",
      "   macro avg       1.00      1.00      1.00       233\n",
      "weighted avg       1.00      1.00      1.00       233\n",
      "\n"
     ]
    }
   ],
   "source": [
    "eval_metric(grid_model, X_train2, y_train2, X_test2, y_test2)"
   ]
  },
  {
   "cell_type": "code",
   "execution_count": 55,
   "id": "f304012f",
   "metadata": {},
   "outputs": [
    {
     "data": {
      "text/plain": [
       "{'max_depth': None,\n",
       " 'max_features': None,\n",
       " 'min_samples_leaf': 1,\n",
       " 'min_samples_split': 2,\n",
       " 'splitter': 'best'}"
      ]
     },
     "execution_count": 55,
     "metadata": {},
     "output_type": "execute_result"
    }
   ],
   "source": [
    "grid_model.best_params_"
   ]
  },
  {
   "cell_type": "code",
   "execution_count": 77,
   "id": "0a5f0d55",
   "metadata": {},
   "outputs": [
    {
     "data": {
      "image/png": "[encoded data removed]",
      "text/plain": [
       "<Figure size 576x396 with 2 Axes>"
      ]
     },
     "metadata": {},
     "output_type": "display_data"
    }
   ],
   "source": [
    "plot_confusion_matrix(grid_model, X_test2, y_test2);\n",
    "# sadece Adelie de 2 tane hata yapmış."
   ]
  },
  {
   "cell_type": "markdown",
   "id": "40a416ed",
   "metadata": {},
   "source": [
    "### Final Model : "
   ]
  },
  {
   "cell_type": "code",
   "execution_count": 61,
   "id": "88707adf",
   "metadata": {},
   "outputs": [],
   "source": [
    "X1 = X.drop(\"flipper_length_mm\", axis=1)"
   ]
  },
  {
   "cell_type": "code",
   "execution_count": 62,
   "id": "2aa62943",
   "metadata": {},
   "outputs": [
    {
     "data": {
      "text/plain": [
       "DecisionTreeClassifier(random_state=101)"
      ]
     },
     "execution_count": 62,
     "metadata": {},
     "output_type": "execute_result"
    }
   ],
   "source": [
    "final_model = DecisionTreeClassifier(max_depth=None, max_features=None, min_samples_leaf=1, \n",
    "                                     min_samples_split=2,splitter=\"best\", random_state=101)\n",
    "\n",
    "final_model.fit(X1, y)"
   ]
  },
  {
   "cell_type": "code",
   "execution_count": 63,
   "id": "75e44c97",
   "metadata": {},
   "outputs": [],
   "source": [
    "y_pred = final_model.predict(X1)\n",
    "\n",
    "data = pd.concat([X1.head(15), y.head(15)], axis=1)"
   ]
  },
  {
   "cell_type": "code",
   "execution_count": 70,
   "id": "9a052f33",
   "metadata": {},
   "outputs": [],
   "source": [
    "data[\"tahmin\"] = y_pred[0:15]"
   ]
  },
  {
   "cell_type": "code",
   "execution_count": 71,
   "id": "0f405fa7",
   "metadata": {},
   "outputs": [
    {
     "data": {
      "text/html": [
       "<div>\n",
       "<style scoped>\n",
       "    .dataframe tbody tr th:only-of-type {\n",
       "        vertical-align: middle;\n",
       "    }\n",
       "\n",
       "    .dataframe tbody tr th {\n",
       "        vertical-align: top;\n",
       "    }\n",
       "\n",
       "    .dataframe thead th {\n",
       "        text-align: right;\n",
       "    }\n",
       "</style>\n",
       "<table border=\"1\" class=\"dataframe\">\n",
       "  <thead>\n",
       "    <tr style=\"text-align: right;\">\n",
       "      <th></th>\n",
       "      <th>culmen_length_mm</th>\n",
       "      <th>culmen_depth_mm</th>\n",
       "      <th>body_mass_g</th>\n",
       "      <th>island_Dream</th>\n",
       "      <th>island_Torgersen</th>\n",
       "      <th>sex_MALE</th>\n",
       "      <th>species</th>\n",
       "      <th>tahmin</th>\n",
       "    </tr>\n",
       "  </thead>\n",
       "  <tbody>\n",
       "    <tr>\n",
       "      <th>0</th>\n",
       "      <td>39.1</td>\n",
       "      <td>18.7</td>\n",
       "      <td>3750.0</td>\n",
       "      <td>0</td>\n",
       "      <td>1</td>\n",
       "      <td>1</td>\n",
       "      <td>Adelie</td>\n",
       "      <td>Adelie</td>\n",
       "    </tr>\n",
       "    <tr>\n",
       "      <th>1</th>\n",
       "      <td>39.5</td>\n",
       "      <td>17.4</td>\n",
       "      <td>3800.0</td>\n",
       "      <td>0</td>\n",
       "      <td>1</td>\n",
       "      <td>0</td>\n",
       "      <td>Adelie</td>\n",
       "      <td>Adelie</td>\n",
       "    </tr>\n",
       "    <tr>\n",
       "      <th>2</th>\n",
       "      <td>40.3</td>\n",
       "      <td>18.0</td>\n",
       "      <td>3250.0</td>\n",
       "      <td>0</td>\n",
       "      <td>1</td>\n",
       "      <td>0</td>\n",
       "      <td>Adelie</td>\n",
       "      <td>Adelie</td>\n",
       "    </tr>\n",
       "    <tr>\n",
       "      <th>4</th>\n",
       "      <td>36.7</td>\n",
       "      <td>19.3</td>\n",
       "      <td>3450.0</td>\n",
       "      <td>0</td>\n",
       "      <td>1</td>\n",
       "      <td>0</td>\n",
       "      <td>Adelie</td>\n",
       "      <td>Adelie</td>\n",
       "    </tr>\n",
       "    <tr>\n",
       "      <th>5</th>\n",
       "      <td>39.3</td>\n",
       "      <td>20.6</td>\n",
       "      <td>3650.0</td>\n",
       "      <td>0</td>\n",
       "      <td>1</td>\n",
       "      <td>1</td>\n",
       "      <td>Adelie</td>\n",
       "      <td>Adelie</td>\n",
       "    </tr>\n",
       "    <tr>\n",
       "      <th>6</th>\n",
       "      <td>38.9</td>\n",
       "      <td>17.8</td>\n",
       "      <td>3625.0</td>\n",
       "      <td>0</td>\n",
       "      <td>1</td>\n",
       "      <td>0</td>\n",
       "      <td>Adelie</td>\n",
       "      <td>Adelie</td>\n",
       "    </tr>\n",
       "    <tr>\n",
       "      <th>7</th>\n",
       "      <td>39.2</td>\n",
       "      <td>19.6</td>\n",
       "      <td>4675.0</td>\n",
       "      <td>0</td>\n",
       "      <td>1</td>\n",
       "      <td>1</td>\n",
       "      <td>Adelie</td>\n",
       "      <td>Adelie</td>\n",
       "    </tr>\n",
       "    <tr>\n",
       "      <th>12</th>\n",
       "      <td>41.1</td>\n",
       "      <td>17.6</td>\n",
       "      <td>3200.0</td>\n",
       "      <td>0</td>\n",
       "      <td>1</td>\n",
       "      <td>0</td>\n",
       "      <td>Adelie</td>\n",
       "      <td>Adelie</td>\n",
       "    </tr>\n",
       "    <tr>\n",
       "      <th>13</th>\n",
       "      <td>38.6</td>\n",
       "      <td>21.2</td>\n",
       "      <td>3800.0</td>\n",
       "      <td>0</td>\n",
       "      <td>1</td>\n",
       "      <td>1</td>\n",
       "      <td>Adelie</td>\n",
       "      <td>Adelie</td>\n",
       "    </tr>\n",
       "    <tr>\n",
       "      <th>14</th>\n",
       "      <td>34.6</td>\n",
       "      <td>21.1</td>\n",
       "      <td>4400.0</td>\n",
       "      <td>0</td>\n",
       "      <td>1</td>\n",
       "      <td>1</td>\n",
       "      <td>Adelie</td>\n",
       "      <td>Adelie</td>\n",
       "    </tr>\n",
       "    <tr>\n",
       "      <th>15</th>\n",
       "      <td>36.6</td>\n",
       "      <td>17.8</td>\n",
       "      <td>3700.0</td>\n",
       "      <td>0</td>\n",
       "      <td>1</td>\n",
       "      <td>0</td>\n",
       "      <td>Adelie</td>\n",
       "      <td>Adelie</td>\n",
       "    </tr>\n",
       "    <tr>\n",
       "      <th>16</th>\n",
       "      <td>38.7</td>\n",
       "      <td>19.0</td>\n",
       "      <td>3450.0</td>\n",
       "      <td>0</td>\n",
       "      <td>1</td>\n",
       "      <td>0</td>\n",
       "      <td>Adelie</td>\n",
       "      <td>Adelie</td>\n",
       "    </tr>\n",
       "    <tr>\n",
       "      <th>17</th>\n",
       "      <td>42.5</td>\n",
       "      <td>20.7</td>\n",
       "      <td>4500.0</td>\n",
       "      <td>0</td>\n",
       "      <td>1</td>\n",
       "      <td>1</td>\n",
       "      <td>Adelie</td>\n",
       "      <td>Adelie</td>\n",
       "    </tr>\n",
       "    <tr>\n",
       "      <th>18</th>\n",
       "      <td>34.4</td>\n",
       "      <td>18.4</td>\n",
       "      <td>3325.0</td>\n",
       "      <td>0</td>\n",
       "      <td>1</td>\n",
       "      <td>0</td>\n",
       "      <td>Adelie</td>\n",
       "      <td>Adelie</td>\n",
       "    </tr>\n",
       "    <tr>\n",
       "      <th>19</th>\n",
       "      <td>46.0</td>\n",
       "      <td>21.5</td>\n",
       "      <td>4200.0</td>\n",
       "      <td>0</td>\n",
       "      <td>1</td>\n",
       "      <td>1</td>\n",
       "      <td>Adelie</td>\n",
       "      <td>Adelie</td>\n",
       "    </tr>\n",
       "  </tbody>\n",
       "</table>\n",
       "</div>"
      ],
      "text/plain": [
       "    culmen_length_mm  culmen_depth_mm  body_mass_g  island_Dream  \\\n",
       "0               39.1             18.7       3750.0             0   \n",
       "1               39.5             17.4       3800.0             0   \n",
       "2               40.3             18.0       3250.0             0   \n",
       "4               36.7             19.3       3450.0             0   \n",
       "5               39.3             20.6       3650.0             0   \n",
       "6               38.9             17.8       3625.0             0   \n",
       "7               39.2             19.6       4675.0             0   \n",
       "12              41.1             17.6       3200.0             0   \n",
       "13              38.6             21.2       3800.0             0   \n",
       "14              34.6             21.1       4400.0             0   \n",
       "15              36.6             17.8       3700.0             0   \n",
       "16              38.7             19.0       3450.0             0   \n",
       "17              42.5             20.7       4500.0             0   \n",
       "18              34.4             18.4       3325.0             0   \n",
       "19              46.0             21.5       4200.0             0   \n",
       "\n",
       "    island_Torgersen  sex_MALE species  tahmin  \n",
       "0                  1         1  Adelie  Adelie  \n",
       "1                  1         0  Adelie  Adelie  \n",
       "2                  1         0  Adelie  Adelie  \n",
       "4                  1         0  Adelie  Adelie  \n",
       "5                  1         1  Adelie  Adelie  \n",
       "6                  1         0  Adelie  Adelie  \n",
       "7                  1         1  Adelie  Adelie  \n",
       "12                 1         0  Adelie  Adelie  \n",
       "13                 1         1  Adelie  Adelie  \n",
       "14                 1         1  Adelie  Adelie  \n",
       "15                 1         0  Adelie  Adelie  \n",
       "16                 1         0  Adelie  Adelie  \n",
       "17                 1         1  Adelie  Adelie  \n",
       "18                 1         0  Adelie  Adelie  \n",
       "19                 1         1  Adelie  Adelie  "
      ]
     },
     "execution_count": 71,
     "metadata": {},
     "output_type": "execute_result"
    }
   ],
   "source": [
    "data"
   ]
  },
  {
   "cell_type": "code",
   "execution_count": null,
   "id": "1ec01380",
   "metadata": {},
   "outputs": [],
   "source": []
  }
 ],
 "metadata": {
  "kernelspec": {
   "display_name": "Python 3 (ipykernel)",
   "language": "python",
   "name": "python3"
  },
  "language_info": {
   "codemirror_mode": {
    "name": "ipython",
    "version": 3
   },
   "file_extension": ".py",
   "mimetype": "text/x-python",
   "name": "python",
   "nbconvert_exporter": "python",
   "pygments_lexer": "ipython3",
   "version": "3.9.7"
  }
 },
 "nbformat": 4,
 "nbformat_minor": 5
}
