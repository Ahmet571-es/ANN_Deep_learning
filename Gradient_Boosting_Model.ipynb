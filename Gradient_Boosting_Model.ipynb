{
 "cells": [
  {
   "cell_type": "markdown",
   "id": "78ffbac1",
   "metadata": {},
   "source": [
    "## Ensemble algoritmaları :\n",
    "Ensemble method için Bagging algoritmalardan Random forestı gördük.\n",
    "\n",
    "aynı veri seti üzerinde farklı modellerin eğitimini sağlar. Her model kendi tahminini yapar ve tahminlerin birleşiminden bir meta model oluşturulur. böylece en başarılı tahmini yapan güçlü bir model oluşturulur. İkiye ayrılır : bagging ve boosting olarak.\n",
    "\n",
    "#### Bagging ve boosting algoritm benzerlikleri :\n",
    "oylama üzerine çalışır, aynı türdeki modelleri birleştirir. yani sadece 1 model kullanırlar. Baggingde tüm modeller ayrı ayrı oluşur. her birisi ayrı ağaç oluşturuyor. onların oylarına istinaden bir karar alınır. Random forestta ise buna ek olarak featureslerin de oyları alınır. yani onların ağırlığına bakılır.\n",
    "\n",
    "#### Bagging ve boosting farkları :\n",
    "bagging te her bir data modele ayrı ayrı girer, yani her bir ağaça tüm data girer ve hepsinin skorları alınır en iyi skor alınan ağacın modeli kabul edilir. Boostingte her ağacın oyu eşit. bagging algoritmasının içine decision tree gömülü halde bulunur.\n",
    "\n",
    "Boostingte ise data ilk ağaca girer, sonrasında diğer ağaçlara yapraktan alınan sonuca göre girer, yani her yaprak birbirini etkiler. burda ise en iyi skor elde edenin oyu daha fazla olacaktır.\n",
    "\n",
    "bagging algoritmaları varyansı düşürmek için, boosting algoritmaları ise bias değerini düşürmek için hareket eder. sebebi ise bagging algoritmaları birbirlerinden habersiz çalışırlar yani tüm data her bir ağaca monte edilerek çalışır, boosting algoritmalarında ise her ağacın skoru diğer ağacı etkileyecektir.\n",
    "\n",
    "#### Bagging çalışma prensibi şu şekilde : örneğin bir muharlık seçimi var 100 kişi oy kullandı. hepsi birbirinin ne oy verdiğinde habersiz, ve oylama sonunda sandık sayılıyor, sonucunda 100 oydan en fazla oy alan muhtar oluyor. yani datayı her seferinde her ağaç datanın farklı yönlerine bakarak skorlar ve en yüksek skor alan seçilir.\n",
    "\n",
    "#### Boosting te ise : yine 100 kişi oy kullanıyor, ama bu sefer her oy kullanan birbirini etkiliyor, yani ilk oyu veren 2. oyu vereni, 2. oyu veren 3. oyu vereni etkiliyor. yani ilk ağacın baktığı yere 2. ağaç bakmıyor o farklı bir yere bakıyor ve sonrasında tüm veriler toplanır, ortalama değer alınır. er ağaç bilgisini diğer ağaca aktarır, bagginde ise aktarım olmaz.\n",
    "\n",
    "#### Boosting :\n",
    "\n",
    "Tüm datasetini alır, modele atar, bu model bir prediction yapar, predictiona göre yeniden yapılan hatalara göre data noktalarını ağırlıklandırır, sonra sıradaki modele gider ama bir önceki datadan elde ettiği bilgileri aktararak prediction yapar, sırasıyla tüm data bitinceye kadar bu süreç devam eder. sonra sırasıyla her modelin oyunu alır, en yüksek olan oya göre predict yapar. yani kısacası bir data seçer sonra ondan elde ettikleri ile sırasıyla tüm modellere bilgileri aktararak devam eder. en sonda en yüksek ağırlık değeri alanı seçer. Boosting algoritmada her bir ağaca stump denir.\n",
    "\n",
    "2 tane algoritması vardır. AdaBoost ve Gradient Boosting tir. En önemli hyper parametreleri base_estimator ve n_estimator dur.\n",
    "\n",
    "#### AdaBoost :\n",
    "Datayı seçiyor ve onu en iyi böleceği yeri bulup ordan bölüyor. sonra tahminleme yapıyor. yapılan hatalı tahminne göre bir sonra ki ağacı farklı bir noktadan bölüyor. sonra o ağaçta yaptığı hatalı tahminlere göre yine diğer ağacı farklı yerden ayırıyor. her hata değeri sonucu bir ağırlık katsayısı hesaplanır. hata ne kadar az ise ağırlık değeri o kadar fazla olur. ve en fazla ağırlık değeri olan seçilir. log2 tabanına göre ağırlıkları hesaplanır. yalış tahmin edilen yerler ağırlıklandırılarak çalışır.\n",
    "\n",
    "a . base_estimator parameteresi : Default bırakırsak max_depth değeri 1 olan, bir decision tree oluşturur. eğer logistic regression verirsek ise logistic regresyon oluşturur.\n",
    "\n",
    "b. n_estimators : default değeri 50 dir. kaç tane oluşturacağımız ağaç adedi.\n",
    "\n",
    "#### Gradient Boosting :\n",
    "Bir önceki modelin yaptığı hataları iyileştirme üzerine çalışıyor. elimizde X futureler ve y targetımız var. ilk modele sokuyor. y - y_pred = residual değerlerini buluyor. sonra 2. modele geçerken artık futreler ile diğer residualleri tahmin etmeye çalışıyor. yani ilk model residual değerinden 2. model resudial değerlerini çıkarıyor. ve sırasıyla tüm model bitinceue kadar bu yöntem ile ilerliyor. learning_rate değeri sayısı kadar resudial değerlerini çıkarır. learning_rate = 0 olsun diyelim. resudial değeri 0 oluncaya kadar devam eder ama overfit durumu olabilir.\n",
    "\n",
    "#### XGBoost (Extreme Gradient Boosting) :\n",
    "En kullanışlı boosting algoritması. kendi içinde bir alfa değeri gibi regulazisyon değeri uygulayabiliriz. missing value de bile çalışabilir. ama missing valueden mutlaka kurtulmak gerekir. her bir ağaca geçerken kendi içinde cross validate yapar. aynı zamanda tüm işlemcileri kullanabilmekteyiz. Büyük datalarda hızlıdır. Eda ya gerek kalmadan missing valueleri ekarte eder. feature importance(futurelerden hangisi daha önemli onu veriyor.) Görselleştirme yapılamaz. açıklaması çok zor. hyper parametresi oldukça fazla.\n",
    "\n",
    "a . n_estimator parametresi default olarak 100 tane belirlenmiş.\n",
    "b. subsample parametresi default olarak 1 belirlenmiş. 1 demek tüm veriyi kullan demektir. bölmeden kullan demek.\n",
    "c. max_depth : default değeri 3 tür.\n",
    "d. learning_rate : default değeri 0.1 dir. n_estimator ile learning_rate dengelenmelidir."
   ]
  },
  {
   "cell_type": "markdown",
   "id": "f4d596f5",
   "metadata": {},
   "source": [
    "#### Gradient Boosting çalışma mantığı : \n",
    "\n",
    "Regression için : \n",
    "\n",
    "Adaboosttan farklı bir çalıma şekli vardır. burda gerçek değerden tahmin edilen değer çıkarılır. sonra o çıkan farklı 0 değerine yaklaştırmaya çalışmaktadır. \n",
    "\n",
    "Classification için :\n",
    "\n",
    "her gözlem için bir başlangıç olasılığı belirler. Örneğin elmizde 4 tane 1, 2 tanede 0 değeri olsun. log10(4/2) = 0.69 değerini bulur. sonra log10(0.69) = 0.67 değerini bulur. sonuç 0.67 çıktığı için o da 0.5 ten büyüktür, o zaman ilk gözlem class değerini 1 ile başlatacak demektir. sonra 1 class değeri için : 1 - 0.67 = 0.33 resudial değerini atar. 0 için ise = 0.33 - 1 = -0.67 değerini resudial değeri olarak atar. sonra bir sonra ki ağaçta gelecek olan class değerine göre resudial değerini 0 ra yaklaştırmaya çalışır. ilk başlangıç olasılığı + learnin_rate * resudial ... ile tüm resudial değerlerini her bir class değeri için ayrı arı yapar. 1 classı için bir toplam, 0 classı için bir toplam elde eder. ilk class için elde edilen toplam 0.5 ten büyükse 1, 2. class için elde edilen toplam değeri 0.5 ten büyükse 1, 0.5 ten küçükse 0 olarak atayacaktı."
   ]
  },
  {
   "cell_type": "code",
   "execution_count": 2,
   "id": "8c2511d0",
   "metadata": {},
   "outputs": [],
   "source": [
    "import pandas as pd\n",
    "import numpy as np\n",
    "import matplotlib.pyplot as plt\n",
    "import seaborn as sns\n",
    "plt.rcParams[\"figure.figsize\"] = (10,6)\n",
    "import warnings\n",
    "warnings.filterwarnings(\"ignore\")\n",
    "warnings.warn(\"this will not show\")"
   ]
  },
  {
   "cell_type": "code",
   "execution_count": 3,
   "id": "6fbf3870",
   "metadata": {},
   "outputs": [
    {
     "data": {
      "text/html": [
       "<div>\n",
       "<style scoped>\n",
       "    .dataframe tbody tr th:only-of-type {\n",
       "        vertical-align: middle;\n",
       "    }\n",
       "\n",
       "    .dataframe tbody tr th {\n",
       "        vertical-align: top;\n",
       "    }\n",
       "\n",
       "    .dataframe thead th {\n",
       "        text-align: right;\n",
       "    }\n",
       "</style>\n",
       "<table border=\"1\" class=\"dataframe\">\n",
       "  <thead>\n",
       "    <tr style=\"text-align: right;\">\n",
       "      <th></th>\n",
       "      <th>Daily Time Spent on Site</th>\n",
       "      <th>Age</th>\n",
       "      <th>Area Income</th>\n",
       "      <th>Daily Internet Usage</th>\n",
       "      <th>Ad Topic Line</th>\n",
       "      <th>City</th>\n",
       "      <th>Male</th>\n",
       "      <th>Country</th>\n",
       "      <th>Timestamp</th>\n",
       "      <th>Clicked on Ad</th>\n",
       "    </tr>\n",
       "  </thead>\n",
       "  <tbody>\n",
       "    <tr>\n",
       "      <th>0</th>\n",
       "      <td>68.95</td>\n",
       "      <td>35</td>\n",
       "      <td>61833.90</td>\n",
       "      <td>256.09</td>\n",
       "      <td>Cloned 5thgeneration orchestration</td>\n",
       "      <td>Wrightburgh</td>\n",
       "      <td>0</td>\n",
       "      <td>Tunisia</td>\n",
       "      <td>2016-03-27 00:53:11</td>\n",
       "      <td>0</td>\n",
       "    </tr>\n",
       "    <tr>\n",
       "      <th>1</th>\n",
       "      <td>80.23</td>\n",
       "      <td>31</td>\n",
       "      <td>68441.85</td>\n",
       "      <td>193.77</td>\n",
       "      <td>Monitored national standardization</td>\n",
       "      <td>West Jodi</td>\n",
       "      <td>1</td>\n",
       "      <td>Nauru</td>\n",
       "      <td>2016-04-04 01:39:02</td>\n",
       "      <td>0</td>\n",
       "    </tr>\n",
       "    <tr>\n",
       "      <th>2</th>\n",
       "      <td>69.47</td>\n",
       "      <td>26</td>\n",
       "      <td>59785.94</td>\n",
       "      <td>236.50</td>\n",
       "      <td>Organic bottom-line service-desk</td>\n",
       "      <td>Davidton</td>\n",
       "      <td>0</td>\n",
       "      <td>San Marino</td>\n",
       "      <td>2016-03-13 20:35:42</td>\n",
       "      <td>0</td>\n",
       "    </tr>\n",
       "    <tr>\n",
       "      <th>3</th>\n",
       "      <td>74.15</td>\n",
       "      <td>29</td>\n",
       "      <td>54806.18</td>\n",
       "      <td>245.89</td>\n",
       "      <td>Triple-buffered reciprocal time-frame</td>\n",
       "      <td>West Terrifurt</td>\n",
       "      <td>1</td>\n",
       "      <td>Italy</td>\n",
       "      <td>2016-01-10 02:31:19</td>\n",
       "      <td>0</td>\n",
       "    </tr>\n",
       "    <tr>\n",
       "      <th>4</th>\n",
       "      <td>68.37</td>\n",
       "      <td>35</td>\n",
       "      <td>73889.99</td>\n",
       "      <td>225.58</td>\n",
       "      <td>Robust logistical utilization</td>\n",
       "      <td>South Manuel</td>\n",
       "      <td>0</td>\n",
       "      <td>Iceland</td>\n",
       "      <td>2016-06-03 03:36:18</td>\n",
       "      <td>0</td>\n",
       "    </tr>\n",
       "  </tbody>\n",
       "</table>\n",
       "</div>"
      ],
      "text/plain": [
       "   Daily Time Spent on Site  Age  Area Income  Daily Internet Usage  \\\n",
       "0                     68.95   35     61833.90                256.09   \n",
       "1                     80.23   31     68441.85                193.77   \n",
       "2                     69.47   26     59785.94                236.50   \n",
       "3                     74.15   29     54806.18                245.89   \n",
       "4                     68.37   35     73889.99                225.58   \n",
       "\n",
       "                           Ad Topic Line            City  Male     Country  \\\n",
       "0     Cloned 5thgeneration orchestration     Wrightburgh     0     Tunisia   \n",
       "1     Monitored national standardization       West Jodi     1       Nauru   \n",
       "2       Organic bottom-line service-desk        Davidton     0  San Marino   \n",
       "3  Triple-buffered reciprocal time-frame  West Terrifurt     1       Italy   \n",
       "4          Robust logistical utilization    South Manuel     0     Iceland   \n",
       "\n",
       "             Timestamp  Clicked on Ad  \n",
       "0  2016-03-27 00:53:11              0  \n",
       "1  2016-04-04 01:39:02              0  \n",
       "2  2016-03-13 20:35:42              0  \n",
       "3  2016-01-10 02:31:19              0  \n",
       "4  2016-06-03 03:36:18              0  "
      ]
     },
     "execution_count": 3,
     "metadata": {},
     "output_type": "execute_result"
    }
   ],
   "source": [
    "df = pd.read_csv('advertising2.csv')\n",
    "df.head()"
   ]
  },
  {
   "cell_type": "code",
   "execution_count": 4,
   "id": "302b694f",
   "metadata": {},
   "outputs": [
    {
     "name": "stdout",
     "output_type": "stream",
     "text": [
      "<class 'pandas.core.frame.DataFrame'>\n",
      "RangeIndex: 1000 entries, 0 to 999\n",
      "Data columns (total 10 columns):\n",
      " #   Column                    Non-Null Count  Dtype  \n",
      "---  ------                    --------------  -----  \n",
      " 0   Daily Time Spent on Site  1000 non-null   float64\n",
      " 1   Age                       1000 non-null   int64  \n",
      " 2   Area Income               1000 non-null   float64\n",
      " 3   Daily Internet Usage      1000 non-null   float64\n",
      " 4   Ad Topic Line             1000 non-null   object \n",
      " 5   City                      1000 non-null   object \n",
      " 6   Male                      1000 non-null   int64  \n",
      " 7   Country                   1000 non-null   object \n",
      " 8   Timestamp                 1000 non-null   object \n",
      " 9   Clicked on Ad             1000 non-null   int64  \n",
      "dtypes: float64(3), int64(3), object(4)\n",
      "memory usage: 78.2+ KB\n"
     ]
    }
   ],
   "source": [
    "df.info()"
   ]
  },
  {
   "cell_type": "code",
   "execution_count": 5,
   "id": "41316559",
   "metadata": {},
   "outputs": [
    {
     "data": {
      "text/html": [
       "<div>\n",
       "<style scoped>\n",
       "    .dataframe tbody tr th:only-of-type {\n",
       "        vertical-align: middle;\n",
       "    }\n",
       "\n",
       "    .dataframe tbody tr th {\n",
       "        vertical-align: top;\n",
       "    }\n",
       "\n",
       "    .dataframe thead th {\n",
       "        text-align: right;\n",
       "    }\n",
       "</style>\n",
       "<table border=\"1\" class=\"dataframe\">\n",
       "  <thead>\n",
       "    <tr style=\"text-align: right;\">\n",
       "      <th></th>\n",
       "      <th>count</th>\n",
       "      <th>mean</th>\n",
       "      <th>std</th>\n",
       "      <th>min</th>\n",
       "      <th>25%</th>\n",
       "      <th>50%</th>\n",
       "      <th>75%</th>\n",
       "      <th>max</th>\n",
       "    </tr>\n",
       "  </thead>\n",
       "  <tbody>\n",
       "    <tr>\n",
       "      <th>Daily Time Spent on Site</th>\n",
       "      <td>1000.0</td>\n",
       "      <td>65.00020</td>\n",
       "      <td>15.853615</td>\n",
       "      <td>32.60</td>\n",
       "      <td>51.3600</td>\n",
       "      <td>68.215</td>\n",
       "      <td>78.5475</td>\n",
       "      <td>91.43</td>\n",
       "    </tr>\n",
       "    <tr>\n",
       "      <th>Age</th>\n",
       "      <td>1000.0</td>\n",
       "      <td>36.00900</td>\n",
       "      <td>8.785562</td>\n",
       "      <td>19.00</td>\n",
       "      <td>29.0000</td>\n",
       "      <td>35.000</td>\n",
       "      <td>42.0000</td>\n",
       "      <td>61.00</td>\n",
       "    </tr>\n",
       "    <tr>\n",
       "      <th>Area Income</th>\n",
       "      <td>1000.0</td>\n",
       "      <td>55000.00008</td>\n",
       "      <td>13414.634022</td>\n",
       "      <td>13996.50</td>\n",
       "      <td>47031.8025</td>\n",
       "      <td>57012.300</td>\n",
       "      <td>65470.6350</td>\n",
       "      <td>79484.80</td>\n",
       "    </tr>\n",
       "    <tr>\n",
       "      <th>Daily Internet Usage</th>\n",
       "      <td>1000.0</td>\n",
       "      <td>180.00010</td>\n",
       "      <td>43.902339</td>\n",
       "      <td>104.78</td>\n",
       "      <td>138.8300</td>\n",
       "      <td>183.130</td>\n",
       "      <td>218.7925</td>\n",
       "      <td>269.96</td>\n",
       "    </tr>\n",
       "    <tr>\n",
       "      <th>Male</th>\n",
       "      <td>1000.0</td>\n",
       "      <td>0.48100</td>\n",
       "      <td>0.499889</td>\n",
       "      <td>0.00</td>\n",
       "      <td>0.0000</td>\n",
       "      <td>0.000</td>\n",
       "      <td>1.0000</td>\n",
       "      <td>1.00</td>\n",
       "    </tr>\n",
       "    <tr>\n",
       "      <th>Clicked on Ad</th>\n",
       "      <td>1000.0</td>\n",
       "      <td>0.50000</td>\n",
       "      <td>0.500250</td>\n",
       "      <td>0.00</td>\n",
       "      <td>0.0000</td>\n",
       "      <td>0.500</td>\n",
       "      <td>1.0000</td>\n",
       "      <td>1.00</td>\n",
       "    </tr>\n",
       "  </tbody>\n",
       "</table>\n",
       "</div>"
      ],
      "text/plain": [
       "                           count         mean           std       min  \\\n",
       "Daily Time Spent on Site  1000.0     65.00020     15.853615     32.60   \n",
       "Age                       1000.0     36.00900      8.785562     19.00   \n",
       "Area Income               1000.0  55000.00008  13414.634022  13996.50   \n",
       "Daily Internet Usage      1000.0    180.00010     43.902339    104.78   \n",
       "Male                      1000.0      0.48100      0.499889      0.00   \n",
       "Clicked on Ad             1000.0      0.50000      0.500250      0.00   \n",
       "\n",
       "                                 25%        50%         75%       max  \n",
       "Daily Time Spent on Site     51.3600     68.215     78.5475     91.43  \n",
       "Age                          29.0000     35.000     42.0000     61.00  \n",
       "Area Income               47031.8025  57012.300  65470.6350  79484.80  \n",
       "Daily Internet Usage        138.8300    183.130    218.7925    269.96  \n",
       "Male                          0.0000      0.000      1.0000      1.00  \n",
       "Clicked on Ad                 0.0000      0.500      1.0000      1.00  "
      ]
     },
     "execution_count": 5,
     "metadata": {},
     "output_type": "execute_result"
    }
   ],
   "source": [
    "df.describe().T"
   ]
  },
  {
   "cell_type": "markdown",
   "id": "1fc6b246",
   "metadata": {},
   "source": [
    "### Train | Test Split"
   ]
  },
  {
   "cell_type": "code",
   "execution_count": 6,
   "id": "a4d72769",
   "metadata": {},
   "outputs": [],
   "source": [
    "from sklearn.model_selection import train_test_split\n",
    "\n",
    "X = df[['Daily Time Spent on Site', 'Age', 'Area Income','Daily Internet Usage', 'Male']]\n",
    "y = df['Clicked on Ad']\n",
    "\n",
    "X_train, X_test, y_train, y_test = train_test_split(X, y, test_size=0.1, random_state=42)"
   ]
  },
  {
   "cell_type": "markdown",
   "id": "82ca42a9",
   "metadata": {},
   "source": [
    "### Default Modelling :"
   ]
  },
  {
   "cell_type": "code",
   "execution_count": 7,
   "id": "fe70f5a4",
   "metadata": {},
   "outputs": [],
   "source": [
    "from sklearn.ensemble import GradientBoostingClassifier\n",
    "# target categoric olduğu için Classifier"
   ]
  },
  {
   "cell_type": "code",
   "execution_count": 8,
   "id": "7d86710d",
   "metadata": {},
   "outputs": [
    {
     "data": {
      "text/plain": [
       "GradientBoostingClassifier(random_state=42)"
      ]
     },
     "execution_count": 8,
     "metadata": {},
     "output_type": "execute_result"
    }
   ],
   "source": [
    "gradient_model = GradientBoostingClassifier(random_state= 42)\n",
    "gradient_model.fit(X_train, y_train)"
   ]
  },
  {
   "cell_type": "markdown",
   "id": "b6c67418",
   "metadata": {},
   "source": [
    "### Metrics :"
   ]
  },
  {
   "cell_type": "code",
   "execution_count": 9,
   "id": "729b42e3",
   "metadata": {},
   "outputs": [],
   "source": [
    "from sklearn.metrics import recall_score, f1_score, precision_score, accuracy_score, classification_report, confusion_matrix\n",
    "\n",
    "def eval_metric(model, X_train, y_train, X_test, y_test):\n",
    "    y_train_pred = model.predict(X_train)\n",
    "    y_pred = model.predict(X_test)\n",
    "    print(\"Test_Set\")\n",
    "    print(confusion_matrix(y_test, y_pred))\n",
    "    print(classification_report(y_test, y_pred))\n",
    "    print()\n",
    "    print(\"Train_Set\")\n",
    "    print(confusion_matrix(y_train, y_train_pred))\n",
    "    print(classification_report(y_train, y_train_pred))"
   ]
  },
  {
   "cell_type": "code",
   "execution_count": 10,
   "id": "e824b3ed",
   "metadata": {},
   "outputs": [
    {
     "name": "stdout",
     "output_type": "stream",
     "text": [
      "Test_Set\n",
      "[[41  3]\n",
      " [ 2 54]]\n",
      "              precision    recall  f1-score   support\n",
      "\n",
      "           0       0.95      0.93      0.94        44\n",
      "           1       0.95      0.96      0.96        56\n",
      "\n",
      "    accuracy                           0.95       100\n",
      "   macro avg       0.95      0.95      0.95       100\n",
      "weighted avg       0.95      0.95      0.95       100\n",
      "\n",
      "\n",
      "Train_Set\n",
      "[[456   0]\n",
      " [  1 443]]\n",
      "              precision    recall  f1-score   support\n",
      "\n",
      "           0       1.00      1.00      1.00       456\n",
      "           1       1.00      1.00      1.00       444\n",
      "\n",
      "    accuracy                           1.00       900\n",
      "   macro avg       1.00      1.00      1.00       900\n",
      "weighted avg       1.00      1.00      1.00       900\n",
      "\n"
     ]
    }
   ],
   "source": [
    "eval_metric(gradient_model, X_train, y_train, X_test, y_test)"
   ]
  },
  {
   "cell_type": "markdown",
   "id": "f6a96098",
   "metadata": {},
   "source": [
    "### Cross Validate : "
   ]
  },
  {
   "cell_type": "code",
   "execution_count": 11,
   "id": "09c5363a",
   "metadata": {},
   "outputs": [
    {
     "data": {
      "text/plain": [
       "test_accuracy     0.952222\n",
       "test_precision    0.958870\n",
       "test_recall       0.945960\n",
       "test_f1           0.951603\n",
       "dtype: float64"
      ]
     },
     "execution_count": 11,
     "metadata": {},
     "output_type": "execute_result"
    }
   ],
   "source": [
    "from sklearn.model_selection import cross_validate\n",
    "\n",
    "model = GradientBoostingClassifier(random_state=42)\n",
    "\n",
    "scores = cross_validate(model, X_train, y_train, scoring = [\"accuracy\", \"precision\", \"recall\", \"f1\"], cv = 10)\n",
    "df_scores = pd.DataFrame(scores, index = range(1, 11))\n",
    "df_scores.mean()[2:]"
   ]
  },
  {
   "cell_type": "markdown",
   "id": "7576b1cc",
   "metadata": {},
   "source": [
    "### Gridsearch : "
   ]
  },
  {
   "cell_type": "code",
   "execution_count": 32,
   "id": "7be8ff8f",
   "metadata": {},
   "outputs": [],
   "source": [
    "n_estimators = np.array([30,40,50,100,150,200,250, 300, 350,400]) # ağaç sayısı\n",
    "learning_rate = np.linspace(0.01,1,100) # hata ağırlıklandırma için çarpılan sayı"
   ]
  },
  {
   "cell_type": "code",
   "execution_count": 34,
   "id": "8960c36e",
   "metadata": {},
   "outputs": [],
   "source": [
    "from sklearn.model_selection import GridSearchCV\n",
    "\n",
    "param_grid = {\"n_estimators\": n_estimators,\n",
    "             \"learning_rate\": learning_rate}\n",
    "\n",
    "gb_model = GradientBoostingClassifier(random_state=42)\n",
    "\n",
    "grid = GridSearchCV(gb_model, param_grid, scoring = \"recall\", n_jobs = -1).fit(X_train, y_train)"
   ]
  },
  {
   "cell_type": "code",
   "execution_count": 36,
   "id": "7fdc414a",
   "metadata": {},
   "outputs": [
    {
     "data": {
      "text/plain": [
       "{'learning_rate': 0.64, 'n_estimators': 30}"
      ]
     },
     "execution_count": 36,
     "metadata": {},
     "output_type": "execute_result"
    }
   ],
   "source": [
    "grid.best_params_"
   ]
  },
  {
   "cell_type": "code",
   "execution_count": 35,
   "id": "63b69fe7",
   "metadata": {},
   "outputs": [
    {
     "name": "stdout",
     "output_type": "stream",
     "text": [
      "Test_Set\n",
      "[[42  2]\n",
      " [ 2 54]]\n",
      "              precision    recall  f1-score   support\n",
      "\n",
      "           0       0.95      0.95      0.95        44\n",
      "           1       0.96      0.96      0.96        56\n",
      "\n",
      "    accuracy                           0.96       100\n",
      "   macro avg       0.96      0.96      0.96       100\n",
      "weighted avg       0.96      0.96      0.96       100\n",
      "\n",
      "\n",
      "Train_Set\n",
      "[[456   0]\n",
      " [  0 444]]\n",
      "              precision    recall  f1-score   support\n",
      "\n",
      "           0       1.00      1.00      1.00       456\n",
      "           1       1.00      1.00      1.00       444\n",
      "\n",
      "    accuracy                           1.00       900\n",
      "   macro avg       1.00      1.00      1.00       900\n",
      "weighted avg       1.00      1.00      1.00       900\n",
      "\n"
     ]
    }
   ],
   "source": [
    "eval_metric(grid, X_train, y_train, X_test, y_test)"
   ]
  },
  {
   "cell_type": "markdown",
   "id": "4c53ef9a",
   "metadata": {},
   "source": [
    "### en iyi feature bakalım : "
   ]
  },
  {
   "cell_type": "code",
   "execution_count": 38,
   "id": "4245ed3e",
   "metadata": {},
   "outputs": [
    {
     "data": {
      "text/plain": [
       "{'learning_rate': 0.64, 'n_estimators': 30}"
      ]
     },
     "execution_count": 38,
     "metadata": {},
     "output_type": "execute_result"
    }
   ],
   "source": [
    "grid.best_params_"
   ]
  },
  {
   "cell_type": "code",
   "execution_count": 39,
   "id": "8fa3a3ab",
   "metadata": {},
   "outputs": [
    {
     "data": {
      "text/html": [
       "<div>\n",
       "<style scoped>\n",
       "    .dataframe tbody tr th:only-of-type {\n",
       "        vertical-align: middle;\n",
       "    }\n",
       "\n",
       "    .dataframe tbody tr th {\n",
       "        vertical-align: top;\n",
       "    }\n",
       "\n",
       "    .dataframe thead th {\n",
       "        text-align: right;\n",
       "    }\n",
       "</style>\n",
       "<table border=\"1\" class=\"dataframe\">\n",
       "  <thead>\n",
       "    <tr style=\"text-align: right;\">\n",
       "      <th></th>\n",
       "      <th>grad_importance</th>\n",
       "    </tr>\n",
       "  </thead>\n",
       "  <tbody>\n",
       "    <tr>\n",
       "      <th>Male</th>\n",
       "      <td>0.000030</td>\n",
       "    </tr>\n",
       "    <tr>\n",
       "      <th>Age</th>\n",
       "      <td>0.019300</td>\n",
       "    </tr>\n",
       "    <tr>\n",
       "      <th>Area Income</th>\n",
       "      <td>0.055888</td>\n",
       "    </tr>\n",
       "    <tr>\n",
       "      <th>Daily Time Spent on Site</th>\n",
       "      <td>0.212454</td>\n",
       "    </tr>\n",
       "    <tr>\n",
       "      <th>Daily Internet Usage</th>\n",
       "      <td>0.712327</td>\n",
       "    </tr>\n",
       "  </tbody>\n",
       "</table>\n",
       "</div>"
      ],
      "text/plain": [
       "                          grad_importance\n",
       "Male                             0.000030\n",
       "Age                              0.019300\n",
       "Area Income                      0.055888\n",
       "Daily Time Spent on Site         0.212454\n",
       "Daily Internet Usage             0.712327"
      ]
     },
     "execution_count": 39,
     "metadata": {},
     "output_type": "execute_result"
    }
   ],
   "source": [
    "grad_model = GradientBoostingClassifier(n_estimators= 30, learning_rate= 0.64)\n",
    "grad_model.fit(X_train, y_train)\n",
    "\n",
    "grad_model.feature_importances_\n",
    "\n",
    "feats = pd.DataFrame(index = X.columns, data = grad_model.feature_importances_, columns = ['grad_importance'])\n",
    "grad_imp_feats = feats.sort_values(\"grad_importance\")\n",
    "grad_imp_feats"
   ]
  },
  {
   "cell_type": "code",
   "execution_count": null,
   "id": "01d29fc1",
   "metadata": {},
   "outputs": [],
   "source": []
  }
 ],
 "metadata": {
  "kernelspec": {
   "display_name": "Python 3 (ipykernel)",
   "language": "python",
   "name": "python3"
  },
  "language_info": {
   "codemirror_mode": {
    "name": "ipython",
    "version": 3
   },
   "file_extension": ".py",
   "mimetype": "text/x-python",
   "name": "python",
   "nbconvert_exporter": "python",
   "pygments_lexer": "ipython3",
   "version": "3.9.7"
  }
 },
 "nbformat": 4,
 "nbformat_minor": 5
}
