{
 "cells": [
  {
   "cell_type": "code",
   "execution_count": 2,
   "id": "e766a727",
   "metadata": {},
   "outputs": [],
   "source": [
    "import numpy as np\n",
    "import pandas as pd\n",
    "import seaborn as sns\n",
    "import matplotlib.pyplot as plt\n",
    "\n",
    "#%matplotlib inline\n",
    "#%matplotlib notebook\n",
    "plt.rcParams[\"figure.figsize\"] = (10,6)\n",
    "import warnings\n",
    "warnings.filterwarnings(\"ignore\")\n",
    "warnings.warn(\"this will not show\")\n",
    "pd.set_option('display.float_format', lambda x: '%.3f' % x)\n",
    "pd.options.display.float_format = '{:.3f}'.format"
   ]
  },
  {
   "cell_type": "markdown",
   "id": "c99bf75a",
   "metadata": {},
   "source": [
    "### Bu datamızda hasta olanları 1 leri tespite odaklanacağız : "
   ]
  },
  {
   "cell_type": "code",
   "execution_count": 3,
   "id": "1897e0cb",
   "metadata": {},
   "outputs": [
    {
     "data": {
      "text/html": [
       "<div>\n",
       "<style scoped>\n",
       "    .dataframe tbody tr th:only-of-type {\n",
       "        vertical-align: middle;\n",
       "    }\n",
       "\n",
       "    .dataframe tbody tr th {\n",
       "        vertical-align: top;\n",
       "    }\n",
       "\n",
       "    .dataframe thead th {\n",
       "        text-align: right;\n",
       "    }\n",
       "</style>\n",
       "<table border=\"1\" class=\"dataframe\">\n",
       "  <thead>\n",
       "    <tr style=\"text-align: right;\">\n",
       "      <th></th>\n",
       "      <th>Pregnancies</th>\n",
       "      <th>Glucose</th>\n",
       "      <th>BloodPressure</th>\n",
       "      <th>SkinThickness</th>\n",
       "      <th>Insulin</th>\n",
       "      <th>BMI</th>\n",
       "      <th>DiabetesPedigreeFunction</th>\n",
       "      <th>Age</th>\n",
       "      <th>Outcome</th>\n",
       "    </tr>\n",
       "  </thead>\n",
       "  <tbody>\n",
       "    <tr>\n",
       "      <th>0</th>\n",
       "      <td>6</td>\n",
       "      <td>148</td>\n",
       "      <td>72</td>\n",
       "      <td>35</td>\n",
       "      <td>0</td>\n",
       "      <td>33.600</td>\n",
       "      <td>0.627</td>\n",
       "      <td>50</td>\n",
       "      <td>1</td>\n",
       "    </tr>\n",
       "    <tr>\n",
       "      <th>1</th>\n",
       "      <td>1</td>\n",
       "      <td>85</td>\n",
       "      <td>66</td>\n",
       "      <td>29</td>\n",
       "      <td>0</td>\n",
       "      <td>26.600</td>\n",
       "      <td>0.351</td>\n",
       "      <td>31</td>\n",
       "      <td>0</td>\n",
       "    </tr>\n",
       "    <tr>\n",
       "      <th>2</th>\n",
       "      <td>8</td>\n",
       "      <td>183</td>\n",
       "      <td>64</td>\n",
       "      <td>0</td>\n",
       "      <td>0</td>\n",
       "      <td>23.300</td>\n",
       "      <td>0.672</td>\n",
       "      <td>32</td>\n",
       "      <td>1</td>\n",
       "    </tr>\n",
       "    <tr>\n",
       "      <th>3</th>\n",
       "      <td>1</td>\n",
       "      <td>89</td>\n",
       "      <td>66</td>\n",
       "      <td>23</td>\n",
       "      <td>94</td>\n",
       "      <td>28.100</td>\n",
       "      <td>0.167</td>\n",
       "      <td>21</td>\n",
       "      <td>0</td>\n",
       "    </tr>\n",
       "    <tr>\n",
       "      <th>4</th>\n",
       "      <td>0</td>\n",
       "      <td>137</td>\n",
       "      <td>40</td>\n",
       "      <td>35</td>\n",
       "      <td>168</td>\n",
       "      <td>43.100</td>\n",
       "      <td>2.288</td>\n",
       "      <td>33</td>\n",
       "      <td>1</td>\n",
       "    </tr>\n",
       "  </tbody>\n",
       "</table>\n",
       "</div>"
      ],
      "text/plain": [
       "   Pregnancies  Glucose  BloodPressure  SkinThickness  Insulin    BMI  \\\n",
       "0            6      148             72             35        0 33.600   \n",
       "1            1       85             66             29        0 26.600   \n",
       "2            8      183             64              0        0 23.300   \n",
       "3            1       89             66             23       94 28.100   \n",
       "4            0      137             40             35      168 43.100   \n",
       "\n",
       "   DiabetesPedigreeFunction  Age  Outcome  \n",
       "0                     0.627   50        1  \n",
       "1                     0.351   31        0  \n",
       "2                     0.672   32        1  \n",
       "3                     0.167   21        0  \n",
       "4                     2.288   33        1  "
      ]
     },
     "execution_count": 3,
     "metadata": {},
     "output_type": "execute_result"
    }
   ],
   "source": [
    "df=pd.read_csv(\"diabetes.csv\")\n",
    "df.head()"
   ]
  },
  {
   "cell_type": "code",
   "execution_count": 4,
   "id": "08be28da",
   "metadata": {},
   "outputs": [
    {
     "name": "stdout",
     "output_type": "stream",
     "text": [
      "<class 'pandas.core.frame.DataFrame'>\n",
      "RangeIndex: 768 entries, 0 to 767\n",
      "Data columns (total 9 columns):\n",
      " #   Column                    Non-Null Count  Dtype  \n",
      "---  ------                    --------------  -----  \n",
      " 0   Pregnancies               768 non-null    int64  \n",
      " 1   Glucose                   768 non-null    int64  \n",
      " 2   BloodPressure             768 non-null    int64  \n",
      " 3   SkinThickness             768 non-null    int64  \n",
      " 4   Insulin                   768 non-null    int64  \n",
      " 5   BMI                       768 non-null    float64\n",
      " 6   DiabetesPedigreeFunction  768 non-null    float64\n",
      " 7   Age                       768 non-null    int64  \n",
      " 8   Outcome                   768 non-null    int64  \n",
      "dtypes: float64(2), int64(7)\n",
      "memory usage: 54.1 KB\n"
     ]
    }
   ],
   "source": [
    "df.info()"
   ]
  },
  {
   "cell_type": "code",
   "execution_count": 5,
   "id": "aa6ca4e1",
   "metadata": {},
   "outputs": [
    {
     "data": {
      "text/html": [
       "<div>\n",
       "<style scoped>\n",
       "    .dataframe tbody tr th:only-of-type {\n",
       "        vertical-align: middle;\n",
       "    }\n",
       "\n",
       "    .dataframe tbody tr th {\n",
       "        vertical-align: top;\n",
       "    }\n",
       "\n",
       "    .dataframe thead th {\n",
       "        text-align: right;\n",
       "    }\n",
       "</style>\n",
       "<table border=\"1\" class=\"dataframe\">\n",
       "  <thead>\n",
       "    <tr style=\"text-align: right;\">\n",
       "      <th></th>\n",
       "      <th>count</th>\n",
       "      <th>mean</th>\n",
       "      <th>std</th>\n",
       "      <th>min</th>\n",
       "      <th>25%</th>\n",
       "      <th>50%</th>\n",
       "      <th>75%</th>\n",
       "      <th>max</th>\n",
       "    </tr>\n",
       "  </thead>\n",
       "  <tbody>\n",
       "    <tr>\n",
       "      <th>Pregnancies</th>\n",
       "      <td>768.000</td>\n",
       "      <td>3.845</td>\n",
       "      <td>3.370</td>\n",
       "      <td>0.000</td>\n",
       "      <td>1.000</td>\n",
       "      <td>3.000</td>\n",
       "      <td>6.000</td>\n",
       "      <td>17.000</td>\n",
       "    </tr>\n",
       "    <tr>\n",
       "      <th>Glucose</th>\n",
       "      <td>768.000</td>\n",
       "      <td>120.895</td>\n",
       "      <td>31.973</td>\n",
       "      <td>0.000</td>\n",
       "      <td>99.000</td>\n",
       "      <td>117.000</td>\n",
       "      <td>140.250</td>\n",
       "      <td>199.000</td>\n",
       "    </tr>\n",
       "    <tr>\n",
       "      <th>BloodPressure</th>\n",
       "      <td>768.000</td>\n",
       "      <td>69.105</td>\n",
       "      <td>19.356</td>\n",
       "      <td>0.000</td>\n",
       "      <td>62.000</td>\n",
       "      <td>72.000</td>\n",
       "      <td>80.000</td>\n",
       "      <td>122.000</td>\n",
       "    </tr>\n",
       "    <tr>\n",
       "      <th>SkinThickness</th>\n",
       "      <td>768.000</td>\n",
       "      <td>20.536</td>\n",
       "      <td>15.952</td>\n",
       "      <td>0.000</td>\n",
       "      <td>0.000</td>\n",
       "      <td>23.000</td>\n",
       "      <td>32.000</td>\n",
       "      <td>99.000</td>\n",
       "    </tr>\n",
       "    <tr>\n",
       "      <th>Insulin</th>\n",
       "      <td>768.000</td>\n",
       "      <td>79.799</td>\n",
       "      <td>115.244</td>\n",
       "      <td>0.000</td>\n",
       "      <td>0.000</td>\n",
       "      <td>30.500</td>\n",
       "      <td>127.250</td>\n",
       "      <td>846.000</td>\n",
       "    </tr>\n",
       "    <tr>\n",
       "      <th>BMI</th>\n",
       "      <td>768.000</td>\n",
       "      <td>31.993</td>\n",
       "      <td>7.884</td>\n",
       "      <td>0.000</td>\n",
       "      <td>27.300</td>\n",
       "      <td>32.000</td>\n",
       "      <td>36.600</td>\n",
       "      <td>67.100</td>\n",
       "    </tr>\n",
       "    <tr>\n",
       "      <th>DiabetesPedigreeFunction</th>\n",
       "      <td>768.000</td>\n",
       "      <td>0.472</td>\n",
       "      <td>0.331</td>\n",
       "      <td>0.078</td>\n",
       "      <td>0.244</td>\n",
       "      <td>0.372</td>\n",
       "      <td>0.626</td>\n",
       "      <td>2.420</td>\n",
       "    </tr>\n",
       "    <tr>\n",
       "      <th>Age</th>\n",
       "      <td>768.000</td>\n",
       "      <td>33.241</td>\n",
       "      <td>11.760</td>\n",
       "      <td>21.000</td>\n",
       "      <td>24.000</td>\n",
       "      <td>29.000</td>\n",
       "      <td>41.000</td>\n",
       "      <td>81.000</td>\n",
       "    </tr>\n",
       "    <tr>\n",
       "      <th>Outcome</th>\n",
       "      <td>768.000</td>\n",
       "      <td>0.349</td>\n",
       "      <td>0.477</td>\n",
       "      <td>0.000</td>\n",
       "      <td>0.000</td>\n",
       "      <td>0.000</td>\n",
       "      <td>1.000</td>\n",
       "      <td>1.000</td>\n",
       "    </tr>\n",
       "  </tbody>\n",
       "</table>\n",
       "</div>"
      ],
      "text/plain": [
       "                           count    mean     std    min    25%     50%  \\\n",
       "Pregnancies              768.000   3.845   3.370  0.000  1.000   3.000   \n",
       "Glucose                  768.000 120.895  31.973  0.000 99.000 117.000   \n",
       "BloodPressure            768.000  69.105  19.356  0.000 62.000  72.000   \n",
       "SkinThickness            768.000  20.536  15.952  0.000  0.000  23.000   \n",
       "Insulin                  768.000  79.799 115.244  0.000  0.000  30.500   \n",
       "BMI                      768.000  31.993   7.884  0.000 27.300  32.000   \n",
       "DiabetesPedigreeFunction 768.000   0.472   0.331  0.078  0.244   0.372   \n",
       "Age                      768.000  33.241  11.760 21.000 24.000  29.000   \n",
       "Outcome                  768.000   0.349   0.477  0.000  0.000   0.000   \n",
       "\n",
       "                             75%     max  \n",
       "Pregnancies                6.000  17.000  \n",
       "Glucose                  140.250 199.000  \n",
       "BloodPressure             80.000 122.000  \n",
       "SkinThickness             32.000  99.000  \n",
       "Insulin                  127.250 846.000  \n",
       "BMI                       36.600  67.100  \n",
       "DiabetesPedigreeFunction   0.626   2.420  \n",
       "Age                       41.000  81.000  \n",
       "Outcome                    1.000   1.000  "
      ]
     },
     "execution_count": 5,
     "metadata": {},
     "output_type": "execute_result"
    }
   ],
   "source": [
    "df.describe().T"
   ]
  },
  {
   "cell_type": "code",
   "execution_count": 6,
   "id": "e1f0cc8b",
   "metadata": {},
   "outputs": [
    {
     "data": {
      "text/plain": [
       "0    500\n",
       "1    268\n",
       "Name: Outcome, dtype: int64"
      ]
     },
     "execution_count": 6,
     "metadata": {},
     "output_type": "execute_result"
    }
   ],
   "source": [
    "df.Outcome.value_counts()"
   ]
  },
  {
   "cell_type": "code",
   "execution_count": 7,
   "id": "229e1a14",
   "metadata": {},
   "outputs": [
    {
     "data": {
      "image/png": "[encoded data removed]",
      "text/plain": [
       "<Figure size 1440x1440 with 9 Axes>"
      ]
     },
     "metadata": {
      "needs_background": "light"
     },
     "output_type": "display_data"
    }
   ],
   "source": [
    "index = 0\n",
    "plt.figure(figsize=(20,20))\n",
    "for i in df.select_dtypes([float, int]).columns:\n",
    "    index += 1\n",
    "    plt.subplot(3,3,index)\n",
    "    sns.boxplot(df.select_dtypes([float, int])[i], whis=1.7)"
   ]
  },
  {
   "cell_type": "code",
   "execution_count": 11,
   "id": "ccd9cb12",
   "metadata": {},
   "outputs": [],
   "source": [
    "for i in df.select_dtypes([float, int]).columns:\n",
    "    if i == \"DiabetesPedigreeFunction\" and i == \"Insulin\" :\n",
    "        Q1 = df[i].quantile(0.25)\n",
    "        Q3 = df[i].quantile(0.75)\n",
    "        IQR = Q3-Q1\n",
    "        alt_sinir = Q1-(3.0*IQR)\n",
    "        ust_sinir = Q3+(3.0*IQR)\n",
    "    #print(f\"{i} sutununun alt sınır değeri = {alt_sinir}\")\n",
    "    #print(f\"{i} sutununun üst sınır değeri = {ust_sinir}\")\n",
    "        aykiri_alt = df[i] < alt_sinir\n",
    "        aykiri_ust = df[i] > ust_sinir\n",
    "    #print(i, \"tablosunda toplamda =\", df[i][aykiri_alt].count(),\"aykırı alt veri vardır.\")\n",
    "    #print(i, \"tablosunda toplamda =\",df[i][aykiri_ust].count(), \"aykırı üst veri vardır.\")\n",
    "        df[i][aykiri_alt] = alt_sinir\n",
    "        df[i][aykiri_ust] = ust_sinir\n",
    "        \n",
    "        \n",
    "    elif  i == \"BloodPressure\" and i == \"BMI\" and i == \"Age\" :\n",
    "            Q1 = df[i].quantile(0.25)\n",
    "            Q3 = df[i].quantile(0.75)\n",
    "            IQR = Q3-Q1\n",
    "            alt_sinir = Q1-(1.9*IQR)\n",
    "            ust_sinir = Q3+(1.9*IQR)\n",
    "    #print(f\"{i} sutununun alt sınır değeri = {alt_sinir}\")\n",
    "    #print(f\"{i} sutununun üst sınır değeri = {ust_sinir}\")\n",
    "            aykiri_alt = df[i] < alt_sinir\n",
    "            aykiri_ust = df[i] > ust_sinir\n",
    "    #print(i, \"tablosunda toplamda =\", df[i][aykiri_alt].count(),\"aykırı alt veri vardır.\")\n",
    "    #print(i, \"tablosunda toplamda =\",df[i][aykiri_ust].count(), \"aykırı üst veri vardır.\")\n",
    "            df[i][aykiri_alt] = alt_sinir\n",
    "            df[i][aykiri_ust] = ust_sinir\n",
    "    \n",
    "    else : \n",
    "        Q1 = df[i].quantile(0.25)\n",
    "        Q3 = df[i].quantile(0.75)\n",
    "        IQR = Q3-Q1\n",
    "        alt_sinir = Q1-(1.7*IQR)\n",
    "        ust_sinir = Q3+(1.7*IQR)\n",
    "    #print(f\"{i} sutununun alt sınır değeri = {alt_sinir}\")\n",
    "    #print(f\"{i} sutununun üst sınır değeri = {ust_sinir}\")\n",
    "        aykiri_alt = df[i] < alt_sinir\n",
    "        aykiri_ust = df[i] > ust_sinir\n",
    "    #print(i, \"tablosunda toplamda =\", df[i][aykiri_alt].count(),\"aykırı alt veri vardır.\")\n",
    "    #print(i, \"tablosunda toplamda =\",df[i][aykiri_ust].count(), \"aykırı üst veri vardır.\")\n",
    "        df[i][aykiri_alt] = alt_sinir\n",
    "        df[i][aykiri_ust] = ust_sinir"
   ]
  },
  {
   "cell_type": "code",
   "execution_count": 12,
   "id": "73f7e0ba",
   "metadata": {},
   "outputs": [
    {
     "data": {
      "image/png": "[encoded data removed]",
      "text/plain": [
       "<Figure size 1440x1440 with 9 Axes>"
      ]
     },
     "metadata": {
      "needs_background": "light"
     },
     "output_type": "display_data"
    }
   ],
   "source": [
    "index = 0\n",
    "plt.figure(figsize=(20,20))\n",
    "for i in df.select_dtypes([float, int]).columns:\n",
    "    index += 1\n",
    "    if i == \"DiabetesPedigreeFunction\" and i == \"Insulin\" :\n",
    "        plt.subplot(3,3,index)\n",
    "        sns.boxplot(df.select_dtypes([float, int])[i], whis=3.0)\n",
    "        \n",
    "    elif  i == \"BloodPressure\" and i == \"BMI\" and i == \"Age\" : \n",
    "        plt.subplot(3,3,index)\n",
    "        sns.boxplot(df.select_dtypes([float, int])[i], whis=1.9)\n",
    "        \n",
    "    else : \n",
    "        plt.subplot(3,3,index)\n",
    "        sns.boxplot(df.select_dtypes([float, int])[i], whis= 1.7)"
   ]
  },
  {
   "cell_type": "code",
   "execution_count": 13,
   "id": "af1321eb",
   "metadata": {},
   "outputs": [
    {
     "data": {
      "text/plain": [
       "SkinThickness              0.074\n",
       "BloodPressure              0.108\n",
       "Insulin                    0.126\n",
       "DiabetesPedigreeFunction   0.184\n",
       "Pregnancies                0.221\n",
       "Age                        0.241\n",
       "BMI                        0.308\n",
       "Glucose                    0.477\n",
       "Name: Outcome, dtype: float64"
      ]
     },
     "execution_count": 13,
     "metadata": {},
     "output_type": "execute_result"
    }
   ],
   "source": [
    "df.corr()[\"Outcome\"].drop(\"Outcome\").sort_values()"
   ]
  },
  {
   "cell_type": "markdown",
   "id": "1670089a",
   "metadata": {},
   "source": [
    "### Train Test Split : "
   ]
  },
  {
   "cell_type": "code",
   "execution_count": 14,
   "id": "5e168164",
   "metadata": {},
   "outputs": [],
   "source": [
    "X=df.drop([\"Outcome\"], axis=1)\n",
    "y=df[\"Outcome\"]\n",
    "\n",
    "from sklearn.model_selection import train_test_split\n",
    "\n",
    "X_train, X_test, y_train, y_test = train_test_split(X, y, test_size=0.20, stratify=y, random_state=42)\n",
    "# stratify = y diyerek hasta olanlar ve olmayanlar arasında ki dengesizliği ortadan kaldırmak için."
   ]
  },
  {
   "cell_type": "markdown",
   "id": "a5a726fc",
   "metadata": {},
   "source": [
    "### Metrics : "
   ]
  },
  {
   "cell_type": "code",
   "execution_count": 15,
   "id": "0317dcc4",
   "metadata": {},
   "outputs": [],
   "source": [
    "from sklearn.metrics import confusion_matrix, classification_report, f1_score, recall_score, precision_score, accuracy_score\n",
    "\n",
    "def eval_metric(model, X_train, y_train, X_test, y_test):\n",
    "    y_train_pred = model.predict(X_train)\n",
    "    y_pred = model.predict(X_test)\n",
    "    \n",
    "    print(\"Test_Set\")\n",
    "    print(confusion_matrix(y_test, y_pred))\n",
    "    print(classification_report(y_test, y_pred))\n",
    "    print()\n",
    "    print(\"Train_Set\")\n",
    "    print(confusion_matrix(y_train, y_train_pred))\n",
    "    print(classification_report(y_train, y_train_pred))"
   ]
  },
  {
   "cell_type": "code",
   "execution_count": 26,
   "id": "00ade461",
   "metadata": {},
   "outputs": [
    {
     "data": {
      "text/plain": [
       "{'logistic__C': 0.1,\n",
       " 'logistic__class_weight': 'balanced',\n",
       " 'logistic__penalty': 'l1',\n",
       " 'logistic__solver': 'liblinear'}"
      ]
     },
     "execution_count": 26,
     "metadata": {},
     "output_type": "execute_result"
    }
   ],
   "source": [
    "grid_model.best_params_"
   ]
  },
  {
   "cell_type": "markdown",
   "id": "f6adb0ff",
   "metadata": {},
   "source": [
    "### Logistic_Regression and Pipline : "
   ]
  },
  {
   "cell_type": "code",
   "execution_count": 28,
   "id": "dc937208",
   "metadata": {},
   "outputs": [
    {
     "name": "stdout",
     "output_type": "stream",
     "text": [
      "Test_Set\n",
      "[[72 28]\n",
      " [12 42]]\n",
      "              precision    recall  f1-score   support\n",
      "\n",
      "           0       0.86      0.72      0.78       100\n",
      "           1       0.60      0.78      0.68        54\n",
      "\n",
      "    accuracy                           0.74       154\n",
      "   macro avg       0.73      0.75      0.73       154\n",
      "weighted avg       0.77      0.74      0.75       154\n",
      "\n",
      "\n",
      "Train_Set\n",
      "[[306  94]\n",
      " [ 54 160]]\n",
      "              precision    recall  f1-score   support\n",
      "\n",
      "           0       0.85      0.77      0.81       400\n",
      "           1       0.63      0.75      0.68       214\n",
      "\n",
      "    accuracy                           0.76       614\n",
      "   macro avg       0.74      0.76      0.74       614\n",
      "weighted avg       0.77      0.76      0.76       614\n",
      "\n"
     ]
    }
   ],
   "source": [
    "from sklearn.preprocessing import StandardScaler\n",
    "from sklearn.linear_model import LogisticRegression\n",
    "from sklearn.pipeline import Pipeline\n",
    "\n",
    "operations = [(\"scaler\", StandardScaler()), (\"logistic\", LogisticRegression(C = 0.1, class_weight= \"balanced\", penalty = \"l1\",\n",
    "                                                                            solver= \"liblinear\", random_state = 42))]\n",
    "Pipeline(steps=operations)\n",
    "logpip_model = Pipeline(steps=operations)\n",
    "logpip_model.fit(X_train, y_train)\n",
    "eval_metric(logpip_model, X_train, y_train, X_test, y_test)"
   ]
  },
  {
   "cell_type": "markdown",
   "id": "bffadf6a",
   "metadata": {},
   "source": [
    "### Cross Validate : "
   ]
  },
  {
   "cell_type": "code",
   "execution_count": 30,
   "id": "1f2e44c3",
   "metadata": {},
   "outputs": [
    {
     "data": {
      "text/plain": [
       "test_precision   0.599\n",
       "test_recall      0.728\n",
       "test_f1          0.652\n",
       "test_accuracy    0.730\n",
       "dtype: float64"
      ]
     },
     "execution_count": 30,
     "metadata": {},
     "output_type": "execute_result"
    }
   ],
   "source": [
    "from sklearn.model_selection import cross_validate\n",
    "\n",
    "model = LogisticRegression(C = 0.1, class_weight= \"balanced\", penalty = \"l1\", solver= \"liblinear\", random_state = 42)\n",
    "\n",
    "scores = cross_validate(model, X_train, y_train, scoring = ['precision','recall','f1','accuracy'], cv = 10)\n",
    "df_scores = pd.DataFrame(scores, index = range(1, 11))\n",
    "df_scores.mean()[2:]"
   ]
  },
  {
   "cell_type": "markdown",
   "id": "71b4ff0b",
   "metadata": {},
   "source": [
    "### Knn Model : "
   ]
  },
  {
   "cell_type": "markdown",
   "id": "50fdb345",
   "metadata": {},
   "source": [
    "#### Best k value Elbow Method :"
   ]
  },
  {
   "cell_type": "code",
   "execution_count": 38,
   "id": "ccfefd2e",
   "metadata": {},
   "outputs": [
    {
     "data": {
      "text/html": [
       "<div>\n",
       "<style scoped>\n",
       "    .dataframe tbody tr th:only-of-type {\n",
       "        vertical-align: middle;\n",
       "    }\n",
       "\n",
       "    .dataframe tbody tr th {\n",
       "        vertical-align: top;\n",
       "    }\n",
       "\n",
       "    .dataframe thead th {\n",
       "        text-align: right;\n",
       "    }\n",
       "</style>\n",
       "<table border=\"1\" class=\"dataframe\">\n",
       "  <thead>\n",
       "    <tr style=\"text-align: right;\">\n",
       "      <th></th>\n",
       "      <th>k_value_test</th>\n",
       "      <th>score_test</th>\n",
       "      <th>k_value_train</th>\n",
       "      <th>score_train</th>\n",
       "      <th>result</th>\n",
       "    </tr>\n",
       "  </thead>\n",
       "  <tbody>\n",
       "    <tr>\n",
       "      <th>0</th>\n",
       "      <td>1</td>\n",
       "      <td>67.530</td>\n",
       "      <td>1</td>\n",
       "      <td>100.000</td>\n",
       "      <td>32.470</td>\n",
       "    </tr>\n",
       "    <tr>\n",
       "      <th>1</th>\n",
       "      <td>2</td>\n",
       "      <td>73.380</td>\n",
       "      <td>2</td>\n",
       "      <td>84.040</td>\n",
       "      <td>10.660</td>\n",
       "    </tr>\n",
       "    <tr>\n",
       "      <th>2</th>\n",
       "      <td>3</td>\n",
       "      <td>72.080</td>\n",
       "      <td>3</td>\n",
       "      <td>84.850</td>\n",
       "      <td>12.770</td>\n",
       "    </tr>\n",
       "    <tr>\n",
       "      <th>3</th>\n",
       "      <td>4</td>\n",
       "      <td>68.830</td>\n",
       "      <td>4</td>\n",
       "      <td>80.460</td>\n",
       "      <td>11.630</td>\n",
       "    </tr>\n",
       "    <tr>\n",
       "      <th>4</th>\n",
       "      <td>5</td>\n",
       "      <td>71.430</td>\n",
       "      <td>5</td>\n",
       "      <td>81.920</td>\n",
       "      <td>10.490</td>\n",
       "    </tr>\n",
       "    <tr>\n",
       "      <th>5</th>\n",
       "      <td>6</td>\n",
       "      <td>76.620</td>\n",
       "      <td>6</td>\n",
       "      <td>79.800</td>\n",
       "      <td>3.180</td>\n",
       "    </tr>\n",
       "    <tr>\n",
       "      <th>6</th>\n",
       "      <td>7</td>\n",
       "      <td>74.680</td>\n",
       "      <td>7</td>\n",
       "      <td>78.990</td>\n",
       "      <td>4.310</td>\n",
       "    </tr>\n",
       "    <tr>\n",
       "      <th>7</th>\n",
       "      <td>8</td>\n",
       "      <td>75.320</td>\n",
       "      <td>8</td>\n",
       "      <td>80.130</td>\n",
       "      <td>4.810</td>\n",
       "    </tr>\n",
       "    <tr>\n",
       "      <th>8</th>\n",
       "      <td>9</td>\n",
       "      <td>78.570</td>\n",
       "      <td>9</td>\n",
       "      <td>80.130</td>\n",
       "      <td>1.560</td>\n",
       "    </tr>\n",
       "    <tr>\n",
       "      <th>9</th>\n",
       "      <td>10</td>\n",
       "      <td>76.620</td>\n",
       "      <td>10</td>\n",
       "      <td>79.640</td>\n",
       "      <td>3.020</td>\n",
       "    </tr>\n",
       "    <tr>\n",
       "      <th>10</th>\n",
       "      <td>11</td>\n",
       "      <td>74.680</td>\n",
       "      <td>11</td>\n",
       "      <td>78.830</td>\n",
       "      <td>4.150</td>\n",
       "    </tr>\n",
       "    <tr>\n",
       "      <th>11</th>\n",
       "      <td>12</td>\n",
       "      <td>74.030</td>\n",
       "      <td>12</td>\n",
       "      <td>78.830</td>\n",
       "      <td>4.800</td>\n",
       "    </tr>\n",
       "    <tr>\n",
       "      <th>12</th>\n",
       "      <td>13</td>\n",
       "      <td>74.680</td>\n",
       "      <td>13</td>\n",
       "      <td>78.500</td>\n",
       "      <td>3.820</td>\n",
       "    </tr>\n",
       "    <tr>\n",
       "      <th>13</th>\n",
       "      <td>14</td>\n",
       "      <td>75.970</td>\n",
       "      <td>14</td>\n",
       "      <td>78.340</td>\n",
       "      <td>2.370</td>\n",
       "    </tr>\n",
       "    <tr>\n",
       "      <th>14</th>\n",
       "      <td>15</td>\n",
       "      <td>75.320</td>\n",
       "      <td>15</td>\n",
       "      <td>79.150</td>\n",
       "      <td>3.830</td>\n",
       "    </tr>\n",
       "    <tr>\n",
       "      <th>15</th>\n",
       "      <td>16</td>\n",
       "      <td>74.030</td>\n",
       "      <td>16</td>\n",
       "      <td>78.340</td>\n",
       "      <td>4.310</td>\n",
       "    </tr>\n",
       "    <tr>\n",
       "      <th>16</th>\n",
       "      <td>17</td>\n",
       "      <td>75.320</td>\n",
       "      <td>17</td>\n",
       "      <td>78.830</td>\n",
       "      <td>3.510</td>\n",
       "    </tr>\n",
       "    <tr>\n",
       "      <th>17</th>\n",
       "      <td>18</td>\n",
       "      <td>74.030</td>\n",
       "      <td>18</td>\n",
       "      <td>78.500</td>\n",
       "      <td>4.470</td>\n",
       "    </tr>\n",
       "    <tr>\n",
       "      <th>18</th>\n",
       "      <td>19</td>\n",
       "      <td>74.680</td>\n",
       "      <td>19</td>\n",
       "      <td>78.830</td>\n",
       "      <td>4.150</td>\n",
       "    </tr>\n",
       "    <tr>\n",
       "      <th>19</th>\n",
       "      <td>20</td>\n",
       "      <td>73.380</td>\n",
       "      <td>20</td>\n",
       "      <td>78.660</td>\n",
       "      <td>5.280</td>\n",
       "    </tr>\n",
       "    <tr>\n",
       "      <th>20</th>\n",
       "      <td>21</td>\n",
       "      <td>74.680</td>\n",
       "      <td>21</td>\n",
       "      <td>78.500</td>\n",
       "      <td>3.820</td>\n",
       "    </tr>\n",
       "    <tr>\n",
       "      <th>21</th>\n",
       "      <td>22</td>\n",
       "      <td>73.380</td>\n",
       "      <td>22</td>\n",
       "      <td>78.010</td>\n",
       "      <td>4.630</td>\n",
       "    </tr>\n",
       "  </tbody>\n",
       "</table>\n",
       "</div>"
      ],
      "text/plain": [
       "    k_value_test  score_test  k_value_train  score_train  result\n",
       "0              1      67.530              1      100.000  32.470\n",
       "1              2      73.380              2       84.040  10.660\n",
       "2              3      72.080              3       84.850  12.770\n",
       "3              4      68.830              4       80.460  11.630\n",
       "4              5      71.430              5       81.920  10.490\n",
       "5              6      76.620              6       79.800   3.180\n",
       "6              7      74.680              7       78.990   4.310\n",
       "7              8      75.320              8       80.130   4.810\n",
       "8              9      78.570              9       80.130   1.560\n",
       "9             10      76.620             10       79.640   3.020\n",
       "10            11      74.680             11       78.830   4.150\n",
       "11            12      74.030             12       78.830   4.800\n",
       "12            13      74.680             13       78.500   3.820\n",
       "13            14      75.970             14       78.340   2.370\n",
       "14            15      75.320             15       79.150   3.830\n",
       "15            16      74.030             16       78.340   4.310\n",
       "16            17      75.320             17       78.830   3.510\n",
       "17            18      74.030             18       78.500   4.470\n",
       "18            19      74.680             19       78.830   4.150\n",
       "19            20      73.380             20       78.660   5.280\n",
       "20            21      74.680             21       78.500   3.820\n",
       "21            22      73.380             22       78.010   4.630"
      ]
     },
     "execution_count": 38,
     "metadata": {},
     "output_type": "execute_result"
    }
   ],
   "source": [
    "from sklearn.neighbors import KNeighborsClassifier\n",
    "\n",
    "scaler = StandardScaler()\n",
    "X_train_scaled = scaler.fit_transform(X_train)\n",
    "X_test_scaled = scaler.transform(X_test)\n",
    "\n",
    "k_range = range(1,23)\n",
    "\n",
    "list_dist = []\n",
    "list_score = []\n",
    "sayac = 1\n",
    "for k in k_range : \n",
    "    model = KNeighborsClassifier(n_neighbors= k)\n",
    "    model.fit(X_train_scaled, y_train)\n",
    "    #print(sayac , \"Doğruluk oranı = % \", model.score(X_train_scaled, y_train)*100)\n",
    "    sayac = sayac + 1\n",
    "    list_dist.append(sayac-1)\n",
    "    list_score.append(round(model.score(X_train_scaled, y_train)*100,2))\n",
    "list_score = pd.DataFrame(list_score)  \n",
    "list_dist = pd.DataFrame(list_dist)\n",
    "train_k = pd.concat([list_dist, list_score], axis=1)\n",
    "train_k.columns = [\"k_value_train\", \"score_train\"]\n",
    "train_k\n",
    "\n",
    "list_dist1 = []\n",
    "list_score1 = []\n",
    "index = 1\n",
    "for k in k_range : \n",
    "    model2 = KNeighborsClassifier(n_neighbors= k)\n",
    "    model2.fit(X_train_scaled, y_train)\n",
    "    #print(sayac , \"Doğruluk oranı = % \", model.score(X_train_scaled, y_train)*100)\n",
    "    index = index + 1\n",
    "    list_dist1.append(index-1)\n",
    "    list_score1.append(round(model2.score(X_test_scaled, y_test)*100,2))\n",
    "list_score1 = pd.DataFrame(list_score1)  \n",
    "list_dist1 = pd.DataFrame(list_dist1)\n",
    "test_k = pd.concat([list_dist1, list_score1], axis=1)\n",
    "test_k.columns = [\"k_value_test\", \"score_test\"]\n",
    "scores = pd.concat([test_k, train_k], axis=1)\n",
    "scores[\"result\"] = scores[\"score_train\"] - scores[\"score_test\"]\n",
    "scores"
   ]
  },
  {
   "cell_type": "code",
   "execution_count": 39,
   "id": "55d6fe6d",
   "metadata": {},
   "outputs": [
    {
     "name": "stdout",
     "output_type": "stream",
     "text": [
      "Test_Set\n",
      "[[88 12]\n",
      " [21 33]]\n",
      "              precision    recall  f1-score   support\n",
      "\n",
      "           0       0.81      0.88      0.84       100\n",
      "           1       0.73      0.61      0.67        54\n",
      "\n",
      "    accuracy                           0.79       154\n",
      "   macro avg       0.77      0.75      0.75       154\n",
      "weighted avg       0.78      0.79      0.78       154\n",
      "\n",
      "\n",
      "Train_Set\n",
      "[[362  38]\n",
      " [ 84 130]]\n",
      "              precision    recall  f1-score   support\n",
      "\n",
      "           0       0.81      0.91      0.86       400\n",
      "           1       0.77      0.61      0.68       214\n",
      "\n",
      "    accuracy                           0.80       614\n",
      "   macro avg       0.79      0.76      0.77       614\n",
      "weighted avg       0.80      0.80      0.79       614\n",
      "\n"
     ]
    }
   ],
   "source": [
    "operations = [(\"scaler\", StandardScaler()), (\"knn\", KNeighborsClassifier(n_neighbors = 9, p = 2, weights = \"uniform\"))]\n",
    "\n",
    "Pipeline(steps=operations)\n",
    "\n",
    "knnpip_model = Pipeline(steps=operations)\n",
    "knnpip_model.fit(X_train, y_train)\n",
    "eval_metric(knnpip_model, X_train, y_train, X_test, y_test)\n",
    "\n",
    "# n_neighbors': 25, 'knn__p': 1, 'knn__weights': 'uniform'"
   ]
  },
  {
   "cell_type": "markdown",
   "id": "93aae2b9",
   "metadata": {},
   "source": [
    "### Cross Validate : "
   ]
  },
  {
   "cell_type": "code",
   "execution_count": 41,
   "id": "5b0f8667",
   "metadata": {},
   "outputs": [
    {
     "data": {
      "text/plain": [
       "test_precision   0.701\n",
       "test_recall      0.532\n",
       "test_f1          0.601\n",
       "test_accuracy    0.756\n",
       "dtype: float64"
      ]
     },
     "execution_count": 41,
     "metadata": {},
     "output_type": "execute_result"
    }
   ],
   "source": [
    "from sklearn.model_selection import cross_validate\n",
    "\n",
    "operations = [('scaler',StandardScaler()),('knn',KNeighborsClassifier(n_neighbors=9, p = 2, weights = \"uniform\"))]\n",
    "model = Pipeline(operations)\n",
    "\n",
    "scores = cross_validate(model, X_train, y_train, scoring = ['precision','recall','f1','accuracy'], cv = 10)\n",
    "df_scores = pd.DataFrame(scores, index = range(1, 11))\n",
    "df_scores.mean()[2:]"
   ]
  },
  {
   "cell_type": "markdown",
   "id": "f03ebc0e",
   "metadata": {},
   "source": [
    "### ROC and AUC : "
   ]
  },
  {
   "cell_type": "code",
   "execution_count": 42,
   "id": "cad10939",
   "metadata": {},
   "outputs": [],
   "source": [
    "from sklearn.metrics import roc_curve, roc_auc_score, plot_roc_curve"
   ]
  },
  {
   "cell_type": "markdown",
   "id": "f26fe4f6",
   "metadata": {},
   "source": [
    "#### 1- Logistic Regression : "
   ]
  },
  {
   "cell_type": "code",
   "execution_count": 43,
   "id": "29e4a029",
   "metadata": {},
   "outputs": [
    {
     "data": {
      "image/png": "[encoded data removed]",
      "text/plain": [
       "<Figure size 720x432 with 1 Axes>"
      ]
     },
     "metadata": {
      "needs_background": "light"
     },
     "output_type": "display_data"
    }
   ],
   "source": [
    "plot_roc_curve(logpip_model, X_test, y_test, pos_label=1);"
   ]
  },
  {
   "cell_type": "markdown",
   "id": "800c08c8",
   "metadata": {},
   "source": [
    "### Data Imbalanced Olduğu için :  plot_precision_recall_curve"
   ]
  },
  {
   "cell_type": "code",
   "execution_count": 44,
   "id": "51fd70ff",
   "metadata": {},
   "outputs": [],
   "source": [
    "from sklearn.metrics import plot_precision_recall_curve, precision_recall_curve, average_precision_score"
   ]
  },
  {
   "cell_type": "code",
   "execution_count": 45,
   "id": "9a0848e6",
   "metadata": {},
   "outputs": [
    {
     "data": {
      "image/png": "[encoded data removed]",
      "text/plain": [
       "<Figure size 720x432 with 1 Axes>"
      ]
     },
     "metadata": {
      "needs_background": "light"
     },
     "output_type": "display_data"
    }
   ],
   "source": [
    "plot_precision_recall_curve(logpip_model, X_test, y_test);\n"
   ]
  },
  {
   "cell_type": "markdown",
   "id": "c78114e7",
   "metadata": {},
   "source": [
    "### Logistic Default Values Best Threshold : "
   ]
  },
  {
   "cell_type": "code",
   "execution_count": 65,
   "id": "32fd989f",
   "metadata": {},
   "outputs": [
    {
     "data": {
      "text/plain": [
       "Pipeline(steps=[('scaler', StandardScaler()),\n",
       "                ('logistic', LogisticRegression(random_state=42))])"
      ]
     },
     "execution_count": 65,
     "metadata": {},
     "output_type": "execute_result"
    }
   ],
   "source": [
    "operations = [(\"scaler\", StandardScaler()), (\"logistic\", LogisticRegression(random_state = 42))]\n",
    "Pipeline(steps=operations)\n",
    "log_model = Pipeline(steps=operations)\n",
    "log_model.fit(X_train, y_train)"
   ]
  },
  {
   "cell_type": "code",
   "execution_count": 66,
   "id": "c96176db",
   "metadata": {},
   "outputs": [
    {
     "data": {
      "image/png": "[encoded data removed]",
      "text/plain": [
       "<Figure size 720x432 with 1 Axes>"
      ]
     },
     "metadata": {
      "needs_background": "light"
     },
     "output_type": "display_data"
    }
   ],
   "source": [
    "plot_roc_curve(log_model, X_train, y_train);"
   ]
  },
  {
   "cell_type": "code",
   "execution_count": 69,
   "id": "58fb44d0",
   "metadata": {},
   "outputs": [
    {
     "data": {
      "text/plain": [
       "0.8439485981308412"
      ]
     },
     "execution_count": 69,
     "metadata": {},
     "output_type": "execute_result"
    }
   ],
   "source": [
    "y_pred_proba = log_model.predict_proba(X_train)\n",
    "roc_auc_score(y_train, y_pred_proba[:,1])"
   ]
  },
  {
   "cell_type": "code",
   "execution_count": 70,
   "id": "42516833",
   "metadata": {},
   "outputs": [
    {
     "data": {
      "text/plain": [
       "0.35913286441565073"
      ]
     },
     "execution_count": 70,
     "metadata": {},
     "output_type": "execute_result"
    }
   ],
   "source": [
    "# Dengesiz veri seti olduğu için bir de burda hesapladık : \n",
    "\n",
    "precisions, recalls, thresholds = precision_recall_curve(y_train, y_pred_proba[:,1])\n",
    "optimal_idx = np.argmax((2 * precisions * recalls) / (precisions + recalls))\n",
    "optimal_threshold = thresholds[optimal_idx]\n",
    "optimal_threshold"
   ]
  },
  {
   "cell_type": "code",
   "execution_count": 71,
   "id": "4d0125e0",
   "metadata": {},
   "outputs": [
    {
     "name": "stdout",
     "output_type": "stream",
     "text": [
      "[[60 40]\n",
      " [ 6 48]]\n",
      "              precision    recall  f1-score   support\n",
      "\n",
      "           0       0.91      0.60      0.72       100\n",
      "           1       0.55      0.89      0.68        54\n",
      "\n",
      "    accuracy                           0.70       154\n",
      "   macro avg       0.73      0.74      0.70       154\n",
      "weighted avg       0.78      0.70      0.71       154\n",
      "\n"
     ]
    }
   ],
   "source": [
    "y_pred2 = pd.Series(logpip_model.predict_proba(X_test)[:,1]).apply(lambda x : 1 if x >= optimal_threshold else 0)\n",
    "\n",
    "print(confusion_matrix(y_test, y_pred2))\n",
    "print(classification_report(y_test, y_pred2))"
   ]
  },
  {
   "cell_type": "code",
   "execution_count": 72,
   "id": "14bc74c7",
   "metadata": {},
   "outputs": [
    {
     "name": "stdout",
     "output_type": "stream",
     "text": [
      "[[225 175]\n",
      " [ 22 192]]\n",
      "              precision    recall  f1-score   support\n",
      "\n",
      "           0       0.91      0.56      0.70       400\n",
      "           1       0.52      0.90      0.66       214\n",
      "\n",
      "    accuracy                           0.68       614\n",
      "   macro avg       0.72      0.73      0.68       614\n",
      "weighted avg       0.78      0.68      0.68       614\n",
      "\n"
     ]
    }
   ],
   "source": [
    "y_train_pred = pd.Series(logpip_model.predict_proba(X_train)[:,1]).apply(lambda x : 1 if x >= optimal_threshold else 0)\n",
    "print(confusion_matrix(y_train, y_train_pred))\n",
    "print(classification_report(y_train, y_train_pred))"
   ]
  },
  {
   "cell_type": "markdown",
   "id": "b7a252c6",
   "metadata": {},
   "source": [
    "### plot_roc_curve KNN : "
   ]
  },
  {
   "cell_type": "code",
   "execution_count": 73,
   "id": "5673ee6b",
   "metadata": {},
   "outputs": [
    {
     "data": {
      "image/png": "[encoded data removed]",
      "text/plain": [
       "<Figure size 720x432 with 1 Axes>"
      ]
     },
     "metadata": {
      "needs_background": "light"
     },
     "output_type": "display_data"
    }
   ],
   "source": [
    "plot_roc_curve(knnpip_model, X_test, y_test);"
   ]
  },
  {
   "cell_type": "markdown",
   "id": "d7d0f706",
   "metadata": {},
   "source": [
    "### Default KNN Best Threshold : "
   ]
  },
  {
   "cell_type": "code",
   "execution_count": 74,
   "id": "1527faad",
   "metadata": {},
   "outputs": [
    {
     "data": {
      "text/plain": [
       "Pipeline(steps=[('scaler', StandardScaler()), ('knn', KNeighborsClassifier())])"
      ]
     },
     "execution_count": 74,
     "metadata": {},
     "output_type": "execute_result"
    }
   ],
   "source": [
    "operations = [(\"scaler\", StandardScaler()), (\"knn\", KNeighborsClassifier())]\n",
    "Pipeline(steps=operations)\n",
    "knn_model = Pipeline(steps=operations)\n",
    "knn_model.fit(X_train, y_train)"
   ]
  },
  {
   "cell_type": "code",
   "execution_count": 75,
   "id": "7e0712b0",
   "metadata": {},
   "outputs": [
    {
     "data": {
      "image/png": "[encoded data removed]",
      "text/plain": [
       "<Figure size 720x432 with 1 Axes>"
      ]
     },
     "metadata": {
      "needs_background": "light"
     },
     "output_type": "display_data"
    }
   ],
   "source": [
    "plot_roc_curve(knn_model, X_train, y_train);"
   ]
  },
  {
   "cell_type": "code",
   "execution_count": 76,
   "id": "dedd4110",
   "metadata": {},
   "outputs": [
    {
     "data": {
      "text/plain": [
       "0.9044684579439253"
      ]
     },
     "execution_count": 76,
     "metadata": {},
     "output_type": "execute_result"
    }
   ],
   "source": [
    "y_pred_proba = knn_model.predict_proba(X_train)\n",
    "roc_auc_score(y_train, y_pred_proba[:,1])"
   ]
  },
  {
   "cell_type": "code",
   "execution_count": 77,
   "id": "e4f4929f",
   "metadata": {},
   "outputs": [
    {
     "data": {
      "text/plain": [
       "0.4"
      ]
     },
     "execution_count": 77,
     "metadata": {},
     "output_type": "execute_result"
    }
   ],
   "source": [
    "# Dengesiz veri seti olduğu için bir de burda hesapladık : \n",
    "\n",
    "precisions, recalls, thresholds = precision_recall_curve(y_train, y_pred_proba[:,1])\n",
    "optimal_idx = np.argmax((2 * precisions * recalls) / (precisions + recalls))\n",
    "optimal_threshold = thresholds[optimal_idx]\n",
    "optimal_threshold"
   ]
  },
  {
   "cell_type": "code",
   "execution_count": 78,
   "id": "9e02dbd1",
   "metadata": {},
   "outputs": [
    {
     "name": "stdout",
     "output_type": "stream",
     "text": [
      "[[76 24]\n",
      " [17 37]]\n",
      "              precision    recall  f1-score   support\n",
      "\n",
      "           0       0.82      0.76      0.79       100\n",
      "           1       0.61      0.69      0.64        54\n",
      "\n",
      "    accuracy                           0.73       154\n",
      "   macro avg       0.71      0.72      0.72       154\n",
      "weighted avg       0.74      0.73      0.74       154\n",
      "\n"
     ]
    }
   ],
   "source": [
    "y_pred2 = pd.Series(knnpip_model.predict_proba(X_test)[:,1]).apply(lambda x : 1 if x >= optimal_threshold else 0)\n",
    "\n",
    "print(confusion_matrix(y_test, y_pred2))\n",
    "print(classification_report(y_test, y_pred2))"
   ]
  },
  {
   "cell_type": "code",
   "execution_count": 79,
   "id": "34688408",
   "metadata": {},
   "outputs": [
    {
     "name": "stdout",
     "output_type": "stream",
     "text": [
      "[[322  78]\n",
      " [ 61 153]]\n",
      "              precision    recall  f1-score   support\n",
      "\n",
      "           0       0.84      0.81      0.82       400\n",
      "           1       0.66      0.71      0.69       214\n",
      "\n",
      "    accuracy                           0.77       614\n",
      "   macro avg       0.75      0.76      0.76       614\n",
      "weighted avg       0.78      0.77      0.78       614\n",
      "\n"
     ]
    }
   ],
   "source": [
    "y_train_pred = pd.Series(knnpip_model.predict_proba(X_train)[:,1]).apply(lambda x : 1 if x >= optimal_threshold else 0)\n",
    "print(confusion_matrix(y_train, y_train_pred))\n",
    "print(classification_report(y_train, y_train_pred))"
   ]
  },
  {
   "cell_type": "markdown",
   "id": "9794ea90",
   "metadata": {},
   "source": [
    "###  Tree Models : "
   ]
  },
  {
   "cell_type": "markdown",
   "id": "48c096bc",
   "metadata": {},
   "source": [
    "### 1- Decision Tree : "
   ]
  },
  {
   "cell_type": "code",
   "execution_count": 119,
   "id": "adae439c",
   "metadata": {},
   "outputs": [
    {
     "name": "stdout",
     "output_type": "stream",
     "text": [
      "Test_Set\n",
      "[[84 16]\n",
      " [15 39]]\n",
      "              precision    recall  f1-score   support\n",
      "\n",
      "           0       0.85      0.84      0.84       100\n",
      "           1       0.71      0.72      0.72        54\n",
      "\n",
      "    accuracy                           0.80       154\n",
      "   macro avg       0.78      0.78      0.78       154\n",
      "weighted avg       0.80      0.80      0.80       154\n",
      "\n",
      "\n",
      "Train_Set\n",
      "[[327  73]\n",
      " [ 43 171]]\n",
      "              precision    recall  f1-score   support\n",
      "\n",
      "           0       0.88      0.82      0.85       400\n",
      "           1       0.70      0.80      0.75       214\n",
      "\n",
      "    accuracy                           0.81       614\n",
      "   macro avg       0.79      0.81      0.80       614\n",
      "weighted avg       0.82      0.81      0.81       614\n",
      "\n"
     ]
    }
   ],
   "source": [
    "from sklearn.tree import DecisionTreeClassifier\n",
    "\n",
    "dt_model = DecisionTreeClassifier(random_state=42, max_depth= 5, splitter= \"best\", max_features = 8, \n",
    "                                  min_samples_leaf = 5)\n",
    "dt_model.fit(X_train, y_train)\n",
    "eval_metric(dt_model, X_train, y_train, X_test, y_test)"
   ]
  },
  {
   "cell_type": "markdown",
   "id": "43f07937",
   "metadata": {},
   "source": [
    "### Cross Validate : "
   ]
  },
  {
   "cell_type": "code",
   "execution_count": 134,
   "id": "4bfa6830",
   "metadata": {},
   "outputs": [
    {
     "data": {
      "text/plain": [
       "test_precision   0.612\n",
       "test_recall      0.472\n",
       "test_f1          0.526\n",
       "test_accuracy    0.707\n",
       "dtype: float64"
      ]
     },
     "execution_count": 134,
     "metadata": {},
     "output_type": "execute_result"
    }
   ],
   "source": [
    "model = DecisionTreeClassifier(random_state=42, max_depth= 5, splitter= \"best\", max_features = 8, \n",
    "                                  min_samples_leaf = 5)\n",
    "\n",
    "scores = cross_validate(model, X_train, y_train, scoring = ['precision','recall','f1','accuracy'], cv = 10)\n",
    "df_scores = pd.DataFrame(scores, index = range(1, 11))\n",
    "df_scores.mean()[2:]"
   ]
  },
  {
   "cell_type": "markdown",
   "id": "5cce8855",
   "metadata": {},
   "source": [
    "### 2- Random Forest :"
   ]
  },
  {
   "cell_type": "code",
   "execution_count": 129,
   "id": "fb71e0f5",
   "metadata": {},
   "outputs": [
    {
     "name": "stdout",
     "output_type": "stream",
     "text": [
      "Test_Set\n",
      "[[76 24]\n",
      " [11 43]]\n",
      "              precision    recall  f1-score   support\n",
      "\n",
      "           0       0.87      0.76      0.81       100\n",
      "           1       0.64      0.80      0.71        54\n",
      "\n",
      "    accuracy                           0.77       154\n",
      "   macro avg       0.76      0.78      0.76       154\n",
      "weighted avg       0.79      0.77      0.78       154\n",
      "\n",
      "\n",
      "Train_Set\n",
      "[[318  82]\n",
      " [ 47 167]]\n",
      "              precision    recall  f1-score   support\n",
      "\n",
      "           0       0.87      0.80      0.83       400\n",
      "           1       0.67      0.78      0.72       214\n",
      "\n",
      "    accuracy                           0.79       614\n",
      "   macro avg       0.77      0.79      0.78       614\n",
      "weighted avg       0.80      0.79      0.79       614\n",
      "\n"
     ]
    }
   ],
   "source": [
    "from sklearn.ensemble import RandomForestClassifier\n",
    "\n",
    "rnd_model = RandomForestClassifier(class_weight= \"balanced\", criterion=\"gini\", max_depth = 3, max_features = None,\n",
    "                                  n_estimators = 64, random_state = 42)\n",
    "\n",
    "rnd_model.fit(X_train, y_train)\n",
    "\n",
    "eval_metric(rnd_model, X_train, y_train, X_test, y_test)"
   ]
  },
  {
   "cell_type": "markdown",
   "id": "f00347c1",
   "metadata": {},
   "source": [
    "### Cross Validate : "
   ]
  },
  {
   "cell_type": "code",
   "execution_count": 133,
   "id": "3512b077",
   "metadata": {},
   "outputs": [
    {
     "data": {
      "text/plain": [
       "test_precision   0.644\n",
       "test_recall      0.695\n",
       "test_f1          0.663\n",
       "test_accuracy    0.753\n",
       "dtype: float64"
      ]
     },
     "execution_count": 133,
     "metadata": {},
     "output_type": "execute_result"
    }
   ],
   "source": [
    "model = RandomForestClassifier(class_weight= \"balanced\", criterion=\"gini\", max_depth = 3, max_features = None,\n",
    "                                  n_estimators = 64, random_state = 42)\n",
    "\n",
    "scores = cross_validate(model, X_train, y_train, scoring = ['precision','recall','f1','accuracy'], cv = 10)\n",
    "df_scores = pd.DataFrame(scores, index = range(1, 11))\n",
    "df_scores.mean()[2:]"
   ]
  },
  {
   "cell_type": "code",
   "execution_count": null,
   "id": "ca92f60d",
   "metadata": {},
   "outputs": [],
   "source": []
  },
  {
   "cell_type": "markdown",
   "id": "b268dd9c",
   "metadata": {},
   "source": [
    "### Boosting Models : "
   ]
  },
  {
   "cell_type": "markdown",
   "id": "eb401c8e",
   "metadata": {},
   "source": [
    "### 1- AdaBoosting : "
   ]
  },
  {
   "cell_type": "code",
   "execution_count": 162,
   "id": "4181d4f0",
   "metadata": {},
   "outputs": [
    {
     "name": "stdout",
     "output_type": "stream",
     "text": [
      "Test_Set\n",
      "[[84 16]\n",
      " [19 35]]\n",
      "              precision    recall  f1-score   support\n",
      "\n",
      "           0       0.82      0.84      0.83       100\n",
      "           1       0.69      0.65      0.67        54\n",
      "\n",
      "    accuracy                           0.77       154\n",
      "   macro avg       0.75      0.74      0.75       154\n",
      "weighted avg       0.77      0.77      0.77       154\n",
      "\n",
      "\n",
      "Train_Set\n",
      "[[362  38]\n",
      " [ 60 154]]\n",
      "              precision    recall  f1-score   support\n",
      "\n",
      "           0       0.86      0.91      0.88       400\n",
      "           1       0.80      0.72      0.76       214\n",
      "\n",
      "    accuracy                           0.84       614\n",
      "   macro avg       0.83      0.81      0.82       614\n",
      "weighted avg       0.84      0.84      0.84       614\n",
      "\n"
     ]
    }
   ],
   "source": [
    "from sklearn.ensemble import AdaBoostClassifier\n",
    "\n",
    "ada_model = AdaBoostClassifier(random_state = 42, n_estimators= 100, learning_rate= 1.0)\n",
    "ada_model.fit(X_train, y_train)\n",
    "\n",
    "eval_metric(ada_model, X_train, y_train, X_test, y_test)"
   ]
  },
  {
   "cell_type": "markdown",
   "id": "fc1f2596",
   "metadata": {},
   "source": [
    "### Cross Validate : "
   ]
  },
  {
   "cell_type": "code",
   "execution_count": 163,
   "id": "7b01d461",
   "metadata": {},
   "outputs": [
    {
     "data": {
      "text/plain": [
       "test_precision   0.671\n",
       "test_recall      0.551\n",
       "test_f1          0.599\n",
       "test_accuracy    0.744\n",
       "dtype: float64"
      ]
     },
     "execution_count": 163,
     "metadata": {},
     "output_type": "execute_result"
    }
   ],
   "source": [
    "model = AdaBoostClassifier(random_state = 42, n_estimators= 100, learning_rate= 1.0)\n",
    "\n",
    "scores = cross_validate(model, X_train, y_train, scoring = ['precision','recall','f1','accuracy'], cv = 10)\n",
    "df_scores = pd.DataFrame(scores, index = range(1, 11))\n",
    "df_scores.mean()[2:]"
   ]
  },
  {
   "cell_type": "markdown",
   "id": "b8011339",
   "metadata": {},
   "source": [
    "### GradientBoosting : "
   ]
  },
  {
   "cell_type": "code",
   "execution_count": 223,
   "id": "7a602be5",
   "metadata": {},
   "outputs": [
    {
     "name": "stdout",
     "output_type": "stream",
     "text": [
      "Test_Set\n",
      "[[100   0]\n",
      " [ 54   0]]\n",
      "              precision    recall  f1-score   support\n",
      "\n",
      "           0       0.65      1.00      0.79       100\n",
      "           1       0.00      0.00      0.00        54\n",
      "\n",
      "    accuracy                           0.65       154\n",
      "   macro avg       0.32      0.50      0.39       154\n",
      "weighted avg       0.42      0.65      0.51       154\n",
      "\n",
      "\n",
      "Train_Set\n",
      "[[400   0]\n",
      " [214   0]]\n",
      "              precision    recall  f1-score   support\n",
      "\n",
      "           0       0.65      1.00      0.79       400\n",
      "           1       0.00      0.00      0.00       214\n",
      "\n",
      "    accuracy                           0.65       614\n",
      "   macro avg       0.33      0.50      0.39       614\n",
      "weighted avg       0.42      0.65      0.51       614\n",
      "\n"
     ]
    }
   ],
   "source": [
    "from sklearn.ensemble import GradientBoostingClassifier\n",
    "\n",
    "gr_model = GradientBoostingClassifier(random_state = 42, learning_rate= 2.0, n_estimators= 200, min_samples_split = 3, \n",
    "                                      subsample=1.0, max_depth= 3, ccp_alpha= 0.3)\n",
    "gr_model.fit(X_train, y_train)\n",
    "\n",
    "eval_metric(gr_model, X_train, y_train, X_test, y_test)"
   ]
  },
  {
   "cell_type": "markdown",
   "id": "12fab156",
   "metadata": {},
   "source": [
    "### Cross Validate : "
   ]
  },
  {
   "cell_type": "code",
   "execution_count": 242,
   "id": "7ff0062e",
   "metadata": {},
   "outputs": [
    {
     "data": {
      "text/plain": [
       "test_precision_1   0.386\n",
       "test_recall_1      0.542\n",
       "test_f1_1          0.434\n",
       "dtype: float64"
      ]
     },
     "execution_count": 242,
     "metadata": {},
     "output_type": "execute_result"
    }
   ],
   "source": [
    "f1_1 = make_scorer(f1_score, pos_label =1)\n",
    "precision_1 = make_scorer(precision_score, pos_label =1)\n",
    "recall_1 = make_scorer(recall_score, pos_label =1)\n",
    "\n",
    "model = GradientBoostingClassifier(random_state = 42, learning_rate= 2.0, n_estimators= 150, min_samples_split = 3, \n",
    "                                      subsample=1.0, max_depth= 3)\n",
    "\n",
    "scores = cross_validate(model, X_train_scaled, y_train,scoring = {\"precision_1\":precision_1, \"recall_1\":recall_1, \"f1_1\":f1_1}, \n",
    "                        cv = 10)\n",
    "\n",
    "df_scores = pd.DataFrame(scores, index = range(1, 11))\n",
    "df_scores.mean()[2:]"
   ]
  },
  {
   "cell_type": "markdown",
   "id": "9e17c77f",
   "metadata": {},
   "source": [
    "### XGBoost : "
   ]
  },
  {
   "cell_type": "code",
   "execution_count": 243,
   "id": "ed3ee804",
   "metadata": {},
   "outputs": [
    {
     "name": "stdout",
     "output_type": "stream",
     "text": [
      "Requirement already satisfied: xgboost in c:\\programdata\\anaconda3\\lib\\site-packages (1.5.2)\n",
      "Requirement already satisfied: numpy in c:\\programdata\\anaconda3\\lib\\site-packages (from xgboost) (1.19.5)\n",
      "Requirement already satisfied: scipy in c:\\programdata\\anaconda3\\lib\\site-packages (from xgboost) (1.7.1)\n"
     ]
    }
   ],
   "source": [
    "!pip install xgboost"
   ]
  },
  {
   "cell_type": "code",
   "execution_count": 244,
   "id": "eff3ca87",
   "metadata": {},
   "outputs": [],
   "source": [
    "from xgboost import XGBClassifier"
   ]
  },
  {
   "cell_type": "code",
   "execution_count": 304,
   "id": "9161ec21",
   "metadata": {},
   "outputs": [
    {
     "name": "stdout",
     "output_type": "stream",
     "text": [
      "[16:46:24] WARNING: C:/Users/Administrator/workspace/xgboost-win64_release_1.5.1/src/learner.cc:576: \n",
      "Parameters: { \"scale_post_weight\" } might not be used.\n",
      "\n",
      "  This could be a false alarm, with some parameters getting used by language bindings but\n",
      "  then being mistakenly passed down to XGBoost core, or some parameter actually being used\n",
      "  but getting flagged wrongly here. Please open an issue if you find any such cases.\n",
      "\n",
      "\n",
      "[16:46:24] WARNING: C:/Users/Administrator/workspace/xgboost-win64_release_1.5.1/src/learner.cc:1115: Starting in XGBoost 1.3.0, the default evaluation metric used with the objective 'binary:logistic' was changed from 'error' to 'logloss'. Explicitly set eval_metric if you'd like to restore the old behavior.\n",
      "Test_Set\n",
      "[[84 16]\n",
      " [21 33]]\n",
      "              precision    recall  f1-score   support\n",
      "\n",
      "           0       0.80      0.84      0.82       100\n",
      "           1       0.67      0.61      0.64        54\n",
      "\n",
      "    accuracy                           0.76       154\n",
      "   macro avg       0.74      0.73      0.73       154\n",
      "weighted avg       0.76      0.76      0.76       154\n",
      "\n",
      "\n",
      "Train_Set\n",
      "[[360  40]\n",
      " [ 62 152]]\n",
      "              precision    recall  f1-score   support\n",
      "\n",
      "           0       0.85      0.90      0.88       400\n",
      "           1       0.79      0.71      0.75       214\n",
      "\n",
      "    accuracy                           0.83       614\n",
      "   macro avg       0.82      0.81      0.81       614\n",
      "weighted avg       0.83      0.83      0.83       614\n",
      "\n"
     ]
    }
   ],
   "source": [
    "xgb_model = XGBClassifier(random_state = 42, min_child_weight = 7.0, gamma = 5.0, subsample = 0.8, \n",
    "                         scale_post_weight = 1.8, reg_alpha = 0, reg_lambda = 1)\n",
    "\n",
    "xgb_model.fit(X_train, y_train)\n",
    "\n",
    "eval_metric(xgb_model, X_train, y_train, X_test, y_test)"
   ]
  },
  {
   "cell_type": "code",
   "execution_count": 301,
   "id": "b1a6aa28",
   "metadata": {},
   "outputs": [
    {
     "name": "stdout",
     "output_type": "stream",
     "text": [
      "[16:41:58] WARNING: C:/Users/Administrator/workspace/xgboost-win64_release_1.5.1/src/learner.cc:1115: Starting in XGBoost 1.3.0, the default evaluation metric used with the objective 'binary:logistic' was changed from 'error' to 'logloss'. Explicitly set eval_metric if you'd like to restore the old behavior.\n"
     ]
    }
   ],
   "source": [
    "from sklearn.model_selection import GridSearchCV\n",
    "\n",
    "param_grid = {\"n_estimators\":[50, 100, 200,300,400],'max_depth':[2,3,4,5], \"learning_rate\": [0.1, 1.0, 2.0, 3.0, 4.0, 5.0],\n",
    "             \"subsample\":[0.5, 0.8, 1], \"colsample_bytree\":[0.5,0.7, 1]}\n",
    "\n",
    "xgb_model = XGBClassifier(random_state=42, min_child_weight = 7.0, gamma = 5.0)\n",
    "\n",
    "xgb_grid = GridSearchCV(xgb_model, param_grid, scoring = \"recall\", cv=5, n_jobs = -1).fit(X_train, y_train)\n"
   ]
  },
  {
   "cell_type": "code",
   "execution_count": 302,
   "id": "66aad612",
   "metadata": {},
   "outputs": [
    {
     "name": "stdout",
     "output_type": "stream",
     "text": [
      "Test_Set\n",
      "[[  0 100]\n",
      " [  0  54]]\n",
      "              precision    recall  f1-score   support\n",
      "\n",
      "           0       0.00      0.00      0.00       100\n",
      "           1       0.35      1.00      0.52        54\n",
      "\n",
      "    accuracy                           0.35       154\n",
      "   macro avg       0.18      0.50      0.26       154\n",
      "weighted avg       0.12      0.35      0.18       154\n",
      "\n",
      "\n",
      "Train_Set\n",
      "[[  0 400]\n",
      " [  0 214]]\n",
      "              precision    recall  f1-score   support\n",
      "\n",
      "           0       0.00      0.00      0.00       400\n",
      "           1       0.35      1.00      0.52       214\n",
      "\n",
      "    accuracy                           0.35       614\n",
      "   macro avg       0.17      0.50      0.26       614\n",
      "weighted avg       0.12      0.35      0.18       614\n",
      "\n"
     ]
    }
   ],
   "source": [
    "eval_metric(xgb_grid, X_train, y_train, X_test, y_test)"
   ]
  },
  {
   "cell_type": "code",
   "execution_count": 305,
   "id": "599cbeae",
   "metadata": {},
   "outputs": [
    {
     "data": {
      "text/plain": [
       "{'colsample_bytree': 0.5,\n",
       " 'learning_rate': 5.0,\n",
       " 'max_depth': 2,\n",
       " 'n_estimators': 50,\n",
       " 'subsample': 0.5}"
      ]
     },
     "execution_count": 305,
     "metadata": {},
     "output_type": "execute_result"
    }
   ],
   "source": [
    "xgb_grid.best_params_"
   ]
  },
  {
   "cell_type": "markdown",
   "id": "d3dd8870",
   "metadata": {},
   "source": [
    "### Default XGBoost Best Threshold : \n",
    "\n",
    "Aslında gridsearchcv ile değeri 1 olanları 1 olarak doğru tahmin etmede %100 başarıya ulaştık. bir de test için best threshold belirleyelim. Çünkü train seti için skorlarımız default değerlerde zaten mükemmel ancak test datamızda ki skorlar berbat oldukları için test datası üzerinden best threshold bulunacak."
   ]
  },
  {
   "cell_type": "code",
   "execution_count": 292,
   "id": "44ea8a8a",
   "metadata": {},
   "outputs": [
    {
     "name": "stdout",
     "output_type": "stream",
     "text": [
      "[16:15:09] WARNING: C:/Users/Administrator/workspace/xgboost-win64_release_1.5.1/src/learner.cc:1115: Starting in XGBoost 1.3.0, the default evaluation metric used with the objective 'binary:logistic' was changed from 'error' to 'logloss'. Explicitly set eval_metric if you'd like to restore the old behavior.\n"
     ]
    },
    {
     "data": {
      "text/plain": [
       "XGBClassifier(base_score=0.5, booster='gbtree', colsample_bylevel=1,\n",
       "              colsample_bynode=1, colsample_bytree=1, enable_categorical=False,\n",
       "              gamma=0, gpu_id=-1, importance_type=None,\n",
       "              interaction_constraints='', learning_rate=0.300000012,\n",
       "              max_delta_step=0, max_depth=6, min_child_weight=1, missing=nan,\n",
       "              monotone_constraints='()', n_estimators=100, n_jobs=4,\n",
       "              num_parallel_tree=1, predictor='auto', random_state=42,\n",
       "              reg_alpha=0, reg_lambda=1, scale_pos_weight=1, subsample=1,\n",
       "              tree_method='exact', validate_parameters=1, verbosity=None)"
      ]
     },
     "execution_count": 292,
     "metadata": {},
     "output_type": "execute_result"
    }
   ],
   "source": [
    "model = XGBClassifier(random_state = 42)\n",
    "model.fit(X_train, y_train)"
   ]
  },
  {
   "cell_type": "code",
   "execution_count": 308,
   "id": "4ab1d012",
   "metadata": {},
   "outputs": [
    {
     "data": {
      "image/png": "[encoded data removed]",
      "text/plain": [
       "<Figure size 720x432 with 1 Axes>"
      ]
     },
     "metadata": {
      "needs_background": "light"
     },
     "output_type": "display_data"
    }
   ],
   "source": [
    "plot_roc_curve(model, X_test, y_test);"
   ]
  },
  {
   "cell_type": "code",
   "execution_count": null,
   "id": "7274f277",
   "metadata": {},
   "outputs": [],
   "source": []
  },
  {
   "cell_type": "markdown",
   "id": "624c1ac3",
   "metadata": {},
   "source": [
    "#### XGBoosta test için en iyi threshold bulunacak : "
   ]
  },
  {
   "cell_type": "code",
   "execution_count": 313,
   "id": "1579db71",
   "metadata": {},
   "outputs": [
    {
     "data": {
      "text/plain": [
       "0.8035185185185185"
      ]
     },
     "execution_count": 313,
     "metadata": {},
     "output_type": "execute_result"
    }
   ],
   "source": [
    "y_pred_proba = model.predict_proba(X_test)\n",
    "roc_auc_score(y_test, y_pred_proba[:,1])"
   ]
  },
  {
   "cell_type": "code",
   "execution_count": 314,
   "id": "2f1caf2f",
   "metadata": {},
   "outputs": [
    {
     "data": {
      "text/plain": [
       "0.18070453"
      ]
     },
     "execution_count": 314,
     "metadata": {},
     "output_type": "execute_result"
    }
   ],
   "source": [
    "# Dengesiz veri seti olduğu için bir de burda hesapladık : \n",
    "\n",
    "precisions, recalls, thresholds = precision_recall_curve(y_test, y_pred_proba[:,1])\n",
    "optimal_idx = np.argmax((2 * precisions * recalls) / (precisions + recalls))\n",
    "optimal_threshold = thresholds[optimal_idx]\n",
    "optimal_threshold"
   ]
  },
  {
   "cell_type": "code",
   "execution_count": 316,
   "id": "e08f5018",
   "metadata": {},
   "outputs": [
    {
     "name": "stdout",
     "output_type": "stream",
     "text": [
      "[[  0 100]\n",
      " [  0  54]]\n",
      "              precision    recall  f1-score   support\n",
      "\n",
      "           0       0.00      0.00      0.00       100\n",
      "           1       0.35      1.00      0.52        54\n",
      "\n",
      "    accuracy                           0.35       154\n",
      "   macro avg       0.18      0.50      0.26       154\n",
      "weighted avg       0.12      0.35      0.18       154\n",
      "\n"
     ]
    }
   ],
   "source": [
    "# 1 leri mükemmel bir şeklide tahmin etti : \n",
    "\n",
    "y_pred2 = pd.Series(xgb_grid.predict_proba(X_test)[:,1]).apply(lambda x : 1 if x >= optimal_threshold else 0)\n",
    "\n",
    "print(confusion_matrix(y_test, y_pred2))\n",
    "print(classification_report(y_test, y_pred2))"
   ]
  },
  {
   "cell_type": "markdown",
   "id": "8f6bc153",
   "metadata": {},
   "source": [
    "### Final Model : \n",
    "\n",
    "Hasta olan 40 tane kişi seçelim ve bunlar için tahminde bulunduralım."
   ]
  },
  {
   "cell_type": "code",
   "execution_count": 327,
   "id": "e09fccf9",
   "metadata": {},
   "outputs": [],
   "source": [
    "data = df[df[\"Outcome\"] == 1].iloc[0:40]"
   ]
  },
  {
   "cell_type": "code",
   "execution_count": 335,
   "id": "fdb83ba1",
   "metadata": {},
   "outputs": [],
   "source": [
    "y_tahmin = xgb_grid.predict(X)"
   ]
  },
  {
   "cell_type": "code",
   "execution_count": 337,
   "id": "72f2a4e3",
   "metadata": {},
   "outputs": [
    {
     "name": "stdout",
     "output_type": "stream",
     "text": [
      "              precision    recall  f1-score   support\n",
      "\n",
      "           0       0.00      0.00      0.00       500\n",
      "           1       0.35      1.00      0.52       268\n",
      "\n",
      "    accuracy                           0.35       768\n",
      "   macro avg       0.17      0.50      0.26       768\n",
      "weighted avg       0.12      0.35      0.18       768\n",
      "\n"
     ]
    }
   ],
   "source": [
    "print(classification_report(y, y_tahmin))\n",
    "\n",
    "# hasta olanların tamamı doğru bir şekilde tespit edilmiştir."
   ]
  },
  {
   "cell_type": "code",
   "execution_count": 340,
   "id": "0bed4c5a",
   "metadata": {},
   "outputs": [],
   "source": [
    "value = data.drop(\"Outcome\", axis=1)\n",
    "target = data[\"Outcome\"]\n",
    "y_pred = xgb_grid.predict(value)\n",
    "data[\"tahmin\"] = y_pred"
   ]
  },
  {
   "cell_type": "code",
   "execution_count": 341,
   "id": "18c31ad0",
   "metadata": {},
   "outputs": [
    {
     "data": {
      "text/html": [
       "<div>\n",
       "<style scoped>\n",
       "    .dataframe tbody tr th:only-of-type {\n",
       "        vertical-align: middle;\n",
       "    }\n",
       "\n",
       "    .dataframe tbody tr th {\n",
       "        vertical-align: top;\n",
       "    }\n",
       "\n",
       "    .dataframe thead th {\n",
       "        text-align: right;\n",
       "    }\n",
       "</style>\n",
       "<table border=\"1\" class=\"dataframe\">\n",
       "  <thead>\n",
       "    <tr style=\"text-align: right;\">\n",
       "      <th></th>\n",
       "      <th>Pregnancies</th>\n",
       "      <th>Glucose</th>\n",
       "      <th>BloodPressure</th>\n",
       "      <th>SkinThickness</th>\n",
       "      <th>Insulin</th>\n",
       "      <th>BMI</th>\n",
       "      <th>DiabetesPedigreeFunction</th>\n",
       "      <th>Age</th>\n",
       "      <th>Outcome</th>\n",
       "      <th>tahmin</th>\n",
       "    </tr>\n",
       "  </thead>\n",
       "  <tbody>\n",
       "    <tr>\n",
       "      <th>0</th>\n",
       "      <td>6.000</td>\n",
       "      <td>148.000</td>\n",
       "      <td>72.000</td>\n",
       "      <td>35.000</td>\n",
       "      <td>0.000</td>\n",
       "      <td>33.600</td>\n",
       "      <td>0.627</td>\n",
       "      <td>50.000</td>\n",
       "      <td>1</td>\n",
       "      <td>1</td>\n",
       "    </tr>\n",
       "    <tr>\n",
       "      <th>2</th>\n",
       "      <td>8.000</td>\n",
       "      <td>183.000</td>\n",
       "      <td>64.000</td>\n",
       "      <td>0.000</td>\n",
       "      <td>0.000</td>\n",
       "      <td>23.300</td>\n",
       "      <td>0.672</td>\n",
       "      <td>32.000</td>\n",
       "      <td>1</td>\n",
       "      <td>1</td>\n",
       "    </tr>\n",
       "    <tr>\n",
       "      <th>4</th>\n",
       "      <td>0.000</td>\n",
       "      <td>137.000</td>\n",
       "      <td>40.000</td>\n",
       "      <td>35.000</td>\n",
       "      <td>168.000</td>\n",
       "      <td>43.100</td>\n",
       "      <td>1.276</td>\n",
       "      <td>33.000</td>\n",
       "      <td>1</td>\n",
       "      <td>1</td>\n",
       "    </tr>\n",
       "    <tr>\n",
       "      <th>6</th>\n",
       "      <td>3.000</td>\n",
       "      <td>78.000</td>\n",
       "      <td>50.000</td>\n",
       "      <td>32.000</td>\n",
       "      <td>88.000</td>\n",
       "      <td>31.000</td>\n",
       "      <td>0.248</td>\n",
       "      <td>26.000</td>\n",
       "      <td>1</td>\n",
       "      <td>1</td>\n",
       "    </tr>\n",
       "    <tr>\n",
       "      <th>8</th>\n",
       "      <td>2.000</td>\n",
       "      <td>197.000</td>\n",
       "      <td>70.000</td>\n",
       "      <td>45.000</td>\n",
       "      <td>343.575</td>\n",
       "      <td>30.500</td>\n",
       "      <td>0.158</td>\n",
       "      <td>53.000</td>\n",
       "      <td>1</td>\n",
       "      <td>1</td>\n",
       "    </tr>\n",
       "    <tr>\n",
       "      <th>9</th>\n",
       "      <td>8.000</td>\n",
       "      <td>125.000</td>\n",
       "      <td>96.000</td>\n",
       "      <td>0.000</td>\n",
       "      <td>0.000</td>\n",
       "      <td>11.490</td>\n",
       "      <td>0.232</td>\n",
       "      <td>54.000</td>\n",
       "      <td>1</td>\n",
       "      <td>1</td>\n",
       "    </tr>\n",
       "    <tr>\n",
       "      <th>11</th>\n",
       "      <td>10.000</td>\n",
       "      <td>168.000</td>\n",
       "      <td>74.000</td>\n",
       "      <td>0.000</td>\n",
       "      <td>0.000</td>\n",
       "      <td>38.000</td>\n",
       "      <td>0.537</td>\n",
       "      <td>34.000</td>\n",
       "      <td>1</td>\n",
       "      <td>1</td>\n",
       "    </tr>\n",
       "    <tr>\n",
       "      <th>13</th>\n",
       "      <td>1.000</td>\n",
       "      <td>189.000</td>\n",
       "      <td>60.000</td>\n",
       "      <td>23.000</td>\n",
       "      <td>343.575</td>\n",
       "      <td>30.100</td>\n",
       "      <td>0.398</td>\n",
       "      <td>59.000</td>\n",
       "      <td>1</td>\n",
       "      <td>1</td>\n",
       "    </tr>\n",
       "    <tr>\n",
       "      <th>14</th>\n",
       "      <td>5.000</td>\n",
       "      <td>166.000</td>\n",
       "      <td>72.000</td>\n",
       "      <td>19.000</td>\n",
       "      <td>175.000</td>\n",
       "      <td>25.800</td>\n",
       "      <td>0.587</td>\n",
       "      <td>51.000</td>\n",
       "      <td>1</td>\n",
       "      <td>1</td>\n",
       "    </tr>\n",
       "    <tr>\n",
       "      <th>15</th>\n",
       "      <td>7.000</td>\n",
       "      <td>100.000</td>\n",
       "      <td>31.400</td>\n",
       "      <td>0.000</td>\n",
       "      <td>0.000</td>\n",
       "      <td>30.000</td>\n",
       "      <td>0.484</td>\n",
       "      <td>32.000</td>\n",
       "      <td>1</td>\n",
       "      <td>1</td>\n",
       "    </tr>\n",
       "    <tr>\n",
       "      <th>16</th>\n",
       "      <td>0.000</td>\n",
       "      <td>118.000</td>\n",
       "      <td>84.000</td>\n",
       "      <td>47.000</td>\n",
       "      <td>230.000</td>\n",
       "      <td>45.800</td>\n",
       "      <td>0.551</td>\n",
       "      <td>31.000</td>\n",
       "      <td>1</td>\n",
       "      <td>1</td>\n",
       "    </tr>\n",
       "    <tr>\n",
       "      <th>17</th>\n",
       "      <td>7.000</td>\n",
       "      <td>107.000</td>\n",
       "      <td>74.000</td>\n",
       "      <td>0.000</td>\n",
       "      <td>0.000</td>\n",
       "      <td>29.600</td>\n",
       "      <td>0.254</td>\n",
       "      <td>31.000</td>\n",
       "      <td>1</td>\n",
       "      <td>1</td>\n",
       "    </tr>\n",
       "    <tr>\n",
       "      <th>19</th>\n",
       "      <td>1.000</td>\n",
       "      <td>115.000</td>\n",
       "      <td>70.000</td>\n",
       "      <td>30.000</td>\n",
       "      <td>96.000</td>\n",
       "      <td>34.600</td>\n",
       "      <td>0.529</td>\n",
       "      <td>32.000</td>\n",
       "      <td>1</td>\n",
       "      <td>1</td>\n",
       "    </tr>\n",
       "    <tr>\n",
       "      <th>22</th>\n",
       "      <td>7.000</td>\n",
       "      <td>196.000</td>\n",
       "      <td>90.000</td>\n",
       "      <td>0.000</td>\n",
       "      <td>0.000</td>\n",
       "      <td>39.800</td>\n",
       "      <td>0.451</td>\n",
       "      <td>41.000</td>\n",
       "      <td>1</td>\n",
       "      <td>1</td>\n",
       "    </tr>\n",
       "    <tr>\n",
       "      <th>23</th>\n",
       "      <td>9.000</td>\n",
       "      <td>119.000</td>\n",
       "      <td>80.000</td>\n",
       "      <td>35.000</td>\n",
       "      <td>0.000</td>\n",
       "      <td>29.000</td>\n",
       "      <td>0.263</td>\n",
       "      <td>29.000</td>\n",
       "      <td>1</td>\n",
       "      <td>1</td>\n",
       "    </tr>\n",
       "    <tr>\n",
       "      <th>24</th>\n",
       "      <td>11.000</td>\n",
       "      <td>143.000</td>\n",
       "      <td>94.000</td>\n",
       "      <td>33.000</td>\n",
       "      <td>146.000</td>\n",
       "      <td>36.600</td>\n",
       "      <td>0.254</td>\n",
       "      <td>51.000</td>\n",
       "      <td>1</td>\n",
       "      <td>1</td>\n",
       "    </tr>\n",
       "    <tr>\n",
       "      <th>25</th>\n",
       "      <td>10.000</td>\n",
       "      <td>125.000</td>\n",
       "      <td>70.000</td>\n",
       "      <td>26.000</td>\n",
       "      <td>115.000</td>\n",
       "      <td>31.100</td>\n",
       "      <td>0.205</td>\n",
       "      <td>41.000</td>\n",
       "      <td>1</td>\n",
       "      <td>1</td>\n",
       "    </tr>\n",
       "    <tr>\n",
       "      <th>26</th>\n",
       "      <td>7.000</td>\n",
       "      <td>147.000</td>\n",
       "      <td>76.000</td>\n",
       "      <td>0.000</td>\n",
       "      <td>0.000</td>\n",
       "      <td>39.400</td>\n",
       "      <td>0.257</td>\n",
       "      <td>43.000</td>\n",
       "      <td>1</td>\n",
       "      <td>1</td>\n",
       "    </tr>\n",
       "    <tr>\n",
       "      <th>31</th>\n",
       "      <td>3.000</td>\n",
       "      <td>158.000</td>\n",
       "      <td>76.000</td>\n",
       "      <td>36.000</td>\n",
       "      <td>245.000</td>\n",
       "      <td>31.600</td>\n",
       "      <td>0.851</td>\n",
       "      <td>28.000</td>\n",
       "      <td>1</td>\n",
       "      <td>1</td>\n",
       "    </tr>\n",
       "    <tr>\n",
       "      <th>37</th>\n",
       "      <td>9.000</td>\n",
       "      <td>102.000</td>\n",
       "      <td>76.000</td>\n",
       "      <td>37.000</td>\n",
       "      <td>0.000</td>\n",
       "      <td>32.900</td>\n",
       "      <td>0.665</td>\n",
       "      <td>46.000</td>\n",
       "      <td>1</td>\n",
       "      <td>1</td>\n",
       "    </tr>\n",
       "    <tr>\n",
       "      <th>38</th>\n",
       "      <td>2.000</td>\n",
       "      <td>90.000</td>\n",
       "      <td>68.000</td>\n",
       "      <td>42.000</td>\n",
       "      <td>0.000</td>\n",
       "      <td>38.200</td>\n",
       "      <td>0.503</td>\n",
       "      <td>27.000</td>\n",
       "      <td>1</td>\n",
       "      <td>1</td>\n",
       "    </tr>\n",
       "    <tr>\n",
       "      <th>39</th>\n",
       "      <td>4.000</td>\n",
       "      <td>111.000</td>\n",
       "      <td>72.000</td>\n",
       "      <td>47.000</td>\n",
       "      <td>207.000</td>\n",
       "      <td>37.100</td>\n",
       "      <td>1.276</td>\n",
       "      <td>56.000</td>\n",
       "      <td>1</td>\n",
       "      <td>1</td>\n",
       "    </tr>\n",
       "    <tr>\n",
       "      <th>43</th>\n",
       "      <td>9.000</td>\n",
       "      <td>171.000</td>\n",
       "      <td>110.000</td>\n",
       "      <td>24.000</td>\n",
       "      <td>240.000</td>\n",
       "      <td>45.400</td>\n",
       "      <td>0.721</td>\n",
       "      <td>54.000</td>\n",
       "      <td>1</td>\n",
       "      <td>1</td>\n",
       "    </tr>\n",
       "    <tr>\n",
       "      <th>45</th>\n",
       "      <td>0.000</td>\n",
       "      <td>180.000</td>\n",
       "      <td>66.000</td>\n",
       "      <td>39.000</td>\n",
       "      <td>0.000</td>\n",
       "      <td>42.000</td>\n",
       "      <td>1.276</td>\n",
       "      <td>25.000</td>\n",
       "      <td>1</td>\n",
       "      <td>1</td>\n",
       "    </tr>\n",
       "    <tr>\n",
       "      <th>48</th>\n",
       "      <td>7.000</td>\n",
       "      <td>103.000</td>\n",
       "      <td>66.000</td>\n",
       "      <td>32.000</td>\n",
       "      <td>0.000</td>\n",
       "      <td>39.100</td>\n",
       "      <td>0.344</td>\n",
       "      <td>31.000</td>\n",
       "      <td>1</td>\n",
       "      <td>1</td>\n",
       "    </tr>\n",
       "    <tr>\n",
       "      <th>53</th>\n",
       "      <td>8.000</td>\n",
       "      <td>176.000</td>\n",
       "      <td>90.000</td>\n",
       "      <td>34.000</td>\n",
       "      <td>300.000</td>\n",
       "      <td>33.700</td>\n",
       "      <td>0.467</td>\n",
       "      <td>58.000</td>\n",
       "      <td>1</td>\n",
       "      <td>1</td>\n",
       "    </tr>\n",
       "    <tr>\n",
       "      <th>56</th>\n",
       "      <td>7.000</td>\n",
       "      <td>187.000</td>\n",
       "      <td>68.000</td>\n",
       "      <td>39.000</td>\n",
       "      <td>304.000</td>\n",
       "      <td>37.700</td>\n",
       "      <td>0.254</td>\n",
       "      <td>41.000</td>\n",
       "      <td>1</td>\n",
       "      <td>1</td>\n",
       "    </tr>\n",
       "    <tr>\n",
       "      <th>61</th>\n",
       "      <td>8.000</td>\n",
       "      <td>133.000</td>\n",
       "      <td>72.000</td>\n",
       "      <td>0.000</td>\n",
       "      <td>0.000</td>\n",
       "      <td>32.900</td>\n",
       "      <td>0.270</td>\n",
       "      <td>39.000</td>\n",
       "      <td>1</td>\n",
       "      <td>1</td>\n",
       "    </tr>\n",
       "    <tr>\n",
       "      <th>64</th>\n",
       "      <td>7.000</td>\n",
       "      <td>114.000</td>\n",
       "      <td>66.000</td>\n",
       "      <td>0.000</td>\n",
       "      <td>0.000</td>\n",
       "      <td>32.800</td>\n",
       "      <td>0.258</td>\n",
       "      <td>42.000</td>\n",
       "      <td>1</td>\n",
       "      <td>1</td>\n",
       "    </tr>\n",
       "    <tr>\n",
       "      <th>66</th>\n",
       "      <td>0.000</td>\n",
       "      <td>109.000</td>\n",
       "      <td>88.000</td>\n",
       "      <td>30.000</td>\n",
       "      <td>0.000</td>\n",
       "      <td>32.500</td>\n",
       "      <td>0.855</td>\n",
       "      <td>38.000</td>\n",
       "      <td>1</td>\n",
       "      <td>1</td>\n",
       "    </tr>\n",
       "    <tr>\n",
       "      <th>70</th>\n",
       "      <td>2.000</td>\n",
       "      <td>100.000</td>\n",
       "      <td>66.000</td>\n",
       "      <td>20.000</td>\n",
       "      <td>90.000</td>\n",
       "      <td>32.900</td>\n",
       "      <td>0.867</td>\n",
       "      <td>28.000</td>\n",
       "      <td>1</td>\n",
       "      <td>1</td>\n",
       "    </tr>\n",
       "    <tr>\n",
       "      <th>72</th>\n",
       "      <td>13.000</td>\n",
       "      <td>126.000</td>\n",
       "      <td>90.000</td>\n",
       "      <td>0.000</td>\n",
       "      <td>0.000</td>\n",
       "      <td>43.400</td>\n",
       "      <td>0.583</td>\n",
       "      <td>42.000</td>\n",
       "      <td>1</td>\n",
       "      <td>1</td>\n",
       "    </tr>\n",
       "    <tr>\n",
       "      <th>78</th>\n",
       "      <td>0.000</td>\n",
       "      <td>131.000</td>\n",
       "      <td>31.400</td>\n",
       "      <td>0.000</td>\n",
       "      <td>0.000</td>\n",
       "      <td>43.200</td>\n",
       "      <td>0.270</td>\n",
       "      <td>26.000</td>\n",
       "      <td>1</td>\n",
       "      <td>1</td>\n",
       "    </tr>\n",
       "    <tr>\n",
       "      <th>84</th>\n",
       "      <td>5.000</td>\n",
       "      <td>137.000</td>\n",
       "      <td>108.000</td>\n",
       "      <td>0.000</td>\n",
       "      <td>0.000</td>\n",
       "      <td>48.800</td>\n",
       "      <td>0.227</td>\n",
       "      <td>37.000</td>\n",
       "      <td>1</td>\n",
       "      <td>1</td>\n",
       "    </tr>\n",
       "    <tr>\n",
       "      <th>88</th>\n",
       "      <td>14.500</td>\n",
       "      <td>136.000</td>\n",
       "      <td>70.000</td>\n",
       "      <td>32.000</td>\n",
       "      <td>110.000</td>\n",
       "      <td>37.100</td>\n",
       "      <td>0.153</td>\n",
       "      <td>43.000</td>\n",
       "      <td>1</td>\n",
       "      <td>1</td>\n",
       "    </tr>\n",
       "    <tr>\n",
       "      <th>93</th>\n",
       "      <td>4.000</td>\n",
       "      <td>134.000</td>\n",
       "      <td>72.000</td>\n",
       "      <td>0.000</td>\n",
       "      <td>0.000</td>\n",
       "      <td>23.800</td>\n",
       "      <td>0.277</td>\n",
       "      <td>60.000</td>\n",
       "      <td>1</td>\n",
       "      <td>1</td>\n",
       "    </tr>\n",
       "    <tr>\n",
       "      <th>99</th>\n",
       "      <td>1.000</td>\n",
       "      <td>122.000</td>\n",
       "      <td>90.000</td>\n",
       "      <td>51.000</td>\n",
       "      <td>220.000</td>\n",
       "      <td>49.700</td>\n",
       "      <td>0.325</td>\n",
       "      <td>31.000</td>\n",
       "      <td>1</td>\n",
       "      <td>1</td>\n",
       "    </tr>\n",
       "    <tr>\n",
       "      <th>100</th>\n",
       "      <td>1.000</td>\n",
       "      <td>163.000</td>\n",
       "      <td>72.000</td>\n",
       "      <td>0.000</td>\n",
       "      <td>0.000</td>\n",
       "      <td>39.000</td>\n",
       "      <td>1.222</td>\n",
       "      <td>33.000</td>\n",
       "      <td>1</td>\n",
       "      <td>1</td>\n",
       "    </tr>\n",
       "    <tr>\n",
       "      <th>109</th>\n",
       "      <td>0.000</td>\n",
       "      <td>95.000</td>\n",
       "      <td>85.000</td>\n",
       "      <td>25.000</td>\n",
       "      <td>36.000</td>\n",
       "      <td>37.400</td>\n",
       "      <td>0.247</td>\n",
       "      <td>24.000</td>\n",
       "      <td>1</td>\n",
       "      <td>1</td>\n",
       "    </tr>\n",
       "    <tr>\n",
       "      <th>110</th>\n",
       "      <td>3.000</td>\n",
       "      <td>171.000</td>\n",
       "      <td>72.000</td>\n",
       "      <td>33.000</td>\n",
       "      <td>135.000</td>\n",
       "      <td>33.300</td>\n",
       "      <td>0.199</td>\n",
       "      <td>24.000</td>\n",
       "      <td>1</td>\n",
       "      <td>1</td>\n",
       "    </tr>\n",
       "  </tbody>\n",
       "</table>\n",
       "</div>"
      ],
      "text/plain": [
       "     Pregnancies  Glucose  BloodPressure  SkinThickness  Insulin    BMI  \\\n",
       "0          6.000  148.000         72.000         35.000    0.000 33.600   \n",
       "2          8.000  183.000         64.000          0.000    0.000 23.300   \n",
       "4          0.000  137.000         40.000         35.000  168.000 43.100   \n",
       "6          3.000   78.000         50.000         32.000   88.000 31.000   \n",
       "8          2.000  197.000         70.000         45.000  343.575 30.500   \n",
       "9          8.000  125.000         96.000          0.000    0.000 11.490   \n",
       "11        10.000  168.000         74.000          0.000    0.000 38.000   \n",
       "13         1.000  189.000         60.000         23.000  343.575 30.100   \n",
       "14         5.000  166.000         72.000         19.000  175.000 25.800   \n",
       "15         7.000  100.000         31.400          0.000    0.000 30.000   \n",
       "16         0.000  118.000         84.000         47.000  230.000 45.800   \n",
       "17         7.000  107.000         74.000          0.000    0.000 29.600   \n",
       "19         1.000  115.000         70.000         30.000   96.000 34.600   \n",
       "22         7.000  196.000         90.000          0.000    0.000 39.800   \n",
       "23         9.000  119.000         80.000         35.000    0.000 29.000   \n",
       "24        11.000  143.000         94.000         33.000  146.000 36.600   \n",
       "25        10.000  125.000         70.000         26.000  115.000 31.100   \n",
       "26         7.000  147.000         76.000          0.000    0.000 39.400   \n",
       "31         3.000  158.000         76.000         36.000  245.000 31.600   \n",
       "37         9.000  102.000         76.000         37.000    0.000 32.900   \n",
       "38         2.000   90.000         68.000         42.000    0.000 38.200   \n",
       "39         4.000  111.000         72.000         47.000  207.000 37.100   \n",
       "43         9.000  171.000        110.000         24.000  240.000 45.400   \n",
       "45         0.000  180.000         66.000         39.000    0.000 42.000   \n",
       "48         7.000  103.000         66.000         32.000    0.000 39.100   \n",
       "53         8.000  176.000         90.000         34.000  300.000 33.700   \n",
       "56         7.000  187.000         68.000         39.000  304.000 37.700   \n",
       "61         8.000  133.000         72.000          0.000    0.000 32.900   \n",
       "64         7.000  114.000         66.000          0.000    0.000 32.800   \n",
       "66         0.000  109.000         88.000         30.000    0.000 32.500   \n",
       "70         2.000  100.000         66.000         20.000   90.000 32.900   \n",
       "72        13.000  126.000         90.000          0.000    0.000 43.400   \n",
       "78         0.000  131.000         31.400          0.000    0.000 43.200   \n",
       "84         5.000  137.000        108.000          0.000    0.000 48.800   \n",
       "88        14.500  136.000         70.000         32.000  110.000 37.100   \n",
       "93         4.000  134.000         72.000          0.000    0.000 23.800   \n",
       "99         1.000  122.000         90.000         51.000  220.000 49.700   \n",
       "100        1.000  163.000         72.000          0.000    0.000 39.000   \n",
       "109        0.000   95.000         85.000         25.000   36.000 37.400   \n",
       "110        3.000  171.000         72.000         33.000  135.000 33.300   \n",
       "\n",
       "     DiabetesPedigreeFunction    Age  Outcome  tahmin  \n",
       "0                       0.627 50.000        1       1  \n",
       "2                       0.672 32.000        1       1  \n",
       "4                       1.276 33.000        1       1  \n",
       "6                       0.248 26.000        1       1  \n",
       "8                       0.158 53.000        1       1  \n",
       "9                       0.232 54.000        1       1  \n",
       "11                      0.537 34.000        1       1  \n",
       "13                      0.398 59.000        1       1  \n",
       "14                      0.587 51.000        1       1  \n",
       "15                      0.484 32.000        1       1  \n",
       "16                      0.551 31.000        1       1  \n",
       "17                      0.254 31.000        1       1  \n",
       "19                      0.529 32.000        1       1  \n",
       "22                      0.451 41.000        1       1  \n",
       "23                      0.263 29.000        1       1  \n",
       "24                      0.254 51.000        1       1  \n",
       "25                      0.205 41.000        1       1  \n",
       "26                      0.257 43.000        1       1  \n",
       "31                      0.851 28.000        1       1  \n",
       "37                      0.665 46.000        1       1  \n",
       "38                      0.503 27.000        1       1  \n",
       "39                      1.276 56.000        1       1  \n",
       "43                      0.721 54.000        1       1  \n",
       "45                      1.276 25.000        1       1  \n",
       "48                      0.344 31.000        1       1  \n",
       "53                      0.467 58.000        1       1  \n",
       "56                      0.254 41.000        1       1  \n",
       "61                      0.270 39.000        1       1  \n",
       "64                      0.258 42.000        1       1  \n",
       "66                      0.855 38.000        1       1  \n",
       "70                      0.867 28.000        1       1  \n",
       "72                      0.583 42.000        1       1  \n",
       "78                      0.270 26.000        1       1  \n",
       "84                      0.227 37.000        1       1  \n",
       "88                      0.153 43.000        1       1  \n",
       "93                      0.277 60.000        1       1  \n",
       "99                      0.325 31.000        1       1  \n",
       "100                     1.222 33.000        1       1  \n",
       "109                     0.247 24.000        1       1  \n",
       "110                     0.199 24.000        1       1  "
      ]
     },
     "execution_count": 341,
     "metadata": {},
     "output_type": "execute_result"
    }
   ],
   "source": [
    "data"
   ]
  },
  {
   "cell_type": "markdown",
   "id": "3a88301e",
   "metadata": {},
   "source": [
    "### SONUÇ : \n",
    "\n",
    "Bizden istenen hasta olanların en az hata ile tespit edilmesiydi. Hasta olmayanların tespitini ön plana çıkarmadığımız için bu modelle final yaptık. Ama kanser veya ciddi oranda ağır tedavi gerektiren hasta dataları için yanlış ve hatalı bir modelleme olacaktır. Ama sadece hasta olanların tespiti önemli ise diğer skorlar önemsizse yapılan modelde bu başarılmıştır."
   ]
  },
  {
   "cell_type": "code",
   "execution_count": null,
   "id": "160fc956",
   "metadata": {},
   "outputs": [],
   "source": []
  }
 ],
 "metadata": {
  "kernelspec": {
   "display_name": "Python 3 (ipykernel)",
   "language": "python",
   "name": "python3"
  },
  "language_info": {
   "codemirror_mode": {
    "name": "ipython",
    "version": 3
   },
   "file_extension": ".py",
   "mimetype": "text/x-python",
   "name": "python",
   "nbconvert_exporter": "python",
   "pygments_lexer": "ipython3",
   "version": "3.9.7"
  }
 },
 "nbformat": 4,
 "nbformat_minor": 5
}
