{
 "cells": [
  {
   "cell_type": "markdown",
   "id": "ece7c199",
   "metadata": {},
   "source": [
    "## Ensemble Methods : \n",
    "\n",
    "Bir çok base model kullanarak ortaya bir meta model yani en iyi modeli çıkarmaktır. örneğin bir çok ağaç oluşturacağız veya bir çok logistic regression oluşturacağız ve bunların sonuçlarını bir araya getirip bir sonuç bulacağız. \n",
    "\n",
    "Toplam gözlem sayısının her seferinde 2/3 ünü rastgele alıp ağaca atıyor ve ağaç üzerinden eğitim yapmaktadır. futureleri class sayısına göre rastgele seçiyor ve seçtiği futureler içerisinden en iyi futureleri seçiyor. rastgele seçtiği için her ağaçta değerler değişiyor. rastgele aldığı için bizi overfitingten kurtarmaktadır. \n",
    "\n",
    "Decision tree den farklı olarak datanın 2/3 ünü rastgele seçiyor. Tam bir bagging diyemeyiz. Rassallığı farklı ağaçlara bölüyor. 2/3 ünü rastgele seçtiği için bazı ağaçlar çok iyi, bazı ağaçlar çok kötü tahmin yapacak. bunları teker teker bakar ve en iyilerini en güzel tahmin yapılan futureleri ağırlıklandırır. Decision Tree de ise en iyi futureye göre ağaçlandırma yapar. rastgele yapmaz. Random forest için her ağacın demokratik oy hakkı var. en iyi predicte göre sonuç verir."
   ]
  },
  {
   "cell_type": "code",
   "execution_count": 1,
   "id": "9094590b",
   "metadata": {},
   "outputs": [],
   "source": [
    "import numpy as np\n",
    "import pandas as pd\n",
    "import seaborn as sns\n",
    "import matplotlib.pyplot as plt\n",
    "\n",
    "#%matplotlib inline\n",
    "#%matplotlib notebook\n",
    "plt.rcParams[\"figure.figsize\"] = (10,6)\n",
    "import warnings\n",
    "warnings.filterwarnings(\"ignore\")\n",
    "warnings.warn(\"this will not show\")\n",
    "pd.set_option('display.float_format', lambda x: '%.3f' % x)"
   ]
  },
  {
   "cell_type": "code",
   "execution_count": null,
   "id": "61da08ab",
   "metadata": {},
   "outputs": [],
   "source": []
  },
  {
   "cell_type": "code",
   "execution_count": 2,
   "id": "3c22bd38",
   "metadata": {},
   "outputs": [
    {
     "data": {
      "text/html": [
       "<div>\n",
       "<style scoped>\n",
       "    .dataframe tbody tr th:only-of-type {\n",
       "        vertical-align: middle;\n",
       "    }\n",
       "\n",
       "    .dataframe tbody tr th {\n",
       "        vertical-align: top;\n",
       "    }\n",
       "\n",
       "    .dataframe thead th {\n",
       "        text-align: right;\n",
       "    }\n",
       "</style>\n",
       "<table border=\"1\" class=\"dataframe\">\n",
       "  <thead>\n",
       "    <tr style=\"text-align: right;\">\n",
       "      <th></th>\n",
       "      <th>species</th>\n",
       "      <th>island</th>\n",
       "      <th>culmen_length_mm</th>\n",
       "      <th>culmen_depth_mm</th>\n",
       "      <th>flipper_length_mm</th>\n",
       "      <th>body_mass_g</th>\n",
       "      <th>sex</th>\n",
       "    </tr>\n",
       "  </thead>\n",
       "  <tbody>\n",
       "    <tr>\n",
       "      <th>0</th>\n",
       "      <td>Adelie</td>\n",
       "      <td>Torgersen</td>\n",
       "      <td>39.100</td>\n",
       "      <td>18.700</td>\n",
       "      <td>181.000</td>\n",
       "      <td>3750.000</td>\n",
       "      <td>MALE</td>\n",
       "    </tr>\n",
       "    <tr>\n",
       "      <th>1</th>\n",
       "      <td>Adelie</td>\n",
       "      <td>Torgersen</td>\n",
       "      <td>39.500</td>\n",
       "      <td>17.400</td>\n",
       "      <td>186.000</td>\n",
       "      <td>3800.000</td>\n",
       "      <td>FEMALE</td>\n",
       "    </tr>\n",
       "    <tr>\n",
       "      <th>2</th>\n",
       "      <td>Adelie</td>\n",
       "      <td>Torgersen</td>\n",
       "      <td>40.300</td>\n",
       "      <td>18.000</td>\n",
       "      <td>195.000</td>\n",
       "      <td>3250.000</td>\n",
       "      <td>FEMALE</td>\n",
       "    </tr>\n",
       "    <tr>\n",
       "      <th>3</th>\n",
       "      <td>Adelie</td>\n",
       "      <td>Torgersen</td>\n",
       "      <td>NaN</td>\n",
       "      <td>NaN</td>\n",
       "      <td>NaN</td>\n",
       "      <td>NaN</td>\n",
       "      <td>NaN</td>\n",
       "    </tr>\n",
       "    <tr>\n",
       "      <th>4</th>\n",
       "      <td>Adelie</td>\n",
       "      <td>Torgersen</td>\n",
       "      <td>36.700</td>\n",
       "      <td>19.300</td>\n",
       "      <td>193.000</td>\n",
       "      <td>3450.000</td>\n",
       "      <td>FEMALE</td>\n",
       "    </tr>\n",
       "  </tbody>\n",
       "</table>\n",
       "</div>"
      ],
      "text/plain": [
       "  species     island  culmen_length_mm  culmen_depth_mm  flipper_length_mm  \\\n",
       "0  Adelie  Torgersen            39.100           18.700            181.000   \n",
       "1  Adelie  Torgersen            39.500           17.400            186.000   \n",
       "2  Adelie  Torgersen            40.300           18.000            195.000   \n",
       "3  Adelie  Torgersen               NaN              NaN                NaN   \n",
       "4  Adelie  Torgersen            36.700           19.300            193.000   \n",
       "\n",
       "   body_mass_g     sex  \n",
       "0     3750.000    MALE  \n",
       "1     3800.000  FEMALE  \n",
       "2     3250.000  FEMALE  \n",
       "3          NaN     NaN  \n",
       "4     3450.000  FEMALE  "
      ]
     },
     "execution_count": 2,
     "metadata": {},
     "output_type": "execute_result"
    }
   ],
   "source": [
    "df = pd.read_csv(\"penguins_size.csv\")\n",
    "df.head()"
   ]
  },
  {
   "cell_type": "code",
   "execution_count": 3,
   "id": "acbc219f",
   "metadata": {},
   "outputs": [
    {
     "data": {
      "text/plain": [
       "species               0\n",
       "island                0\n",
       "culmen_length_mm      2\n",
       "culmen_depth_mm       2\n",
       "flipper_length_mm     2\n",
       "body_mass_g           2\n",
       "sex                  10\n",
       "dtype: int64"
      ]
     },
     "execution_count": 3,
     "metadata": {},
     "output_type": "execute_result"
    }
   ],
   "source": [
    "df.isnull().sum()"
   ]
  },
  {
   "cell_type": "code",
   "execution_count": 5,
   "id": "15c8635b",
   "metadata": {},
   "outputs": [],
   "source": [
    "df.dropna(inplace=True)"
   ]
  },
  {
   "cell_type": "code",
   "execution_count": 6,
   "id": "421e5fb4",
   "metadata": {},
   "outputs": [],
   "source": [
    "df.loc[336, \"sex\"] = \"MALE\""
   ]
  },
  {
   "cell_type": "markdown",
   "id": "d79fd7dc",
   "metadata": {},
   "source": [
    "### OrdinalEncoder :\n",
    "\n",
    "#### Uyarı !!! : \n",
    "\n",
    "Bu sadece tree basic modeller için geçerlidir. ama diğer tüm modellerde dummy kullanılması gerekmektedir. dummy ile sutun sayımız artacağı için tree base modellerde hata sayısı artacaktır. Diğer tüm modellede dummy ile yapılır ama tree base modellerde ordinalencoder kullanılır.  eğer tree base modellerde 5 tane categoric veri olan futureyi dummy yaparsak bu sefer o futurenin targete olan etkisini oldukça indirgemiş oluruz. tree base için feature_importance yi yanlış alırız. "
   ]
  },
  {
   "cell_type": "code",
   "execution_count": 9,
   "id": "05b0d1c3",
   "metadata": {},
   "outputs": [],
   "source": [
    "from sklearn.preprocessing import OrdinalEncoder"
   ]
  },
  {
   "cell_type": "markdown",
   "id": "39f6bec8",
   "metadata": {},
   "source": [
    "### Train | Test Split :"
   ]
  },
  {
   "cell_type": "code",
   "execution_count": 10,
   "id": "1080d6b4",
   "metadata": {},
   "outputs": [],
   "source": [
    "X = df.drop('species',axis=1)\n",
    "y = df['species']"
   ]
  },
  {
   "cell_type": "code",
   "execution_count": 11,
   "id": "b6d3929f",
   "metadata": {},
   "outputs": [
    {
     "data": {
      "text/plain": [
       "Index(['island', 'sex'], dtype='object')"
      ]
     },
     "execution_count": 11,
     "metadata": {},
     "output_type": "execute_result"
    }
   ],
   "source": [
    "cat = X.select_dtypes(\"object\").columns\n",
    "cat"
   ]
  },
  {
   "cell_type": "code",
   "execution_count": 12,
   "id": "d2d7e923",
   "metadata": {},
   "outputs": [
    {
     "data": {
      "text/html": [
       "<div>\n",
       "<style scoped>\n",
       "    .dataframe tbody tr th:only-of-type {\n",
       "        vertical-align: middle;\n",
       "    }\n",
       "\n",
       "    .dataframe tbody tr th {\n",
       "        vertical-align: top;\n",
       "    }\n",
       "\n",
       "    .dataframe thead th {\n",
       "        text-align: right;\n",
       "    }\n",
       "</style>\n",
       "<table border=\"1\" class=\"dataframe\">\n",
       "  <thead>\n",
       "    <tr style=\"text-align: right;\">\n",
       "      <th></th>\n",
       "      <th>island</th>\n",
       "      <th>sex</th>\n",
       "    </tr>\n",
       "  </thead>\n",
       "  <tbody>\n",
       "    <tr>\n",
       "      <th>0</th>\n",
       "      <td>Torgersen</td>\n",
       "      <td>MALE</td>\n",
       "    </tr>\n",
       "    <tr>\n",
       "      <th>1</th>\n",
       "      <td>Torgersen</td>\n",
       "      <td>FEMALE</td>\n",
       "    </tr>\n",
       "    <tr>\n",
       "      <th>2</th>\n",
       "      <td>Torgersen</td>\n",
       "      <td>FEMALE</td>\n",
       "    </tr>\n",
       "    <tr>\n",
       "      <th>4</th>\n",
       "      <td>Torgersen</td>\n",
       "      <td>FEMALE</td>\n",
       "    </tr>\n",
       "    <tr>\n",
       "      <th>5</th>\n",
       "      <td>Torgersen</td>\n",
       "      <td>MALE</td>\n",
       "    </tr>\n",
       "    <tr>\n",
       "      <th>...</th>\n",
       "      <td>...</td>\n",
       "      <td>...</td>\n",
       "    </tr>\n",
       "    <tr>\n",
       "      <th>338</th>\n",
       "      <td>Biscoe</td>\n",
       "      <td>FEMALE</td>\n",
       "    </tr>\n",
       "    <tr>\n",
       "      <th>340</th>\n",
       "      <td>Biscoe</td>\n",
       "      <td>FEMALE</td>\n",
       "    </tr>\n",
       "    <tr>\n",
       "      <th>341</th>\n",
       "      <td>Biscoe</td>\n",
       "      <td>MALE</td>\n",
       "    </tr>\n",
       "    <tr>\n",
       "      <th>342</th>\n",
       "      <td>Biscoe</td>\n",
       "      <td>FEMALE</td>\n",
       "    </tr>\n",
       "    <tr>\n",
       "      <th>343</th>\n",
       "      <td>Biscoe</td>\n",
       "      <td>MALE</td>\n",
       "    </tr>\n",
       "  </tbody>\n",
       "</table>\n",
       "<p>334 rows × 2 columns</p>\n",
       "</div>"
      ],
      "text/plain": [
       "        island     sex\n",
       "0    Torgersen    MALE\n",
       "1    Torgersen  FEMALE\n",
       "2    Torgersen  FEMALE\n",
       "4    Torgersen  FEMALE\n",
       "5    Torgersen    MALE\n",
       "..         ...     ...\n",
       "338     Biscoe  FEMALE\n",
       "340     Biscoe  FEMALE\n",
       "341     Biscoe    MALE\n",
       "342     Biscoe  FEMALE\n",
       "343     Biscoe    MALE\n",
       "\n",
       "[334 rows x 2 columns]"
      ]
     },
     "execution_count": 12,
     "metadata": {},
     "output_type": "execute_result"
    }
   ],
   "source": [
    "X[cat]"
   ]
  },
  {
   "cell_type": "code",
   "execution_count": 13,
   "id": "025fdd07",
   "metadata": {},
   "outputs": [
    {
     "data": {
      "text/html": [
       "<div>\n",
       "<style scoped>\n",
       "    .dataframe tbody tr th:only-of-type {\n",
       "        vertical-align: middle;\n",
       "    }\n",
       "\n",
       "    .dataframe tbody tr th {\n",
       "        vertical-align: top;\n",
       "    }\n",
       "\n",
       "    .dataframe thead th {\n",
       "        text-align: right;\n",
       "    }\n",
       "</style>\n",
       "<table border=\"1\" class=\"dataframe\">\n",
       "  <thead>\n",
       "    <tr style=\"text-align: right;\">\n",
       "      <th></th>\n",
       "      <th>island</th>\n",
       "      <th>culmen_length_mm</th>\n",
       "      <th>culmen_depth_mm</th>\n",
       "      <th>flipper_length_mm</th>\n",
       "      <th>body_mass_g</th>\n",
       "      <th>sex</th>\n",
       "    </tr>\n",
       "  </thead>\n",
       "  <tbody>\n",
       "    <tr>\n",
       "      <th>0</th>\n",
       "      <td>2.000</td>\n",
       "      <td>39.100</td>\n",
       "      <td>18.700</td>\n",
       "      <td>181.000</td>\n",
       "      <td>3750.000</td>\n",
       "      <td>1.000</td>\n",
       "    </tr>\n",
       "    <tr>\n",
       "      <th>1</th>\n",
       "      <td>2.000</td>\n",
       "      <td>39.500</td>\n",
       "      <td>17.400</td>\n",
       "      <td>186.000</td>\n",
       "      <td>3800.000</td>\n",
       "      <td>0.000</td>\n",
       "    </tr>\n",
       "    <tr>\n",
       "      <th>2</th>\n",
       "      <td>2.000</td>\n",
       "      <td>40.300</td>\n",
       "      <td>18.000</td>\n",
       "      <td>195.000</td>\n",
       "      <td>3250.000</td>\n",
       "      <td>0.000</td>\n",
       "    </tr>\n",
       "    <tr>\n",
       "      <th>4</th>\n",
       "      <td>2.000</td>\n",
       "      <td>36.700</td>\n",
       "      <td>19.300</td>\n",
       "      <td>193.000</td>\n",
       "      <td>3450.000</td>\n",
       "      <td>0.000</td>\n",
       "    </tr>\n",
       "    <tr>\n",
       "      <th>5</th>\n",
       "      <td>2.000</td>\n",
       "      <td>39.300</td>\n",
       "      <td>20.600</td>\n",
       "      <td>190.000</td>\n",
       "      <td>3650.000</td>\n",
       "      <td>1.000</td>\n",
       "    </tr>\n",
       "  </tbody>\n",
       "</table>\n",
       "</div>"
      ],
      "text/plain": [
       "   island  culmen_length_mm  culmen_depth_mm  flipper_length_mm  body_mass_g  \\\n",
       "0   2.000            39.100           18.700            181.000     3750.000   \n",
       "1   2.000            39.500           17.400            186.000     3800.000   \n",
       "2   2.000            40.300           18.000            195.000     3250.000   \n",
       "4   2.000            36.700           19.300            193.000     3450.000   \n",
       "5   2.000            39.300           20.600            190.000     3650.000   \n",
       "\n",
       "    sex  \n",
       "0 1.000  \n",
       "1 0.000  \n",
       "2 0.000  \n",
       "4 0.000  \n",
       "5 1.000  "
      ]
     },
     "execution_count": 13,
     "metadata": {},
     "output_type": "execute_result"
    }
   ],
   "source": [
    "enc = OrdinalEncoder()\n",
    "X[cat] = enc.fit_transform(X[cat])\n",
    "X.head()"
   ]
  },
  {
   "cell_type": "code",
   "execution_count": 15,
   "id": "b9a0dfc8",
   "metadata": {},
   "outputs": [],
   "source": [
    "from sklearn.model_selection import train_test_split\n",
    "\n",
    "X_train, X_test, y_train, y_test = train_test_split(X, y, test_size=0.3, random_state=101)"
   ]
  },
  {
   "cell_type": "markdown",
   "id": "1590d666",
   "metadata": {},
   "source": [
    "### Default Value :"
   ]
  },
  {
   "cell_type": "code",
   "execution_count": 16,
   "id": "21d84c16",
   "metadata": {},
   "outputs": [
    {
     "data": {
      "text/plain": [
       "RandomForestClassifier(random_state=101)"
      ]
     },
     "execution_count": 16,
     "metadata": {},
     "output_type": "execute_result"
    }
   ],
   "source": [
    "from sklearn.ensemble import RandomForestClassifier\n",
    "# target categoric olduğu için classifier kullanılacak.\n",
    "\n",
    "rnd_model = RandomForestClassifier(random_state = 101)\n",
    "rnd_model.fit(X_train, y_train)"
   ]
  },
  {
   "cell_type": "markdown",
   "id": "afb81cca",
   "metadata": {},
   "source": [
    "### Metrics : "
   ]
  },
  {
   "cell_type": "code",
   "execution_count": 17,
   "id": "3a287d61",
   "metadata": {},
   "outputs": [],
   "source": [
    "from sklearn.metrics import accuracy_score, f1_score, recall_score, precision_score, confusion_matrix, classification_report\n",
    "\n",
    "def eval_metric(model, X_train, y_train, X_test, y_test):\n",
    "    y_train_pred = model.predict(X_train)\n",
    "    y_pred = model.predict(X_test)\n",
    "    \n",
    "    print(\"Test_Set\")\n",
    "    print(confusion_matrix(y_test, y_pred))\n",
    "    print(classification_report(y_test, y_pred))\n",
    "    print()\n",
    "    print(\"Train_Set\")\n",
    "    print(confusion_matrix(y_train, y_train_pred))\n",
    "    print(classification_report(y_train, y_train_pred))"
   ]
  },
  {
   "cell_type": "code",
   "execution_count": 18,
   "id": "548cc402",
   "metadata": {},
   "outputs": [
    {
     "name": "stdout",
     "output_type": "stream",
     "text": [
      "Test_Set\n",
      "[[41  0  0]\n",
      " [ 1 22  0]\n",
      " [ 0  0 37]]\n",
      "              precision    recall  f1-score   support\n",
      "\n",
      "      Adelie       0.98      1.00      0.99        41\n",
      "   Chinstrap       1.00      0.96      0.98        23\n",
      "      Gentoo       1.00      1.00      1.00        37\n",
      "\n",
      "    accuracy                           0.99       101\n",
      "   macro avg       0.99      0.99      0.99       101\n",
      "weighted avg       0.99      0.99      0.99       101\n",
      "\n",
      "\n",
      "Train_Set\n",
      "[[105   0   0]\n",
      " [  0  45   0]\n",
      " [  0   0  83]]\n",
      "              precision    recall  f1-score   support\n",
      "\n",
      "      Adelie       1.00      1.00      1.00       105\n",
      "   Chinstrap       1.00      1.00      1.00        45\n",
      "      Gentoo       1.00      1.00      1.00        83\n",
      "\n",
      "    accuracy                           1.00       233\n",
      "   macro avg       1.00      1.00      1.00       233\n",
      "weighted avg       1.00      1.00      1.00       233\n",
      "\n"
     ]
    }
   ],
   "source": [
    "eval_metric(rnd_model, X_train, y_train, X_test, y_test)"
   ]
  },
  {
   "cell_type": "code",
   "execution_count": 20,
   "id": "0c3910f6",
   "metadata": {},
   "outputs": [
    {
     "data": {
      "image/png": "[encoded data removed]",
      "text/plain": [
       "<Figure size 720x432 with 2 Axes>"
      ]
     },
     "metadata": {
      "needs_background": "light"
     },
     "output_type": "display_data"
    }
   ],
   "source": [
    "from sklearn.metrics import plot_confusion_matrix\n",
    "\n",
    "plot_confusion_matrix(rnd_model, X_test, y_test);"
   ]
  },
  {
   "cell_type": "markdown",
   "id": "236c5e46",
   "metadata": {},
   "source": [
    "### Cross Validate Controll : "
   ]
  },
  {
   "cell_type": "code",
   "execution_count": 28,
   "id": "2c546cfd",
   "metadata": {},
   "outputs": [
    {
     "data": {
      "text/plain": [
       "test_accuracy          0.996\n",
       "test_precision_micro   0.996\n",
       "test_recall_micro      0.996\n",
       "test_f1_micro          0.996\n",
       "dtype: float64"
      ]
     },
     "execution_count": 28,
     "metadata": {},
     "output_type": "execute_result"
    }
   ],
   "source": [
    "from sklearn.model_selection import cross_val_score, cross_validate\n",
    "\n",
    "model = RandomForestClassifier(random_state=101)\n",
    "\n",
    "scores = cross_validate(model, X_train, y_train, scoring = [\"accuracy\", \"precision_micro\", \"recall_micro\", \"f1_micro\"], \n",
    "                        cv = 10)\n",
    "df_scores = pd.DataFrame(scores, index = range(1, 11))\n",
    "df_scores.mean()[2:]"
   ]
  },
  {
   "cell_type": "code",
   "execution_count": 21,
   "id": "1cd40267",
   "metadata": {},
   "outputs": [
    {
     "data": {
      "text/plain": [
       "array([0.10574241, 0.36403997, 0.14228711, 0.22892491, 0.15259864,\n",
       "       0.00640695])"
      ]
     },
     "execution_count": 21,
     "metadata": {},
     "output_type": "execute_result"
    }
   ],
   "source": [
    "rnd_model.feature_importances_"
   ]
  },
  {
   "cell_type": "code",
   "execution_count": 23,
   "id": "be00a549",
   "metadata": {},
   "outputs": [
    {
     "data": {
      "text/html": [
       "<div>\n",
       "<style scoped>\n",
       "    .dataframe tbody tr th:only-of-type {\n",
       "        vertical-align: middle;\n",
       "    }\n",
       "\n",
       "    .dataframe tbody tr th {\n",
       "        vertical-align: top;\n",
       "    }\n",
       "\n",
       "    .dataframe thead th {\n",
       "        text-align: right;\n",
       "    }\n",
       "</style>\n",
       "<table border=\"1\" class=\"dataframe\">\n",
       "  <thead>\n",
       "    <tr style=\"text-align: right;\">\n",
       "      <th></th>\n",
       "      <th>Feature Importance</th>\n",
       "    </tr>\n",
       "  </thead>\n",
       "  <tbody>\n",
       "    <tr>\n",
       "      <th>sex</th>\n",
       "      <td>0.006</td>\n",
       "    </tr>\n",
       "    <tr>\n",
       "      <th>island</th>\n",
       "      <td>0.106</td>\n",
       "    </tr>\n",
       "    <tr>\n",
       "      <th>culmen_depth_mm</th>\n",
       "      <td>0.142</td>\n",
       "    </tr>\n",
       "    <tr>\n",
       "      <th>body_mass_g</th>\n",
       "      <td>0.153</td>\n",
       "    </tr>\n",
       "    <tr>\n",
       "      <th>flipper_length_mm</th>\n",
       "      <td>0.229</td>\n",
       "    </tr>\n",
       "    <tr>\n",
       "      <th>culmen_length_mm</th>\n",
       "      <td>0.364</td>\n",
       "    </tr>\n",
       "  </tbody>\n",
       "</table>\n",
       "</div>"
      ],
      "text/plain": [
       "                   Feature Importance\n",
       "sex                             0.006\n",
       "island                          0.106\n",
       "culmen_depth_mm                 0.142\n",
       "body_mass_g                     0.153\n",
       "flipper_length_mm               0.229\n",
       "culmen_length_mm                0.364"
      ]
     },
     "execution_count": 23,
     "metadata": {},
     "output_type": "execute_result"
    }
   ],
   "source": [
    "df_f_i = pd.DataFrame(index=X.columns, data = rnd_model.feature_importances_, \n",
    "                      columns = [\"Feature Importance\"]).sort_values(\"Feature Importance\")\n",
    "df_f_i"
   ]
  },
  {
   "cell_type": "code",
   "execution_count": 25,
   "id": "72c90579",
   "metadata": {},
   "outputs": [
    {
     "data": {
      "image/png": "[encoded data removed]",
      "text/plain": [
       "<Figure size 720x432 with 1 Axes>"
      ]
     },
     "metadata": {
      "needs_background": "light"
     },
     "output_type": "display_data"
    }
   ],
   "source": [
    "sns.barplot(x = df_f_i.index, y = 'Feature Importance', data = df_f_i)\n",
    "plt.xticks(rotation = 90)\n",
    "plt.tight_layout()"
   ]
  },
  {
   "cell_type": "markdown",
   "id": "966cc3eb",
   "metadata": {},
   "source": [
    "### Random Forest Hyper Parametres : \n",
    "\n",
    "#### 1-) n_estimators : \n",
    "Default değeri 100 dür. en önemli parametresidir. ağaç sayımızın ne kadar olacağını belirler. 64 ve 128 sayıları da tavsiye edilir. \n",
    "\n",
    "#### 2-) criterion : \n",
    "classification için aynıdır. gini ve estimatour değerleri vardır. gini ve estimatour değerlerini 0 ra yakınlaştırmak esastır.\n",
    "\n",
    "#### 3-) max_depth : \n",
    "Ağacın ne kadar dallanacağını belirlemektedir. \n",
    "\n",
    "#### 4-) min_samples_split : \n",
    "Bir yaprağın bölünme şartıdır. Yaprağın içine alacağı gözlem sayılarını belirler. eğer min_sample splite verdiğimiz değeri ayarlayamassak yaprak bölünemez. dallanmayı kontrol etmeye yardım eder.\n",
    "\n",
    "#### 5-)  min samples leaf :\n",
    "Bir yaprağın yaprak olarak kabul edilebilmesi için o yaprakta bulunması gereken gözlem sayısıdır.\n",
    "\n",
    "#### 6-) max_leaf_nodes :\n",
    "En sonda kalan yaprak sayısını ayarlamaktadır.\n",
    "\n",
    "#### 7-) splitter :\n",
    "Default best, diğeri randomdur. best en güzel soru ile datayı ayır demektir, random ise rastgele soru sorar. ve sonunda en kuvvetli futureyi seçer. best, targeti tahminde en yüksek katsayıya sahip futureyi seçerek ilk yaprağı başlatır.\n",
    "\n",
    "#### 8-) max_features : \n",
    "Burda decision tree den farklı bir durum vardır. Decision tree de tüm futurelerden en iyisi hangisi ise her dallanmada en iyi olan futureyi kullanmaktayd. bu da overfitinge neden olmaktaydı. Random Forest ta ise auto değeri tüm futureler sayısının karekökünü alır. sqrt ile aynıdır. log 2 ise future sayısının 2 tabanında logaritmasını alır.\n",
    "\n",
    "#### 9-) bootstrap : \n",
    "\n",
    "default değeri True dir. n_estimators sayısı kadar ağaç oluşturulur, ve her bir ağaç için prediction yaptırır, alınan prediction sonuçlarını sayar ve sonucunda en fazla hangi class prediction edilmişse o classı tahmin değeri olarak atar. oylama usulu yapar. yani en fazla bulunan classı alır. \n",
    "\n",
    "data da ne kadar gözlem varsa her bir ağaca 2/3 ünü ayırır. rastgele ayırır. onların içinden max_feature sayısına göre yeniden oluşturur.\n"
   ]
  },
  {
   "cell_type": "code",
   "execution_count": null,
   "id": "c64d0ae5",
   "metadata": {},
   "outputs": [],
   "source": []
  },
  {
   "cell_type": "code",
   "execution_count": null,
   "id": "81b537c8",
   "metadata": {},
   "outputs": [],
   "source": []
  },
  {
   "cell_type": "markdown",
   "id": "262336c5",
   "metadata": {},
   "source": [
    "### GridSearchCV Best Params : "
   ]
  },
  {
   "cell_type": "code",
   "execution_count": 37,
   "id": "24a7356e",
   "metadata": {},
   "outputs": [
    {
     "data": {
      "text/plain": [
       "GridSearchCV(cv=10, estimator=RandomForestClassifier(random_state=101),\n",
       "             n_jobs=-1,\n",
       "             param_grid={'criterion': ['gini', 'estimator'],\n",
       "                         'max_depth': [None, 2, 3, 4, 5, 6, 7],\n",
       "                         'max_features': ['auto', 'log2'],\n",
       "                         'min_samples_leaf': [1, 2, 3, 4, 5, 6, 7],\n",
       "                         'min_samples_split': [2, 3, 5, 6, 7, 8, 9],\n",
       "                         'n_estimators': [None, 64, 128]},\n",
       "             scoring='recall_micro')"
      ]
     },
     "execution_count": 37,
     "metadata": {},
     "output_type": "execute_result"
    }
   ],
   "source": [
    "from sklearn.model_selection import GridSearchCV\n",
    "\n",
    "model = RandomForestClassifier(random_state= 101 )\n",
    "\n",
    "param_grid = {\"n_estimators\" : [None, 64, 128],\n",
    "              \"criterion\" : [\"gini\", \"estimator\"],\n",
    "              \"max_features\" : [\"auto\", \"log2\"],\n",
    "              \"max_depth\": [None, 2, 3, 4, 5,6, 7],\n",
    "              \"min_samples_leaf\": [1, 2, 3, 4, 5, 6, 7],\n",
    "              \"min_samples_split\": [2, 3, 5, 6, 7, 8, 9]\n",
    "              \n",
    "             }\n",
    "\n",
    "grid_model = GridSearchCV(estimator=model,\n",
    "                          param_grid=param_grid,\n",
    "                          scoring='recall_micro',\n",
    "                          cv=10,\n",
    "                          n_jobs = -1)\n",
    "\n",
    "grid_model.fit(X_train, y_train)"
   ]
  },
  {
   "cell_type": "code",
   "execution_count": 38,
   "id": "51f790b7",
   "metadata": {},
   "outputs": [
    {
     "data": {
      "text/plain": [
       "{'criterion': 'gini',\n",
       " 'max_depth': None,\n",
       " 'max_features': 'auto',\n",
       " 'min_samples_leaf': 1,\n",
       " 'min_samples_split': 2,\n",
       " 'n_estimators': 64}"
      ]
     },
     "execution_count": 38,
     "metadata": {},
     "output_type": "execute_result"
    }
   ],
   "source": [
    "grid_model.best_params_"
   ]
  },
  {
   "cell_type": "code",
   "execution_count": 39,
   "id": "dc169f2b",
   "metadata": {},
   "outputs": [
    {
     "name": "stdout",
     "output_type": "stream",
     "text": [
      "Test_Set\n",
      "[[41  0  0]\n",
      " [ 1 22  0]\n",
      " [ 0  0 37]]\n",
      "              precision    recall  f1-score   support\n",
      "\n",
      "      Adelie       0.98      1.00      0.99        41\n",
      "   Chinstrap       1.00      0.96      0.98        23\n",
      "      Gentoo       1.00      1.00      1.00        37\n",
      "\n",
      "    accuracy                           0.99       101\n",
      "   macro avg       0.99      0.99      0.99       101\n",
      "weighted avg       0.99      0.99      0.99       101\n",
      "\n",
      "\n",
      "Train_Set\n",
      "[[105   0   0]\n",
      " [  0  45   0]\n",
      " [  0   0  83]]\n",
      "              precision    recall  f1-score   support\n",
      "\n",
      "      Adelie       1.00      1.00      1.00       105\n",
      "   Chinstrap       1.00      1.00      1.00        45\n",
      "      Gentoo       1.00      1.00      1.00        83\n",
      "\n",
      "    accuracy                           1.00       233\n",
      "   macro avg       1.00      1.00      1.00       233\n",
      "weighted avg       1.00      1.00      1.00       233\n",
      "\n"
     ]
    }
   ],
   "source": [
    "eval_metric(grid_model, X_train, y_train, X_test, y_test)"
   ]
  },
  {
   "cell_type": "code",
   "execution_count": null,
   "id": "672eb18a",
   "metadata": {},
   "outputs": [],
   "source": []
  },
  {
   "cell_type": "code",
   "execution_count": null,
   "id": "44e64b67",
   "metadata": {},
   "outputs": [],
   "source": []
  }
 ],
 "metadata": {
  "kernelspec": {
   "display_name": "Python 3 (ipykernel)",
   "language": "python",
   "name": "python3"
  },
  "language_info": {
   "codemirror_mode": {
    "name": "ipython",
    "version": 3
   },
   "file_extension": ".py",
   "mimetype": "text/x-python",
   "name": "python",
   "nbconvert_exporter": "python",
   "pygments_lexer": "ipython3",
   "version": "3.9.7"
  }
 },
 "nbformat": 4,
 "nbformat_minor": 5
}
