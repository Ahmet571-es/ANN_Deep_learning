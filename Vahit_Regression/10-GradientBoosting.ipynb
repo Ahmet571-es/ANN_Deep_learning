{
 "cells": [
  {
   "cell_type": "markdown",
   "id": "fd90d567",
   "metadata": {},
   "source": [
    "Bagging ve boosting oylama üzerine çalışmaktadır.her ikiside sadece 1 model kullanır. sadece modeli kullanma tiplari değişir. Bagginde tüm modeller ayrı ayrı oluşuyor. bagginde her bir ağaç birbirinden bağımsız hareket eder. Boostingte ise her bir ağaç bir sonraki ağaca bir bilgi aktarır. Boostingte tek data ana data üzerinden çalışma vardır. Boostingte ise her bir ağaç aynı datayı kullandığı için iyi olan ağaç oyları daha geçerli olacaktır. Bagginge örnek random forest verilebilir. Bagging algoritması içine decision treeyi gömebiliriz.\n",
    "\n",
    "Boosting :\n",
    "Tüm datasetini alır, modele atar, bu model bir prediction yapar, predictiona göre yeniden yapılan hatalara göre data noktalarını ağırlıklandırır, sonra sıradaki modele gider ama bir önceki datadan elde ettiği bilgileri aktararak prediction yapar, sırasıyla tüm data bitinceye kadar bu süreç devam eder. sonra sırasıyla her modelin oyunu alır, en yüksek olan oya göre predict yapar. yani kısacası bir data seçer sonra ondan elde ettikleri ile sırasıyla tüm modellere bilgileri aktararak devam eder. en sonda en yüksek ağırlık değeri alanı seçer. Boosting algoritmada her bir ağaca stump denir.\n",
    "\n",
    "2 tane algoritması vardır. AdaBoost ve Gradient Boosting tir. En önemli hyper parametreleri base_estimator ve n_estimator dur.\n",
    "\n",
    "AdaBoost :\n",
    "Datayı seçiyor ve onu en iyi böleceği yeri bulup ordan bölüyor. sonra tahminleme yapıyor. yapılan hatalı tahminne göre bir sonra ki ağacı farklı bir noktadan bölüyor. sonra o ağaçta yaptığı hatalı tahminlere göre yine diğer ağacı farklı yerden ayırıyor. her hata değeri sonucu bir ağırlık katsayısı hesaplanır. hata ne kadar az ise ağırlık değeri o kadar fazla olur. ve en fazla ağırlık değeri olan seçilir. log2 tabanına göre ağırlıkları hesaplanır. yalış tahmin edilen yerler ağırlıklandırılarak çalışır.\n",
    "\n",
    "a . base_estimator parameteresi : Default bırakırsak max_depth değeri 1 olan, bir decision tree oluşturur. eğer logistic regression verirsek ise logistic regresyon oluşturur.\n",
    "\n",
    "b. n_estimators : default değeri 50 dir. kaç tane oluşturacağımız ağaç adedi.\n",
    "\n",
    "Gradient Boosting :\n",
    "Bir önceki modelin yaptığı hataları iyileştirme üzerine çalışıyor. elimizde X futureler ve y targetımız var. ilk modele sokuyor. y - y_pred = residual değerlerini buluyor. sonra 2. modele geçerken artık futreler ile diğer residualleri tahmin etmeye çalışıyor. yani ilk model residual değerinden 2. model resudial değerlerini çıkarıyor. ve sırasıyla tüm model bitinceue kadar bu yöntem ile ilerliyor. learning_rate değeri sayısı kadar resudial değerlerini çıkarır. learning_rate = 0 olsun diyelim. resudial değeri 0 oluncaya kadar devam eder ama overfit durumu olabilir.\n",
    "\n",
    "XGBoost (Extreme Gradient Boosting) :\n",
    "En kullanışlı boosting algoritması. kendi içinde bir alfa değeri gibi regulazisyon değeri uygulayabiliriz. missing value de bile çalışabilir. ama missing valueden mutlaka kurtulmak gerekir. her bir ağaca geçerken kendi içinde cross validate yapar. aynı zamanda tüm işlemcileri kullanabilmekteyiz. Büyük datalarda hızlıdır. Eda ya gerek kalmadan missing valueleri ekarte eder. feature importance(futurelerden hangisi daha önemli onu veriyor.) Görselleştirme yapılamaz. açıklaması çok zor. hyper parametresi oldukça fazla.\n",
    "\n",
    "a . n_estimator parametresi default olarak 100 tane belirlenmiş.\n",
    "\n",
    "b. subsample parametresi default olarak 1 belirlenmiş. 1 demek tüm veriyi kullan demektir. bölmeden kullan demek.\n",
    "\n",
    "c. max_depth : default değeri 3 tür.\n",
    "\n",
    "d. learning_rate : default değeri 0.1 dir. n_estimator ile learning_rate dengelenmelidir."
   ]
  },
  {
   "cell_type": "code",
   "execution_count": 35,
   "id": "040f5588",
   "metadata": {},
   "outputs": [],
   "source": [
    "import numpy as np\n",
    "import pandas as pd\n",
    "import seaborn as sns\n",
    "import matplotlib.pyplot as plt\n",
    "\n",
    "#%matplotlib inline\n",
    "#%matplotlib notebook\n",
    "plt.rcParams[\"figure.figsize\"] = (10,6)\n",
    "import warnings\n",
    "warnings.filterwarnings(\"ignore\")\n",
    "warnings.warn(\"this will not show\")\n",
    "pd.set_option('display.float_format', lambda x: '%.3f' % x)\n",
    "pd.options.display.float_format = '{:.3f}'.format"
   ]
  },
  {
   "cell_type": "code",
   "execution_count": 3,
   "id": "8537385e",
   "metadata": {},
   "outputs": [
    {
     "data": {
      "text/html": [
       "<div>\n",
       "<style scoped>\n",
       "    .dataframe tbody tr th:only-of-type {\n",
       "        vertical-align: middle;\n",
       "    }\n",
       "\n",
       "    .dataframe tbody tr th {\n",
       "        vertical-align: top;\n",
       "    }\n",
       "\n",
       "    .dataframe thead th {\n",
       "        text-align: right;\n",
       "    }\n",
       "</style>\n",
       "<table border=\"1\" class=\"dataframe\">\n",
       "  <thead>\n",
       "    <tr style=\"text-align: right;\">\n",
       "      <th></th>\n",
       "      <th>AtBat</th>\n",
       "      <th>Hits</th>\n",
       "      <th>HmRun</th>\n",
       "      <th>Runs</th>\n",
       "      <th>RBI</th>\n",
       "      <th>Walks</th>\n",
       "      <th>Years</th>\n",
       "      <th>CAtBat</th>\n",
       "      <th>CHits</th>\n",
       "      <th>CHmRun</th>\n",
       "      <th>CRuns</th>\n",
       "      <th>CRBI</th>\n",
       "      <th>CWalks</th>\n",
       "      <th>League</th>\n",
       "      <th>Division</th>\n",
       "      <th>PutOuts</th>\n",
       "      <th>Assists</th>\n",
       "      <th>Errors</th>\n",
       "      <th>Salary</th>\n",
       "      <th>NewLeague</th>\n",
       "    </tr>\n",
       "  </thead>\n",
       "  <tbody>\n",
       "    <tr>\n",
       "      <th>0</th>\n",
       "      <td>293</td>\n",
       "      <td>66</td>\n",
       "      <td>1</td>\n",
       "      <td>30</td>\n",
       "      <td>29</td>\n",
       "      <td>14</td>\n",
       "      <td>1</td>\n",
       "      <td>293</td>\n",
       "      <td>66</td>\n",
       "      <td>1</td>\n",
       "      <td>30</td>\n",
       "      <td>29</td>\n",
       "      <td>14</td>\n",
       "      <td>A</td>\n",
       "      <td>E</td>\n",
       "      <td>446</td>\n",
       "      <td>33</td>\n",
       "      <td>20</td>\n",
       "      <td>NaN</td>\n",
       "      <td>A</td>\n",
       "    </tr>\n",
       "    <tr>\n",
       "      <th>1</th>\n",
       "      <td>315</td>\n",
       "      <td>81</td>\n",
       "      <td>7</td>\n",
       "      <td>24</td>\n",
       "      <td>38</td>\n",
       "      <td>39</td>\n",
       "      <td>14</td>\n",
       "      <td>3449</td>\n",
       "      <td>835</td>\n",
       "      <td>69</td>\n",
       "      <td>321</td>\n",
       "      <td>414</td>\n",
       "      <td>375</td>\n",
       "      <td>N</td>\n",
       "      <td>W</td>\n",
       "      <td>632</td>\n",
       "      <td>43</td>\n",
       "      <td>10</td>\n",
       "      <td>475.0</td>\n",
       "      <td>N</td>\n",
       "    </tr>\n",
       "    <tr>\n",
       "      <th>2</th>\n",
       "      <td>479</td>\n",
       "      <td>130</td>\n",
       "      <td>18</td>\n",
       "      <td>66</td>\n",
       "      <td>72</td>\n",
       "      <td>76</td>\n",
       "      <td>3</td>\n",
       "      <td>1624</td>\n",
       "      <td>457</td>\n",
       "      <td>63</td>\n",
       "      <td>224</td>\n",
       "      <td>266</td>\n",
       "      <td>263</td>\n",
       "      <td>A</td>\n",
       "      <td>W</td>\n",
       "      <td>880</td>\n",
       "      <td>82</td>\n",
       "      <td>14</td>\n",
       "      <td>480.0</td>\n",
       "      <td>A</td>\n",
       "    </tr>\n",
       "    <tr>\n",
       "      <th>3</th>\n",
       "      <td>496</td>\n",
       "      <td>141</td>\n",
       "      <td>20</td>\n",
       "      <td>65</td>\n",
       "      <td>78</td>\n",
       "      <td>37</td>\n",
       "      <td>11</td>\n",
       "      <td>5628</td>\n",
       "      <td>1575</td>\n",
       "      <td>225</td>\n",
       "      <td>828</td>\n",
       "      <td>838</td>\n",
       "      <td>354</td>\n",
       "      <td>N</td>\n",
       "      <td>E</td>\n",
       "      <td>200</td>\n",
       "      <td>11</td>\n",
       "      <td>3</td>\n",
       "      <td>500.0</td>\n",
       "      <td>N</td>\n",
       "    </tr>\n",
       "    <tr>\n",
       "      <th>4</th>\n",
       "      <td>321</td>\n",
       "      <td>87</td>\n",
       "      <td>10</td>\n",
       "      <td>39</td>\n",
       "      <td>42</td>\n",
       "      <td>30</td>\n",
       "      <td>2</td>\n",
       "      <td>396</td>\n",
       "      <td>101</td>\n",
       "      <td>12</td>\n",
       "      <td>48</td>\n",
       "      <td>46</td>\n",
       "      <td>33</td>\n",
       "      <td>N</td>\n",
       "      <td>E</td>\n",
       "      <td>805</td>\n",
       "      <td>40</td>\n",
       "      <td>4</td>\n",
       "      <td>91.5</td>\n",
       "      <td>N</td>\n",
       "    </tr>\n",
       "  </tbody>\n",
       "</table>\n",
       "</div>"
      ],
      "text/plain": [
       "   AtBat  Hits  HmRun  Runs  RBI  Walks  Years  CAtBat  CHits  CHmRun  CRuns  CRBI  CWalks League Division  PutOuts  Assists  Errors  Salary NewLeague\n",
       "0    293    66      1    30   29     14      1     293     66       1     30    29      14      A        E      446       33      20     NaN         A\n",
       "1    315    81      7    24   38     39     14    3449    835      69    321   414     375      N        W      632       43      10   475.0         N\n",
       "2    479   130     18    66   72     76      3    1624    457      63    224   266     263      A        W      880       82      14   480.0         A\n",
       "3    496   141     20    65   78     37     11    5628   1575     225    828   838     354      N        E      200       11       3   500.0         N\n",
       "4    321    87     10    39   42     30      2     396    101      12     48    46      33      N        E      805       40       4    91.5         N"
      ]
     },
     "execution_count": 3,
     "metadata": {},
     "output_type": "execute_result"
    }
   ],
   "source": [
    "df=pd.read_csv(\"Hitters.csv\")\n",
    "df.head()"
   ]
  },
  {
   "cell_type": "code",
   "execution_count": 4,
   "id": "2575c5a3",
   "metadata": {},
   "outputs": [
    {
     "data": {
      "text/plain": [
       "AtBat         0\n",
       "Hits          0\n",
       "HmRun         0\n",
       "Runs          0\n",
       "RBI           0\n",
       "Walks         0\n",
       "Years         0\n",
       "CAtBat        0\n",
       "CHits         0\n",
       "CHmRun        0\n",
       "CRuns         0\n",
       "CRBI          0\n",
       "CWalks        0\n",
       "League        0\n",
       "Division      0\n",
       "PutOuts       0\n",
       "Assists       0\n",
       "Errors        0\n",
       "Salary       59\n",
       "NewLeague     0\n",
       "dtype: int64"
      ]
     },
     "execution_count": 4,
     "metadata": {},
     "output_type": "execute_result"
    }
   ],
   "source": [
    "df.isnull().sum()"
   ]
  },
  {
   "cell_type": "code",
   "execution_count": 29,
   "id": "82b27efc",
   "metadata": {},
   "outputs": [
    {
     "data": {
      "text/plain": [
       "0     NaN\n",
       "15    NaN\n",
       "18    NaN\n",
       "22    NaN\n",
       "30    NaN\n",
       "32    NaN\n",
       "36    NaN\n",
       "38    NaN\n",
       "39    NaN\n",
       "41    NaN\n",
       "42    NaN\n",
       "44    NaN\n",
       "48    NaN\n",
       "52    NaN\n",
       "57    NaN\n",
       "64    NaN\n",
       "66    NaN\n",
       "69    NaN\n",
       "71    NaN\n",
       "77    NaN\n",
       "80    NaN\n",
       "83    NaN\n",
       "94    NaN\n",
       "97    NaN\n",
       "101   NaN\n",
       "103   NaN\n",
       "104   NaN\n",
       "105   NaN\n",
       "106   NaN\n",
       "114   NaN\n",
       "125   NaN\n",
       "138   NaN\n",
       "144   NaN\n",
       "150   NaN\n",
       "157   NaN\n",
       "158   NaN\n",
       "160   NaN\n",
       "169   NaN\n",
       "171   NaN\n",
       "173   NaN\n",
       "197   NaN\n",
       "199   NaN\n",
       "203   NaN\n",
       "208   NaN\n",
       "210   NaN\n",
       "225   NaN\n",
       "228   NaN\n",
       "235   NaN\n",
       "246   NaN\n",
       "250   NaN\n",
       "253   NaN\n",
       "254   NaN\n",
       "270   NaN\n",
       "283   NaN\n",
       "292   NaN\n",
       "298   NaN\n",
       "302   NaN\n",
       "305   NaN\n",
       "316   NaN\n",
       "Name: Salary, dtype: float64"
      ]
     },
     "execution_count": 29,
     "metadata": {},
     "output_type": "execute_result"
    }
   ],
   "source": [
    "df[df[\"Salary\"].isna() == True][\"Salary\"]"
   ]
  },
  {
   "cell_type": "code",
   "execution_count": 72,
   "id": "b239ba86",
   "metadata": {
    "scrolled": true
   },
   "outputs": [
    {
     "data": {
      "image/png": "[encoded data removed]",
      "text/plain": [
       "<Figure size 1440x1440 with 16 Axes>"
      ]
     },
     "metadata": {
      "needs_background": "light"
     },
     "output_type": "display_data"
    }
   ],
   "source": [
    "index = 0\n",
    "plt.figure(figsize=(20,20))\n",
    "for i in df.select_dtypes(int).columns:\n",
    "    index += 1\n",
    "    plt.subplot(4,4,index)\n",
    "    sns.boxplot(df.select_dtypes([float, int])[i], whis=1.8)"
   ]
  },
  {
   "cell_type": "code",
   "execution_count": null,
   "id": "b0aef5c0",
   "metadata": {},
   "outputs": [],
   "source": []
  },
  {
   "cell_type": "code",
   "execution_count": 70,
   "id": "f05bfc79",
   "metadata": {},
   "outputs": [
    {
     "name": "stdout",
     "output_type": "stream",
     "text": [
      "<class 'pandas.core.frame.DataFrame'>\n",
      "RangeIndex: 322 entries, 0 to 321\n",
      "Data columns (total 20 columns):\n",
      " #   Column     Non-Null Count  Dtype  \n",
      "---  ------     --------------  -----  \n",
      " 0   AtBat      322 non-null    int64  \n",
      " 1   Hits       322 non-null    int64  \n",
      " 2   HmRun      322 non-null    int64  \n",
      " 3   Runs       322 non-null    int64  \n",
      " 4   RBI        322 non-null    int64  \n",
      " 5   Walks      322 non-null    int64  \n",
      " 6   Years      322 non-null    int64  \n",
      " 7   CAtBat     322 non-null    int64  \n",
      " 8   CHits      322 non-null    int64  \n",
      " 9   CHmRun     322 non-null    int64  \n",
      " 10  CRuns      322 non-null    int64  \n",
      " 11  CRBI       322 non-null    int64  \n",
      " 12  CWalks     322 non-null    int64  \n",
      " 13  League     322 non-null    object \n",
      " 14  Division   322 non-null    object \n",
      " 15  PutOuts    322 non-null    int64  \n",
      " 16  Assists    322 non-null    int64  \n",
      " 17  Errors     322 non-null    int64  \n",
      " 18  Salary     263 non-null    float64\n",
      " 19  NewLeague  322 non-null    object \n",
      "dtypes: float64(1), int64(16), object(3)\n",
      "memory usage: 50.4+ KB\n"
     ]
    }
   ],
   "source": [
    "df.info()"
   ]
  },
  {
   "cell_type": "code",
   "execution_count": 77,
   "id": "e5f1762e",
   "metadata": {},
   "outputs": [],
   "source": [
    "for i in df.select_dtypes(int).columns:\n",
    "    if i == \"HmRun\" and i == \"Years\" and i == \"CAtBat\" :\n",
    "        Q1 = df[i].quantile(0.25)\n",
    "        Q3 = df[i].quantile(0.75)\n",
    "        IQR = Q3-Q1\n",
    "        alt_sinir = Q1-(1.7*IQR)\n",
    "        ust_sinir = Q3+(1.7*IQR)\n",
    "    #print(f\"{i} sutununun alt sınır değeri = {alt_sinir}\")\n",
    "    #print(f\"{i} sutununun üst sınır değeri = {ust_sinir}\")\n",
    "        aykiri_alt = df[i] < alt_sinir\n",
    "        aykiri_ust = df[i] > ust_sinir\n",
    "    #print(i, \"tablosunda toplamda =\", df[i][aykiri_alt].count(),\"aykırı alt veri vardır.\")\n",
    "    #print(i, \"tablosunda toplamda =\",df[i][aykiri_ust].count(), \"aykırı üst veri vardır.\")\n",
    "        df[i][aykiri_alt] = alt_sinir\n",
    "        df[i][aykiri_ust] = ust_sinir\n",
    "        \n",
    "        \n",
    "    elif  i == \"CHits\" and i == \"CHmRun\" and i == \"CRuns\" and i == \"CRBI\" and i == \"Errors\":\n",
    "            Q1 = df[i].quantile(0.25)\n",
    "            Q3 = df[i].quantile(0.75)\n",
    "            IQR = Q3-Q1\n",
    "            alt_sinir = Q1-(1.8*IQR)\n",
    "            ust_sinir = Q3+(1.8*IQR)\n",
    "    #print(f\"{i} sutununun alt sınır değeri = {alt_sinir}\")\n",
    "    #print(f\"{i} sutununun üst sınır değeri = {ust_sinir}\")\n",
    "            aykiri_alt = df[i] < alt_sinir\n",
    "            aykiri_ust = df[i] > ust_sinir\n",
    "    #print(i, \"tablosunda toplamda =\", df[i][aykiri_alt].count(),\"aykırı alt veri vardır.\")\n",
    "    #print(i, \"tablosunda toplamda =\",df[i][aykiri_ust].count(), \"aykırı üst veri vardır.\")\n",
    "            df[i][aykiri_alt] = alt_sinir\n",
    "            df[i][aykiri_ust] = ust_sinir\n",
    "    \n",
    "    else : \n",
    "        Q1 = df[i].quantile(0.25)\n",
    "        Q3 = df[i].quantile(0.75)\n",
    "        IQR = Q3-Q1\n",
    "        alt_sinir = Q1-(1.9*IQR)\n",
    "        ust_sinir = Q3+(1.9*IQR)\n",
    "    #print(f\"{i} sutununun alt sınır değeri = {alt_sinir}\")\n",
    "    #print(f\"{i} sutununun üst sınır değeri = {ust_sinir}\")\n",
    "        aykiri_alt = df[i] < alt_sinir\n",
    "        aykiri_ust = df[i] > ust_sinir\n",
    "    #print(i, \"tablosunda toplamda =\", df[i][aykiri_alt].count(),\"aykırı alt veri vardır.\")\n",
    "    #print(i, \"tablosunda toplamda =\",df[i][aykiri_ust].count(), \"aykırı üst veri vardır.\")\n",
    "        df[i][aykiri_alt] = alt_sinir\n",
    "        df[i][aykiri_ust] = ust_sinir"
   ]
  },
  {
   "cell_type": "code",
   "execution_count": 78,
   "id": "6cc351ca",
   "metadata": {},
   "outputs": [
    {
     "data": {
      "image/png": "[encoded data removed]",
      "text/plain": [
       "<Figure size 1440x1440 with 6 Axes>"
      ]
     },
     "metadata": {
      "needs_background": "light"
     },
     "output_type": "display_data"
    }
   ],
   "source": [
    "index = 0\n",
    "plt.figure(figsize=(20,20))\n",
    "for i in df.select_dtypes(int).columns:\n",
    "    index += 1\n",
    "    plt.subplot(4,4,index)\n",
    "    sns.boxplot(df.select_dtypes([float, int])[i], whis=1.8)"
   ]
  },
  {
   "cell_type": "code",
   "execution_count": 79,
   "id": "560dab4b",
   "metadata": {},
   "outputs": [
    {
     "data": {
      "text/plain": [
       "<AxesSubplot:xlabel='PutOuts'>"
      ]
     },
     "execution_count": 79,
     "metadata": {},
     "output_type": "execute_result"
    },
    {
     "data": {
      "image/png": "[encoded data removed]",
      "text/plain": [
       "<Figure size 720x432 with 1 Axes>"
      ]
     },
     "metadata": {
      "needs_background": "light"
     },
     "output_type": "display_data"
    }
   ],
   "source": [
    "sns.boxplot(df[\"PutOuts\"], whis=1.9);"
   ]
  },
  {
   "cell_type": "code",
   "execution_count": 80,
   "id": "8625c0fd",
   "metadata": {},
   "outputs": [
    {
     "data": {
      "image/png": "[encoded data removed]",
      "text/plain": [
       "<Figure size 720x432 with 1 Axes>"
      ]
     },
     "metadata": {
      "needs_background": "light"
     },
     "output_type": "display_data"
    }
   ],
   "source": [
    "sns.boxplot(df[\"CWalks\"], whis=1.9);"
   ]
  },
  {
   "cell_type": "code",
   "execution_count": 85,
   "id": "aca5980a",
   "metadata": {},
   "outputs": [
    {
     "data": {
      "image/png": "[encoded data removed]",
      "text/plain": [
       "<Figure size 720x432 with 1 Axes>"
      ]
     },
     "metadata": {
      "needs_background": "light"
     },
     "output_type": "display_data"
    }
   ],
   "source": [
    "sns.boxplot(df[\"Salary\"], whis=1.7);"
   ]
  },
  {
   "cell_type": "code",
   "execution_count": 86,
   "id": "5f88f598",
   "metadata": {},
   "outputs": [],
   "source": [
    "Q1 = df[\"Salary\"].quantile(0.25)\n",
    "Q3 = df[\"Salary\"].quantile(0.75)\n",
    "IQR = Q3-Q1\n",
    "alt_sinir = Q1-(1.7*IQR)\n",
    "ust_sinir = Q3+(1.7*IQR)\n",
    "aykiri_alt = df[\"Salary\"] < alt_sinir\n",
    "aykiri_ust = df[\"Salary\"] > ust_sinir\n",
    "df[\"Salary\"][aykiri_alt] = alt_sinir\n",
    "df[\"Salary\"][aykiri_ust] = ust_sinir"
   ]
  },
  {
   "cell_type": "code",
   "execution_count": 87,
   "id": "cb3d8ddb",
   "metadata": {},
   "outputs": [
    {
     "data": {
      "image/png": "[encoded data removed]",
      "text/plain": [
       "<Figure size 720x432 with 1 Axes>"
      ]
     },
     "metadata": {
      "needs_background": "light"
     },
     "output_type": "display_data"
    }
   ],
   "source": [
    "sns.boxplot(df[\"Salary\"], whis=1.7);"
   ]
  },
  {
   "cell_type": "code",
   "execution_count": 91,
   "id": "728b3914",
   "metadata": {},
   "outputs": [
    {
     "name": "stdout",
     "output_type": "stream",
     "text": [
      "aykırı alt değer = -762.0\n",
      "aykırı üst değer = 1702.0\n"
     ]
    }
   ],
   "source": [
    "print(f\"aykırı alt değer = {alt_sinir}\")\n",
    "print(f\"aykırı üst değer = {ust_sinir}\")"
   ]
  },
  {
   "cell_type": "code",
   "execution_count": 95,
   "id": "ecdd04d1",
   "metadata": {},
   "outputs": [
    {
     "data": {
      "text/plain": [
       "470.0"
      ]
     },
     "execution_count": 95,
     "metadata": {},
     "output_type": "execute_result"
    }
   ],
   "source": [
    "ort = (ust_sinir + alt_sinir)/2\n",
    "ort"
   ]
  },
  {
   "cell_type": "code",
   "execution_count": 93,
   "id": "29cfa330",
   "metadata": {},
   "outputs": [],
   "source": [
    "for i in df.select_dtypes(float).columns[0: ]:\n",
    "    df[i].fillna(ort, inplace=True)"
   ]
  },
  {
   "cell_type": "code",
   "execution_count": 94,
   "id": "2c568b9f",
   "metadata": {},
   "outputs": [
    {
     "data": {
      "text/plain": [
       "AtBat        0\n",
       "Hits         0\n",
       "HmRun        0\n",
       "Runs         0\n",
       "RBI          0\n",
       "Walks        0\n",
       "Years        0\n",
       "CAtBat       0\n",
       "CHits        0\n",
       "CHmRun       0\n",
       "CRuns        0\n",
       "CRBI         0\n",
       "CWalks       0\n",
       "League       0\n",
       "Division     0\n",
       "PutOuts      0\n",
       "Assists      0\n",
       "Errors       0\n",
       "Salary       0\n",
       "NewLeague    0\n",
       "dtype: int64"
      ]
     },
     "execution_count": 94,
     "metadata": {},
     "output_type": "execute_result"
    }
   ],
   "source": [
    "df.isnull().sum()"
   ]
  },
  {
   "cell_type": "code",
   "execution_count": null,
   "id": "86a5c4a7",
   "metadata": {},
   "outputs": [],
   "source": []
  },
  {
   "cell_type": "code",
   "execution_count": 96,
   "id": "cc71a6df",
   "metadata": {},
   "outputs": [],
   "source": [
    "X = df.drop(\"Salary\", axis=1)\n",
    "y = df[\"Salary\"]"
   ]
  },
  {
   "cell_type": "code",
   "execution_count": 97,
   "id": "798ff565",
   "metadata": {},
   "outputs": [],
   "source": [
    "from sklearn.preprocessing import OrdinalEncoder\n",
    "\n",
    "cat = X.select_dtypes(\"object\").columns\n",
    "enc = OrdinalEncoder()\n",
    "X[cat] = enc.fit_transform(X[cat])\n",
    "\n",
    "from sklearn.model_selection import train_test_split\n",
    "\n",
    "X_train,X_test,y_train,y_test=train_test_split(X,y,test_size=0.2, random_state= 101)"
   ]
  },
  {
   "cell_type": "code",
   "execution_count": 98,
   "id": "d76eade9",
   "metadata": {},
   "outputs": [
    {
     "data": {
      "text/html": [
       "<div>\n",
       "<style scoped>\n",
       "    .dataframe tbody tr th:only-of-type {\n",
       "        vertical-align: middle;\n",
       "    }\n",
       "\n",
       "    .dataframe tbody tr th {\n",
       "        vertical-align: top;\n",
       "    }\n",
       "\n",
       "    .dataframe thead th {\n",
       "        text-align: right;\n",
       "    }\n",
       "</style>\n",
       "<table border=\"1\" class=\"dataframe\">\n",
       "  <thead>\n",
       "    <tr style=\"text-align: right;\">\n",
       "      <th></th>\n",
       "      <th>AtBat</th>\n",
       "      <th>Hits</th>\n",
       "      <th>HmRun</th>\n",
       "      <th>Runs</th>\n",
       "      <th>RBI</th>\n",
       "      <th>Walks</th>\n",
       "      <th>Years</th>\n",
       "      <th>CAtBat</th>\n",
       "      <th>CHits</th>\n",
       "      <th>CHmRun</th>\n",
       "      <th>CRuns</th>\n",
       "      <th>CRBI</th>\n",
       "      <th>CWalks</th>\n",
       "      <th>League</th>\n",
       "      <th>Division</th>\n",
       "      <th>PutOuts</th>\n",
       "      <th>Assists</th>\n",
       "      <th>Errors</th>\n",
       "      <th>NewLeague</th>\n",
       "    </tr>\n",
       "  </thead>\n",
       "  <tbody>\n",
       "    <tr>\n",
       "      <th>313</th>\n",
       "      <td>580</td>\n",
       "      <td>207</td>\n",
       "      <td>8.000</td>\n",
       "      <td>107</td>\n",
       "      <td>71</td>\n",
       "      <td>105</td>\n",
       "      <td>5</td>\n",
       "      <td>2778.000</td>\n",
       "      <td>978.000</td>\n",
       "      <td>32.000</td>\n",
       "      <td>474.000</td>\n",
       "      <td>322.000</td>\n",
       "      <td>417.000</td>\n",
       "      <td>0.000</td>\n",
       "      <td>0.000</td>\n",
       "      <td>121.000</td>\n",
       "      <td>267.000</td>\n",
       "      <td>19.000</td>\n",
       "      <td>0.000</td>\n",
       "    </tr>\n",
       "    <tr>\n",
       "      <th>240</th>\n",
       "      <td>271</td>\n",
       "      <td>77</td>\n",
       "      <td>5.000</td>\n",
       "      <td>35</td>\n",
       "      <td>29</td>\n",
       "      <td>33</td>\n",
       "      <td>12</td>\n",
       "      <td>4933.000</td>\n",
       "      <td>1358.000</td>\n",
       "      <td>48.000</td>\n",
       "      <td>630.000</td>\n",
       "      <td>435.000</td>\n",
       "      <td>403.000</td>\n",
       "      <td>0.000</td>\n",
       "      <td>1.000</td>\n",
       "      <td>62.000</td>\n",
       "      <td>90.000</td>\n",
       "      <td>3.000</td>\n",
       "      <td>0.000</td>\n",
       "    </tr>\n",
       "    <tr>\n",
       "      <th>193</th>\n",
       "      <td>199</td>\n",
       "      <td>52</td>\n",
       "      <td>9.000</td>\n",
       "      <td>26</td>\n",
       "      <td>28</td>\n",
       "      <td>21</td>\n",
       "      <td>6</td>\n",
       "      <td>805.000</td>\n",
       "      <td>191.000</td>\n",
       "      <td>30.000</td>\n",
       "      <td>113.000</td>\n",
       "      <td>119.000</td>\n",
       "      <td>87.000</td>\n",
       "      <td>1.000</td>\n",
       "      <td>1.000</td>\n",
       "      <td>235.000</td>\n",
       "      <td>22.000</td>\n",
       "      <td>5.000</td>\n",
       "      <td>1.000</td>\n",
       "    </tr>\n",
       "    <tr>\n",
       "      <th>168</th>\n",
       "      <td>315</td>\n",
       "      <td>73</td>\n",
       "      <td>5.000</td>\n",
       "      <td>23</td>\n",
       "      <td>37</td>\n",
       "      <td>16</td>\n",
       "      <td>4</td>\n",
       "      <td>450.000</td>\n",
       "      <td>108.000</td>\n",
       "      <td>6.000</td>\n",
       "      <td>38.000</td>\n",
       "      <td>46.000</td>\n",
       "      <td>28.000</td>\n",
       "      <td>0.000</td>\n",
       "      <td>1.000</td>\n",
       "      <td>227.000</td>\n",
       "      <td>15.000</td>\n",
       "      <td>3.000</td>\n",
       "      <td>0.000</td>\n",
       "    </tr>\n",
       "    <tr>\n",
       "      <th>316</th>\n",
       "      <td>221</td>\n",
       "      <td>53</td>\n",
       "      <td>2.000</td>\n",
       "      <td>21</td>\n",
       "      <td>23</td>\n",
       "      <td>22</td>\n",
       "      <td>8</td>\n",
       "      <td>1063.000</td>\n",
       "      <td>283.000</td>\n",
       "      <td>15.000</td>\n",
       "      <td>107.000</td>\n",
       "      <td>124.000</td>\n",
       "      <td>106.000</td>\n",
       "      <td>1.000</td>\n",
       "      <td>0.000</td>\n",
       "      <td>325.000</td>\n",
       "      <td>58.000</td>\n",
       "      <td>6.000</td>\n",
       "      <td>1.000</td>\n",
       "    </tr>\n",
       "  </tbody>\n",
       "</table>\n",
       "</div>"
      ],
      "text/plain": [
       "     AtBat  Hits  HmRun  Runs  RBI  Walks  Years   CAtBat    CHits  CHmRun   CRuns    CRBI  CWalks  League  Division  PutOuts  Assists  Errors  NewLeague\n",
       "313    580   207  8.000   107   71    105      5 2778.000  978.000  32.000 474.000 322.000 417.000   0.000     0.000  121.000  267.000  19.000      0.000\n",
       "240    271    77  5.000    35   29     33     12 4933.000 1358.000  48.000 630.000 435.000 403.000   0.000     1.000   62.000   90.000   3.000      0.000\n",
       "193    199    52  9.000    26   28     21      6  805.000  191.000  30.000 113.000 119.000  87.000   1.000     1.000  235.000   22.000   5.000      1.000\n",
       "168    315    73  5.000    23   37     16      4  450.000  108.000   6.000  38.000  46.000  28.000   0.000     1.000  227.000   15.000   3.000      0.000\n",
       "316    221    53  2.000    21   23     22      8 1063.000  283.000  15.000 107.000 124.000 106.000   1.000     0.000  325.000   58.000   6.000      1.000"
      ]
     },
     "execution_count": 98,
     "metadata": {},
     "output_type": "execute_result"
    }
   ],
   "source": [
    "X_train.head()"
   ]
  },
  {
   "cell_type": "code",
   "execution_count": 99,
   "id": "c9bb2328",
   "metadata": {},
   "outputs": [
    {
     "data": {
      "text/plain": [
       "(257, 19)"
      ]
     },
     "execution_count": 99,
     "metadata": {},
     "output_type": "execute_result"
    }
   ],
   "source": [
    "X_train.shape"
   ]
  },
  {
   "cell_type": "code",
   "execution_count": 100,
   "id": "3fa5e668",
   "metadata": {},
   "outputs": [
    {
     "data": {
      "text/plain": [
       "(65, 19)"
      ]
     },
     "execution_count": 100,
     "metadata": {},
     "output_type": "execute_result"
    }
   ],
   "source": [
    "X_test.shape"
   ]
  },
  {
   "cell_type": "code",
   "execution_count": 101,
   "id": "439bb29c",
   "metadata": {},
   "outputs": [
    {
     "data": {
      "text/html": [
       "<div>\n",
       "<style scoped>\n",
       "    .dataframe tbody tr th:only-of-type {\n",
       "        vertical-align: middle;\n",
       "    }\n",
       "\n",
       "    .dataframe tbody tr th {\n",
       "        vertical-align: top;\n",
       "    }\n",
       "\n",
       "    .dataframe thead th {\n",
       "        text-align: right;\n",
       "    }\n",
       "</style>\n",
       "<table border=\"1\" class=\"dataframe\">\n",
       "  <thead>\n",
       "    <tr style=\"text-align: right;\">\n",
       "      <th></th>\n",
       "      <th>AtBat</th>\n",
       "      <th>Hits</th>\n",
       "      <th>HmRun</th>\n",
       "      <th>Runs</th>\n",
       "      <th>RBI</th>\n",
       "      <th>Walks</th>\n",
       "      <th>Years</th>\n",
       "      <th>CAtBat</th>\n",
       "      <th>CHits</th>\n",
       "      <th>CHmRun</th>\n",
       "      <th>CRuns</th>\n",
       "      <th>CRBI</th>\n",
       "      <th>CWalks</th>\n",
       "      <th>League</th>\n",
       "      <th>Division</th>\n",
       "      <th>PutOuts</th>\n",
       "      <th>Assists</th>\n",
       "      <th>Errors</th>\n",
       "      <th>NewLeague</th>\n",
       "    </tr>\n",
       "  </thead>\n",
       "  <tbody>\n",
       "    <tr>\n",
       "      <th>167</th>\n",
       "      <td>404</td>\n",
       "      <td>92</td>\n",
       "      <td>11.000</td>\n",
       "      <td>54</td>\n",
       "      <td>49</td>\n",
       "      <td>18</td>\n",
       "      <td>6</td>\n",
       "      <td>1354.000</td>\n",
       "      <td>325.000</td>\n",
       "      <td>30.000</td>\n",
       "      <td>188.000</td>\n",
       "      <td>135.000</td>\n",
       "      <td>63.000</td>\n",
       "      <td>0.000</td>\n",
       "      <td>0.000</td>\n",
       "      <td>222.000</td>\n",
       "      <td>5.000</td>\n",
       "      <td>5.000</td>\n",
       "      <td>0.000</td>\n",
       "    </tr>\n",
       "    <tr>\n",
       "      <th>48</th>\n",
       "      <td>542</td>\n",
       "      <td>140</td>\n",
       "      <td>12.000</td>\n",
       "      <td>46</td>\n",
       "      <td>75</td>\n",
       "      <td>41</td>\n",
       "      <td>16</td>\n",
       "      <td>7099.000</td>\n",
       "      <td>2130.000</td>\n",
       "      <td>234.400</td>\n",
       "      <td>987.000</td>\n",
       "      <td>1067.500</td>\n",
       "      <td>431.000</td>\n",
       "      <td>0.000</td>\n",
       "      <td>0.000</td>\n",
       "      <td>697.000</td>\n",
       "      <td>61.000</td>\n",
       "      <td>9.000</td>\n",
       "      <td>0.000</td>\n",
       "    </tr>\n",
       "    <tr>\n",
       "      <th>298</th>\n",
       "      <td>181</td>\n",
       "      <td>46</td>\n",
       "      <td>1.000</td>\n",
       "      <td>19</td>\n",
       "      <td>18</td>\n",
       "      <td>17</td>\n",
       "      <td>5</td>\n",
       "      <td>937.000</td>\n",
       "      <td>238.000</td>\n",
       "      <td>9.000</td>\n",
       "      <td>88.000</td>\n",
       "      <td>95.000</td>\n",
       "      <td>104.000</td>\n",
       "      <td>0.000</td>\n",
       "      <td>0.000</td>\n",
       "      <td>37.000</td>\n",
       "      <td>98.000</td>\n",
       "      <td>9.000</td>\n",
       "      <td>0.000</td>\n",
       "    </tr>\n",
       "    <tr>\n",
       "      <th>19</th>\n",
       "      <td>127</td>\n",
       "      <td>32</td>\n",
       "      <td>8.000</td>\n",
       "      <td>16</td>\n",
       "      <td>22</td>\n",
       "      <td>14</td>\n",
       "      <td>8</td>\n",
       "      <td>727.000</td>\n",
       "      <td>180.000</td>\n",
       "      <td>24.000</td>\n",
       "      <td>67.000</td>\n",
       "      <td>82.000</td>\n",
       "      <td>56.000</td>\n",
       "      <td>1.000</td>\n",
       "      <td>1.000</td>\n",
       "      <td>202.000</td>\n",
       "      <td>22.000</td>\n",
       "      <td>2.000</td>\n",
       "      <td>1.000</td>\n",
       "    </tr>\n",
       "    <tr>\n",
       "      <th>98</th>\n",
       "      <td>415</td>\n",
       "      <td>115</td>\n",
       "      <td>27.000</td>\n",
       "      <td>97</td>\n",
       "      <td>71</td>\n",
       "      <td>68</td>\n",
       "      <td>3</td>\n",
       "      <td>711.000</td>\n",
       "      <td>184.000</td>\n",
       "      <td>45.000</td>\n",
       "      <td>156.000</td>\n",
       "      <td>119.000</td>\n",
       "      <td>99.000</td>\n",
       "      <td>1.000</td>\n",
       "      <td>1.000</td>\n",
       "      <td>274.000</td>\n",
       "      <td>2.000</td>\n",
       "      <td>7.000</td>\n",
       "      <td>1.000</td>\n",
       "    </tr>\n",
       "  </tbody>\n",
       "</table>\n",
       "</div>"
      ],
      "text/plain": [
       "     AtBat  Hits  HmRun  Runs  RBI  Walks  Years   CAtBat    CHits  CHmRun   CRuns     CRBI  CWalks  League  Division  PutOuts  Assists  Errors  NewLeague\n",
       "167    404    92 11.000    54   49     18      6 1354.000  325.000  30.000 188.000  135.000  63.000   0.000     0.000  222.000    5.000   5.000      0.000\n",
       "48     542   140 12.000    46   75     41     16 7099.000 2130.000 234.400 987.000 1067.500 431.000   0.000     0.000  697.000   61.000   9.000      0.000\n",
       "298    181    46  1.000    19   18     17      5  937.000  238.000   9.000  88.000   95.000 104.000   0.000     0.000   37.000   98.000   9.000      0.000\n",
       "19     127    32  8.000    16   22     14      8  727.000  180.000  24.000  67.000   82.000  56.000   1.000     1.000  202.000   22.000   2.000      1.000\n",
       "98     415   115 27.000    97   71     68      3  711.000  184.000  45.000 156.000  119.000  99.000   1.000     1.000  274.000    2.000   7.000      1.000"
      ]
     },
     "execution_count": 101,
     "metadata": {},
     "output_type": "execute_result"
    }
   ],
   "source": [
    "X_test.head()"
   ]
  },
  {
   "cell_type": "code",
   "execution_count": 102,
   "id": "4ee5028b",
   "metadata": {},
   "outputs": [],
   "source": [
    "from sklearn.metrics import r2_score, mean_absolute_error, mean_squared_error\n",
    "\n",
    "def train_val(model, X_train, y_train, X_test, y_test):\n",
    "    \n",
    "    y_pred = model.predict(X_test)\n",
    "    y_train_pred = model.predict(X_train)\n",
    "    \n",
    "    scores = {\"train\": {\"R2\" : r2_score(y_train, y_train_pred),\n",
    "    \"mae\" : mean_absolute_error(y_train, y_train_pred),\n",
    "    \"mse\" : mean_squared_error(y_train, y_train_pred),                          \n",
    "    \"rmse\" : np.sqrt(mean_squared_error(y_train, y_train_pred))},\n",
    "    \n",
    "    \"test\": {\"R2\" : r2_score(y_test, y_pred),\n",
    "    \"mae\" : mean_absolute_error(y_test, y_pred),\n",
    "    \"mse\" : mean_squared_error(y_test, y_pred),\n",
    "    \"rmse\" : np.sqrt(mean_squared_error(y_test, y_pred))}}\n",
    "    \n",
    "    return pd.DataFrame(scores)"
   ]
  },
  {
   "cell_type": "code",
   "execution_count": 103,
   "id": "4b5c0905",
   "metadata": {},
   "outputs": [],
   "source": [
    "from sklearn.ensemble import GradientBoostingRegressor"
   ]
  },
  {
   "cell_type": "code",
   "execution_count": 106,
   "id": "dc92b80d",
   "metadata": {},
   "outputs": [
    {
     "data": {
      "text/html": [
       "<div>\n",
       "<style scoped>\n",
       "    .dataframe tbody tr th:only-of-type {\n",
       "        vertical-align: middle;\n",
       "    }\n",
       "\n",
       "    .dataframe tbody tr th {\n",
       "        vertical-align: top;\n",
       "    }\n",
       "\n",
       "    .dataframe thead th {\n",
       "        text-align: right;\n",
       "    }\n",
       "</style>\n",
       "<table border=\"1\" class=\"dataframe\">\n",
       "  <thead>\n",
       "    <tr style=\"text-align: right;\">\n",
       "      <th></th>\n",
       "      <th>train</th>\n",
       "      <th>test</th>\n",
       "    </tr>\n",
       "  </thead>\n",
       "  <tbody>\n",
       "    <tr>\n",
       "      <th>R2</th>\n",
       "      <td>0.963</td>\n",
       "      <td>0.152</td>\n",
       "    </tr>\n",
       "    <tr>\n",
       "      <th>mae</th>\n",
       "      <td>60.210</td>\n",
       "      <td>182.095</td>\n",
       "    </tr>\n",
       "    <tr>\n",
       "      <th>mse</th>\n",
       "      <td>5692.055</td>\n",
       "      <td>60387.928</td>\n",
       "    </tr>\n",
       "    <tr>\n",
       "      <th>rmse</th>\n",
       "      <td>75.446</td>\n",
       "      <td>245.740</td>\n",
       "    </tr>\n",
       "  </tbody>\n",
       "</table>\n",
       "</div>"
      ],
      "text/plain": [
       "        train      test\n",
       "R2      0.963     0.152\n",
       "mae    60.210   182.095\n",
       "mse  5692.055 60387.928\n",
       "rmse   75.446   245.740"
      ]
     },
     "execution_count": 106,
     "metadata": {},
     "output_type": "execute_result"
    }
   ],
   "source": [
    "gr_model = GradientBoostingRegressor(random_state=101)\n",
    "gr_model.fit(X_train, y_train)\n",
    "train_val(gr_model, X_train, y_train, X_test, y_test)"
   ]
  },
  {
   "cell_type": "code",
   "execution_count": 107,
   "id": "1b7a4045",
   "metadata": {},
   "outputs": [
    {
     "data": {
      "text/plain": [
       "test_r2                                 0.462\n",
       "test_neg_mean_absolute_error         -189.061\n",
       "test_neg_mean_squared_error        -75864.760\n",
       "test_neg_root_mean_squared_error     -268.759\n",
       "dtype: float64"
      ]
     },
     "execution_count": 107,
     "metadata": {},
     "output_type": "execute_result"
    }
   ],
   "source": [
    "from sklearn.model_selection import cross_validate\n",
    "\n",
    "model = GradientBoostingRegressor(random_state=101)\n",
    "scores = cross_validate(model, X_train, y_train, scoring=['r2', \n",
    "            'neg_mean_absolute_error','neg_mean_squared_error','neg_root_mean_squared_error'], cv =10)\n",
    "pd.DataFrame(scores)\n",
    "pd.DataFrame(scores).mean()[2:]"
   ]
  },
  {
   "cell_type": "code",
   "execution_count": 108,
   "id": "3aae1afc",
   "metadata": {},
   "outputs": [
    {
     "data": {
      "text/plain": [
       "test_r2                                -0.250\n",
       "test_neg_mean_absolute_error         -188.285\n",
       "test_neg_mean_squared_error        -50757.923\n",
       "test_neg_root_mean_squared_error     -217.366\n",
       "dtype: float64"
      ]
     },
     "execution_count": 108,
     "metadata": {},
     "output_type": "execute_result"
    }
   ],
   "source": [
    "model = GradientBoostingRegressor(random_state=101)\n",
    "scores = cross_validate(model, X_test, y_test, scoring=['r2', \n",
    "            'neg_mean_absolute_error','neg_mean_squared_error','neg_root_mean_squared_error'], cv =10)\n",
    "pd.DataFrame(scores)\n",
    "pd.DataFrame(scores).mean()[2:]"
   ]
  },
  {
   "cell_type": "code",
   "execution_count": 109,
   "id": "51119ec5",
   "metadata": {},
   "outputs": [
    {
     "data": {
      "text/plain": [
       "GridSearchCV(cv=10, estimator=GradientBoostingRegressor(random_state=101),\n",
       "             n_jobs=-1,\n",
       "             param_grid={'learning_rate': [0.001, 0.01, 0.1, 0.2],\n",
       "                         'max_depth': [2, 3, 5, 8, 50, 100],\n",
       "                         'max_features': [None, 2, 3, 4],\n",
       "                         'n_estimators': [100, 200, 300, 500, 1000],\n",
       "                         'subsample': [0.8, 1]},\n",
       "             scoring='neg_root_mean_squared_error')"
      ]
     },
     "execution_count": 109,
     "metadata": {},
     "output_type": "execute_result"
    }
   ],
   "source": [
    "from sklearn.model_selection import GridSearchCV\n",
    "\n",
    "param_grid = {\"n_estimators\":[100, 200, 300, 500, 1000], \"subsample\":[0.8, 1], \"max_features\" : [None, 2, 3, 4],\n",
    "            \"learning_rate\": [0.001, 0.01, 0.1, 0.2], 'max_depth':[2,3, 5, 8, 50, 100]}\n",
    "\n",
    "model = GradientBoostingRegressor(random_state=101)\n",
    "\n",
    "grid_model = GridSearchCV(estimator=model,\n",
    "                          param_grid=param_grid,\n",
    "                          scoring='neg_root_mean_squared_error',\n",
    "                          cv=10,\n",
    "                          n_jobs = -1)\n",
    "\n",
    "grid_model.fit(X_train, y_train)"
   ]
  },
  {
   "cell_type": "code",
   "execution_count": 110,
   "id": "4fca4ec3",
   "metadata": {},
   "outputs": [
    {
     "data": {
      "text/plain": [
       "{'learning_rate': 0.01,\n",
       " 'max_depth': 8,\n",
       " 'max_features': 2,\n",
       " 'n_estimators': 500,\n",
       " 'subsample': 0.8}"
      ]
     },
     "execution_count": 110,
     "metadata": {},
     "output_type": "execute_result"
    }
   ],
   "source": [
    "grid_model.best_params_"
   ]
  },
  {
   "cell_type": "code",
   "execution_count": 111,
   "id": "b5adcb71",
   "metadata": {},
   "outputs": [
    {
     "data": {
      "text/html": [
       "<div>\n",
       "<style scoped>\n",
       "    .dataframe tbody tr th:only-of-type {\n",
       "        vertical-align: middle;\n",
       "    }\n",
       "\n",
       "    .dataframe tbody tr th {\n",
       "        vertical-align: top;\n",
       "    }\n",
       "\n",
       "    .dataframe thead th {\n",
       "        text-align: right;\n",
       "    }\n",
       "</style>\n",
       "<table border=\"1\" class=\"dataframe\">\n",
       "  <thead>\n",
       "    <tr style=\"text-align: right;\">\n",
       "      <th></th>\n",
       "      <th>train</th>\n",
       "      <th>test</th>\n",
       "    </tr>\n",
       "  </thead>\n",
       "  <tbody>\n",
       "    <tr>\n",
       "      <th>R2</th>\n",
       "      <td>0.999</td>\n",
       "      <td>0.245</td>\n",
       "    </tr>\n",
       "    <tr>\n",
       "      <th>mae</th>\n",
       "      <td>11.294</td>\n",
       "      <td>166.010</td>\n",
       "    </tr>\n",
       "    <tr>\n",
       "      <th>mse</th>\n",
       "      <td>190.515</td>\n",
       "      <td>53729.119</td>\n",
       "    </tr>\n",
       "    <tr>\n",
       "      <th>rmse</th>\n",
       "      <td>13.803</td>\n",
       "      <td>231.795</td>\n",
       "    </tr>\n",
       "  </tbody>\n",
       "</table>\n",
       "</div>"
      ],
      "text/plain": [
       "       train      test\n",
       "R2     0.999     0.245\n",
       "mae   11.294   166.010\n",
       "mse  190.515 53729.119\n",
       "rmse  13.803   231.795"
      ]
     },
     "execution_count": 111,
     "metadata": {},
     "output_type": "execute_result"
    }
   ],
   "source": [
    "train_val(grid_model, X_train, y_train, X_test, y_test)"
   ]
  },
  {
   "cell_type": "code",
   "execution_count": null,
   "id": "e90df27d",
   "metadata": {},
   "outputs": [],
   "source": []
  },
  {
   "cell_type": "code",
   "execution_count": null,
   "id": "0cfc8991",
   "metadata": {},
   "outputs": [],
   "source": []
  }
 ],
 "metadata": {
  "kernelspec": {
   "display_name": "Python 3 (ipykernel)",
   "language": "python",
   "name": "python3"
  },
  "language_info": {
   "codemirror_mode": {
    "name": "ipython",
    "version": 3
   },
   "file_extension": ".py",
   "mimetype": "text/x-python",
   "name": "python",
   "nbconvert_exporter": "python",
   "pygments_lexer": "ipython3",
   "version": "3.9.7"
  }
 },
 "nbformat": 4,
 "nbformat_minor": 5
}
